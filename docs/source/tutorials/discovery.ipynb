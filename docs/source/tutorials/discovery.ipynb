{
  "cells": [
    {
      "cell_type": "markdown",
      "source": [
        "# Discovery\n",
        "\n",
        "Required packages: vfb-connect and python-catmaid (pymaid & navis)"
      ],
      "metadata": {
        "tags": [],
        "cell_id": "00000-d3cab687-8c75-48b6-9862-b1215893d8be",
        "deepnote_cell_type": "markdown"
      }
    },
    {
      "cell_type": "code",
      "metadata": {
        "tags": [],
        "cell_id": "00000-8f977ce1-edb3-464f-8d14-37d0507d14dc",
        "deepnote_to_be_reexecuted": false,
        "source_hash": "d547b677",
        "execution_millis": 6270,
        "output_cleared": false,
        "execution_start": 1614738267818,
        "deepnote_cell_type": "code"
      },
      "source": [
        "!pip install vfb-connect --upgrade\n",
        "!pip install python-catmaid --upgrade"
      ],
      "execution_count": null,
      "outputs": [
        {
          "name": "stdout",
          "text": "Requirement already up-to-date: vfb-connect in /root/venv/lib/python3.7/site-packages (1.2.5)\nRequirement already satisfied, skipping upgrade: requests in /shared-libs/python3.7/py/lib/python3.7/site-packages (from vfb-connect) (2.25.1)\nRequirement already satisfied, skipping upgrade: pandas in /shared-libs/python3.7/py/lib/python3.7/site-packages (from vfb-connect) (1.2.2)\nRequirement already satisfied, skipping upgrade: jsonpath-rw in /root/venv/lib/python3.7/site-packages (from vfb-connect) (1.4.0)\nRequirement already satisfied, skipping upgrade: certifi>=2017.4.17 in /shared-libs/python3.7/py/lib/python3.7/site-packages (from requests->vfb-connect) (2020.12.5)\nRequirement already satisfied, skipping upgrade: urllib3<1.27,>=1.21.1 in /shared-libs/python3.7/py/lib/python3.7/site-packages (from requests->vfb-connect) (1.26.3)\nRequirement already satisfied, skipping upgrade: idna<3,>=2.5 in /shared-libs/python3.7/py/lib/python3.7/site-packages (from requests->vfb-connect) (2.10)\nRequirement already satisfied, skipping upgrade: chardet<5,>=3.0.2 in /shared-libs/python3.7/py/lib/python3.7/site-packages (from requests->vfb-connect) (3.0.4)\nRequirement already satisfied, skipping upgrade: pytz>=2017.3 in /shared-libs/python3.7/py/lib/python3.7/site-packages (from pandas->vfb-connect) (2020.5)\nRequirement already satisfied, skipping upgrade: numpy>=1.16.5 in /shared-libs/python3.7/py/lib/python3.7/site-packages (from pandas->vfb-connect) (1.19.5)\nRequirement already satisfied, skipping upgrade: python-dateutil>=2.7.3 in /shared-libs/python3.7/py-core/lib/python3.7/site-packages (from pandas->vfb-connect) (2.8.1)\nRequirement already satisfied, skipping upgrade: ply in /root/venv/lib/python3.7/site-packages (from jsonpath-rw->vfb-connect) (3.11)\nRequirement already satisfied, skipping upgrade: decorator in /shared-libs/python3.7/py-core/lib/python3.7/site-packages (from jsonpath-rw->vfb-connect) (4.4.2)\nRequirement already satisfied, skipping upgrade: six in /shared-libs/python3.7/py-core/lib/python3.7/site-packages (from jsonpath-rw->vfb-connect) (1.15.0)\n^C\nTraceback (most recent call last):\n  File \"/root/venv/bin/pip\", line 8, in <module>\n    sys.exit(main())\n  File \"/root/venv/lib/python3.7/site-packages/pip/_internal/cli/main.py\", line 75, in main\n    return command.main(cmd_args)\n  File \"/root/venv/lib/python3.7/site-packages/pip/_internal/cli/base_command.py\", line 114, in main\n    return self._main(args)\n  File \"/root/venv/lib/python3.7/site-packages/pip/_internal/cli/base_command.py\", line 226, in _main\n    self.handle_pip_version_check(options)\n  File \"/root/venv/lib/python3.7/site-packages/pip/_internal/cli/req_command.py\", line 155, in handle_pip_version_check\n    timeout=min(5, options.timeout)\n  File \"/root/venv/lib/python3.7/site-packages/pip/_internal/cli/req_command.py\", line 100, in _build_session\n    index_urls=self._get_index_urls(options),\n  File \"/root/venv/lib/python3.7/site-packages/pip/_internal/network/session.py\", line 249, in __init__\n    self.headers[\"User-Agent\"] = user_agent()\n  File \"/root/venv/lib/python3.7/site-packages/pip/_internal/network/session.py\", line 159, in user_agent\n    setuptools_version = get_installed_version(\"setuptools\")\n  File \"/root/venv/lib/python3.7/site-packages/pip/_internal/utils/misc.py\", line 634, in get_installed_version\n    working_set = pkg_resources.WorkingSet()\n  File \"/root/venv/lib/python3.7/site-packages/pip/_vendor/pkg_resources/__init__.py\", line 567, in __init__\n    self.add_entry(entry)\n  File \"/root/venv/lib/python3.7/site-packages/pip/_vendor/pkg_resources/__init__.py\", line 623, in add_entry\n    for dist in find_distributions(entry, True):\n  File \"/root/venv/lib/python3.7/site-packages/pip/_vendor/pkg_resources/__init__.py\", line 2065, in find_on_path\n    for dist in factory(fullpath):\n  File \"/root/venv/lib/python3.7/site-packages/pip/_vendor/pkg_resources/__init__.py\", line 2127, in distributions_from_metadata\n    if len(os.listdir(path)) == 0:\nKeyboardInterrupt\nRequirement already up-to-date: python-catmaid in /root/venv/lib/python3.7/site-packages (2.0.3)\nRequirement already satisfied, skipping upgrade: six>=1.11.0 in /shared-libs/python3.7/py-core/lib/python3.7/site-packages (from python-catmaid) (1.15.0)\nRequirement already satisfied, skipping upgrade: psutil>=5.4.3 in /root/venv/lib/python3.7/site-packages (from python-catmaid) (5.8.0)\nRequirement already satisfied, skipping upgrade: requests-futures>=0.9.9 in /root/venv/lib/python3.7/site-packages (from python-catmaid) (1.0.0)\nRequirement already satisfied, skipping upgrade: requests>=2.21.0 in /shared-libs/python3.7/py/lib/python3.7/site-packages (from python-catmaid) (2.25.1)\nRequirement already satisfied, skipping upgrade: setuptools>=41.0.1 in /root/venv/lib/python3.7/site-packages (from python-catmaid) (54.0.0)\nRequirement already satisfied, skipping upgrade: numpy>=1.16.3 in /shared-libs/python3.7/py/lib/python3.7/site-packages (from python-catmaid) (1.19.5)\nRequirement already satisfied, skipping upgrade: pandas>=1.0 in /shared-libs/python3.7/py/lib/python3.7/site-packages (from python-catmaid) (1.2.2)\nRequirement already satisfied, skipping upgrade: tqdm>=4.50.0 in /shared-libs/python3.7/py/lib/python3.7/site-packages (from python-catmaid) (4.58.0)\nRequirement already satisfied, skipping upgrade: scipy>=1.3.0 in /shared-libs/python3.7/py/lib/python3.7/site-packages (from python-catmaid) (1.6.1)\nRequirement already satisfied, skipping upgrade: networkx>=2.4 in /root/venv/lib/python3.7/site-packages (from python-catmaid) (2.5)\nRequirement already satisfied, skipping upgrade: navis>=0.2 in /root/venv/lib/python3.7/site-packages (from python-catmaid) (0.5.2)\nRequirement already satisfied, skipping upgrade: idna<3,>=2.5 in /shared-libs/python3.7/py/lib/python3.7/site-packages (from requests>=2.21.0->python-catmaid) (2.10)\nRequirement already satisfied, skipping upgrade: urllib3<1.27,>=1.21.1 in /shared-libs/python3.7/py/lib/python3.7/site-packages (from requests>=2.21.0->python-catmaid) (1.26.3)\nRequirement already satisfied, skipping upgrade: chardet<5,>=3.0.2 in /shared-libs/python3.7/py/lib/python3.7/site-packages (from requests>=2.21.0->python-catmaid) (3.0.4)\nRequirement already satisfied, skipping upgrade: certifi>=2017.4.17 in /shared-libs/python3.7/py/lib/python3.7/site-packages (from requests>=2.21.0->python-catmaid) (2020.12.5)\nRequirement already satisfied, skipping upgrade: python-dateutil>=2.7.3 in /shared-libs/python3.7/py-core/lib/python3.7/site-packages (from pandas>=1.0->python-catmaid) (2.8.1)\nRequirement already satisfied, skipping upgrade: pytz>=2017.3 in /shared-libs/python3.7/py/lib/python3.7/site-packages (from pandas>=1.0->python-catmaid) (2020.5)\nRequirement already satisfied, skipping upgrade: decorator>=4.3.0 in /shared-libs/python3.7/py-core/lib/python3.7/site-packages (from networkx>=2.4->python-catmaid) (4.4.2)\nRequirement already satisfied, skipping upgrade: matplotlib>=3.2 in /shared-libs/python3.7/py/lib/python3.7/site-packages (from navis>=0.2->python-catmaid) (3.3.4)\nRequirement already satisfied, skipping upgrade: pint>=0.10 in /root/venv/lib/python3.7/site-packages (from navis>=0.2->python-catmaid) (0.16.1)\nRequirement already satisfied, skipping upgrade: typing-extensions>=3.7.4 in /shared-libs/python3.7/py-core/lib/python3.7/site-packages (from navis>=0.2->python-catmaid) (3.7.4.3)\nRequirement already satisfied, skipping upgrade: PyQt5>=5.15 in /root/venv/lib/python3.7/site-packages (from navis>=0.2->python-catmaid) (5.15.3)\nRequirement already satisfied, skipping upgrade: Shapely>=1.6.0 in /root/venv/lib/python3.7/site-packages (from navis>=0.2->python-catmaid) (1.7.1)\nRequirement already satisfied, skipping upgrade: trimesh>=3.8 in /root/venv/lib/python3.7/site-packages (from navis>=0.2->python-catmaid) (3.9.8)\nRequirement already satisfied, skipping upgrade: h5py>=3.1 in /root/venv/lib/python3.7/site-packages (from navis>=0.2->python-catmaid) (3.1.0)\nRequirement already satisfied, skipping upgrade: ncollpyde>=0.11 in /root/venv/lib/python3.7/site-packages (from navis>=0.2->python-catmaid) (0.14.0)\nRequirement already satisfied, skipping upgrade: fuzzywuzzy>=0.18 in /root/venv/lib/python3.7/site-packages (from navis>=0.2->python-catmaid) (0.18.0)\nRequirement already satisfied, skipping upgrade: pynrrd>=0.4.2 in /root/venv/lib/python3.7/site-packages (from navis>=0.2->python-catmaid) (0.4.2)\nRequirement already satisfied, skipping upgrade: morphops>=0.1.11 in /root/venv/lib/python3.7/site-packages (from navis>=0.2->python-catmaid) (0.1.12)\nRequirement already satisfied, skipping upgrade: pypng>=0.0.18 in /root/venv/lib/python3.7/site-packages (from navis>=0.2->python-catmaid) (0.0.20)\nRequirement already satisfied, skipping upgrade: seaborn>=0.10 in /shared-libs/python3.7/py/lib/python3.7/site-packages (from navis>=0.2->python-catmaid) (0.11.1)\nRequirement already satisfied, skipping upgrade: plotly>=4.9 in /shared-libs/python3.7/py/lib/python3.7/site-packages (from navis>=0.2->python-catmaid) (4.14.3)\nRequirement already satisfied, skipping upgrade: vispy>=0.6.4 in /root/venv/lib/python3.7/site-packages (from navis>=0.2->python-catmaid) (0.6.6)\nRequirement already satisfied, skipping upgrade: pyparsing!=2.0.4,!=2.1.2,!=2.1.6,>=2.0.3 in /shared-libs/python3.7/py-core/lib/python3.7/site-packages (from matplotlib>=3.2->navis>=0.2->python-catmaid) (2.4.7)\nRequirement already satisfied, skipping upgrade: kiwisolver>=1.0.1 in /shared-libs/python3.7/py/lib/python3.7/site-packages (from matplotlib>=3.2->navis>=0.2->python-catmaid) (1.3.1)\nRequirement already satisfied, skipping upgrade: pillow>=6.2.0 in /shared-libs/python3.7/py/lib/python3.7/site-packages (from matplotlib>=3.2->navis>=0.2->python-catmaid) (8.1.0)\nRequirement already satisfied, skipping upgrade: cycler>=0.10 in /shared-libs/python3.7/py/lib/python3.7/site-packages (from matplotlib>=3.2->navis>=0.2->python-catmaid) (0.10.0)\nRequirement already satisfied, skipping upgrade: packaging in /shared-libs/python3.7/py-core/lib/python3.7/site-packages (from pint>=0.10->navis>=0.2->python-catmaid) (20.9)\nRequirement already satisfied, skipping upgrade: importlib-metadata; python_version < \"3.8\" in /shared-libs/python3.7/py-core/lib/python3.7/site-packages (from pint>=0.10->navis>=0.2->python-catmaid) (3.7.0)\nRequirement already satisfied, skipping upgrade: PyQt5-sip<13,>=12.8 in /root/venv/lib/python3.7/site-packages (from PyQt5>=5.15->navis>=0.2->python-catmaid) (12.8.1)\nRequirement already satisfied, skipping upgrade: PyQt5-Qt>=5.15 in /root/venv/lib/python3.7/site-packages (from PyQt5>=5.15->navis>=0.2->python-catmaid) (5.15.2)\nRequirement already satisfied, skipping upgrade: cached-property; python_version < \"3.8\" in /root/venv/lib/python3.7/site-packages (from h5py>=3.1->navis>=0.2->python-catmaid) (1.5.2)\nRequirement already satisfied, skipping upgrade: retrying>=1.3.3 in /shared-libs/python3.7/py/lib/python3.7/site-packages (from plotly>=4.9->navis>=0.2->python-catmaid) (1.3.3)\nRequirement already satisfied, skipping upgrade: freetype-py in /root/venv/lib/python3.7/site-packages (from vispy>=0.6.4->navis>=0.2->python-catmaid) (2.2.0)\nRequirement already satisfied, skipping upgrade: zipp>=0.5 in /shared-libs/python3.7/py-core/lib/python3.7/site-packages (from importlib-metadata; python_version < \"3.8\"->pint>=0.10->navis>=0.2->python-catmaid) (3.4.0)\n^C\n\u001b[31mERROR: Operation cancelled by user\u001b[0m\n",
          "output_type": "stream"
        }
      ]
    },
    {
      "cell_type": "markdown",
      "source": [
        "### How to find neurons across datasets\n",
        "\n",
        "VirtualFlyBrain integrates images and connectomics profiles of neurons from many sources.  It classifies and records their properties using a standard, queryable classification ([The Drosophila Anatomy Ontology](https://www.ebi.ac.uk/ols/ontologies/fbbt)). This standardises the names of neuron types across sources, so you don't need to worry about differences in nomenclature uses and supports queries for neurons by their classification. "
      ],
      "metadata": {
        "tags": [],
        "cell_id": "00000-79bca113-6b64-4597-ad88-b519aea26aea",
        "deepnote_cell_type": "markdown"
      }
    },
    {
      "cell_type": "code",
      "metadata": {
        "tags": [],
        "cell_id": "00000-7a8aaee6-8107-4d3e-8262-7fdb8e78edbf",
        "deepnote_to_be_reexecuted": false,
        "source_hash": "558cc218",
        "execution_millis": 6091,
        "output_cleared": false,
        "execution_start": 1614738274096,
        "deepnote_cell_type": "code"
      },
      "source": [
        "# Import libs and initialise API objects\n",
        "from vfb_connect.cross_server_tools import VfbConnect\n",
        "import pandas as pd\n",
        "vc = VfbConnect()\n",
        "\n",
        "import pymaid\n",
        "import navis\n",
        "\n",
        "navis.set_pbars(jupyter=False)\n",
        "pymaid.set_pbars(jupyter=False)\n",
        "\n",
        "# Connect to the VFB CATMAID server hosting the FAFB data\n",
        "rm = pymaid.connect_catmaid(server=\"https://fafb.catmaid.virtualflybrain.org/\", api_token=None, max_threads=10)\n",
        "\n",
        "# Test call to see if connection works \n",
        "print(f'Server is running CATMAID version {rm.catmaid_version}')\n"
      ],
      "execution_count": null,
      "outputs": [
        {
          "name": "stderr",
          "text": "WARNING: Could not load OpenGL library.\nINFO  : Global CATMAID instance set. Caching is ON. (pymaid)\nServer is running CATMAID version 2020.02.15-905-g93a969b37\n",
          "output_type": "stream"
        }
      ]
    },
    {
      "cell_type": "markdown",
      "source": [
        "### Finds neurons by type (classification) across datasets\n",
        "\n",
        "We can use the `vc.get_instances` method in combination with the name of a neuron type on VFB to find individual neurons from multiple sources.\n",
        "\n",
        "Use the search tool on [VFB](http://virtualflybrain.org) to find neuron types by name or synonym:\n",
        "\n",
        "<img src=\"https://user-images.githubusercontent.com/112839/109564687-535c9380-7ad9-11eb-80e9-5a5bc21cd915.png\" width=30% height=30%>\n",
        "<img src=\"https://user-images.githubusercontent.com/112839/109565128-eac1e680-7ad9-11eb-9649-1ec55a298a1b.png\" width=30% height=30%>\n",
        "\n",
        "Use either the full name or the Symbol to query for neurons:"
      ],
      "metadata": {
        "tags": [],
        "cell_id": "00001-3d466554-95ec-42b9-af26-4d0c9eee3e2c",
        "deepnote_cell_type": "markdown"
      }
    },
    {
      "cell_type": "code",
      "metadata": {
        "tags": [],
        "cell_id": "00002-0f08c5a1-913b-4a33-be18-d83db2c4809b",
        "deepnote_to_be_reexecuted": false,
        "source_hash": "9a2e97a1",
        "execution_millis": 522,
        "output_cleared": false,
        "execution_start": 1614738280194,
        "deepnote_cell_type": "code"
      },
      "source": [
        "DA3adPN = vc.get_instances(\"adult Drosulfakinin neuron\", summary=True)\n",
        "pd.DataFrame.from_records(DA3adPN)"
      ],
      "execution_count": null,
      "outputs": [
        {
          "output_type": "execute_result",
          "execution_count": 3,
          "data": {
            "application/vnd.deepnote.dataframe.v2+json": {
              "row_count": 6,
              "column_count": 11,
              "columns": [
                {
                  "name": "label",
                  "dtype": "object",
                  "stats": {
                    "unique_count": 6,
                    "nan_count": 0,
                    "categories": [
                      {
                        "name": "DSKMP3_R - 327937328",
                        "count": 1
                      },
                      {
                        "name": "DSKMP1A(PVM02)_L - 1260833150",
                        "count": 1
                      },
                      {
                        "name": "4 others",
                        "count": 4
                      }
                    ]
                  }
                },
                {
                  "name": "symbol",
                  "dtype": "object",
                  "stats": {
                    "unique_count": 1,
                    "nan_count": 0,
                    "categories": [
                      {
                        "name": "",
                        "count": 6
                      }
                    ]
                  }
                },
                {
                  "name": "id",
                  "dtype": "object",
                  "stats": {
                    "unique_count": 6,
                    "nan_count": 0,
                    "categories": [
                      {
                        "name": "VFB_jrchjti6",
                        "count": 1
                      },
                      {
                        "name": "VFB_jrchjti3",
                        "count": 1
                      },
                      {
                        "name": "4 others",
                        "count": 4
                      }
                    ]
                  }
                },
                {
                  "name": "tags",
                  "dtype": "object",
                  "stats": {
                    "unique_count": 1,
                    "nan_count": 0,
                    "categories": [
                      {
                        "name": "Entity|has_image|Adult|Anatomy|has_neuron_connectivity|Cell|Individual|has_region_connectivity|Nervous_system|Neuron",
                        "count": 6
                      }
                    ]
                  }
                },
                {
                  "name": "parents_label",
                  "dtype": "object",
                  "stats": {
                    "unique_count": 1,
                    "nan_count": 0,
                    "categories": [
                      {
                        "name": "adult Drosulfakinin neuron",
                        "count": 6
                      }
                    ]
                  }
                },
                {
                  "name": "parents_id",
                  "dtype": "object",
                  "stats": {
                    "unique_count": 1,
                    "nan_count": 0,
                    "categories": [
                      {
                        "name": "FBbt_00048999",
                        "count": 6
                      }
                    ]
                  }
                },
                {
                  "name": "data_source",
                  "dtype": "object",
                  "stats": {
                    "unique_count": 1,
                    "nan_count": 0,
                    "categories": [
                      {
                        "name": "neuprint_JRC_Hemibrain_1point1",
                        "count": 6
                      }
                    ]
                  }
                },
                {
                  "name": "accession",
                  "dtype": "object",
                  "stats": {
                    "unique_count": 6,
                    "nan_count": 0,
                    "categories": [
                      {
                        "name": "327937328",
                        "count": 1
                      },
                      {
                        "name": "1260833150",
                        "count": 1
                      },
                      {
                        "name": "4 others",
                        "count": 4
                      }
                    ]
                  }
                },
                {
                  "name": "templates",
                  "dtype": "object",
                  "stats": {
                    "unique_count": 2,
                    "nan_count": 0,
                    "categories": [
                      {
                        "name": "JRC2018Unisex|JRC_FlyEM_Hemibrain",
                        "count": 4
                      },
                      {
                        "name": "JRC_FlyEM_Hemibrain|JRC2018Unisex",
                        "count": 2
                      }
                    ]
                  }
                },
                {
                  "name": "dataset",
                  "dtype": "object",
                  "stats": {
                    "unique_count": 1,
                    "nan_count": 0,
                    "categories": [
                      {
                        "name": "Xu2020NeuronsV1point1",
                        "count": 6
                      }
                    ]
                  }
                },
                {
                  "name": "license",
                  "dtype": "object",
                  "stats": {
                    "unique_count": 1,
                    "nan_count": 0,
                    "categories": [
                      {
                        "name": "https://creativecommons.org/licenses/by/4.0/legalcode",
                        "count": 6
                      }
                    ]
                  }
                },
                {
                  "name": "_deepnote_index_column",
                  "dtype": "int64"
                }
              ],
              "rows_top": [
                {
                  "label": "DSKMP3_R - 327937328",
                  "symbol": "",
                  "id": "VFB_jrchjti6",
                  "tags": "Entity|has_image|Adult|Anatomy|has_neuron_connectivity|Cell|Individual|has_region_connectivity|Nervous_system|Neuron",
                  "parents_label": "adult Drosulfakinin neuron",
                  "parents_id": "FBbt_00048999",
                  "data_source": "neuprint_JRC_Hemibrain_1point1",
                  "accession": "327937328",
                  "templates": "JRC2018Unisex|JRC_FlyEM_Hemibrain",
                  "dataset": "Xu2020NeuronsV1point1",
                  "license": "https://creativecommons.org/licenses/by/4.0/legalcode",
                  "_deepnote_index_column": 0
                },
                {
                  "label": "DSKMP1A(PVM02)_L - 1260833150",
                  "symbol": "",
                  "id": "VFB_jrchjti3",
                  "tags": "Entity|has_image|Adult|Anatomy|has_neuron_connectivity|Cell|Individual|has_region_connectivity|Nervous_system|Neuron",
                  "parents_label": "adult Drosulfakinin neuron",
                  "parents_id": "FBbt_00048999",
                  "data_source": "neuprint_JRC_Hemibrain_1point1",
                  "accession": "1260833150",
                  "templates": "JRC2018Unisex|JRC_FlyEM_Hemibrain",
                  "dataset": "Xu2020NeuronsV1point1",
                  "license": "https://creativecommons.org/licenses/by/4.0/legalcode",
                  "_deepnote_index_column": 1
                },
                {
                  "label": "DSKMP3_R - 328559607",
                  "symbol": "",
                  "id": "VFB_jrchjti7",
                  "tags": "Entity|has_image|Adult|Anatomy|has_neuron_connectivity|Cell|Individual|has_region_connectivity|Nervous_system|Neuron",
                  "parents_label": "adult Drosulfakinin neuron",
                  "parents_id": "FBbt_00048999",
                  "data_source": "neuprint_JRC_Hemibrain_1point1",
                  "accession": "328559607",
                  "templates": "JRC_FlyEM_Hemibrain|JRC2018Unisex",
                  "dataset": "Xu2020NeuronsV1point1",
                  "license": "https://creativecommons.org/licenses/by/4.0/legalcode",
                  "_deepnote_index_column": 2
                },
                {
                  "label": "DSKMP1B_R - 1352077058",
                  "symbol": "",
                  "id": "VFB_jrchjti4",
                  "tags": "Entity|has_image|Adult|Anatomy|has_neuron_connectivity|Cell|Individual|has_region_connectivity|Nervous_system|Neuron",
                  "parents_label": "adult Drosulfakinin neuron",
                  "parents_id": "FBbt_00048999",
                  "data_source": "neuprint_JRC_Hemibrain_1point1",
                  "accession": "1352077058",
                  "templates": "JRC2018Unisex|JRC_FlyEM_Hemibrain",
                  "dataset": "Xu2020NeuronsV1point1",
                  "license": "https://creativecommons.org/licenses/by/4.0/legalcode",
                  "_deepnote_index_column": 3
                },
                {
                  "label": "DSKMP1B(PVM02)_L - 1011184205",
                  "symbol": "",
                  "id": "VFB_jrchjti5",
                  "tags": "Entity|has_image|Adult|Anatomy|has_neuron_connectivity|Cell|Individual|has_region_connectivity|Nervous_system|Neuron",
                  "parents_label": "adult Drosulfakinin neuron",
                  "parents_id": "FBbt_00048999",
                  "data_source": "neuprint_JRC_Hemibrain_1point1",
                  "accession": "1011184205",
                  "templates": "JRC2018Unisex|JRC_FlyEM_Hemibrain",
                  "dataset": "Xu2020NeuronsV1point1",
                  "license": "https://creativecommons.org/licenses/by/4.0/legalcode",
                  "_deepnote_index_column": 4
                },
                {
                  "label": "DSKMP1A_R - 1135837629",
                  "symbol": "",
                  "id": "VFB_jrchjti2",
                  "tags": "Entity|has_image|Adult|Anatomy|has_neuron_connectivity|Cell|Individual|has_region_connectivity|Nervous_system|Neuron",
                  "parents_label": "adult Drosulfakinin neuron",
                  "parents_id": "FBbt_00048999",
                  "data_source": "neuprint_JRC_Hemibrain_1point1",
                  "accession": "1135837629",
                  "templates": "JRC_FlyEM_Hemibrain|JRC2018Unisex",
                  "dataset": "Xu2020NeuronsV1point1",
                  "license": "https://creativecommons.org/licenses/by/4.0/legalcode",
                  "_deepnote_index_column": 5
                }
              ],
              "rows_bottom": null
            },
            "text/plain": "                           label symbol            id  \\\n0           DSKMP3_R - 327937328         VFB_jrchjti6   \n1  DSKMP1A(PVM02)_L - 1260833150         VFB_jrchjti3   \n2           DSKMP3_R - 328559607         VFB_jrchjti7   \n3         DSKMP1B_R - 1352077058         VFB_jrchjti4   \n4  DSKMP1B(PVM02)_L - 1011184205         VFB_jrchjti5   \n5         DSKMP1A_R - 1135837629         VFB_jrchjti2   \n\n                                                tags  \\\n0  Entity|has_image|Adult|Anatomy|has_neuron_conn...   \n1  Entity|has_image|Adult|Anatomy|has_neuron_conn...   \n2  Entity|has_image|Adult|Anatomy|has_neuron_conn...   \n3  Entity|has_image|Adult|Anatomy|has_neuron_conn...   \n4  Entity|has_image|Adult|Anatomy|has_neuron_conn...   \n5  Entity|has_image|Adult|Anatomy|has_neuron_conn...   \n\n                parents_label     parents_id                     data_source  \\\n0  adult Drosulfakinin neuron  FBbt_00048999  neuprint_JRC_Hemibrain_1point1   \n1  adult Drosulfakinin neuron  FBbt_00048999  neuprint_JRC_Hemibrain_1point1   \n2  adult Drosulfakinin neuron  FBbt_00048999  neuprint_JRC_Hemibrain_1point1   \n3  adult Drosulfakinin neuron  FBbt_00048999  neuprint_JRC_Hemibrain_1point1   \n4  adult Drosulfakinin neuron  FBbt_00048999  neuprint_JRC_Hemibrain_1point1   \n5  adult Drosulfakinin neuron  FBbt_00048999  neuprint_JRC_Hemibrain_1point1   \n\n    accession                          templates                dataset  \\\n0   327937328  JRC2018Unisex|JRC_FlyEM_Hemibrain  Xu2020NeuronsV1point1   \n1  1260833150  JRC2018Unisex|JRC_FlyEM_Hemibrain  Xu2020NeuronsV1point1   \n2   328559607  JRC_FlyEM_Hemibrain|JRC2018Unisex  Xu2020NeuronsV1point1   \n3  1352077058  JRC2018Unisex|JRC_FlyEM_Hemibrain  Xu2020NeuronsV1point1   \n4  1011184205  JRC2018Unisex|JRC_FlyEM_Hemibrain  Xu2020NeuronsV1point1   \n5  1135837629  JRC_FlyEM_Hemibrain|JRC2018Unisex  Xu2020NeuronsV1point1   \n\n                                             license  \n0  https://creativecommons.org/licenses/by/4.0/le...  \n1  https://creativecommons.org/licenses/by/4.0/le...  \n2  https://creativecommons.org/licenses/by/4.0/le...  \n3  https://creativecommons.org/licenses/by/4.0/le...  \n4  https://creativecommons.org/licenses/by/4.0/le...  \n5  https://creativecommons.org/licenses/by/4.0/le...  ",
            "text/html": "<div>\n<style scoped>\n    .dataframe tbody tr th:only-of-type {\n        vertical-align: middle;\n    }\n\n    .dataframe tbody tr th {\n        vertical-align: top;\n    }\n\n    .dataframe thead th {\n        text-align: right;\n    }\n</style>\n<table border=\"1\" class=\"dataframe\">\n  <thead>\n    <tr style=\"text-align: right;\">\n      <th></th>\n      <th>label</th>\n      <th>symbol</th>\n      <th>id</th>\n      <th>tags</th>\n      <th>parents_label</th>\n      <th>parents_id</th>\n      <th>data_source</th>\n      <th>accession</th>\n      <th>templates</th>\n      <th>dataset</th>\n      <th>license</th>\n    </tr>\n  </thead>\n  <tbody>\n    <tr>\n      <th>0</th>\n      <td>DSKMP3_R - 327937328</td>\n      <td></td>\n      <td>VFB_jrchjti6</td>\n      <td>Entity|has_image|Adult|Anatomy|has_neuron_conn...</td>\n      <td>adult Drosulfakinin neuron</td>\n      <td>FBbt_00048999</td>\n      <td>neuprint_JRC_Hemibrain_1point1</td>\n      <td>327937328</td>\n      <td>JRC2018Unisex|JRC_FlyEM_Hemibrain</td>\n      <td>Xu2020NeuronsV1point1</td>\n      <td>https://creativecommons.org/licenses/by/4.0/le...</td>\n    </tr>\n    <tr>\n      <th>1</th>\n      <td>DSKMP1A(PVM02)_L - 1260833150</td>\n      <td></td>\n      <td>VFB_jrchjti3</td>\n      <td>Entity|has_image|Adult|Anatomy|has_neuron_conn...</td>\n      <td>adult Drosulfakinin neuron</td>\n      <td>FBbt_00048999</td>\n      <td>neuprint_JRC_Hemibrain_1point1</td>\n      <td>1260833150</td>\n      <td>JRC2018Unisex|JRC_FlyEM_Hemibrain</td>\n      <td>Xu2020NeuronsV1point1</td>\n      <td>https://creativecommons.org/licenses/by/4.0/le...</td>\n    </tr>\n    <tr>\n      <th>2</th>\n      <td>DSKMP3_R - 328559607</td>\n      <td></td>\n      <td>VFB_jrchjti7</td>\n      <td>Entity|has_image|Adult|Anatomy|has_neuron_conn...</td>\n      <td>adult Drosulfakinin neuron</td>\n      <td>FBbt_00048999</td>\n      <td>neuprint_JRC_Hemibrain_1point1</td>\n      <td>328559607</td>\n      <td>JRC_FlyEM_Hemibrain|JRC2018Unisex</td>\n      <td>Xu2020NeuronsV1point1</td>\n      <td>https://creativecommons.org/licenses/by/4.0/le...</td>\n    </tr>\n    <tr>\n      <th>3</th>\n      <td>DSKMP1B_R - 1352077058</td>\n      <td></td>\n      <td>VFB_jrchjti4</td>\n      <td>Entity|has_image|Adult|Anatomy|has_neuron_conn...</td>\n      <td>adult Drosulfakinin neuron</td>\n      <td>FBbt_00048999</td>\n      <td>neuprint_JRC_Hemibrain_1point1</td>\n      <td>1352077058</td>\n      <td>JRC2018Unisex|JRC_FlyEM_Hemibrain</td>\n      <td>Xu2020NeuronsV1point1</td>\n      <td>https://creativecommons.org/licenses/by/4.0/le...</td>\n    </tr>\n    <tr>\n      <th>4</th>\n      <td>DSKMP1B(PVM02)_L - 1011184205</td>\n      <td></td>\n      <td>VFB_jrchjti5</td>\n      <td>Entity|has_image|Adult|Anatomy|has_neuron_conn...</td>\n      <td>adult Drosulfakinin neuron</td>\n      <td>FBbt_00048999</td>\n      <td>neuprint_JRC_Hemibrain_1point1</td>\n      <td>1011184205</td>\n      <td>JRC2018Unisex|JRC_FlyEM_Hemibrain</td>\n      <td>Xu2020NeuronsV1point1</td>\n      <td>https://creativecommons.org/licenses/by/4.0/le...</td>\n    </tr>\n    <tr>\n      <th>5</th>\n      <td>DSKMP1A_R - 1135837629</td>\n      <td></td>\n      <td>VFB_jrchjti2</td>\n      <td>Entity|has_image|Adult|Anatomy|has_neuron_conn...</td>\n      <td>adult Drosulfakinin neuron</td>\n      <td>FBbt_00048999</td>\n      <td>neuprint_JRC_Hemibrain_1point1</td>\n      <td>1135837629</td>\n      <td>JRC_FlyEM_Hemibrain|JRC2018Unisex</td>\n      <td>Xu2020NeuronsV1point1</td>\n      <td>https://creativecommons.org/licenses/by/4.0/le...</td>\n    </tr>\n  </tbody>\n</table>\n</div>"
          },
          "metadata": {}
        }
      ]
    },
    {
      "cell_type": "markdown",
      "source": [
        "### Find neurons by location\n",
        "\n",
        "We can use the same method to search for neurons by location, using simple queries."
      ],
      "metadata": {
        "tags": [],
        "cell_id": "00004-d350500b-89e9-4a83-9add-bb45e436dc1f",
        "deepnote_cell_type": "markdown"
      }
    },
    {
      "cell_type": "code",
      "metadata": {
        "tags": [],
        "cell_id": "00004-dcc17021-330f-4898-877c-cf190a55c379",
        "deepnote_to_be_reexecuted": false,
        "source_hash": "1e03ca3a",
        "execution_millis": 1991,
        "output_cleared": false,
        "execution_start": 1614738280577,
        "deepnote_cell_type": "code"
      },
      "source": [
        "# Find neurons by location. The following query works across multiple data sources and both sides of the brain.  \n",
        "# Results may be incomplete & may include minor overlap inferred from low synapse counts\n",
        "\n",
        "neurons_in_DA3 = vc.get_instances(\"'neuron' that 'overlaps' some 'antennal lobe glomerulus DA3'\", summary=True)\n",
        "neurons_in_DA3_tab = pd.DataFrame.from_records(neurons_in_DA3)\n",
        "neurons_in_DA3_tab[0:5]\n"
      ],
      "execution_count": null,
      "outputs": [
        {
          "name": "stdout",
          "text": "Running query: FBbt:00005106 that RO:0002131 some FBbt:00003934\nQuery URL: http://owl.virtualflybrain.org/kbs/vfb/instances?object=FBbt%3A00005106+that+RO%3A0002131+some+FBbt%3A00003934&prefixes=%7B%22FBbt%22%3A+%22http%3A%2F%2Fpurl.obolibrary.org%2Fobo%2FFBbt_%22%2C+%22RO%22%3A+%22http%3A%2F%2Fpurl.obolibrary.org%2Fobo%2FRO_%22%2C+%22BFO%22%3A+%22http%3A%2F%2Fpurl.obolibrary.org%2Fobo%2FBFO_%22%7D&direct=False\nQuery results: 158\n",
          "output_type": "stream"
        },
        {
          "output_type": "execute_result",
          "execution_count": 4,
          "data": {
            "application/vnd.deepnote.dataframe.v2+json": {
              "row_count": 5,
              "column_count": 11,
              "columns": [
                {
                  "name": "label",
                  "dtype": "object",
                  "stats": {
                    "unique_count": 5,
                    "nan_count": 0,
                    "categories": [
                      {
                        "name": "lLN2T_a(Tortuous)_R - 5813056598",
                        "count": 1
                      },
                      {
                        "name": "ORN_DL3_R - 1671625186",
                        "count": 1
                      },
                      {
                        "name": "3 others",
                        "count": 3
                      }
                    ]
                  }
                },
                {
                  "name": "symbol",
                  "dtype": "object",
                  "stats": {
                    "unique_count": 1,
                    "nan_count": 0,
                    "categories": [
                      {
                        "name": "",
                        "count": 5
                      }
                    ]
                  }
                },
                {
                  "name": "id",
                  "dtype": "object",
                  "stats": {
                    "unique_count": 5,
                    "nan_count": 0,
                    "categories": [
                      {
                        "name": "VFB_jrchk8bi",
                        "count": 1
                      },
                      {
                        "name": "VFB_jrchk1hj",
                        "count": 1
                      },
                      {
                        "name": "3 others",
                        "count": 3
                      }
                    ]
                  }
                },
                {
                  "name": "tags",
                  "dtype": "object",
                  "stats": {
                    "unique_count": 4,
                    "nan_count": 0,
                    "categories": [
                      {
                        "name": "Entity|has_image|Adult|Anatomy|has_neuron_connectivity|Cell|Individual|has_region_connectivity|NBLAST|Nervous_system|Neuron",
                        "count": 2
                      },
                      {
                        "name": "Entity|has_image|Adult|Anatomy|has_neuron_connectivity|Cell|Individual|Sensory_neuron|has_region_connectivity|Nervous_system|Neuron",
                        "count": 1
                      },
                      {
                        "name": "2 others",
                        "count": 2
                      }
                    ]
                  }
                },
                {
                  "name": "parents_label",
                  "dtype": "object",
                  "stats": {
                    "unique_count": 4,
                    "nan_count": 0,
                    "categories": [
                      {
                        "name": "adult antennal lobe lateral local neuron 2T",
                        "count": 2
                      },
                      {
                        "name": "adult olfactory receptor neuron Or65",
                        "count": 1
                      },
                      {
                        "name": "2 others",
                        "count": 2
                      }
                    ]
                  }
                },
                {
                  "name": "parents_id",
                  "dtype": "object",
                  "stats": {
                    "unique_count": 4,
                    "nan_count": 0,
                    "categories": [
                      {
                        "name": "FBbt_00049816",
                        "count": 2
                      },
                      {
                        "name": "FBbt_00067011",
                        "count": 1
                      },
                      {
                        "name": "2 others",
                        "count": 2
                      }
                    ]
                  }
                },
                {
                  "name": "data_source",
                  "dtype": "object",
                  "stats": {
                    "unique_count": 2,
                    "nan_count": 0,
                    "categories": [
                      {
                        "name": "neuprint_JRC_Hemibrain_1point1",
                        "count": 4
                      },
                      {
                        "name": "catmaid_fafb",
                        "count": 1
                      }
                    ]
                  }
                },
                {
                  "name": "accession",
                  "dtype": "object",
                  "stats": {
                    "unique_count": 5,
                    "nan_count": 0,
                    "categories": [
                      {
                        "name": "5813056598",
                        "count": 1
                      },
                      {
                        "name": "1671625186",
                        "count": 1
                      },
                      {
                        "name": "3 others",
                        "count": 3
                      }
                    ]
                  }
                },
                {
                  "name": "templates",
                  "dtype": "object",
                  "stats": {
                    "unique_count": 3,
                    "nan_count": 0,
                    "categories": [
                      {
                        "name": "JRC2018Unisex|JRC_FlyEM_Hemibrain",
                        "count": 3
                      },
                      {
                        "name": "JRC_FlyEM_Hemibrain|JRC2018Unisex",
                        "count": 1
                      },
                      {
                        "name": "JRC2018Unisex",
                        "count": 1
                      }
                    ]
                  }
                },
                {
                  "name": "dataset",
                  "dtype": "object",
                  "stats": {
                    "unique_count": 2,
                    "nan_count": 0,
                    "categories": [
                      {
                        "name": "Xu2020NeuronsV1point1",
                        "count": 4
                      },
                      {
                        "name": "BatesSchlegel2020",
                        "count": 1
                      }
                    ]
                  }
                },
                {
                  "name": "license",
                  "dtype": "object",
                  "stats": {
                    "unique_count": 2,
                    "nan_count": 0,
                    "categories": [
                      {
                        "name": "https://creativecommons.org/licenses/by/4.0/legalcode",
                        "count": 4
                      },
                      {
                        "name": "https://creativecommons.org/licenses/by-sa/4.0/legalcode",
                        "count": 1
                      }
                    ]
                  }
                },
                {
                  "name": "_deepnote_index_column",
                  "dtype": "int64"
                }
              ],
              "rows_top": [
                {
                  "label": "lLN2T_a(Tortuous)_R - 5813056598",
                  "symbol": "",
                  "id": "VFB_jrchk8bi",
                  "tags": "Entity|has_image|Adult|Anatomy|has_neuron_connectivity|Cell|Individual|has_region_connectivity|NBLAST|Nervous_system|Neuron",
                  "parents_label": "adult antennal lobe lateral local neuron 2T",
                  "parents_id": "FBbt_00049816",
                  "data_source": "neuprint_JRC_Hemibrain_1point1",
                  "accession": "5813056598",
                  "templates": "JRC2018Unisex|JRC_FlyEM_Hemibrain",
                  "dataset": "Xu2020NeuronsV1point1",
                  "license": "https://creativecommons.org/licenses/by/4.0/legalcode",
                  "_deepnote_index_column": 0
                },
                {
                  "label": "ORN_DL3_R - 1671625186",
                  "symbol": "",
                  "id": "VFB_jrchk1hj",
                  "tags": "Entity|has_image|Adult|Anatomy|has_neuron_connectivity|Cell|Individual|Sensory_neuron|has_region_connectivity|Nervous_system|Neuron",
                  "parents_label": "adult olfactory receptor neuron Or65",
                  "parents_id": "FBbt_00067011",
                  "data_source": "neuprint_JRC_Hemibrain_1point1",
                  "accession": "1671625186",
                  "templates": "JRC_FlyEM_Hemibrain|JRC2018Unisex",
                  "dataset": "Xu2020NeuronsV1point1",
                  "license": "https://creativecommons.org/licenses/by/4.0/legalcode",
                  "_deepnote_index_column": 1
                },
                {
                  "label": "DA4m_adPN_R - 574037266",
                  "symbol": "",
                  "id": "VFB_jrchjtdq",
                  "tags": "Entity|has_image|Adult|Anatomy|has_neuron_connectivity|Cell|Cholinergic|Individual|has_region_connectivity|NBLAST|Nervous_system|Neuron",
                  "parents_label": "adult antennal lobe projection neuron DA4m adPN",
                  "parents_id": "FBbt_00047714",
                  "data_source": "neuprint_JRC_Hemibrain_1point1",
                  "accession": "574037266",
                  "templates": "JRC2018Unisex|JRC_FlyEM_Hemibrain",
                  "dataset": "Xu2020NeuronsV1point1",
                  "license": "https://creativecommons.org/licenses/by/4.0/legalcode",
                  "_deepnote_index_column": 2
                },
                {
                  "label": "Uniglomerular mALT DA3 adPN#L1 (FAFB:2449792)",
                  "symbol": "",
                  "id": "VFB_0010123h",
                  "tags": "Entity|has_image|Adult|Anatomy|has_neuron_connectivity|Cell|Cholinergic|Individual|Nervous_system|Neuron",
                  "parents_label": "adult antennal lobe projection neuron DA3 adPN",
                  "parents_id": "FBbt_00100384",
                  "data_source": "catmaid_fafb",
                  "accession": "2449792",
                  "templates": "JRC2018Unisex",
                  "dataset": "BatesSchlegel2020",
                  "license": "https://creativecommons.org/licenses/by-sa/4.0/legalcode",
                  "_deepnote_index_column": 3
                },
                {
                  "label": "lLN2T_e(Tortuous)_R - 1699974843",
                  "symbol": "",
                  "id": "VFB_jrchk8br",
                  "tags": "Entity|has_image|Adult|Anatomy|has_neuron_connectivity|Cell|Individual|has_region_connectivity|NBLAST|Nervous_system|Neuron",
                  "parents_label": "adult antennal lobe lateral local neuron 2T",
                  "parents_id": "FBbt_00049816",
                  "data_source": "neuprint_JRC_Hemibrain_1point1",
                  "accession": "1699974843",
                  "templates": "JRC2018Unisex|JRC_FlyEM_Hemibrain",
                  "dataset": "Xu2020NeuronsV1point1",
                  "license": "https://creativecommons.org/licenses/by/4.0/legalcode",
                  "_deepnote_index_column": 4
                }
              ],
              "rows_bottom": null
            },
            "text/plain": "                                           label symbol            id  \\\n0               lLN2T_a(Tortuous)_R - 5813056598         VFB_jrchk8bi   \n1                         ORN_DL3_R - 1671625186         VFB_jrchk1hj   \n2                        DA4m_adPN_R - 574037266         VFB_jrchjtdq   \n3  Uniglomerular mALT DA3 adPN#L1 (FAFB:2449792)         VFB_0010123h   \n4               lLN2T_e(Tortuous)_R - 1699974843         VFB_jrchk8br   \n\n                                                tags  \\\n0  Entity|has_image|Adult|Anatomy|has_neuron_conn...   \n1  Entity|has_image|Adult|Anatomy|has_neuron_conn...   \n2  Entity|has_image|Adult|Anatomy|has_neuron_conn...   \n3  Entity|has_image|Adult|Anatomy|has_neuron_conn...   \n4  Entity|has_image|Adult|Anatomy|has_neuron_conn...   \n\n                                     parents_label     parents_id  \\\n0      adult antennal lobe lateral local neuron 2T  FBbt_00049816   \n1             adult olfactory receptor neuron Or65  FBbt_00067011   \n2  adult antennal lobe projection neuron DA4m adPN  FBbt_00047714   \n3   adult antennal lobe projection neuron DA3 adPN  FBbt_00100384   \n4      adult antennal lobe lateral local neuron 2T  FBbt_00049816   \n\n                      data_source   accession  \\\n0  neuprint_JRC_Hemibrain_1point1  5813056598   \n1  neuprint_JRC_Hemibrain_1point1  1671625186   \n2  neuprint_JRC_Hemibrain_1point1   574037266   \n3                    catmaid_fafb     2449792   \n4  neuprint_JRC_Hemibrain_1point1  1699974843   \n\n                           templates                dataset  \\\n0  JRC2018Unisex|JRC_FlyEM_Hemibrain  Xu2020NeuronsV1point1   \n1  JRC_FlyEM_Hemibrain|JRC2018Unisex  Xu2020NeuronsV1point1   \n2  JRC2018Unisex|JRC_FlyEM_Hemibrain  Xu2020NeuronsV1point1   \n3                      JRC2018Unisex      BatesSchlegel2020   \n4  JRC2018Unisex|JRC_FlyEM_Hemibrain  Xu2020NeuronsV1point1   \n\n                                             license  \n0  https://creativecommons.org/licenses/by/4.0/le...  \n1  https://creativecommons.org/licenses/by/4.0/le...  \n2  https://creativecommons.org/licenses/by/4.0/le...  \n3  https://creativecommons.org/licenses/by-sa/4.0...  \n4  https://creativecommons.org/licenses/by/4.0/le...  ",
            "text/html": "<div>\n<style scoped>\n    .dataframe tbody tr th:only-of-type {\n        vertical-align: middle;\n    }\n\n    .dataframe tbody tr th {\n        vertical-align: top;\n    }\n\n    .dataframe thead th {\n        text-align: right;\n    }\n</style>\n<table border=\"1\" class=\"dataframe\">\n  <thead>\n    <tr style=\"text-align: right;\">\n      <th></th>\n      <th>label</th>\n      <th>symbol</th>\n      <th>id</th>\n      <th>tags</th>\n      <th>parents_label</th>\n      <th>parents_id</th>\n      <th>data_source</th>\n      <th>accession</th>\n      <th>templates</th>\n      <th>dataset</th>\n      <th>license</th>\n    </tr>\n  </thead>\n  <tbody>\n    <tr>\n      <th>0</th>\n      <td>lLN2T_a(Tortuous)_R - 5813056598</td>\n      <td></td>\n      <td>VFB_jrchk8bi</td>\n      <td>Entity|has_image|Adult|Anatomy|has_neuron_conn...</td>\n      <td>adult antennal lobe lateral local neuron 2T</td>\n      <td>FBbt_00049816</td>\n      <td>neuprint_JRC_Hemibrain_1point1</td>\n      <td>5813056598</td>\n      <td>JRC2018Unisex|JRC_FlyEM_Hemibrain</td>\n      <td>Xu2020NeuronsV1point1</td>\n      <td>https://creativecommons.org/licenses/by/4.0/le...</td>\n    </tr>\n    <tr>\n      <th>1</th>\n      <td>ORN_DL3_R - 1671625186</td>\n      <td></td>\n      <td>VFB_jrchk1hj</td>\n      <td>Entity|has_image|Adult|Anatomy|has_neuron_conn...</td>\n      <td>adult olfactory receptor neuron Or65</td>\n      <td>FBbt_00067011</td>\n      <td>neuprint_JRC_Hemibrain_1point1</td>\n      <td>1671625186</td>\n      <td>JRC_FlyEM_Hemibrain|JRC2018Unisex</td>\n      <td>Xu2020NeuronsV1point1</td>\n      <td>https://creativecommons.org/licenses/by/4.0/le...</td>\n    </tr>\n    <tr>\n      <th>2</th>\n      <td>DA4m_adPN_R - 574037266</td>\n      <td></td>\n      <td>VFB_jrchjtdq</td>\n      <td>Entity|has_image|Adult|Anatomy|has_neuron_conn...</td>\n      <td>adult antennal lobe projection neuron DA4m adPN</td>\n      <td>FBbt_00047714</td>\n      <td>neuprint_JRC_Hemibrain_1point1</td>\n      <td>574037266</td>\n      <td>JRC2018Unisex|JRC_FlyEM_Hemibrain</td>\n      <td>Xu2020NeuronsV1point1</td>\n      <td>https://creativecommons.org/licenses/by/4.0/le...</td>\n    </tr>\n    <tr>\n      <th>3</th>\n      <td>Uniglomerular mALT DA3 adPN#L1 (FAFB:2449792)</td>\n      <td></td>\n      <td>VFB_0010123h</td>\n      <td>Entity|has_image|Adult|Anatomy|has_neuron_conn...</td>\n      <td>adult antennal lobe projection neuron DA3 adPN</td>\n      <td>FBbt_00100384</td>\n      <td>catmaid_fafb</td>\n      <td>2449792</td>\n      <td>JRC2018Unisex</td>\n      <td>BatesSchlegel2020</td>\n      <td>https://creativecommons.org/licenses/by-sa/4.0...</td>\n    </tr>\n    <tr>\n      <th>4</th>\n      <td>lLN2T_e(Tortuous)_R - 1699974843</td>\n      <td></td>\n      <td>VFB_jrchk8br</td>\n      <td>Entity|has_image|Adult|Anatomy|has_neuron_conn...</td>\n      <td>adult antennal lobe lateral local neuron 2T</td>\n      <td>FBbt_00049816</td>\n      <td>neuprint_JRC_Hemibrain_1point1</td>\n      <td>1699974843</td>\n      <td>JRC2018Unisex|JRC_FlyEM_Hemibrain</td>\n      <td>Xu2020NeuronsV1point1</td>\n      <td>https://creativecommons.org/licenses/by/4.0/le...</td>\n    </tr>\n  </tbody>\n</table>\n</div>"
          },
          "metadata": {}
        }
      ]
    },
    {
      "cell_type": "code",
      "metadata": {
        "tags": [],
        "cell_id": "00006-d14e7552-74de-47db-b0df-2cd4880e2d37",
        "deepnote_to_be_reexecuted": false,
        "source_hash": "1d3a22e2",
        "execution_millis": 3176,
        "output_cleared": false,
        "execution_start": 1614738282570,
        "deepnote_cell_type": "code"
      },
      "source": [
        "# Find local interneurons (intrinsic neurons) of the AL, overlapping DA3:\n",
        "\n",
        "local_in_DA3 = vc.get_instances(\"'local interneuron of adult antennal lobe' that 'overlaps' some 'antennal lobe glomerulus DA3'\",\n",
        "                                summary=True)\n",
        "local_in_DA3_tab = pd.DataFrame.from_records(local_in_DA3)\n",
        "local_in_DA3_tab"
      ],
      "execution_count": null,
      "outputs": [
        {
          "name": "stdout",
          "text": "Running query: FBbt:00007390 that RO:0002131 some FBbt:00003934\nQuery URL: http://owl.virtualflybrain.org/kbs/vfb/instances?object=FBbt%3A00007390+that+RO%3A0002131+some+FBbt%3A00003934&prefixes=%7B%22FBbt%22%3A+%22http%3A%2F%2Fpurl.obolibrary.org%2Fobo%2FFBbt_%22%2C+%22RO%22%3A+%22http%3A%2F%2Fpurl.obolibrary.org%2Fobo%2FRO_%22%2C+%22BFO%22%3A+%22http%3A%2F%2Fpurl.obolibrary.org%2Fobo%2FBFO_%22%7D&direct=False\nQuery results: 53\n",
          "output_type": "stream"
        },
        {
          "output_type": "execute_result",
          "execution_count": 5,
          "data": {
            "application/vnd.deepnote.dataframe.v2+json": {
              "row_count": 53,
              "column_count": 11,
              "columns": [
                {
                  "name": "label",
                  "dtype": "object",
                  "stats": {
                    "unique_count": 53,
                    "nan_count": 0,
                    "categories": [
                      {
                        "name": "lLN16b_R - 1887168462",
                        "count": 1
                      },
                      {
                        "name": "lLN1_c_R - 5813047691",
                        "count": 1
                      },
                      {
                        "name": "51 others",
                        "count": 51
                      }
                    ]
                  }
                },
                {
                  "name": "symbol",
                  "dtype": "object",
                  "stats": {
                    "unique_count": 1,
                    "nan_count": 0,
                    "categories": [
                      {
                        "name": "",
                        "count": 53
                      }
                    ]
                  }
                },
                {
                  "name": "id",
                  "dtype": "object",
                  "stats": {
                    "unique_count": 53,
                    "nan_count": 0,
                    "categories": [
                      {
                        "name": "VFB_jrchk89w",
                        "count": 1
                      },
                      {
                        "name": "VFB_jrchk8ae",
                        "count": 1
                      },
                      {
                        "name": "51 others",
                        "count": 51
                      }
                    ]
                  }
                },
                {
                  "name": "tags",
                  "dtype": "object",
                  "stats": {
                    "unique_count": 1,
                    "nan_count": 0,
                    "categories": [
                      {
                        "name": "Entity|has_image|Adult|Anatomy|has_neuron_connectivity|Cell|Individual|has_region_connectivity|NBLAST|Nervous_system|Neuron",
                        "count": 53
                      }
                    ]
                  }
                },
                {
                  "name": "parents_label",
                  "dtype": "object",
                  "stats": {
                    "unique_count": 7,
                    "nan_count": 0,
                    "categories": [
                      {
                        "name": "adult local interneuron of the lateral ALl1 neuroblast",
                        "count": 21
                      },
                      {
                        "name": "adult antennal lobe lateral local neuron 2T",
                        "count": 11
                      },
                      {
                        "name": "5 others",
                        "count": 21
                      }
                    ]
                  }
                },
                {
                  "name": "parents_id",
                  "dtype": "object",
                  "stats": {
                    "unique_count": 7,
                    "nan_count": 0,
                    "categories": [
                      {
                        "name": "FBbt_00007394",
                        "count": 21
                      },
                      {
                        "name": "FBbt_00049816",
                        "count": 11
                      },
                      {
                        "name": "5 others",
                        "count": 21
                      }
                    ]
                  }
                },
                {
                  "name": "data_source",
                  "dtype": "object",
                  "stats": {
                    "unique_count": 1,
                    "nan_count": 0,
                    "categories": [
                      {
                        "name": "neuprint_JRC_Hemibrain_1point1",
                        "count": 53
                      }
                    ]
                  }
                },
                {
                  "name": "accession",
                  "dtype": "object",
                  "stats": {
                    "unique_count": 53,
                    "nan_count": 0,
                    "categories": [
                      {
                        "name": "1887168462",
                        "count": 1
                      },
                      {
                        "name": "5813047691",
                        "count": 1
                      },
                      {
                        "name": "51 others",
                        "count": 51
                      }
                    ]
                  }
                },
                {
                  "name": "templates",
                  "dtype": "object",
                  "stats": {
                    "unique_count": 2,
                    "nan_count": 0,
                    "categories": [
                      {
                        "name": "JRC_FlyEM_Hemibrain|JRC2018Unisex",
                        "count": 30
                      },
                      {
                        "name": "JRC2018Unisex|JRC_FlyEM_Hemibrain",
                        "count": 23
                      }
                    ]
                  }
                },
                {
                  "name": "dataset",
                  "dtype": "object",
                  "stats": {
                    "unique_count": 1,
                    "nan_count": 0,
                    "categories": [
                      {
                        "name": "Xu2020NeuronsV1point1",
                        "count": 53
                      }
                    ]
                  }
                },
                {
                  "name": "license",
                  "dtype": "object",
                  "stats": {
                    "unique_count": 1,
                    "nan_count": 0,
                    "categories": [
                      {
                        "name": "https://creativecommons.org/licenses/by/4.0/legalcode",
                        "count": 53
                      }
                    ]
                  }
                },
                {
                  "name": "_deepnote_index_column",
                  "dtype": "int64"
                }
              ],
              "rows_top": [
                {
                  "label": "lLN16b_R - 1887168462",
                  "symbol": "",
                  "id": "VFB_jrchk89w",
                  "tags": "Entity|has_image|Adult|Anatomy|has_neuron_connectivity|Cell|Individual|has_region_connectivity|NBLAST|Nervous_system|Neuron",
                  "parents_label": "adult local interneuron of the lateral ALl1 neuroblast",
                  "parents_id": "FBbt_00007394",
                  "data_source": "neuprint_JRC_Hemibrain_1point1",
                  "accession": "1887168462",
                  "templates": "JRC_FlyEM_Hemibrain|JRC2018Unisex",
                  "dataset": "Xu2020NeuronsV1point1",
                  "license": "https://creativecommons.org/licenses/by/4.0/legalcode",
                  "_deepnote_index_column": 0
                },
                {
                  "label": "lLN1_c_R - 5813047691",
                  "symbol": "",
                  "id": "VFB_jrchk8ae",
                  "tags": "Entity|has_image|Adult|Anatomy|has_neuron_connectivity|Cell|Individual|has_region_connectivity|NBLAST|Nervous_system|Neuron",
                  "parents_label": "adult local interneuron of the lateral ALl1 neuroblast",
                  "parents_id": "FBbt_00007394",
                  "data_source": "neuprint_JRC_Hemibrain_1point1",
                  "accession": "5813047691",
                  "templates": "JRC_FlyEM_Hemibrain|JRC2018Unisex",
                  "dataset": "Xu2020NeuronsV1point1",
                  "license": "https://creativecommons.org/licenses/by/4.0/legalcode",
                  "_deepnote_index_column": 1
                },
                {
                  "label": "lLN2S(Star)_R - 1670627928",
                  "symbol": "",
                  "id": "VFB_jrchk8bb",
                  "tags": "Entity|has_image|Adult|Anatomy|has_neuron_connectivity|Cell|Individual|has_region_connectivity|NBLAST|Nervous_system|Neuron",
                  "parents_label": "adult antennal lobe lateral local neuron 2S",
                  "parents_id": "FBbt_00049815",
                  "data_source": "neuprint_JRC_Hemibrain_1point1",
                  "accession": "1670627928",
                  "templates": "JRC2018Unisex|JRC_FlyEM_Hemibrain",
                  "dataset": "Xu2020NeuronsV1point1",
                  "license": "https://creativecommons.org/licenses/by/4.0/legalcode",
                  "_deepnote_index_column": 2
                },
                {
                  "label": "lLN2F_b(Full)_R - 5813024698",
                  "symbol": "",
                  "id": "VFB_jrchk8an",
                  "tags": "Entity|has_image|Adult|Anatomy|has_neuron_connectivity|Cell|Individual|has_region_connectivity|NBLAST|Nervous_system|Neuron",
                  "parents_label": "adult antennal lobe lateral local neuron 2F",
                  "parents_id": "FBbt_00049812",
                  "data_source": "neuprint_JRC_Hemibrain_1point1",
                  "accession": "5813024698",
                  "templates": "JRC_FlyEM_Hemibrain|JRC2018Unisex",
                  "dataset": "Xu2020NeuronsV1point1",
                  "license": "https://creativecommons.org/licenses/by/4.0/legalcode",
                  "_deepnote_index_column": 3
                },
                {
                  "label": "lLN2T_c(Tortuous)_R - 1671292719",
                  "symbol": "",
                  "id": "VFB_jrchk8bo",
                  "tags": "Entity|has_image|Adult|Anatomy|has_neuron_connectivity|Cell|Individual|has_region_connectivity|NBLAST|Nervous_system|Neuron",
                  "parents_label": "adult antennal lobe lateral local neuron 2T",
                  "parents_id": "FBbt_00049816",
                  "data_source": "neuprint_JRC_Hemibrain_1point1",
                  "accession": "1671292719",
                  "templates": "JRC_FlyEM_Hemibrain|JRC2018Unisex",
                  "dataset": "Xu2020NeuronsV1point1",
                  "license": "https://creativecommons.org/licenses/by/4.0/legalcode",
                  "_deepnote_index_column": 4
                },
                {
                  "label": "lLN1_c_R - 5813062199",
                  "symbol": "",
                  "id": "VFB_jrchk8af",
                  "tags": "Entity|has_image|Adult|Anatomy|has_neuron_connectivity|Cell|Individual|has_region_connectivity|NBLAST|Nervous_system|Neuron",
                  "parents_label": "adult local interneuron of the lateral ALl1 neuroblast",
                  "parents_id": "FBbt_00007394",
                  "data_source": "neuprint_JRC_Hemibrain_1point1",
                  "accession": "5813062199",
                  "templates": "JRC2018Unisex|JRC_FlyEM_Hemibrain",
                  "dataset": "Xu2020NeuronsV1point1",
                  "license": "https://creativecommons.org/licenses/by/4.0/legalcode",
                  "_deepnote_index_column": 5
                },
                {
                  "label": "lLN1_a_R - 5813130064",
                  "symbol": "",
                  "id": "VFB_jrchk8a4",
                  "tags": "Entity|has_image|Adult|Anatomy|has_neuron_connectivity|Cell|Individual|has_region_connectivity|NBLAST|Nervous_system|Neuron",
                  "parents_label": "adult local interneuron of the lateral ALl1 neuroblast",
                  "parents_id": "FBbt_00007394",
                  "data_source": "neuprint_JRC_Hemibrain_1point1",
                  "accession": "5813130064",
                  "templates": "JRC2018Unisex|JRC_FlyEM_Hemibrain",
                  "dataset": "Xu2020NeuronsV1point1",
                  "license": "https://creativecommons.org/licenses/by/4.0/legalcode",
                  "_deepnote_index_column": 6
                },
                {
                  "label": "lLN1_c_R - 1702651358",
                  "symbol": "",
                  "id": "VFB_jrchk8aj",
                  "tags": "Entity|has_image|Adult|Anatomy|has_neuron_connectivity|Cell|Individual|has_region_connectivity|NBLAST|Nervous_system|Neuron",
                  "parents_label": "adult local interneuron of the lateral ALl1 neuroblast",
                  "parents_id": "FBbt_00007394",
                  "data_source": "neuprint_JRC_Hemibrain_1point1",
                  "accession": "1702651358",
                  "templates": "JRC_FlyEM_Hemibrain|JRC2018Unisex",
                  "dataset": "Xu2020NeuronsV1point1",
                  "license": "https://creativecommons.org/licenses/by/4.0/legalcode",
                  "_deepnote_index_column": 7
                },
                {
                  "label": "lLN2T_e(Tortuous)_R - 1640922516",
                  "symbol": "",
                  "id": "VFB_jrchk8bs",
                  "tags": "Entity|has_image|Adult|Anatomy|has_neuron_connectivity|Cell|Individual|has_region_connectivity|NBLAST|Nervous_system|Neuron",
                  "parents_label": "adult antennal lobe lateral local neuron 2T",
                  "parents_id": "FBbt_00049816",
                  "data_source": "neuprint_JRC_Hemibrain_1point1",
                  "accession": "1640922516",
                  "templates": "JRC2018Unisex|JRC_FlyEM_Hemibrain",
                  "dataset": "Xu2020NeuronsV1point1",
                  "license": "https://creativecommons.org/licenses/by/4.0/legalcode",
                  "_deepnote_index_column": 8
                },
                {
                  "label": "lLN11_R - 1670278227",
                  "symbol": "",
                  "id": "VFB_jrchk89e",
                  "tags": "Entity|has_image|Adult|Anatomy|has_neuron_connectivity|Cell|Individual|has_region_connectivity|NBLAST|Nervous_system|Neuron",
                  "parents_label": "adult local interneuron of the lateral ALl1 neuroblast",
                  "parents_id": "FBbt_00007394",
                  "data_source": "neuprint_JRC_Hemibrain_1point1",
                  "accession": "1670278227",
                  "templates": "JRC_FlyEM_Hemibrain|JRC2018Unisex",
                  "dataset": "Xu2020NeuronsV1point1",
                  "license": "https://creativecommons.org/licenses/by/4.0/legalcode",
                  "_deepnote_index_column": 9
                },
                {
                  "label": "lLN2P_c(Patchy)_R - 2105086391",
                  "symbol": "",
                  "id": "VFB_jrchk8b0",
                  "tags": "Entity|has_image|Adult|Anatomy|has_neuron_connectivity|Cell|Individual|has_region_connectivity|NBLAST|Nervous_system|Neuron",
                  "parents_label": "adult antennal lobe lateral local neuron 2P",
                  "parents_id": "FBbt_00049813",
                  "data_source": "neuprint_JRC_Hemibrain_1point1",
                  "accession": "2105086391",
                  "templates": "JRC_FlyEM_Hemibrain|JRC2018Unisex",
                  "dataset": "Xu2020NeuronsV1point1",
                  "license": "https://creativecommons.org/licenses/by/4.0/legalcode",
                  "_deepnote_index_column": 10
                },
                {
                  "label": "lLN2T_b(Tortuous)_R - 1640572741",
                  "symbol": "",
                  "id": "VFB_jrchk8bl",
                  "tags": "Entity|has_image|Adult|Anatomy|has_neuron_connectivity|Cell|Individual|has_region_connectivity|NBLAST|Nervous_system|Neuron",
                  "parents_label": "adult antennal lobe lateral local neuron 2T",
                  "parents_id": "FBbt_00049816",
                  "data_source": "neuprint_JRC_Hemibrain_1point1",
                  "accession": "1640572741",
                  "templates": "JRC2018Unisex|JRC_FlyEM_Hemibrain",
                  "dataset": "Xu2020NeuronsV1point1",
                  "license": "https://creativecommons.org/licenses/by/4.0/legalcode",
                  "_deepnote_index_column": 11
                },
                {
                  "label": "lLN1_c_R - 1578826464",
                  "symbol": "",
                  "id": "VFB_jrchk8ah",
                  "tags": "Entity|has_image|Adult|Anatomy|has_neuron_connectivity|Cell|Individual|has_region_connectivity|NBLAST|Nervous_system|Neuron",
                  "parents_label": "adult local interneuron of the lateral ALl1 neuroblast",
                  "parents_id": "FBbt_00007394",
                  "data_source": "neuprint_JRC_Hemibrain_1point1",
                  "accession": "1578826464",
                  "templates": "JRC_FlyEM_Hemibrain|JRC2018Unisex",
                  "dataset": "Xu2020NeuronsV1point1",
                  "license": "https://creativecommons.org/licenses/by/4.0/legalcode",
                  "_deepnote_index_column": 12
                },
                {
                  "label": "lLN2P_a(Patchy)_R - 2041621893",
                  "symbol": "",
                  "id": "VFB_jrchk8ao",
                  "tags": "Entity|has_image|Adult|Anatomy|has_neuron_connectivity|Cell|Individual|has_region_connectivity|NBLAST|Nervous_system|Neuron",
                  "parents_label": "adult antennal lobe lateral local neuron 2P",
                  "parents_id": "FBbt_00049813",
                  "data_source": "neuprint_JRC_Hemibrain_1point1",
                  "accession": "2041621893",
                  "templates": "JRC_FlyEM_Hemibrain|JRC2018Unisex",
                  "dataset": "Xu2020NeuronsV1point1",
                  "license": "https://creativecommons.org/licenses/by/4.0/legalcode",
                  "_deepnote_index_column": 13
                },
                {
                  "label": "lLN2S(Star)_R - 1762359683",
                  "symbol": "",
                  "id": "VFB_jrchk8bc",
                  "tags": "Entity|has_image|Adult|Anatomy|has_neuron_connectivity|Cell|Individual|has_region_connectivity|NBLAST|Nervous_system|Neuron",
                  "parents_label": "adult antennal lobe lateral local neuron 2S",
                  "parents_id": "FBbt_00049815",
                  "data_source": "neuprint_JRC_Hemibrain_1point1",
                  "accession": "1762359683",
                  "templates": "JRC2018Unisex|JRC_FlyEM_Hemibrain",
                  "dataset": "Xu2020NeuronsV1point1",
                  "license": "https://creativecommons.org/licenses/by/4.0/legalcode",
                  "_deepnote_index_column": 14
                },
                {
                  "label": "lLN1_b_R - 5813054622",
                  "symbol": "",
                  "id": "VFB_jrchk8a8",
                  "tags": "Entity|has_image|Adult|Anatomy|has_neuron_connectivity|Cell|Individual|has_region_connectivity|NBLAST|Nervous_system|Neuron",
                  "parents_label": "adult local interneuron of the lateral ALl1 neuroblast",
                  "parents_id": "FBbt_00007394",
                  "data_source": "neuprint_JRC_Hemibrain_1point1",
                  "accession": "5813054622",
                  "templates": "JRC2018Unisex|JRC_FlyEM_Hemibrain",
                  "dataset": "Xu2020NeuronsV1point1",
                  "license": "https://creativecommons.org/licenses/by/4.0/legalcode",
                  "_deepnote_index_column": 15
                },
                {
                  "label": "lLN2F_a(Full)_R - 1670287030",
                  "symbol": "",
                  "id": "VFB_jrchk8al",
                  "tags": "Entity|has_image|Adult|Anatomy|has_neuron_connectivity|Cell|Individual|has_region_connectivity|NBLAST|Nervous_system|Neuron",
                  "parents_label": "adult antennal lobe lateral local neuron 2F",
                  "parents_id": "FBbt_00049812",
                  "data_source": "neuprint_JRC_Hemibrain_1point1",
                  "accession": "1670287030",
                  "templates": "JRC2018Unisex|JRC_FlyEM_Hemibrain",
                  "dataset": "Xu2020NeuronsV1point1",
                  "license": "https://creativecommons.org/licenses/by/4.0/legalcode",
                  "_deepnote_index_column": 16
                },
                {
                  "label": "lLN12a_R - 1826445251",
                  "symbol": "",
                  "id": "VFB_jrchk89g",
                  "tags": "Entity|has_image|Adult|Anatomy|has_neuron_connectivity|Cell|Individual|has_region_connectivity|NBLAST|Nervous_system|Neuron",
                  "parents_label": "adult local interneuron of the lateral ALl1 neuroblast",
                  "parents_id": "FBbt_00007394",
                  "data_source": "neuprint_JRC_Hemibrain_1point1",
                  "accession": "1826445251",
                  "templates": "JRC2018Unisex|JRC_FlyEM_Hemibrain",
                  "dataset": "Xu2020NeuronsV1point1",
                  "license": "https://creativecommons.org/licenses/by/4.0/legalcode",
                  "_deepnote_index_column": 17
                },
                {
                  "label": "lLN11_R - 2040301572",
                  "symbol": "",
                  "id": "VFB_jrchk89d",
                  "tags": "Entity|has_image|Adult|Anatomy|has_neuron_connectivity|Cell|Individual|has_region_connectivity|NBLAST|Nervous_system|Neuron",
                  "parents_label": "adult local interneuron of the lateral ALl1 neuroblast",
                  "parents_id": "FBbt_00007394",
                  "data_source": "neuprint_JRC_Hemibrain_1point1",
                  "accession": "2040301572",
                  "templates": "JRC2018Unisex|JRC_FlyEM_Hemibrain",
                  "dataset": "Xu2020NeuronsV1point1",
                  "license": "https://creativecommons.org/licenses/by/4.0/legalcode",
                  "_deepnote_index_column": 18
                },
                {
                  "label": "il3LN6_R - 5813018460",
                  "symbol": "",
                  "id": "VFB_jrchk88v",
                  "tags": "Entity|has_image|Adult|Anatomy|has_neuron_connectivity|Cell|Individual|has_region_connectivity|NBLAST|Nervous_system|Neuron",
                  "parents_label": "local interneuron of adult antennal lobe",
                  "parents_id": "FBbt_00007390",
                  "data_source": "neuprint_JRC_Hemibrain_1point1",
                  "accession": "5813018460",
                  "templates": "JRC_FlyEM_Hemibrain|JRC2018Unisex",
                  "dataset": "Xu2020NeuronsV1point1",
                  "license": "https://creativecommons.org/licenses/by/4.0/legalcode",
                  "_deepnote_index_column": 19
                },
                {
                  "label": "lLN2R_b(Regional)_R - 5813076969",
                  "symbol": "",
                  "id": "VFB_jrchk8b6",
                  "tags": "Entity|has_image|Adult|Anatomy|has_neuron_connectivity|Cell|Individual|has_region_connectivity|NBLAST|Nervous_system|Neuron",
                  "parents_label": "adult antennal lobe lateral local neuron 2R",
                  "parents_id": "FBbt_00049814",
                  "data_source": "neuprint_JRC_Hemibrain_1point1",
                  "accession": "5813076969",
                  "templates": "JRC_FlyEM_Hemibrain|JRC2018Unisex",
                  "dataset": "Xu2020NeuronsV1point1",
                  "license": "https://creativecommons.org/licenses/by/4.0/legalcode",
                  "_deepnote_index_column": 20
                },
                {
                  "label": "lLN16a_R - 1702318692",
                  "symbol": "",
                  "id": "VFB_jrchk89t",
                  "tags": "Entity|has_image|Adult|Anatomy|has_neuron_connectivity|Cell|Individual|has_region_connectivity|NBLAST|Nervous_system|Neuron",
                  "parents_label": "adult local interneuron of the lateral ALl1 neuroblast",
                  "parents_id": "FBbt_00007394",
                  "data_source": "neuprint_JRC_Hemibrain_1point1",
                  "accession": "1702318692",
                  "templates": "JRC_FlyEM_Hemibrain|JRC2018Unisex",
                  "dataset": "Xu2020NeuronsV1point1",
                  "license": "https://creativecommons.org/licenses/by/4.0/legalcode",
                  "_deepnote_index_column": 21
                },
                {
                  "label": "lLN2T_d(Tortuous)_R - 1667251683",
                  "symbol": "",
                  "id": "VFB_jrchk8bp",
                  "tags": "Entity|has_image|Adult|Anatomy|has_neuron_connectivity|Cell|Individual|has_region_connectivity|NBLAST|Nervous_system|Neuron",
                  "parents_label": "adult antennal lobe lateral local neuron 2T",
                  "parents_id": "FBbt_00049816",
                  "data_source": "neuprint_JRC_Hemibrain_1point1",
                  "accession": "1667251683",
                  "templates": "JRC_FlyEM_Hemibrain|JRC2018Unisex",
                  "dataset": "Xu2020NeuronsV1point1",
                  "license": "https://creativecommons.org/licenses/by/4.0/legalcode",
                  "_deepnote_index_column": 22
                },
                {
                  "label": "lLN2R_b(Regional)_R - 1702305987",
                  "symbol": "",
                  "id": "VFB_jrchk8b5",
                  "tags": "Entity|has_image|Adult|Anatomy|has_neuron_connectivity|Cell|Individual|has_region_connectivity|NBLAST|Nervous_system|Neuron",
                  "parents_label": "adult antennal lobe lateral local neuron 2R",
                  "parents_id": "FBbt_00049814",
                  "data_source": "neuprint_JRC_Hemibrain_1point1",
                  "accession": "1702305987",
                  "templates": "JRC2018Unisex|JRC_FlyEM_Hemibrain",
                  "dataset": "Xu2020NeuronsV1point1",
                  "license": "https://creativecommons.org/licenses/by/4.0/legalcode",
                  "_deepnote_index_column": 23
                },
                {
                  "label": "v2LN35_R - 1733056086",
                  "symbol": "",
                  "id": "VFB_jrchk8ew",
                  "tags": "Entity|has_image|Adult|Anatomy|has_neuron_connectivity|Cell|Individual|has_region_connectivity|NBLAST|Nervous_system|Neuron",
                  "parents_label": "local interneuron of adult antennal lobe",
                  "parents_id": "FBbt_00007390",
                  "data_source": "neuprint_JRC_Hemibrain_1point1",
                  "accession": "1733056086",
                  "templates": "JRC2018Unisex|JRC_FlyEM_Hemibrain",
                  "dataset": "Xu2020NeuronsV1point1",
                  "license": "https://creativecommons.org/licenses/by/4.0/legalcode",
                  "_deepnote_index_column": 24
                },
                {
                  "label": "lLN1_b_R - 1610530558",
                  "symbol": "",
                  "id": "VFB_jrchk8ac",
                  "tags": "Entity|has_image|Adult|Anatomy|has_neuron_connectivity|Cell|Individual|has_region_connectivity|NBLAST|Nervous_system|Neuron",
                  "parents_label": "adult local interneuron of the lateral ALl1 neuroblast",
                  "parents_id": "FBbt_00007394",
                  "data_source": "neuprint_JRC_Hemibrain_1point1",
                  "accession": "1610530558",
                  "templates": "JRC_FlyEM_Hemibrain|JRC2018Unisex",
                  "dataset": "Xu2020NeuronsV1point1",
                  "license": "https://creativecommons.org/licenses/by/4.0/legalcode",
                  "_deepnote_index_column": 25
                },
                {
                  "label": "lLN2S(Star)_R - 1640922754",
                  "symbol": "",
                  "id": "VFB_jrchk8b8",
                  "tags": "Entity|has_image|Adult|Anatomy|has_neuron_connectivity|Cell|Individual|has_region_connectivity|NBLAST|Nervous_system|Neuron",
                  "parents_label": "adult antennal lobe lateral local neuron 2S",
                  "parents_id": "FBbt_00049815",
                  "data_source": "neuprint_JRC_Hemibrain_1point1",
                  "accession": "1640922754",
                  "templates": "JRC_FlyEM_Hemibrain|JRC2018Unisex",
                  "dataset": "Xu2020NeuronsV1point1",
                  "license": "https://creativecommons.org/licenses/by/4.0/legalcode",
                  "_deepnote_index_column": 26
                },
                {
                  "label": "lLN1_c_R - 1824101645",
                  "symbol": "",
                  "id": "VFB_jrchk8ag",
                  "tags": "Entity|has_image|Adult|Anatomy|has_neuron_connectivity|Cell|Individual|has_region_connectivity|NBLAST|Nervous_system|Neuron",
                  "parents_label": "adult local interneuron of the lateral ALl1 neuroblast",
                  "parents_id": "FBbt_00007394",
                  "data_source": "neuprint_JRC_Hemibrain_1point1",
                  "accession": "1824101645",
                  "templates": "JRC_FlyEM_Hemibrain|JRC2018Unisex",
                  "dataset": "Xu2020NeuronsV1point1",
                  "license": "https://creativecommons.org/licenses/by/4.0/legalcode",
                  "_deepnote_index_column": 27
                },
                {
                  "label": "lLN1_c_R - 1547454812",
                  "symbol": "",
                  "id": "VFB_jrchk8ai",
                  "tags": "Entity|has_image|Adult|Anatomy|has_neuron_connectivity|Cell|Individual|has_region_connectivity|NBLAST|Nervous_system|Neuron",
                  "parents_label": "adult local interneuron of the lateral ALl1 neuroblast",
                  "parents_id": "FBbt_00007394",
                  "data_source": "neuprint_JRC_Hemibrain_1point1",
                  "accession": "1547454812",
                  "templates": "JRC_FlyEM_Hemibrain|JRC2018Unisex",
                  "dataset": "Xu2020NeuronsV1point1",
                  "license": "https://creativecommons.org/licenses/by/4.0/legalcode",
                  "_deepnote_index_column": 28
                },
                {
                  "label": "lLN1_b_R - 5813069055",
                  "symbol": "",
                  "id": "VFB_jrchk8aa",
                  "tags": "Entity|has_image|Adult|Anatomy|has_neuron_connectivity|Cell|Individual|has_region_connectivity|NBLAST|Nervous_system|Neuron",
                  "parents_label": "adult local interneuron of the lateral ALl1 neuroblast",
                  "parents_id": "FBbt_00007394",
                  "data_source": "neuprint_JRC_Hemibrain_1point1",
                  "accession": "5813069055",
                  "templates": "JRC_FlyEM_Hemibrain|JRC2018Unisex",
                  "dataset": "Xu2020NeuronsV1point1",
                  "license": "https://creativecommons.org/licenses/by/4.0/legalcode",
                  "_deepnote_index_column": 29
                },
                {
                  "label": "lLN1_b_R - 1642623277",
                  "symbol": "",
                  "id": "VFB_jrchk8ad",
                  "tags": "Entity|has_image|Adult|Anatomy|has_neuron_connectivity|Cell|Individual|has_region_connectivity|NBLAST|Nervous_system|Neuron",
                  "parents_label": "adult local interneuron of the lateral ALl1 neuroblast",
                  "parents_id": "FBbt_00007394",
                  "data_source": "neuprint_JRC_Hemibrain_1point1",
                  "accession": "1642623277",
                  "templates": "JRC2018Unisex|JRC_FlyEM_Hemibrain",
                  "dataset": "Xu2020NeuronsV1point1",
                  "license": "https://creativecommons.org/licenses/by/4.0/legalcode",
                  "_deepnote_index_column": 30
                },
                {
                  "label": "lLN2T_a(Tortuous)_R - 5813054726",
                  "symbol": "",
                  "id": "VFB_jrchk8bh",
                  "tags": "Entity|has_image|Adult|Anatomy|has_neuron_connectivity|Cell|Individual|has_region_connectivity|NBLAST|Nervous_system|Neuron",
                  "parents_label": "adult antennal lobe lateral local neuron 2T",
                  "parents_id": "FBbt_00049816",
                  "data_source": "neuprint_JRC_Hemibrain_1point1",
                  "accession": "5813054726",
                  "templates": "JRC_FlyEM_Hemibrain|JRC2018Unisex",
                  "dataset": "Xu2020NeuronsV1point1",
                  "license": "https://creativecommons.org/licenses/by/4.0/legalcode",
                  "_deepnote_index_column": 31
                },
                {
                  "label": "lLN2F_b(Full)_R - 1640909284",
                  "symbol": "",
                  "id": "VFB_jrchk8am",
                  "tags": "Entity|has_image|Adult|Anatomy|has_neuron_connectivity|Cell|Individual|has_region_connectivity|NBLAST|Nervous_system|Neuron",
                  "parents_label": "adult antennal lobe lateral local neuron 2F",
                  "parents_id": "FBbt_00049812",
                  "data_source": "neuprint_JRC_Hemibrain_1point1",
                  "accession": "1640909284",
                  "templates": "JRC_FlyEM_Hemibrain|JRC2018Unisex",
                  "dataset": "Xu2020NeuronsV1point1",
                  "license": "https://creativecommons.org/licenses/by/4.0/legalcode",
                  "_deepnote_index_column": 32
                },
                {
                  "label": "lLN2F_a(Full)_R - 5901218894",
                  "symbol": "",
                  "id": "VFB_jrchk8ak",
                  "tags": "Entity|has_image|Adult|Anatomy|has_neuron_connectivity|Cell|Individual|has_region_connectivity|NBLAST|Nervous_system|Neuron",
                  "parents_label": "adult antennal lobe lateral local neuron 2F",
                  "parents_id": "FBbt_00049812",
                  "data_source": "neuprint_JRC_Hemibrain_1point1",
                  "accession": "5901218894",
                  "templates": "JRC_FlyEM_Hemibrain|JRC2018Unisex",
                  "dataset": "Xu2020NeuronsV1point1",
                  "license": "https://creativecommons.org/licenses/by/4.0/legalcode",
                  "_deepnote_index_column": 33
                },
                {
                  "label": "lLN2T_e(Tortuous)_R - 1699974843",
                  "symbol": "",
                  "id": "VFB_jrchk8br",
                  "tags": "Entity|has_image|Adult|Anatomy|has_neuron_connectivity|Cell|Individual|has_region_connectivity|NBLAST|Nervous_system|Neuron",
                  "parents_label": "adult antennal lobe lateral local neuron 2T",
                  "parents_id": "FBbt_00049816",
                  "data_source": "neuprint_JRC_Hemibrain_1point1",
                  "accession": "1699974843",
                  "templates": "JRC2018Unisex|JRC_FlyEM_Hemibrain",
                  "dataset": "Xu2020NeuronsV1point1",
                  "license": "https://creativecommons.org/licenses/by/4.0/legalcode",
                  "_deepnote_index_column": 34
                },
                {
                  "label": "lLN10_R - 1825789179",
                  "symbol": "",
                  "id": "VFB_jrchk89b",
                  "tags": "Entity|has_image|Adult|Anatomy|has_neuron_connectivity|Cell|Individual|has_region_connectivity|NBLAST|Nervous_system|Neuron",
                  "parents_label": "adult local interneuron of the lateral ALl1 neuroblast",
                  "parents_id": "FBbt_00007394",
                  "data_source": "neuprint_JRC_Hemibrain_1point1",
                  "accession": "1825789179",
                  "templates": "JRC_FlyEM_Hemibrain|JRC2018Unisex",
                  "dataset": "Xu2020NeuronsV1point1",
                  "license": "https://creativecommons.org/licenses/by/4.0/legalcode",
                  "_deepnote_index_column": 35
                },
                {
                  "label": "lLN2S(Star)_R - 1702306037",
                  "symbol": "",
                  "id": "VFB_jrchk8b7",
                  "tags": "Entity|has_image|Adult|Anatomy|has_neuron_connectivity|Cell|Individual|has_region_connectivity|NBLAST|Nervous_system|Neuron",
                  "parents_label": "adult antennal lobe lateral local neuron 2S",
                  "parents_id": "FBbt_00049815",
                  "data_source": "neuprint_JRC_Hemibrain_1point1",
                  "accession": "1702306037",
                  "templates": "JRC2018Unisex|JRC_FlyEM_Hemibrain",
                  "dataset": "Xu2020NeuronsV1point1",
                  "license": "https://creativecommons.org/licenses/by/4.0/legalcode",
                  "_deepnote_index_column": 36
                },
                {
                  "label": "lLN2S(Star)_R - 1732995501",
                  "symbol": "",
                  "id": "VFB_jrchk8ba",
                  "tags": "Entity|has_image|Adult|Anatomy|has_neuron_connectivity|Cell|Individual|has_region_connectivity|NBLAST|Nervous_system|Neuron",
                  "parents_label": "adult antennal lobe lateral local neuron 2S",
                  "parents_id": "FBbt_00049815",
                  "data_source": "neuprint_JRC_Hemibrain_1point1",
                  "accession": "1732995501",
                  "templates": "JRC_FlyEM_Hemibrain|JRC2018Unisex",
                  "dataset": "Xu2020NeuronsV1point1",
                  "license": "https://creativecommons.org/licenses/by/4.0/legalcode",
                  "_deepnote_index_column": 37
                },
                {
                  "label": "lLN2S(Star)_R - 5813069085",
                  "symbol": "",
                  "id": "VFB_jrchk8b9",
                  "tags": "Entity|has_image|Adult|Anatomy|has_neuron_connectivity|Cell|Individual|has_region_connectivity|NBLAST|Nervous_system|Neuron",
                  "parents_label": "adult antennal lobe lateral local neuron 2S",
                  "parents_id": "FBbt_00049815",
                  "data_source": "neuprint_JRC_Hemibrain_1point1",
                  "accession": "5813069085",
                  "templates": "JRC_FlyEM_Hemibrain|JRC2018Unisex",
                  "dataset": "Xu2020NeuronsV1point1",
                  "license": "https://creativecommons.org/licenses/by/4.0/legalcode",
                  "_deepnote_index_column": 38
                },
                {
                  "label": "v2LN3b_R - 1888199872",
                  "symbol": "",
                  "id": "VFB_jrchk8fg",
                  "tags": "Entity|has_image|Adult|Anatomy|has_neuron_connectivity|Cell|Individual|has_region_connectivity|NBLAST|Nervous_system|Neuron",
                  "parents_label": "local interneuron of adult antennal lobe",
                  "parents_id": "FBbt_00007390",
                  "data_source": "neuprint_JRC_Hemibrain_1point1",
                  "accession": "1888199872",
                  "templates": "JRC2018Unisex|JRC_FlyEM_Hemibrain",
                  "dataset": "Xu2020NeuronsV1point1",
                  "license": "https://creativecommons.org/licenses/by/4.0/legalcode",
                  "_deepnote_index_column": 39
                },
                {
                  "label": "lLN1_b_R - 1640887603",
                  "symbol": "",
                  "id": "VFB_jrchk8a6",
                  "tags": "Entity|has_image|Adult|Anatomy|has_neuron_connectivity|Cell|Individual|has_region_connectivity|NBLAST|Nervous_system|Neuron",
                  "parents_label": "adult local interneuron of the lateral ALl1 neuroblast",
                  "parents_id": "FBbt_00007394",
                  "data_source": "neuprint_JRC_Hemibrain_1point1",
                  "accession": "1640887603",
                  "templates": "JRC_FlyEM_Hemibrain|JRC2018Unisex",
                  "dataset": "Xu2020NeuronsV1point1",
                  "license": "https://creativecommons.org/licenses/by/4.0/legalcode",
                  "_deepnote_index_column": 40
                },
                {
                  "label": "lLN1_b_R - 5813078440",
                  "symbol": "",
                  "id": "VFB_jrchk8a7",
                  "tags": "Entity|has_image|Adult|Anatomy|has_neuron_connectivity|Cell|Individual|has_region_connectivity|NBLAST|Nervous_system|Neuron",
                  "parents_label": "adult local interneuron of the lateral ALl1 neuroblast",
                  "parents_id": "FBbt_00007394",
                  "data_source": "neuprint_JRC_Hemibrain_1point1",
                  "accession": "5813078440",
                  "templates": "JRC_FlyEM_Hemibrain|JRC2018Unisex",
                  "dataset": "Xu2020NeuronsV1point1",
                  "license": "https://creativecommons.org/licenses/by/4.0/legalcode",
                  "_deepnote_index_column": 41
                },
                {
                  "label": "lLN2T_b(Tortuous)_R - 5813034493",
                  "symbol": "",
                  "id": "VFB_jrchk8bm",
                  "tags": "Entity|has_image|Adult|Anatomy|has_neuron_connectivity|Cell|Individual|has_region_connectivity|NBLAST|Nervous_system|Neuron",
                  "parents_label": "adult antennal lobe lateral local neuron 2T",
                  "parents_id": "FBbt_00049816",
                  "data_source": "neuprint_JRC_Hemibrain_1point1",
                  "accession": "5813034493",
                  "templates": "JRC2018Unisex|JRC_FlyEM_Hemibrain",
                  "dataset": "Xu2020NeuronsV1point1",
                  "license": "https://creativecommons.org/licenses/by/4.0/legalcode",
                  "_deepnote_index_column": 42
                },
                {
                  "label": "lLN1_b_R - 5813054777",
                  "symbol": "",
                  "id": "VFB_jrchk8a9",
                  "tags": "Entity|has_image|Adult|Anatomy|has_neuron_connectivity|Cell|Individual|has_region_connectivity|NBLAST|Nervous_system|Neuron",
                  "parents_label": "adult local interneuron of the lateral ALl1 neuroblast",
                  "parents_id": "FBbt_00007394",
                  "data_source": "neuprint_JRC_Hemibrain_1point1",
                  "accession": "5813054777",
                  "templates": "JRC2018Unisex|JRC_FlyEM_Hemibrain",
                  "dataset": "Xu2020NeuronsV1point1",
                  "license": "https://creativecommons.org/licenses/by/4.0/legalcode",
                  "_deepnote_index_column": 43
                },
                {
                  "label": "v2LN30_R - 1671620613",
                  "symbol": "",
                  "id": "VFB_jrchk8e8",
                  "tags": "Entity|has_image|Adult|Anatomy|has_neuron_connectivity|Cell|Individual|has_region_connectivity|NBLAST|Nervous_system|Neuron",
                  "parents_label": "local interneuron of adult antennal lobe",
                  "parents_id": "FBbt_00007390",
                  "data_source": "neuprint_JRC_Hemibrain_1point1",
                  "accession": "1671620613",
                  "templates": "JRC_FlyEM_Hemibrain|JRC2018Unisex",
                  "dataset": "Xu2020NeuronsV1point1",
                  "license": "https://creativecommons.org/licenses/by/4.0/legalcode",
                  "_deepnote_index_column": 44
                },
                {
                  "label": "v2LN3b_R - 5813034455",
                  "symbol": "",
                  "id": "VFB_jrchk8ff",
                  "tags": "Entity|has_image|Adult|Anatomy|has_neuron_connectivity|Cell|Individual|has_region_connectivity|NBLAST|Nervous_system|Neuron",
                  "parents_label": "local interneuron of adult antennal lobe",
                  "parents_id": "FBbt_00007390",
                  "data_source": "neuprint_JRC_Hemibrain_1point1",
                  "accession": "5813034455",
                  "templates": "JRC2018Unisex|JRC_FlyEM_Hemibrain",
                  "dataset": "Xu2020NeuronsV1point1",
                  "license": "https://creativecommons.org/licenses/by/4.0/legalcode",
                  "_deepnote_index_column": 45
                },
                {
                  "label": "lLN2T_a(Tortuous)_R - 5813032595",
                  "symbol": "",
                  "id": "VFB_jrchk8bd",
                  "tags": "Entity|has_image|Adult|Anatomy|has_neuron_connectivity|Cell|Individual|has_region_connectivity|NBLAST|Nervous_system|Neuron",
                  "parents_label": "adult antennal lobe lateral local neuron 2T",
                  "parents_id": "FBbt_00049816",
                  "data_source": "neuprint_JRC_Hemibrain_1point1",
                  "accession": "5813032595",
                  "templates": "JRC2018Unisex|JRC_FlyEM_Hemibrain",
                  "dataset": "Xu2020NeuronsV1point1",
                  "license": "https://creativecommons.org/licenses/by/4.0/legalcode",
                  "_deepnote_index_column": 46
                },
                {
                  "label": "lLN2T_a(Tortuous)_R - 5813056598",
                  "symbol": "",
                  "id": "VFB_jrchk8bi",
                  "tags": "Entity|has_image|Adult|Anatomy|has_neuron_connectivity|Cell|Individual|has_region_connectivity|NBLAST|Nervous_system|Neuron",
                  "parents_label": "adult antennal lobe lateral local neuron 2T",
                  "parents_id": "FBbt_00049816",
                  "data_source": "neuprint_JRC_Hemibrain_1point1",
                  "accession": "5813056598",
                  "templates": "JRC2018Unisex|JRC_FlyEM_Hemibrain",
                  "dataset": "Xu2020NeuronsV1point1",
                  "license": "https://creativecommons.org/licenses/by/4.0/legalcode",
                  "_deepnote_index_column": 47
                },
                {
                  "label": "lLN1_b_R - 5813054725",
                  "symbol": "",
                  "id": "VFB_jrchk8ab",
                  "tags": "Entity|has_image|Adult|Anatomy|has_neuron_connectivity|Cell|Individual|has_region_connectivity|NBLAST|Nervous_system|Neuron",
                  "parents_label": "adult local interneuron of the lateral ALl1 neuroblast",
                  "parents_id": "FBbt_00007394",
                  "data_source": "neuprint_JRC_Hemibrain_1point1",
                  "accession": "5813054725",
                  "templates": "JRC2018Unisex|JRC_FlyEM_Hemibrain",
                  "dataset": "Xu2020NeuronsV1point1",
                  "license": "https://creativecommons.org/licenses/by/4.0/legalcode",
                  "_deepnote_index_column": 48
                },
                {
                  "label": "lLN2P_b(Patchy)_R - 1946178096",
                  "symbol": "",
                  "id": "VFB_jrchk8au",
                  "tags": "Entity|has_image|Adult|Anatomy|has_neuron_connectivity|Cell|Individual|has_region_connectivity|NBLAST|Nervous_system|Neuron",
                  "parents_label": "adult antennal lobe lateral local neuron 2P",
                  "parents_id": "FBbt_00049813",
                  "data_source": "neuprint_JRC_Hemibrain_1point1",
                  "accession": "1946178096",
                  "templates": "JRC2018Unisex|JRC_FlyEM_Hemibrain",
                  "dataset": "Xu2020NeuronsV1point1",
                  "license": "https://creativecommons.org/licenses/by/4.0/legalcode",
                  "_deepnote_index_column": 49
                },
                {
                  "label": "lLN2T_a(Tortuous)_R - 5813055277",
                  "symbol": "",
                  "id": "VFB_jrchk8bf",
                  "tags": "Entity|has_image|Adult|Anatomy|has_neuron_connectivity|Cell|Individual|has_region_connectivity|NBLAST|Nervous_system|Neuron",
                  "parents_label": "adult antennal lobe lateral local neuron 2T",
                  "parents_id": "FBbt_00049816",
                  "data_source": "neuprint_JRC_Hemibrain_1point1",
                  "accession": "5813055277",
                  "templates": "JRC_FlyEM_Hemibrain|JRC2018Unisex",
                  "dataset": "Xu2020NeuronsV1point1",
                  "license": "https://creativecommons.org/licenses/by/4.0/legalcode",
                  "_deepnote_index_column": 50
                },
                {
                  "label": "l2LN18_R - 5813054773",
                  "symbol": "",
                  "id": "VFB_jrchk891",
                  "tags": "Entity|has_image|Adult|Anatomy|has_neuron_connectivity|Cell|Individual|has_region_connectivity|NBLAST|Nervous_system|Neuron",
                  "parents_label": "local interneuron of adult antennal lobe",
                  "parents_id": "FBbt_00007390",
                  "data_source": "neuprint_JRC_Hemibrain_1point1",
                  "accession": "5813054773",
                  "templates": "JRC_FlyEM_Hemibrain|JRC2018Unisex",
                  "dataset": "Xu2020NeuronsV1point1",
                  "license": "https://creativecommons.org/licenses/by/4.0/legalcode",
                  "_deepnote_index_column": 51
                },
                {
                  "label": "lLN2T_a(Tortuous)_R - 1762354941",
                  "symbol": "",
                  "id": "VFB_jrchk8bg",
                  "tags": "Entity|has_image|Adult|Anatomy|has_neuron_connectivity|Cell|Individual|has_region_connectivity|NBLAST|Nervous_system|Neuron",
                  "parents_label": "adult antennal lobe lateral local neuron 2T",
                  "parents_id": "FBbt_00049816",
                  "data_source": "neuprint_JRC_Hemibrain_1point1",
                  "accession": "1762354941",
                  "templates": "JRC_FlyEM_Hemibrain|JRC2018Unisex",
                  "dataset": "Xu2020NeuronsV1point1",
                  "license": "https://creativecommons.org/licenses/by/4.0/legalcode",
                  "_deepnote_index_column": 52
                }
              ],
              "rows_bottom": null
            },
            "text/plain": "                               label symbol            id  \\\n0              lLN16b_R - 1887168462         VFB_jrchk89w   \n1              lLN1_c_R - 5813047691         VFB_jrchk8ae   \n2         lLN2S(Star)_R - 1670627928         VFB_jrchk8bb   \n3       lLN2F_b(Full)_R - 5813024698         VFB_jrchk8an   \n4   lLN2T_c(Tortuous)_R - 1671292719         VFB_jrchk8bo   \n5              lLN1_c_R - 5813062199         VFB_jrchk8af   \n6              lLN1_a_R - 5813130064         VFB_jrchk8a4   \n7              lLN1_c_R - 1702651358         VFB_jrchk8aj   \n8   lLN2T_e(Tortuous)_R - 1640922516         VFB_jrchk8bs   \n9               lLN11_R - 1670278227         VFB_jrchk89e   \n10    lLN2P_c(Patchy)_R - 2105086391         VFB_jrchk8b0   \n11  lLN2T_b(Tortuous)_R - 1640572741         VFB_jrchk8bl   \n12             lLN1_c_R - 1578826464         VFB_jrchk8ah   \n13    lLN2P_a(Patchy)_R - 2041621893         VFB_jrchk8ao   \n14        lLN2S(Star)_R - 1762359683         VFB_jrchk8bc   \n15             lLN1_b_R - 5813054622         VFB_jrchk8a8   \n16      lLN2F_a(Full)_R - 1670287030         VFB_jrchk8al   \n17             lLN12a_R - 1826445251         VFB_jrchk89g   \n18              lLN11_R - 2040301572         VFB_jrchk89d   \n19             il3LN6_R - 5813018460         VFB_jrchk88v   \n20  lLN2R_b(Regional)_R - 5813076969         VFB_jrchk8b6   \n21             lLN16a_R - 1702318692         VFB_jrchk89t   \n22  lLN2T_d(Tortuous)_R - 1667251683         VFB_jrchk8bp   \n23  lLN2R_b(Regional)_R - 1702305987         VFB_jrchk8b5   \n24             v2LN35_R - 1733056086         VFB_jrchk8ew   \n25             lLN1_b_R - 1610530558         VFB_jrchk8ac   \n26        lLN2S(Star)_R - 1640922754         VFB_jrchk8b8   \n27             lLN1_c_R - 1824101645         VFB_jrchk8ag   \n28             lLN1_c_R - 1547454812         VFB_jrchk8ai   \n29             lLN1_b_R - 5813069055         VFB_jrchk8aa   \n30             lLN1_b_R - 1642623277         VFB_jrchk8ad   \n31  lLN2T_a(Tortuous)_R - 5813054726         VFB_jrchk8bh   \n32      lLN2F_b(Full)_R - 1640909284         VFB_jrchk8am   \n33      lLN2F_a(Full)_R - 5901218894         VFB_jrchk8ak   \n34  lLN2T_e(Tortuous)_R - 1699974843         VFB_jrchk8br   \n35              lLN10_R - 1825789179         VFB_jrchk89b   \n36        lLN2S(Star)_R - 1702306037         VFB_jrchk8b7   \n37        lLN2S(Star)_R - 1732995501         VFB_jrchk8ba   \n38        lLN2S(Star)_R - 5813069085         VFB_jrchk8b9   \n39             v2LN3b_R - 1888199872         VFB_jrchk8fg   \n40             lLN1_b_R - 1640887603         VFB_jrchk8a6   \n41             lLN1_b_R - 5813078440         VFB_jrchk8a7   \n42  lLN2T_b(Tortuous)_R - 5813034493         VFB_jrchk8bm   \n43             lLN1_b_R - 5813054777         VFB_jrchk8a9   \n44             v2LN30_R - 1671620613         VFB_jrchk8e8   \n45             v2LN3b_R - 5813034455         VFB_jrchk8ff   \n46  lLN2T_a(Tortuous)_R - 5813032595         VFB_jrchk8bd   \n47  lLN2T_a(Tortuous)_R - 5813056598         VFB_jrchk8bi   \n48             lLN1_b_R - 5813054725         VFB_jrchk8ab   \n49    lLN2P_b(Patchy)_R - 1946178096         VFB_jrchk8au   \n50  lLN2T_a(Tortuous)_R - 5813055277         VFB_jrchk8bf   \n51             l2LN18_R - 5813054773         VFB_jrchk891   \n52  lLN2T_a(Tortuous)_R - 1762354941         VFB_jrchk8bg   \n\n                                                 tags  \\\n0   Entity|has_image|Adult|Anatomy|has_neuron_conn...   \n1   Entity|has_image|Adult|Anatomy|has_neuron_conn...   \n2   Entity|has_image|Adult|Anatomy|has_neuron_conn...   \n3   Entity|has_image|Adult|Anatomy|has_neuron_conn...   \n4   Entity|has_image|Adult|Anatomy|has_neuron_conn...   \n5   Entity|has_image|Adult|Anatomy|has_neuron_conn...   \n6   Entity|has_image|Adult|Anatomy|has_neuron_conn...   \n7   Entity|has_image|Adult|Anatomy|has_neuron_conn...   \n8   Entity|has_image|Adult|Anatomy|has_neuron_conn...   \n9   Entity|has_image|Adult|Anatomy|has_neuron_conn...   \n10  Entity|has_image|Adult|Anatomy|has_neuron_conn...   \n11  Entity|has_image|Adult|Anatomy|has_neuron_conn...   \n12  Entity|has_image|Adult|Anatomy|has_neuron_conn...   \n13  Entity|has_image|Adult|Anatomy|has_neuron_conn...   \n14  Entity|has_image|Adult|Anatomy|has_neuron_conn...   \n15  Entity|has_image|Adult|Anatomy|has_neuron_conn...   \n16  Entity|has_image|Adult|Anatomy|has_neuron_conn...   \n17  Entity|has_image|Adult|Anatomy|has_neuron_conn...   \n18  Entity|has_image|Adult|Anatomy|has_neuron_conn...   \n19  Entity|has_image|Adult|Anatomy|has_neuron_conn...   \n20  Entity|has_image|Adult|Anatomy|has_neuron_conn...   \n21  Entity|has_image|Adult|Anatomy|has_neuron_conn...   \n22  Entity|has_image|Adult|Anatomy|has_neuron_conn...   \n23  Entity|has_image|Adult|Anatomy|has_neuron_conn...   \n24  Entity|has_image|Adult|Anatomy|has_neuron_conn...   \n25  Entity|has_image|Adult|Anatomy|has_neuron_conn...   \n26  Entity|has_image|Adult|Anatomy|has_neuron_conn...   \n27  Entity|has_image|Adult|Anatomy|has_neuron_conn...   \n28  Entity|has_image|Adult|Anatomy|has_neuron_conn...   \n29  Entity|has_image|Adult|Anatomy|has_neuron_conn...   \n30  Entity|has_image|Adult|Anatomy|has_neuron_conn...   \n31  Entity|has_image|Adult|Anatomy|has_neuron_conn...   \n32  Entity|has_image|Adult|Anatomy|has_neuron_conn...   \n33  Entity|has_image|Adult|Anatomy|has_neuron_conn...   \n34  Entity|has_image|Adult|Anatomy|has_neuron_conn...   \n35  Entity|has_image|Adult|Anatomy|has_neuron_conn...   \n36  Entity|has_image|Adult|Anatomy|has_neuron_conn...   \n37  Entity|has_image|Adult|Anatomy|has_neuron_conn...   \n38  Entity|has_image|Adult|Anatomy|has_neuron_conn...   \n39  Entity|has_image|Adult|Anatomy|has_neuron_conn...   \n40  Entity|has_image|Adult|Anatomy|has_neuron_conn...   \n41  Entity|has_image|Adult|Anatomy|has_neuron_conn...   \n42  Entity|has_image|Adult|Anatomy|has_neuron_conn...   \n43  Entity|has_image|Adult|Anatomy|has_neuron_conn...   \n44  Entity|has_image|Adult|Anatomy|has_neuron_conn...   \n45  Entity|has_image|Adult|Anatomy|has_neuron_conn...   \n46  Entity|has_image|Adult|Anatomy|has_neuron_conn...   \n47  Entity|has_image|Adult|Anatomy|has_neuron_conn...   \n48  Entity|has_image|Adult|Anatomy|has_neuron_conn...   \n49  Entity|has_image|Adult|Anatomy|has_neuron_conn...   \n50  Entity|has_image|Adult|Anatomy|has_neuron_conn...   \n51  Entity|has_image|Adult|Anatomy|has_neuron_conn...   \n52  Entity|has_image|Adult|Anatomy|has_neuron_conn...   \n\n                                        parents_label     parents_id  \\\n0   adult local interneuron of the lateral ALl1 ne...  FBbt_00007394   \n1   adult local interneuron of the lateral ALl1 ne...  FBbt_00007394   \n2         adult antennal lobe lateral local neuron 2S  FBbt_00049815   \n3         adult antennal lobe lateral local neuron 2F  FBbt_00049812   \n4         adult antennal lobe lateral local neuron 2T  FBbt_00049816   \n5   adult local interneuron of the lateral ALl1 ne...  FBbt_00007394   \n6   adult local interneuron of the lateral ALl1 ne...  FBbt_00007394   \n7   adult local interneuron of the lateral ALl1 ne...  FBbt_00007394   \n8         adult antennal lobe lateral local neuron 2T  FBbt_00049816   \n9   adult local interneuron of the lateral ALl1 ne...  FBbt_00007394   \n10        adult antennal lobe lateral local neuron 2P  FBbt_00049813   \n11        adult antennal lobe lateral local neuron 2T  FBbt_00049816   \n12  adult local interneuron of the lateral ALl1 ne...  FBbt_00007394   \n13        adult antennal lobe lateral local neuron 2P  FBbt_00049813   \n14        adult antennal lobe lateral local neuron 2S  FBbt_00049815   \n15  adult local interneuron of the lateral ALl1 ne...  FBbt_00007394   \n16        adult antennal lobe lateral local neuron 2F  FBbt_00049812   \n17  adult local interneuron of the lateral ALl1 ne...  FBbt_00007394   \n18  adult local interneuron of the lateral ALl1 ne...  FBbt_00007394   \n19           local interneuron of adult antennal lobe  FBbt_00007390   \n20        adult antennal lobe lateral local neuron 2R  FBbt_00049814   \n21  adult local interneuron of the lateral ALl1 ne...  FBbt_00007394   \n22        adult antennal lobe lateral local neuron 2T  FBbt_00049816   \n23        adult antennal lobe lateral local neuron 2R  FBbt_00049814   \n24           local interneuron of adult antennal lobe  FBbt_00007390   \n25  adult local interneuron of the lateral ALl1 ne...  FBbt_00007394   \n26        adult antennal lobe lateral local neuron 2S  FBbt_00049815   \n27  adult local interneuron of the lateral ALl1 ne...  FBbt_00007394   \n28  adult local interneuron of the lateral ALl1 ne...  FBbt_00007394   \n29  adult local interneuron of the lateral ALl1 ne...  FBbt_00007394   \n30  adult local interneuron of the lateral ALl1 ne...  FBbt_00007394   \n31        adult antennal lobe lateral local neuron 2T  FBbt_00049816   \n32        adult antennal lobe lateral local neuron 2F  FBbt_00049812   \n33        adult antennal lobe lateral local neuron 2F  FBbt_00049812   \n34        adult antennal lobe lateral local neuron 2T  FBbt_00049816   \n35  adult local interneuron of the lateral ALl1 ne...  FBbt_00007394   \n36        adult antennal lobe lateral local neuron 2S  FBbt_00049815   \n37        adult antennal lobe lateral local neuron 2S  FBbt_00049815   \n38        adult antennal lobe lateral local neuron 2S  FBbt_00049815   \n39           local interneuron of adult antennal lobe  FBbt_00007390   \n40  adult local interneuron of the lateral ALl1 ne...  FBbt_00007394   \n41  adult local interneuron of the lateral ALl1 ne...  FBbt_00007394   \n42        adult antennal lobe lateral local neuron 2T  FBbt_00049816   \n43  adult local interneuron of the lateral ALl1 ne...  FBbt_00007394   \n44           local interneuron of adult antennal lobe  FBbt_00007390   \n45           local interneuron of adult antennal lobe  FBbt_00007390   \n46        adult antennal lobe lateral local neuron 2T  FBbt_00049816   \n47        adult antennal lobe lateral local neuron 2T  FBbt_00049816   \n48  adult local interneuron of the lateral ALl1 ne...  FBbt_00007394   \n49        adult antennal lobe lateral local neuron 2P  FBbt_00049813   \n50        adult antennal lobe lateral local neuron 2T  FBbt_00049816   \n51           local interneuron of adult antennal lobe  FBbt_00007390   \n52        adult antennal lobe lateral local neuron 2T  FBbt_00049816   \n\n                       data_source   accession  \\\n0   neuprint_JRC_Hemibrain_1point1  1887168462   \n1   neuprint_JRC_Hemibrain_1point1  5813047691   \n2   neuprint_JRC_Hemibrain_1point1  1670627928   \n3   neuprint_JRC_Hemibrain_1point1  5813024698   \n4   neuprint_JRC_Hemibrain_1point1  1671292719   \n5   neuprint_JRC_Hemibrain_1point1  5813062199   \n6   neuprint_JRC_Hemibrain_1point1  5813130064   \n7   neuprint_JRC_Hemibrain_1point1  1702651358   \n8   neuprint_JRC_Hemibrain_1point1  1640922516   \n9   neuprint_JRC_Hemibrain_1point1  1670278227   \n10  neuprint_JRC_Hemibrain_1point1  2105086391   \n11  neuprint_JRC_Hemibrain_1point1  1640572741   \n12  neuprint_JRC_Hemibrain_1point1  1578826464   \n13  neuprint_JRC_Hemibrain_1point1  2041621893   \n14  neuprint_JRC_Hemibrain_1point1  1762359683   \n15  neuprint_JRC_Hemibrain_1point1  5813054622   \n16  neuprint_JRC_Hemibrain_1point1  1670287030   \n17  neuprint_JRC_Hemibrain_1point1  1826445251   \n18  neuprint_JRC_Hemibrain_1point1  2040301572   \n19  neuprint_JRC_Hemibrain_1point1  5813018460   \n20  neuprint_JRC_Hemibrain_1point1  5813076969   \n21  neuprint_JRC_Hemibrain_1point1  1702318692   \n22  neuprint_JRC_Hemibrain_1point1  1667251683   \n23  neuprint_JRC_Hemibrain_1point1  1702305987   \n24  neuprint_JRC_Hemibrain_1point1  1733056086   \n25  neuprint_JRC_Hemibrain_1point1  1610530558   \n26  neuprint_JRC_Hemibrain_1point1  1640922754   \n27  neuprint_JRC_Hemibrain_1point1  1824101645   \n28  neuprint_JRC_Hemibrain_1point1  1547454812   \n29  neuprint_JRC_Hemibrain_1point1  5813069055   \n30  neuprint_JRC_Hemibrain_1point1  1642623277   \n31  neuprint_JRC_Hemibrain_1point1  5813054726   \n32  neuprint_JRC_Hemibrain_1point1  1640909284   \n33  neuprint_JRC_Hemibrain_1point1  5901218894   \n34  neuprint_JRC_Hemibrain_1point1  1699974843   \n35  neuprint_JRC_Hemibrain_1point1  1825789179   \n36  neuprint_JRC_Hemibrain_1point1  1702306037   \n37  neuprint_JRC_Hemibrain_1point1  1732995501   \n38  neuprint_JRC_Hemibrain_1point1  5813069085   \n39  neuprint_JRC_Hemibrain_1point1  1888199872   \n40  neuprint_JRC_Hemibrain_1point1  1640887603   \n41  neuprint_JRC_Hemibrain_1point1  5813078440   \n42  neuprint_JRC_Hemibrain_1point1  5813034493   \n43  neuprint_JRC_Hemibrain_1point1  5813054777   \n44  neuprint_JRC_Hemibrain_1point1  1671620613   \n45  neuprint_JRC_Hemibrain_1point1  5813034455   \n46  neuprint_JRC_Hemibrain_1point1  5813032595   \n47  neuprint_JRC_Hemibrain_1point1  5813056598   \n48  neuprint_JRC_Hemibrain_1point1  5813054725   \n49  neuprint_JRC_Hemibrain_1point1  1946178096   \n50  neuprint_JRC_Hemibrain_1point1  5813055277   \n51  neuprint_JRC_Hemibrain_1point1  5813054773   \n52  neuprint_JRC_Hemibrain_1point1  1762354941   \n\n                            templates                dataset  \\\n0   JRC_FlyEM_Hemibrain|JRC2018Unisex  Xu2020NeuronsV1point1   \n1   JRC_FlyEM_Hemibrain|JRC2018Unisex  Xu2020NeuronsV1point1   \n2   JRC2018Unisex|JRC_FlyEM_Hemibrain  Xu2020NeuronsV1point1   \n3   JRC_FlyEM_Hemibrain|JRC2018Unisex  Xu2020NeuronsV1point1   \n4   JRC_FlyEM_Hemibrain|JRC2018Unisex  Xu2020NeuronsV1point1   \n5   JRC2018Unisex|JRC_FlyEM_Hemibrain  Xu2020NeuronsV1point1   \n6   JRC2018Unisex|JRC_FlyEM_Hemibrain  Xu2020NeuronsV1point1   \n7   JRC_FlyEM_Hemibrain|JRC2018Unisex  Xu2020NeuronsV1point1   \n8   JRC2018Unisex|JRC_FlyEM_Hemibrain  Xu2020NeuronsV1point1   \n9   JRC_FlyEM_Hemibrain|JRC2018Unisex  Xu2020NeuronsV1point1   \n10  JRC_FlyEM_Hemibrain|JRC2018Unisex  Xu2020NeuronsV1point1   \n11  JRC2018Unisex|JRC_FlyEM_Hemibrain  Xu2020NeuronsV1point1   \n12  JRC_FlyEM_Hemibrain|JRC2018Unisex  Xu2020NeuronsV1point1   \n13  JRC_FlyEM_Hemibrain|JRC2018Unisex  Xu2020NeuronsV1point1   \n14  JRC2018Unisex|JRC_FlyEM_Hemibrain  Xu2020NeuronsV1point1   \n15  JRC2018Unisex|JRC_FlyEM_Hemibrain  Xu2020NeuronsV1point1   \n16  JRC2018Unisex|JRC_FlyEM_Hemibrain  Xu2020NeuronsV1point1   \n17  JRC2018Unisex|JRC_FlyEM_Hemibrain  Xu2020NeuronsV1point1   \n18  JRC2018Unisex|JRC_FlyEM_Hemibrain  Xu2020NeuronsV1point1   \n19  JRC_FlyEM_Hemibrain|JRC2018Unisex  Xu2020NeuronsV1point1   \n20  JRC_FlyEM_Hemibrain|JRC2018Unisex  Xu2020NeuronsV1point1   \n21  JRC_FlyEM_Hemibrain|JRC2018Unisex  Xu2020NeuronsV1point1   \n22  JRC_FlyEM_Hemibrain|JRC2018Unisex  Xu2020NeuronsV1point1   \n23  JRC2018Unisex|JRC_FlyEM_Hemibrain  Xu2020NeuronsV1point1   \n24  JRC2018Unisex|JRC_FlyEM_Hemibrain  Xu2020NeuronsV1point1   \n25  JRC_FlyEM_Hemibrain|JRC2018Unisex  Xu2020NeuronsV1point1   \n26  JRC_FlyEM_Hemibrain|JRC2018Unisex  Xu2020NeuronsV1point1   \n27  JRC_FlyEM_Hemibrain|JRC2018Unisex  Xu2020NeuronsV1point1   \n28  JRC_FlyEM_Hemibrain|JRC2018Unisex  Xu2020NeuronsV1point1   \n29  JRC_FlyEM_Hemibrain|JRC2018Unisex  Xu2020NeuronsV1point1   \n30  JRC2018Unisex|JRC_FlyEM_Hemibrain  Xu2020NeuronsV1point1   \n31  JRC_FlyEM_Hemibrain|JRC2018Unisex  Xu2020NeuronsV1point1   \n32  JRC_FlyEM_Hemibrain|JRC2018Unisex  Xu2020NeuronsV1point1   \n33  JRC_FlyEM_Hemibrain|JRC2018Unisex  Xu2020NeuronsV1point1   \n34  JRC2018Unisex|JRC_FlyEM_Hemibrain  Xu2020NeuronsV1point1   \n35  JRC_FlyEM_Hemibrain|JRC2018Unisex  Xu2020NeuronsV1point1   \n36  JRC2018Unisex|JRC_FlyEM_Hemibrain  Xu2020NeuronsV1point1   \n37  JRC_FlyEM_Hemibrain|JRC2018Unisex  Xu2020NeuronsV1point1   \n38  JRC_FlyEM_Hemibrain|JRC2018Unisex  Xu2020NeuronsV1point1   \n39  JRC2018Unisex|JRC_FlyEM_Hemibrain  Xu2020NeuronsV1point1   \n40  JRC_FlyEM_Hemibrain|JRC2018Unisex  Xu2020NeuronsV1point1   \n41  JRC_FlyEM_Hemibrain|JRC2018Unisex  Xu2020NeuronsV1point1   \n42  JRC2018Unisex|JRC_FlyEM_Hemibrain  Xu2020NeuronsV1point1   \n43  JRC2018Unisex|JRC_FlyEM_Hemibrain  Xu2020NeuronsV1point1   \n44  JRC_FlyEM_Hemibrain|JRC2018Unisex  Xu2020NeuronsV1point1   \n45  JRC2018Unisex|JRC_FlyEM_Hemibrain  Xu2020NeuronsV1point1   \n46  JRC2018Unisex|JRC_FlyEM_Hemibrain  Xu2020NeuronsV1point1   \n47  JRC2018Unisex|JRC_FlyEM_Hemibrain  Xu2020NeuronsV1point1   \n48  JRC2018Unisex|JRC_FlyEM_Hemibrain  Xu2020NeuronsV1point1   \n49  JRC2018Unisex|JRC_FlyEM_Hemibrain  Xu2020NeuronsV1point1   \n50  JRC_FlyEM_Hemibrain|JRC2018Unisex  Xu2020NeuronsV1point1   \n51  JRC_FlyEM_Hemibrain|JRC2018Unisex  Xu2020NeuronsV1point1   \n52  JRC_FlyEM_Hemibrain|JRC2018Unisex  Xu2020NeuronsV1point1   \n\n                                              license  \n0   https://creativecommons.org/licenses/by/4.0/le...  \n1   https://creativecommons.org/licenses/by/4.0/le...  \n2   https://creativecommons.org/licenses/by/4.0/le...  \n3   https://creativecommons.org/licenses/by/4.0/le...  \n4   https://creativecommons.org/licenses/by/4.0/le...  \n5   https://creativecommons.org/licenses/by/4.0/le...  \n6   https://creativecommons.org/licenses/by/4.0/le...  \n7   https://creativecommons.org/licenses/by/4.0/le...  \n8   https://creativecommons.org/licenses/by/4.0/le...  \n9   https://creativecommons.org/licenses/by/4.0/le...  \n10  https://creativecommons.org/licenses/by/4.0/le...  \n11  https://creativecommons.org/licenses/by/4.0/le...  \n12  https://creativecommons.org/licenses/by/4.0/le...  \n13  https://creativecommons.org/licenses/by/4.0/le...  \n14  https://creativecommons.org/licenses/by/4.0/le...  \n15  https://creativecommons.org/licenses/by/4.0/le...  \n16  https://creativecommons.org/licenses/by/4.0/le...  \n17  https://creativecommons.org/licenses/by/4.0/le...  \n18  https://creativecommons.org/licenses/by/4.0/le...  \n19  https://creativecommons.org/licenses/by/4.0/le...  \n20  https://creativecommons.org/licenses/by/4.0/le...  \n21  https://creativecommons.org/licenses/by/4.0/le...  \n22  https://creativecommons.org/licenses/by/4.0/le...  \n23  https://creativecommons.org/licenses/by/4.0/le...  \n24  https://creativecommons.org/licenses/by/4.0/le...  \n25  https://creativecommons.org/licenses/by/4.0/le...  \n26  https://creativecommons.org/licenses/by/4.0/le...  \n27  https://creativecommons.org/licenses/by/4.0/le...  \n28  https://creativecommons.org/licenses/by/4.0/le...  \n29  https://creativecommons.org/licenses/by/4.0/le...  \n30  https://creativecommons.org/licenses/by/4.0/le...  \n31  https://creativecommons.org/licenses/by/4.0/le...  \n32  https://creativecommons.org/licenses/by/4.0/le...  \n33  https://creativecommons.org/licenses/by/4.0/le...  \n34  https://creativecommons.org/licenses/by/4.0/le...  \n35  https://creativecommons.org/licenses/by/4.0/le...  \n36  https://creativecommons.org/licenses/by/4.0/le...  \n37  https://creativecommons.org/licenses/by/4.0/le...  \n38  https://creativecommons.org/licenses/by/4.0/le...  \n39  https://creativecommons.org/licenses/by/4.0/le...  \n40  https://creativecommons.org/licenses/by/4.0/le...  \n41  https://creativecommons.org/licenses/by/4.0/le...  \n42  https://creativecommons.org/licenses/by/4.0/le...  \n43  https://creativecommons.org/licenses/by/4.0/le...  \n44  https://creativecommons.org/licenses/by/4.0/le...  \n45  https://creativecommons.org/licenses/by/4.0/le...  \n46  https://creativecommons.org/licenses/by/4.0/le...  \n47  https://creativecommons.org/licenses/by/4.0/le...  \n48  https://creativecommons.org/licenses/by/4.0/le...  \n49  https://creativecommons.org/licenses/by/4.0/le...  \n50  https://creativecommons.org/licenses/by/4.0/le...  \n51  https://creativecommons.org/licenses/by/4.0/le...  \n52  https://creativecommons.org/licenses/by/4.0/le...  ",
            "text/html": "<div>\n<style scoped>\n    .dataframe tbody tr th:only-of-type {\n        vertical-align: middle;\n    }\n\n    .dataframe tbody tr th {\n        vertical-align: top;\n    }\n\n    .dataframe thead th {\n        text-align: right;\n    }\n</style>\n<table border=\"1\" class=\"dataframe\">\n  <thead>\n    <tr style=\"text-align: right;\">\n      <th></th>\n      <th>label</th>\n      <th>symbol</th>\n      <th>id</th>\n      <th>tags</th>\n      <th>parents_label</th>\n      <th>parents_id</th>\n      <th>data_source</th>\n      <th>accession</th>\n      <th>templates</th>\n      <th>dataset</th>\n      <th>license</th>\n    </tr>\n  </thead>\n  <tbody>\n    <tr>\n      <th>0</th>\n      <td>lLN16b_R - 1887168462</td>\n      <td></td>\n      <td>VFB_jrchk89w</td>\n      <td>Entity|has_image|Adult|Anatomy|has_neuron_conn...</td>\n      <td>adult local interneuron of the lateral ALl1 ne...</td>\n      <td>FBbt_00007394</td>\n      <td>neuprint_JRC_Hemibrain_1point1</td>\n      <td>1887168462</td>\n      <td>JRC_FlyEM_Hemibrain|JRC2018Unisex</td>\n      <td>Xu2020NeuronsV1point1</td>\n      <td>https://creativecommons.org/licenses/by/4.0/le...</td>\n    </tr>\n    <tr>\n      <th>1</th>\n      <td>lLN1_c_R - 5813047691</td>\n      <td></td>\n      <td>VFB_jrchk8ae</td>\n      <td>Entity|has_image|Adult|Anatomy|has_neuron_conn...</td>\n      <td>adult local interneuron of the lateral ALl1 ne...</td>\n      <td>FBbt_00007394</td>\n      <td>neuprint_JRC_Hemibrain_1point1</td>\n      <td>5813047691</td>\n      <td>JRC_FlyEM_Hemibrain|JRC2018Unisex</td>\n      <td>Xu2020NeuronsV1point1</td>\n      <td>https://creativecommons.org/licenses/by/4.0/le...</td>\n    </tr>\n    <tr>\n      <th>2</th>\n      <td>lLN2S(Star)_R - 1670627928</td>\n      <td></td>\n      <td>VFB_jrchk8bb</td>\n      <td>Entity|has_image|Adult|Anatomy|has_neuron_conn...</td>\n      <td>adult antennal lobe lateral local neuron 2S</td>\n      <td>FBbt_00049815</td>\n      <td>neuprint_JRC_Hemibrain_1point1</td>\n      <td>1670627928</td>\n      <td>JRC2018Unisex|JRC_FlyEM_Hemibrain</td>\n      <td>Xu2020NeuronsV1point1</td>\n      <td>https://creativecommons.org/licenses/by/4.0/le...</td>\n    </tr>\n    <tr>\n      <th>3</th>\n      <td>lLN2F_b(Full)_R - 5813024698</td>\n      <td></td>\n      <td>VFB_jrchk8an</td>\n      <td>Entity|has_image|Adult|Anatomy|has_neuron_conn...</td>\n      <td>adult antennal lobe lateral local neuron 2F</td>\n      <td>FBbt_00049812</td>\n      <td>neuprint_JRC_Hemibrain_1point1</td>\n      <td>5813024698</td>\n      <td>JRC_FlyEM_Hemibrain|JRC2018Unisex</td>\n      <td>Xu2020NeuronsV1point1</td>\n      <td>https://creativecommons.org/licenses/by/4.0/le...</td>\n    </tr>\n    <tr>\n      <th>4</th>\n      <td>lLN2T_c(Tortuous)_R - 1671292719</td>\n      <td></td>\n      <td>VFB_jrchk8bo</td>\n      <td>Entity|has_image|Adult|Anatomy|has_neuron_conn...</td>\n      <td>adult antennal lobe lateral local neuron 2T</td>\n      <td>FBbt_00049816</td>\n      <td>neuprint_JRC_Hemibrain_1point1</td>\n      <td>1671292719</td>\n      <td>JRC_FlyEM_Hemibrain|JRC2018Unisex</td>\n      <td>Xu2020NeuronsV1point1</td>\n      <td>https://creativecommons.org/licenses/by/4.0/le...</td>\n    </tr>\n    <tr>\n      <th>5</th>\n      <td>lLN1_c_R - 5813062199</td>\n      <td></td>\n      <td>VFB_jrchk8af</td>\n      <td>Entity|has_image|Adult|Anatomy|has_neuron_conn...</td>\n      <td>adult local interneuron of the lateral ALl1 ne...</td>\n      <td>FBbt_00007394</td>\n      <td>neuprint_JRC_Hemibrain_1point1</td>\n      <td>5813062199</td>\n      <td>JRC2018Unisex|JRC_FlyEM_Hemibrain</td>\n      <td>Xu2020NeuronsV1point1</td>\n      <td>https://creativecommons.org/licenses/by/4.0/le...</td>\n    </tr>\n    <tr>\n      <th>6</th>\n      <td>lLN1_a_R - 5813130064</td>\n      <td></td>\n      <td>VFB_jrchk8a4</td>\n      <td>Entity|has_image|Adult|Anatomy|has_neuron_conn...</td>\n      <td>adult local interneuron of the lateral ALl1 ne...</td>\n      <td>FBbt_00007394</td>\n      <td>neuprint_JRC_Hemibrain_1point1</td>\n      <td>5813130064</td>\n      <td>JRC2018Unisex|JRC_FlyEM_Hemibrain</td>\n      <td>Xu2020NeuronsV1point1</td>\n      <td>https://creativecommons.org/licenses/by/4.0/le...</td>\n    </tr>\n    <tr>\n      <th>7</th>\n      <td>lLN1_c_R - 1702651358</td>\n      <td></td>\n      <td>VFB_jrchk8aj</td>\n      <td>Entity|has_image|Adult|Anatomy|has_neuron_conn...</td>\n      <td>adult local interneuron of the lateral ALl1 ne...</td>\n      <td>FBbt_00007394</td>\n      <td>neuprint_JRC_Hemibrain_1point1</td>\n      <td>1702651358</td>\n      <td>JRC_FlyEM_Hemibrain|JRC2018Unisex</td>\n      <td>Xu2020NeuronsV1point1</td>\n      <td>https://creativecommons.org/licenses/by/4.0/le...</td>\n    </tr>\n    <tr>\n      <th>8</th>\n      <td>lLN2T_e(Tortuous)_R - 1640922516</td>\n      <td></td>\n      <td>VFB_jrchk8bs</td>\n      <td>Entity|has_image|Adult|Anatomy|has_neuron_conn...</td>\n      <td>adult antennal lobe lateral local neuron 2T</td>\n      <td>FBbt_00049816</td>\n      <td>neuprint_JRC_Hemibrain_1point1</td>\n      <td>1640922516</td>\n      <td>JRC2018Unisex|JRC_FlyEM_Hemibrain</td>\n      <td>Xu2020NeuronsV1point1</td>\n      <td>https://creativecommons.org/licenses/by/4.0/le...</td>\n    </tr>\n    <tr>\n      <th>9</th>\n      <td>lLN11_R - 1670278227</td>\n      <td></td>\n      <td>VFB_jrchk89e</td>\n      <td>Entity|has_image|Adult|Anatomy|has_neuron_conn...</td>\n      <td>adult local interneuron of the lateral ALl1 ne...</td>\n      <td>FBbt_00007394</td>\n      <td>neuprint_JRC_Hemibrain_1point1</td>\n      <td>1670278227</td>\n      <td>JRC_FlyEM_Hemibrain|JRC2018Unisex</td>\n      <td>Xu2020NeuronsV1point1</td>\n      <td>https://creativecommons.org/licenses/by/4.0/le...</td>\n    </tr>\n    <tr>\n      <th>10</th>\n      <td>lLN2P_c(Patchy)_R - 2105086391</td>\n      <td></td>\n      <td>VFB_jrchk8b0</td>\n      <td>Entity|has_image|Adult|Anatomy|has_neuron_conn...</td>\n      <td>adult antennal lobe lateral local neuron 2P</td>\n      <td>FBbt_00049813</td>\n      <td>neuprint_JRC_Hemibrain_1point1</td>\n      <td>2105086391</td>\n      <td>JRC_FlyEM_Hemibrain|JRC2018Unisex</td>\n      <td>Xu2020NeuronsV1point1</td>\n      <td>https://creativecommons.org/licenses/by/4.0/le...</td>\n    </tr>\n    <tr>\n      <th>11</th>\n      <td>lLN2T_b(Tortuous)_R - 1640572741</td>\n      <td></td>\n      <td>VFB_jrchk8bl</td>\n      <td>Entity|has_image|Adult|Anatomy|has_neuron_conn...</td>\n      <td>adult antennal lobe lateral local neuron 2T</td>\n      <td>FBbt_00049816</td>\n      <td>neuprint_JRC_Hemibrain_1point1</td>\n      <td>1640572741</td>\n      <td>JRC2018Unisex|JRC_FlyEM_Hemibrain</td>\n      <td>Xu2020NeuronsV1point1</td>\n      <td>https://creativecommons.org/licenses/by/4.0/le...</td>\n    </tr>\n    <tr>\n      <th>12</th>\n      <td>lLN1_c_R - 1578826464</td>\n      <td></td>\n      <td>VFB_jrchk8ah</td>\n      <td>Entity|has_image|Adult|Anatomy|has_neuron_conn...</td>\n      <td>adult local interneuron of the lateral ALl1 ne...</td>\n      <td>FBbt_00007394</td>\n      <td>neuprint_JRC_Hemibrain_1point1</td>\n      <td>1578826464</td>\n      <td>JRC_FlyEM_Hemibrain|JRC2018Unisex</td>\n      <td>Xu2020NeuronsV1point1</td>\n      <td>https://creativecommons.org/licenses/by/4.0/le...</td>\n    </tr>\n    <tr>\n      <th>13</th>\n      <td>lLN2P_a(Patchy)_R - 2041621893</td>\n      <td></td>\n      <td>VFB_jrchk8ao</td>\n      <td>Entity|has_image|Adult|Anatomy|has_neuron_conn...</td>\n      <td>adult antennal lobe lateral local neuron 2P</td>\n      <td>FBbt_00049813</td>\n      <td>neuprint_JRC_Hemibrain_1point1</td>\n      <td>2041621893</td>\n      <td>JRC_FlyEM_Hemibrain|JRC2018Unisex</td>\n      <td>Xu2020NeuronsV1point1</td>\n      <td>https://creativecommons.org/licenses/by/4.0/le...</td>\n    </tr>\n    <tr>\n      <th>14</th>\n      <td>lLN2S(Star)_R - 1762359683</td>\n      <td></td>\n      <td>VFB_jrchk8bc</td>\n      <td>Entity|has_image|Adult|Anatomy|has_neuron_conn...</td>\n      <td>adult antennal lobe lateral local neuron 2S</td>\n      <td>FBbt_00049815</td>\n      <td>neuprint_JRC_Hemibrain_1point1</td>\n      <td>1762359683</td>\n      <td>JRC2018Unisex|JRC_FlyEM_Hemibrain</td>\n      <td>Xu2020NeuronsV1point1</td>\n      <td>https://creativecommons.org/licenses/by/4.0/le...</td>\n    </tr>\n    <tr>\n      <th>15</th>\n      <td>lLN1_b_R - 5813054622</td>\n      <td></td>\n      <td>VFB_jrchk8a8</td>\n      <td>Entity|has_image|Adult|Anatomy|has_neuron_conn...</td>\n      <td>adult local interneuron of the lateral ALl1 ne...</td>\n      <td>FBbt_00007394</td>\n      <td>neuprint_JRC_Hemibrain_1point1</td>\n      <td>5813054622</td>\n      <td>JRC2018Unisex|JRC_FlyEM_Hemibrain</td>\n      <td>Xu2020NeuronsV1point1</td>\n      <td>https://creativecommons.org/licenses/by/4.0/le...</td>\n    </tr>\n    <tr>\n      <th>16</th>\n      <td>lLN2F_a(Full)_R - 1670287030</td>\n      <td></td>\n      <td>VFB_jrchk8al</td>\n      <td>Entity|has_image|Adult|Anatomy|has_neuron_conn...</td>\n      <td>adult antennal lobe lateral local neuron 2F</td>\n      <td>FBbt_00049812</td>\n      <td>neuprint_JRC_Hemibrain_1point1</td>\n      <td>1670287030</td>\n      <td>JRC2018Unisex|JRC_FlyEM_Hemibrain</td>\n      <td>Xu2020NeuronsV1point1</td>\n      <td>https://creativecommons.org/licenses/by/4.0/le...</td>\n    </tr>\n    <tr>\n      <th>17</th>\n      <td>lLN12a_R - 1826445251</td>\n      <td></td>\n      <td>VFB_jrchk89g</td>\n      <td>Entity|has_image|Adult|Anatomy|has_neuron_conn...</td>\n      <td>adult local interneuron of the lateral ALl1 ne...</td>\n      <td>FBbt_00007394</td>\n      <td>neuprint_JRC_Hemibrain_1point1</td>\n      <td>1826445251</td>\n      <td>JRC2018Unisex|JRC_FlyEM_Hemibrain</td>\n      <td>Xu2020NeuronsV1point1</td>\n      <td>https://creativecommons.org/licenses/by/4.0/le...</td>\n    </tr>\n    <tr>\n      <th>18</th>\n      <td>lLN11_R - 2040301572</td>\n      <td></td>\n      <td>VFB_jrchk89d</td>\n      <td>Entity|has_image|Adult|Anatomy|has_neuron_conn...</td>\n      <td>adult local interneuron of the lateral ALl1 ne...</td>\n      <td>FBbt_00007394</td>\n      <td>neuprint_JRC_Hemibrain_1point1</td>\n      <td>2040301572</td>\n      <td>JRC2018Unisex|JRC_FlyEM_Hemibrain</td>\n      <td>Xu2020NeuronsV1point1</td>\n      <td>https://creativecommons.org/licenses/by/4.0/le...</td>\n    </tr>\n    <tr>\n      <th>19</th>\n      <td>il3LN6_R - 5813018460</td>\n      <td></td>\n      <td>VFB_jrchk88v</td>\n      <td>Entity|has_image|Adult|Anatomy|has_neuron_conn...</td>\n      <td>local interneuron of adult antennal lobe</td>\n      <td>FBbt_00007390</td>\n      <td>neuprint_JRC_Hemibrain_1point1</td>\n      <td>5813018460</td>\n      <td>JRC_FlyEM_Hemibrain|JRC2018Unisex</td>\n      <td>Xu2020NeuronsV1point1</td>\n      <td>https://creativecommons.org/licenses/by/4.0/le...</td>\n    </tr>\n    <tr>\n      <th>20</th>\n      <td>lLN2R_b(Regional)_R - 5813076969</td>\n      <td></td>\n      <td>VFB_jrchk8b6</td>\n      <td>Entity|has_image|Adult|Anatomy|has_neuron_conn...</td>\n      <td>adult antennal lobe lateral local neuron 2R</td>\n      <td>FBbt_00049814</td>\n      <td>neuprint_JRC_Hemibrain_1point1</td>\n      <td>5813076969</td>\n      <td>JRC_FlyEM_Hemibrain|JRC2018Unisex</td>\n      <td>Xu2020NeuronsV1point1</td>\n      <td>https://creativecommons.org/licenses/by/4.0/le...</td>\n    </tr>\n    <tr>\n      <th>21</th>\n      <td>lLN16a_R - 1702318692</td>\n      <td></td>\n      <td>VFB_jrchk89t</td>\n      <td>Entity|has_image|Adult|Anatomy|has_neuron_conn...</td>\n      <td>adult local interneuron of the lateral ALl1 ne...</td>\n      <td>FBbt_00007394</td>\n      <td>neuprint_JRC_Hemibrain_1point1</td>\n      <td>1702318692</td>\n      <td>JRC_FlyEM_Hemibrain|JRC2018Unisex</td>\n      <td>Xu2020NeuronsV1point1</td>\n      <td>https://creativecommons.org/licenses/by/4.0/le...</td>\n    </tr>\n    <tr>\n      <th>22</th>\n      <td>lLN2T_d(Tortuous)_R - 1667251683</td>\n      <td></td>\n      <td>VFB_jrchk8bp</td>\n      <td>Entity|has_image|Adult|Anatomy|has_neuron_conn...</td>\n      <td>adult antennal lobe lateral local neuron 2T</td>\n      <td>FBbt_00049816</td>\n      <td>neuprint_JRC_Hemibrain_1point1</td>\n      <td>1667251683</td>\n      <td>JRC_FlyEM_Hemibrain|JRC2018Unisex</td>\n      <td>Xu2020NeuronsV1point1</td>\n      <td>https://creativecommons.org/licenses/by/4.0/le...</td>\n    </tr>\n    <tr>\n      <th>23</th>\n      <td>lLN2R_b(Regional)_R - 1702305987</td>\n      <td></td>\n      <td>VFB_jrchk8b5</td>\n      <td>Entity|has_image|Adult|Anatomy|has_neuron_conn...</td>\n      <td>adult antennal lobe lateral local neuron 2R</td>\n      <td>FBbt_00049814</td>\n      <td>neuprint_JRC_Hemibrain_1point1</td>\n      <td>1702305987</td>\n      <td>JRC2018Unisex|JRC_FlyEM_Hemibrain</td>\n      <td>Xu2020NeuronsV1point1</td>\n      <td>https://creativecommons.org/licenses/by/4.0/le...</td>\n    </tr>\n    <tr>\n      <th>24</th>\n      <td>v2LN35_R - 1733056086</td>\n      <td></td>\n      <td>VFB_jrchk8ew</td>\n      <td>Entity|has_image|Adult|Anatomy|has_neuron_conn...</td>\n      <td>local interneuron of adult antennal lobe</td>\n      <td>FBbt_00007390</td>\n      <td>neuprint_JRC_Hemibrain_1point1</td>\n      <td>1733056086</td>\n      <td>JRC2018Unisex|JRC_FlyEM_Hemibrain</td>\n      <td>Xu2020NeuronsV1point1</td>\n      <td>https://creativecommons.org/licenses/by/4.0/le...</td>\n    </tr>\n    <tr>\n      <th>25</th>\n      <td>lLN1_b_R - 1610530558</td>\n      <td></td>\n      <td>VFB_jrchk8ac</td>\n      <td>Entity|has_image|Adult|Anatomy|has_neuron_conn...</td>\n      <td>adult local interneuron of the lateral ALl1 ne...</td>\n      <td>FBbt_00007394</td>\n      <td>neuprint_JRC_Hemibrain_1point1</td>\n      <td>1610530558</td>\n      <td>JRC_FlyEM_Hemibrain|JRC2018Unisex</td>\n      <td>Xu2020NeuronsV1point1</td>\n      <td>https://creativecommons.org/licenses/by/4.0/le...</td>\n    </tr>\n    <tr>\n      <th>26</th>\n      <td>lLN2S(Star)_R - 1640922754</td>\n      <td></td>\n      <td>VFB_jrchk8b8</td>\n      <td>Entity|has_image|Adult|Anatomy|has_neuron_conn...</td>\n      <td>adult antennal lobe lateral local neuron 2S</td>\n      <td>FBbt_00049815</td>\n      <td>neuprint_JRC_Hemibrain_1point1</td>\n      <td>1640922754</td>\n      <td>JRC_FlyEM_Hemibrain|JRC2018Unisex</td>\n      <td>Xu2020NeuronsV1point1</td>\n      <td>https://creativecommons.org/licenses/by/4.0/le...</td>\n    </tr>\n    <tr>\n      <th>27</th>\n      <td>lLN1_c_R - 1824101645</td>\n      <td></td>\n      <td>VFB_jrchk8ag</td>\n      <td>Entity|has_image|Adult|Anatomy|has_neuron_conn...</td>\n      <td>adult local interneuron of the lateral ALl1 ne...</td>\n      <td>FBbt_00007394</td>\n      <td>neuprint_JRC_Hemibrain_1point1</td>\n      <td>1824101645</td>\n      <td>JRC_FlyEM_Hemibrain|JRC2018Unisex</td>\n      <td>Xu2020NeuronsV1point1</td>\n      <td>https://creativecommons.org/licenses/by/4.0/le...</td>\n    </tr>\n    <tr>\n      <th>28</th>\n      <td>lLN1_c_R - 1547454812</td>\n      <td></td>\n      <td>VFB_jrchk8ai</td>\n      <td>Entity|has_image|Adult|Anatomy|has_neuron_conn...</td>\n      <td>adult local interneuron of the lateral ALl1 ne...</td>\n      <td>FBbt_00007394</td>\n      <td>neuprint_JRC_Hemibrain_1point1</td>\n      <td>1547454812</td>\n      <td>JRC_FlyEM_Hemibrain|JRC2018Unisex</td>\n      <td>Xu2020NeuronsV1point1</td>\n      <td>https://creativecommons.org/licenses/by/4.0/le...</td>\n    </tr>\n    <tr>\n      <th>29</th>\n      <td>lLN1_b_R - 5813069055</td>\n      <td></td>\n      <td>VFB_jrchk8aa</td>\n      <td>Entity|has_image|Adult|Anatomy|has_neuron_conn...</td>\n      <td>adult local interneuron of the lateral ALl1 ne...</td>\n      <td>FBbt_00007394</td>\n      <td>neuprint_JRC_Hemibrain_1point1</td>\n      <td>5813069055</td>\n      <td>JRC_FlyEM_Hemibrain|JRC2018Unisex</td>\n      <td>Xu2020NeuronsV1point1</td>\n      <td>https://creativecommons.org/licenses/by/4.0/le...</td>\n    </tr>\n    <tr>\n      <th>30</th>\n      <td>lLN1_b_R - 1642623277</td>\n      <td></td>\n      <td>VFB_jrchk8ad</td>\n      <td>Entity|has_image|Adult|Anatomy|has_neuron_conn...</td>\n      <td>adult local interneuron of the lateral ALl1 ne...</td>\n      <td>FBbt_00007394</td>\n      <td>neuprint_JRC_Hemibrain_1point1</td>\n      <td>1642623277</td>\n      <td>JRC2018Unisex|JRC_FlyEM_Hemibrain</td>\n      <td>Xu2020NeuronsV1point1</td>\n      <td>https://creativecommons.org/licenses/by/4.0/le...</td>\n    </tr>\n    <tr>\n      <th>31</th>\n      <td>lLN2T_a(Tortuous)_R - 5813054726</td>\n      <td></td>\n      <td>VFB_jrchk8bh</td>\n      <td>Entity|has_image|Adult|Anatomy|has_neuron_conn...</td>\n      <td>adult antennal lobe lateral local neuron 2T</td>\n      <td>FBbt_00049816</td>\n      <td>neuprint_JRC_Hemibrain_1point1</td>\n      <td>5813054726</td>\n      <td>JRC_FlyEM_Hemibrain|JRC2018Unisex</td>\n      <td>Xu2020NeuronsV1point1</td>\n      <td>https://creativecommons.org/licenses/by/4.0/le...</td>\n    </tr>\n    <tr>\n      <th>32</th>\n      <td>lLN2F_b(Full)_R - 1640909284</td>\n      <td></td>\n      <td>VFB_jrchk8am</td>\n      <td>Entity|has_image|Adult|Anatomy|has_neuron_conn...</td>\n      <td>adult antennal lobe lateral local neuron 2F</td>\n      <td>FBbt_00049812</td>\n      <td>neuprint_JRC_Hemibrain_1point1</td>\n      <td>1640909284</td>\n      <td>JRC_FlyEM_Hemibrain|JRC2018Unisex</td>\n      <td>Xu2020NeuronsV1point1</td>\n      <td>https://creativecommons.org/licenses/by/4.0/le...</td>\n    </tr>\n    <tr>\n      <th>33</th>\n      <td>lLN2F_a(Full)_R - 5901218894</td>\n      <td></td>\n      <td>VFB_jrchk8ak</td>\n      <td>Entity|has_image|Adult|Anatomy|has_neuron_conn...</td>\n      <td>adult antennal lobe lateral local neuron 2F</td>\n      <td>FBbt_00049812</td>\n      <td>neuprint_JRC_Hemibrain_1point1</td>\n      <td>5901218894</td>\n      <td>JRC_FlyEM_Hemibrain|JRC2018Unisex</td>\n      <td>Xu2020NeuronsV1point1</td>\n      <td>https://creativecommons.org/licenses/by/4.0/le...</td>\n    </tr>\n    <tr>\n      <th>34</th>\n      <td>lLN2T_e(Tortuous)_R - 1699974843</td>\n      <td></td>\n      <td>VFB_jrchk8br</td>\n      <td>Entity|has_image|Adult|Anatomy|has_neuron_conn...</td>\n      <td>adult antennal lobe lateral local neuron 2T</td>\n      <td>FBbt_00049816</td>\n      <td>neuprint_JRC_Hemibrain_1point1</td>\n      <td>1699974843</td>\n      <td>JRC2018Unisex|JRC_FlyEM_Hemibrain</td>\n      <td>Xu2020NeuronsV1point1</td>\n      <td>https://creativecommons.org/licenses/by/4.0/le...</td>\n    </tr>\n    <tr>\n      <th>35</th>\n      <td>lLN10_R - 1825789179</td>\n      <td></td>\n      <td>VFB_jrchk89b</td>\n      <td>Entity|has_image|Adult|Anatomy|has_neuron_conn...</td>\n      <td>adult local interneuron of the lateral ALl1 ne...</td>\n      <td>FBbt_00007394</td>\n      <td>neuprint_JRC_Hemibrain_1point1</td>\n      <td>1825789179</td>\n      <td>JRC_FlyEM_Hemibrain|JRC2018Unisex</td>\n      <td>Xu2020NeuronsV1point1</td>\n      <td>https://creativecommons.org/licenses/by/4.0/le...</td>\n    </tr>\n    <tr>\n      <th>36</th>\n      <td>lLN2S(Star)_R - 1702306037</td>\n      <td></td>\n      <td>VFB_jrchk8b7</td>\n      <td>Entity|has_image|Adult|Anatomy|has_neuron_conn...</td>\n      <td>adult antennal lobe lateral local neuron 2S</td>\n      <td>FBbt_00049815</td>\n      <td>neuprint_JRC_Hemibrain_1point1</td>\n      <td>1702306037</td>\n      <td>JRC2018Unisex|JRC_FlyEM_Hemibrain</td>\n      <td>Xu2020NeuronsV1point1</td>\n      <td>https://creativecommons.org/licenses/by/4.0/le...</td>\n    </tr>\n    <tr>\n      <th>37</th>\n      <td>lLN2S(Star)_R - 1732995501</td>\n      <td></td>\n      <td>VFB_jrchk8ba</td>\n      <td>Entity|has_image|Adult|Anatomy|has_neuron_conn...</td>\n      <td>adult antennal lobe lateral local neuron 2S</td>\n      <td>FBbt_00049815</td>\n      <td>neuprint_JRC_Hemibrain_1point1</td>\n      <td>1732995501</td>\n      <td>JRC_FlyEM_Hemibrain|JRC2018Unisex</td>\n      <td>Xu2020NeuronsV1point1</td>\n      <td>https://creativecommons.org/licenses/by/4.0/le...</td>\n    </tr>\n    <tr>\n      <th>38</th>\n      <td>lLN2S(Star)_R - 5813069085</td>\n      <td></td>\n      <td>VFB_jrchk8b9</td>\n      <td>Entity|has_image|Adult|Anatomy|has_neuron_conn...</td>\n      <td>adult antennal lobe lateral local neuron 2S</td>\n      <td>FBbt_00049815</td>\n      <td>neuprint_JRC_Hemibrain_1point1</td>\n      <td>5813069085</td>\n      <td>JRC_FlyEM_Hemibrain|JRC2018Unisex</td>\n      <td>Xu2020NeuronsV1point1</td>\n      <td>https://creativecommons.org/licenses/by/4.0/le...</td>\n    </tr>\n    <tr>\n      <th>39</th>\n      <td>v2LN3b_R - 1888199872</td>\n      <td></td>\n      <td>VFB_jrchk8fg</td>\n      <td>Entity|has_image|Adult|Anatomy|has_neuron_conn...</td>\n      <td>local interneuron of adult antennal lobe</td>\n      <td>FBbt_00007390</td>\n      <td>neuprint_JRC_Hemibrain_1point1</td>\n      <td>1888199872</td>\n      <td>JRC2018Unisex|JRC_FlyEM_Hemibrain</td>\n      <td>Xu2020NeuronsV1point1</td>\n      <td>https://creativecommons.org/licenses/by/4.0/le...</td>\n    </tr>\n    <tr>\n      <th>40</th>\n      <td>lLN1_b_R - 1640887603</td>\n      <td></td>\n      <td>VFB_jrchk8a6</td>\n      <td>Entity|has_image|Adult|Anatomy|has_neuron_conn...</td>\n      <td>adult local interneuron of the lateral ALl1 ne...</td>\n      <td>FBbt_00007394</td>\n      <td>neuprint_JRC_Hemibrain_1point1</td>\n      <td>1640887603</td>\n      <td>JRC_FlyEM_Hemibrain|JRC2018Unisex</td>\n      <td>Xu2020NeuronsV1point1</td>\n      <td>https://creativecommons.org/licenses/by/4.0/le...</td>\n    </tr>\n    <tr>\n      <th>41</th>\n      <td>lLN1_b_R - 5813078440</td>\n      <td></td>\n      <td>VFB_jrchk8a7</td>\n      <td>Entity|has_image|Adult|Anatomy|has_neuron_conn...</td>\n      <td>adult local interneuron of the lateral ALl1 ne...</td>\n      <td>FBbt_00007394</td>\n      <td>neuprint_JRC_Hemibrain_1point1</td>\n      <td>5813078440</td>\n      <td>JRC_FlyEM_Hemibrain|JRC2018Unisex</td>\n      <td>Xu2020NeuronsV1point1</td>\n      <td>https://creativecommons.org/licenses/by/4.0/le...</td>\n    </tr>\n    <tr>\n      <th>42</th>\n      <td>lLN2T_b(Tortuous)_R - 5813034493</td>\n      <td></td>\n      <td>VFB_jrchk8bm</td>\n      <td>Entity|has_image|Adult|Anatomy|has_neuron_conn...</td>\n      <td>adult antennal lobe lateral local neuron 2T</td>\n      <td>FBbt_00049816</td>\n      <td>neuprint_JRC_Hemibrain_1point1</td>\n      <td>5813034493</td>\n      <td>JRC2018Unisex|JRC_FlyEM_Hemibrain</td>\n      <td>Xu2020NeuronsV1point1</td>\n      <td>https://creativecommons.org/licenses/by/4.0/le...</td>\n    </tr>\n    <tr>\n      <th>43</th>\n      <td>lLN1_b_R - 5813054777</td>\n      <td></td>\n      <td>VFB_jrchk8a9</td>\n      <td>Entity|has_image|Adult|Anatomy|has_neuron_conn...</td>\n      <td>adult local interneuron of the lateral ALl1 ne...</td>\n      <td>FBbt_00007394</td>\n      <td>neuprint_JRC_Hemibrain_1point1</td>\n      <td>5813054777</td>\n      <td>JRC2018Unisex|JRC_FlyEM_Hemibrain</td>\n      <td>Xu2020NeuronsV1point1</td>\n      <td>https://creativecommons.org/licenses/by/4.0/le...</td>\n    </tr>\n    <tr>\n      <th>44</th>\n      <td>v2LN30_R - 1671620613</td>\n      <td></td>\n      <td>VFB_jrchk8e8</td>\n      <td>Entity|has_image|Adult|Anatomy|has_neuron_conn...</td>\n      <td>local interneuron of adult antennal lobe</td>\n      <td>FBbt_00007390</td>\n      <td>neuprint_JRC_Hemibrain_1point1</td>\n      <td>1671620613</td>\n      <td>JRC_FlyEM_Hemibrain|JRC2018Unisex</td>\n      <td>Xu2020NeuronsV1point1</td>\n      <td>https://creativecommons.org/licenses/by/4.0/le...</td>\n    </tr>\n    <tr>\n      <th>45</th>\n      <td>v2LN3b_R - 5813034455</td>\n      <td></td>\n      <td>VFB_jrchk8ff</td>\n      <td>Entity|has_image|Adult|Anatomy|has_neuron_conn...</td>\n      <td>local interneuron of adult antennal lobe</td>\n      <td>FBbt_00007390</td>\n      <td>neuprint_JRC_Hemibrain_1point1</td>\n      <td>5813034455</td>\n      <td>JRC2018Unisex|JRC_FlyEM_Hemibrain</td>\n      <td>Xu2020NeuronsV1point1</td>\n      <td>https://creativecommons.org/licenses/by/4.0/le...</td>\n    </tr>\n    <tr>\n      <th>46</th>\n      <td>lLN2T_a(Tortuous)_R - 5813032595</td>\n      <td></td>\n      <td>VFB_jrchk8bd</td>\n      <td>Entity|has_image|Adult|Anatomy|has_neuron_conn...</td>\n      <td>adult antennal lobe lateral local neuron 2T</td>\n      <td>FBbt_00049816</td>\n      <td>neuprint_JRC_Hemibrain_1point1</td>\n      <td>5813032595</td>\n      <td>JRC2018Unisex|JRC_FlyEM_Hemibrain</td>\n      <td>Xu2020NeuronsV1point1</td>\n      <td>https://creativecommons.org/licenses/by/4.0/le...</td>\n    </tr>\n    <tr>\n      <th>47</th>\n      <td>lLN2T_a(Tortuous)_R - 5813056598</td>\n      <td></td>\n      <td>VFB_jrchk8bi</td>\n      <td>Entity|has_image|Adult|Anatomy|has_neuron_conn...</td>\n      <td>adult antennal lobe lateral local neuron 2T</td>\n      <td>FBbt_00049816</td>\n      <td>neuprint_JRC_Hemibrain_1point1</td>\n      <td>5813056598</td>\n      <td>JRC2018Unisex|JRC_FlyEM_Hemibrain</td>\n      <td>Xu2020NeuronsV1point1</td>\n      <td>https://creativecommons.org/licenses/by/4.0/le...</td>\n    </tr>\n    <tr>\n      <th>48</th>\n      <td>lLN1_b_R - 5813054725</td>\n      <td></td>\n      <td>VFB_jrchk8ab</td>\n      <td>Entity|has_image|Adult|Anatomy|has_neuron_conn...</td>\n      <td>adult local interneuron of the lateral ALl1 ne...</td>\n      <td>FBbt_00007394</td>\n      <td>neuprint_JRC_Hemibrain_1point1</td>\n      <td>5813054725</td>\n      <td>JRC2018Unisex|JRC_FlyEM_Hemibrain</td>\n      <td>Xu2020NeuronsV1point1</td>\n      <td>https://creativecommons.org/licenses/by/4.0/le...</td>\n    </tr>\n    <tr>\n      <th>49</th>\n      <td>lLN2P_b(Patchy)_R - 1946178096</td>\n      <td></td>\n      <td>VFB_jrchk8au</td>\n      <td>Entity|has_image|Adult|Anatomy|has_neuron_conn...</td>\n      <td>adult antennal lobe lateral local neuron 2P</td>\n      <td>FBbt_00049813</td>\n      <td>neuprint_JRC_Hemibrain_1point1</td>\n      <td>1946178096</td>\n      <td>JRC2018Unisex|JRC_FlyEM_Hemibrain</td>\n      <td>Xu2020NeuronsV1point1</td>\n      <td>https://creativecommons.org/licenses/by/4.0/le...</td>\n    </tr>\n    <tr>\n      <th>50</th>\n      <td>lLN2T_a(Tortuous)_R - 5813055277</td>\n      <td></td>\n      <td>VFB_jrchk8bf</td>\n      <td>Entity|has_image|Adult|Anatomy|has_neuron_conn...</td>\n      <td>adult antennal lobe lateral local neuron 2T</td>\n      <td>FBbt_00049816</td>\n      <td>neuprint_JRC_Hemibrain_1point1</td>\n      <td>5813055277</td>\n      <td>JRC_FlyEM_Hemibrain|JRC2018Unisex</td>\n      <td>Xu2020NeuronsV1point1</td>\n      <td>https://creativecommons.org/licenses/by/4.0/le...</td>\n    </tr>\n    <tr>\n      <th>51</th>\n      <td>l2LN18_R - 5813054773</td>\n      <td></td>\n      <td>VFB_jrchk891</td>\n      <td>Entity|has_image|Adult|Anatomy|has_neuron_conn...</td>\n      <td>local interneuron of adult antennal lobe</td>\n      <td>FBbt_00007390</td>\n      <td>neuprint_JRC_Hemibrain_1point1</td>\n      <td>5813054773</td>\n      <td>JRC_FlyEM_Hemibrain|JRC2018Unisex</td>\n      <td>Xu2020NeuronsV1point1</td>\n      <td>https://creativecommons.org/licenses/by/4.0/le...</td>\n    </tr>\n    <tr>\n      <th>52</th>\n      <td>lLN2T_a(Tortuous)_R - 1762354941</td>\n      <td></td>\n      <td>VFB_jrchk8bg</td>\n      <td>Entity|has_image|Adult|Anatomy|has_neuron_conn...</td>\n      <td>adult antennal lobe lateral local neuron 2T</td>\n      <td>FBbt_00049816</td>\n      <td>neuprint_JRC_Hemibrain_1point1</td>\n      <td>1762354941</td>\n      <td>JRC_FlyEM_Hemibrain|JRC2018Unisex</td>\n      <td>Xu2020NeuronsV1point1</td>\n      <td>https://creativecommons.org/licenses/by/4.0/le...</td>\n    </tr>\n  </tbody>\n</table>\n</div>"
          },
          "metadata": {}
        }
      ]
    },
    {
      "cell_type": "code",
      "metadata": {
        "tags": [],
        "cell_id": "00004-91e5a8af-2f48-4ebb-9c9a-765a7d80a5f1",
        "deepnote_to_be_reexecuted": false,
        "source_hash": "e41b421a",
        "execution_millis": 1293,
        "output_cleared": false,
        "execution_start": 1614738285746,
        "deepnote_cell_type": "code"
      },
      "source": [
        "# Find neurons by dataset/paper - on CATMAID\n",
        "\n",
        "bates = pymaid.find_neurons(annotations='Paper: Bates and Schlegel et al 2020')\n",
        "bates"
      ],
      "execution_count": null,
      "outputs": [
        {
          "name": "stderr",
          "text": "INFO  : Found 583 neurons matching the search parameters (pymaid)\n",
          "output_type": "stream"
        },
        {
          "output_type": "execute_result",
          "execution_count": 6,
          "data": {
            "text/plain": "<class 'pymaid.core.CatmaidNeuronList'> containing 583 neurons (0.0B)\n              type                                               name  \\\n0    CatmaidNeuron        Uniglomerular mALT DA1 lPN 57316 2863105 ML   \n1    CatmaidNeuron               Uniglomerular mALT DA3 adPN 57350 HG   \n..             ...                                                ...   \n581  CatmaidNeuron  Multiglomerular mlALT vPN VM7d+VM5d+DC4+6 LTS ...   \n582  CatmaidNeuron              Uniglomerular mALT DL2d adPN 57342 ML   \n\n    skeleton_id n_nodes n_connectors n_branches n_leafs cable_length soma  \\\n0       2863104      NA           NA         NA      NA           NA   NA   \n1         57349      NA           NA         NA      NA           NA   NA   \n..          ...     ...          ...        ...     ...          ...  ...   \n581     4624378      NA           NA         NA      NA           NA   NA   \n582       57341      NA           NA         NA      NA           NA   NA   \n\n           units  \n0    1 nanometer  \n1    1 nanometer  \n..           ...  \n581  1 nanometer  \n582  1 nanometer  ",
            "text/html": "&lt;class 'pymaid.core.CatmaidNeuronList'&gt; containing 583 neurons (0.0B)<div>\n<style scoped>\n    .dataframe tbody tr th:only-of-type {\n        vertical-align: middle;\n    }\n\n    .dataframe tbody tr th {\n        vertical-align: top;\n    }\n\n    .dataframe thead th {\n        text-align: right;\n    }\n</style>\n<table border=\"1\" class=\"dataframe\">\n  <thead>\n    <tr style=\"text-align: right;\">\n      <th></th>\n      <th>type</th>\n      <th>name</th>\n      <th>skeleton_id</th>\n      <th>n_nodes</th>\n      <th>n_connectors</th>\n      <th>n_branches</th>\n      <th>n_leafs</th>\n      <th>cable_length</th>\n      <th>soma</th>\n      <th>units</th>\n    </tr>\n  </thead>\n  <tbody>\n    <tr>\n      <th>0</th>\n      <td>CatmaidNeuron</td>\n      <td>Uniglomerular mALT DA1 lPN 57316 2863105 ML</td>\n      <td>2863104</td>\n      <td>NA</td>\n      <td>NA</td>\n      <td>NA</td>\n      <td>NA</td>\n      <td>NA</td>\n      <td>NA</td>\n      <td>1 nanometer</td>\n    </tr>\n    <tr>\n      <th>1</th>\n      <td>CatmaidNeuron</td>\n      <td>Uniglomerular mALT DA3 adPN 57350 HG</td>\n      <td>57349</td>\n      <td>NA</td>\n      <td>NA</td>\n      <td>NA</td>\n      <td>NA</td>\n      <td>NA</td>\n      <td>NA</td>\n      <td>1 nanometer</td>\n    </tr>\n    <tr>\n      <th>...</th>\n      <td>...</td>\n      <td>...</td>\n      <td>...</td>\n      <td>...</td>\n      <td>...</td>\n      <td>...</td>\n      <td>...</td>\n      <td>...</td>\n      <td>...</td>\n      <td>...</td>\n    </tr>\n    <tr>\n      <th>581</th>\n      <td>CatmaidNeuron</td>\n      <td>Multiglomerular mlALT vPN VM7d+VM5d+DC4+6 LTS ...</td>\n      <td>4624378</td>\n      <td>NA</td>\n      <td>NA</td>\n      <td>NA</td>\n      <td>NA</td>\n      <td>NA</td>\n      <td>NA</td>\n      <td>1 nanometer</td>\n    </tr>\n    <tr>\n      <th>582</th>\n      <td>CatmaidNeuron</td>\n      <td>Uniglomerular mALT DL2d adPN 57342 ML</td>\n      <td>57341</td>\n      <td>NA</td>\n      <td>NA</td>\n      <td>NA</td>\n      <td>NA</td>\n      <td>NA</td>\n      <td>NA</td>\n      <td>1 nanometer</td>\n    </tr>\n  </tbody>\n</table>\n</div>"
          },
          "metadata": {}
        }
      ]
    },
    {
      "cell_type": "code",
      "metadata": {
        "tags": [],
        "cell_id": "00009-51e5ef7d-4810-4d2d-afce-eb3c6e315810",
        "deepnote_to_be_reexecuted": false,
        "source_hash": "46eeef09",
        "execution_millis": 2081,
        "output_cleared": false,
        "execution_start": 1614738287044,
        "deepnote_cell_type": "code"
      },
      "source": [
        "# Inspect what datasets are available on VFB\n",
        "\n",
        "ds = vc.neo_query_wrapper.get_datasets(summary=True)\n",
        "ds_tab = pd.DataFrame.from_records(ds)\n",
        "ds_tab.sort_values(by=['id'])"
      ],
      "execution_count": null,
      "outputs": [
        {
          "output_type": "execute_result",
          "execution_count": 7,
          "data": {
            "application/vnd.deepnote.dataframe.v2+json": {
              "row_count": 83,
              "column_count": 9,
              "columns": [
                {
                  "name": "label",
                  "dtype": "object",
                  "stats": {
                    "unique_count": 75,
                    "nan_count": 0,
                    "categories": [
                      {
                        "name": "split-GAL4 lines for dopaminergic neurons (AsoRubin2016)",
                        "count": 2
                      },
                      {
                        "name": "Grooming neurons and drivers (Hampel 2015)",
                        "count": 2
                      },
                      {
                        "name": "73 others",
                        "count": 79
                      }
                    ]
                  }
                },
                {
                  "name": "symbol",
                  "dtype": "object",
                  "stats": {
                    "unique_count": 1,
                    "nan_count": 0,
                    "categories": [
                      {
                        "name": "",
                        "count": 83
                      }
                    ]
                  }
                },
                {
                  "name": "id",
                  "dtype": "object",
                  "stats": {
                    "unique_count": 83,
                    "nan_count": 0,
                    "categories": [
                      {
                        "name": "Andrade2019",
                        "count": 1
                      },
                      {
                        "name": "Aso2014",
                        "count": 1
                      },
                      {
                        "name": "81 others",
                        "count": 81
                      }
                    ]
                  }
                },
                {
                  "name": "tags",
                  "dtype": "object",
                  "stats": {
                    "unique_count": 1,
                    "nan_count": 0,
                    "categories": [
                      {
                        "name": "Entity|Individual|DataSet",
                        "count": 83
                      }
                    ]
                  }
                },
                {
                  "name": "description",
                  "dtype": "object",
                  "stats": {
                    "unique_count": 83,
                    "nan_count": 0,
                    "categories": [
                      {
                        "name": "[]",
                        "count": 16
                      },
                      {
                        "name": "['']",
                        "count": 4
                      },
                      {
                        "name": "56 others",
                        "count": 63
                      }
                    ]
                  }
                },
                {
                  "name": "miniref",
                  "dtype": "object",
                  "stats": {
                    "unique_count": 65,
                    "nan_count": 0,
                    "categories": [
                      {
                        "name": "Dolan et al., 2019, eLife 8: e43079",
                        "count": 3
                      },
                      {
                        "name": "",
                        "count": 3
                      },
                      {
                        "name": "63 others",
                        "count": 77
                      }
                    ]
                  }
                },
                {
                  "name": "FlyBase",
                  "dtype": "object",
                  "stats": {
                    "unique_count": 50,
                    "nan_count": 0,
                    "categories": [
                      {
                        "name": "",
                        "count": 22
                      },
                      {
                        "name": "FBrf0242477",
                        "count": 3
                      },
                      {
                        "name": "48 others",
                        "count": 58
                      }
                    ]
                  }
                },
                {
                  "name": "PMID",
                  "dtype": "object",
                  "stats": {
                    "unique_count": 49,
                    "nan_count": 0,
                    "categories": [
                      {
                        "name": "",
                        "count": 23
                      },
                      {
                        "name": "31112130",
                        "count": 3
                      },
                      {
                        "name": "47 others",
                        "count": 57
                      }
                    ]
                  }
                },
                {
                  "name": "DOI",
                  "dtype": "object",
                  "stats": {
                    "unique_count": 65,
                    "nan_count": 0,
                    "categories": [
                      {
                        "name": "10.7554/eLife.43079",
                        "count": 3
                      },
                      {
                        "name": "",
                        "count": 3
                      },
                      {
                        "name": "63 others",
                        "count": 77
                      }
                    ]
                  }
                },
                {
                  "name": "_deepnote_index_column",
                  "dtype": "int64"
                }
              ],
              "rows_top": [
                {
                  "label": "EM L1 Andrade et al. 2019",
                  "symbol": "",
                  "id": "Andrade2019",
                  "tags": "Entity|Individual|DataSet",
                  "description": "['L1 EM reconstructed neurons from Andrade et al 2019']",
                  "miniref": "Andrade et al., 2019, Curr. Biol. 29(3): 412--425.e3",
                  "FlyBase": "FBrf0241389",
                  "PMID": "30661802",
                  "DOI": "10.1016/j.cub.2018.12.012",
                  "_deepnote_index_column": 81
                },
                {
                  "label": "MBONs and split-GAL4 lines that target them (Aso2014)",
                  "symbol": "",
                  "id": "Aso2014",
                  "tags": "Entity|Individual|DataSet",
                  "description": "[]",
                  "miniref": "Aso et al., 2014, eLife 3: e04577",
                  "FlyBase": "FBrf0227179",
                  "PMID": "25535793",
                  "DOI": "10.7554/eLife.04577",
                  "_deepnote_index_column": 16
                },
                {
                  "label": "split-GAL4 lines for dopaminergic neurons (AsoRubin2016)",
                  "symbol": "",
                  "id": "AsoRubin2016",
                  "tags": "Entity|Individual|DataSet",
                  "description": "['For comparison of the properties of memories formed by optogenetic activation of individual DAN cell types']",
                  "miniref": "Aso and Rubin, 2016, eLife 5: e16135",
                  "FlyBase": "FBrf0233230",
                  "PMID": "27441388",
                  "DOI": "10.7554/eLife.16135",
                  "_deepnote_index_column": 19
                },
                {
                  "label": "EM FAFB Bates and Schlegel et al 2020",
                  "symbol": "",
                  "id": "BatesSchlegel2020",
                  "tags": "Entity|Individual|DataSet",
                  "description": "['FAFB EM reconstructed neurons from Bates and Schlegel et al 2020']",
                  "miniref": "Bates and Schlegel et al., 2020",
                  "FlyBase": "",
                  "PMID": "",
                  "DOI": "10.1016/j.cub.2020.06.042",
                  "_deepnote_index_column": 52
                },
                {
                  "label": "Larval olfactory system neurons - EM (Berk2016)",
                  "symbol": "",
                  "id": "Berck2016",
                  "tags": "Entity|Individual|DataSet",
                  "description": "['Berck, Khandelwal et al. 2016']",
                  "miniref": "Berck et al., 2016, eLife 5: e14859",
                  "FlyBase": "FBrf0232785",
                  "PMID": "27177418",
                  "DOI": "10.7554/eLife.14859",
                  "_deepnote_index_column": 0
                },
                {
                  "label": "BrainName neuropils and tracts - Ito half-brain",
                  "symbol": "",
                  "id": "BrainName_Ito_half_brain",
                  "tags": "Entity|Individual|DataSet",
                  "description": "[]",
                  "miniref": "Ito et al., 2014, Neuron 81(4): 755--765",
                  "FlyBase": "FBrf0224194",
                  "PMID": "24559671",
                  "DOI": "10.1016/j.neuron.2013.12.017",
                  "_deepnote_index_column": 37
                },
                {
                  "label": "Nociceptive system neurons - EM (Burgos2017)",
                  "symbol": "",
                  "id": "Burgos2018",
                  "tags": "Entity|Individual|DataSet",
                  "description": "['Burgos et al 2018']",
                  "miniref": "Burgos et al., 2018, eLife 7: e26016",
                  "FlyBase": "FBrf0238464",
                  "PMID": "29528286",
                  "DOI": "10.7554/eLife.26016",
                  "_deepnote_index_column": 39
                },
                {
                  "label": "Adult Brain fru clones (Cachero2010)",
                  "symbol": "",
                  "id": "Cachero2010",
                  "tags": "Entity|Individual|DataSet",
                  "description": "[]",
                  "miniref": "Cachero et al., 2010, Curr. Biol. 20(18): 1589--1601",
                  "FlyBase": "FBrf0211926",
                  "PMID": "20832311",
                  "DOI": "10.1016/j.cub.2010.07.045",
                  "_deepnote_index_column": 12
                },
                {
                  "label": "EM L1 Carreira-Rosario, Arzan Zarin, Clark et al. 2018",
                  "symbol": "",
                  "id": "CarreiraRosario2018",
                  "tags": "Entity|Individual|DataSet",
                  "description": "['L1 EM reconstructed neurons from Carreira-Rosario, Arzan Zarin, Clark et al. 2018']",
                  "miniref": "Carreira-Rosario et al., 2018, eLife 7: e38554",
                  "FlyBase": "FBrf0239825",
                  "PMID": "30070205",
                  "DOI": "10.7554/eLife.38554",
                  "_deepnote_index_column": 31
                },
                {
                  "label": "FlyCircuit 1.0 - single neurons (Chiang2010)",
                  "symbol": "",
                  "id": "Chiang2010",
                  "tags": "Entity|Individual|DataSet",
                  "description": "[]",
                  "miniref": "Chiang et al., 2011, Curr. Biol. 21(1): 1--11",
                  "FlyBase": "FBrf0212704",
                  "PMID": "21129968",
                  "DOI": "10.1016/j.cub.2010.11.056",
                  "_deepnote_index_column": 60
                },
                {
                  "label": "EM FAFB Coates et al 2020",
                  "symbol": "",
                  "id": "Coates2020",
                  "tags": "Entity|Individual|DataSet",
                  "description": "['FAFB EM reconstructed neurons from Coates et al 2020']",
                  "miniref": "Coates et al., 2020",
                  "FlyBase": "",
                  "PMID": "",
                  "DOI": "10.1523/JNEUROSCI.0552-20.2020",
                  "_deepnote_index_column": 2
                },
                {
                  "label": "NBLAST clustering of FlyCircuit 1.0 neurons (Costa2016)",
                  "symbol": "",
                  "id": "CostaJefferis_v3",
                  "tags": "Entity|Individual|DataSet",
                  "description": "['Version 3 NBLAST clustering of FlyCircuit 1.0 neurons']",
                  "miniref": "Costa et al., 2016, Neuron 91(2): 293--311",
                  "FlyBase": "FBrf0232991",
                  "PMID": "27373836",
                  "DOI": "10.1016/j.neuron.2016.06.012",
                  "_deepnote_index_column": 9
                },
                {
                  "label": "Adult VNS neuropils (Court2017)",
                  "symbol": "",
                  "id": "Court2017",
                  "tags": "Entity|Individual|DataSet",
                  "description": "[]",
                  "miniref": "Court et al., 2017",
                  "FlyBase": "",
                  "PMID": "",
                  "DOI": "10.1101/122952",
                  "_deepnote_index_column": 53
                },
                {
                  "label": "Adult VNC neuropils (Court2020)",
                  "symbol": "",
                  "id": "Court2020",
                  "tags": "Entity|Individual|DataSet",
                  "description": "[]",
                  "miniref": "Court et al., 2017",
                  "FlyBase": "",
                  "PMID": "",
                  "DOI": "10.1101/122952",
                  "_deepnote_index_column": 45
                },
                {
                  "label": "Dickson lab VT lines - FlyLight/Janelia images (2017)",
                  "symbol": "",
                  "id": "Dickson2017",
                  "tags": "Entity|Individual|DataSet",
                  "description": "[]",
                  "miniref": "Tirian & Dickson, 2017",
                  "FlyBase": "",
                  "PMID": "",
                  "DOI": "10.1101/198648",
                  "_deepnote_index_column": 50
                },
                {
                  "label": "Dickson lab VT line collection - VDRC images",
                  "symbol": "",
                  "id": "Dickson_VT",
                  "tags": "Entity|Individual|DataSet",
                  "description": "[]",
                  "miniref": "Tirian & Dickson, 2017",
                  "FlyBase": "",
                  "PMID": "",
                  "DOI": "10.1101/198648",
                  "_deepnote_index_column": 80
                },
                {
                  "label": "EM FAFB Dolan and Belliart-Guerin et al. 2018",
                  "symbol": "",
                  "id": "Dolan2018",
                  "tags": "Entity|Individual|DataSet",
                  "description": "['FAFB EM reconstructed neurons from Dolan and Belliart-Guerin et al. 2018']",
                  "miniref": "Dolan et al., 2018, Neuron 100(3): 651--668.e8",
                  "FlyBase": "FBrf0240600",
                  "PMID": "30244885",
                  "DOI": "10.1016/j.neuron.2018.08.037",
                  "_deepnote_index_column": 13
                },
                {
                  "label": "EM FAFB Dolan et al. 2019",
                  "symbol": "",
                  "id": "Dolan2019",
                  "tags": "Entity|Individual|DataSet",
                  "description": "['FAFB EM reconstructed neurons from Dolan et al. 2019']",
                  "miniref": "Dolan et al., 2019, eLife 8: e43079",
                  "FlyBase": "FBrf0242477",
                  "PMID": "31112130",
                  "DOI": "10.7554/eLife.43079",
                  "_deepnote_index_column": 72
                },
                {
                  "label": "Larval MB neurons - EM (Eichler2017)",
                  "symbol": "",
                  "id": "Eichler2017",
                  "tags": "Entity|Individual|DataSet",
                  "description": "['Eichler, Li, Litwin-Kumar et al. 2017']",
                  "miniref": "Eichler et al., 2017, Nature 548(7666): 175--182",
                  "FlyBase": "FBrf0236359",
                  "PMID": "28796202",
                  "DOI": "10.1038/nature23455",
                  "_deepnote_index_column": 58
                },
                {
                  "label": "EM L1 Eschbach et al 2020",
                  "symbol": "",
                  "id": "Eschbach2020",
                  "tags": "Entity|Individual|DataSet",
                  "description": "['L1 EM reconstructed neurons from Eschbach et al 2020']",
                  "miniref": "Eschbach et al., 2020, Nat. Neurosci. 23(4): 544--555",
                  "FlyBase": "FBrf0245294",
                  "PMID": "32203499",
                  "DOI": "10.1038/s41593-020-0607-9",
                  "_deepnote_index_column": 24
                },
                {
                  "label": "EM L1 Eschbach et al 2020b",
                  "symbol": "",
                  "id": "Eschbach2020b",
                  "tags": "Entity|Individual|DataSet",
                  "description": "['L1 EM reconstructed neurons from Eschbach et al 2020b']",
                  "miniref": "Eschbach, Fushiki et al. 2020b; Circuits for integrating learnt and innate valences in the fly brain",
                  "FlyBase": "",
                  "PMID": "",
                  "DOI": "10.1101/2020.04.23.058339",
                  "_deepnote_index_column": 59
                },
                {
                  "label": "EM FAFB Felsenberg et al. 2018",
                  "symbol": "",
                  "id": "Felsenberg2018",
                  "tags": "Entity|Individual|DataSet",
                  "description": "['FAFB EM reconstructed neurons from Felsenberg et al 2018']",
                  "miniref": "Felsenberg et al., 2018, Cell 175(3): 709--722.e15",
                  "FlyBase": "FBrf0240371",
                  "PMID": "30245010",
                  "DOI": "10.1016/j.cell.2018.08.021",
                  "_deepnote_index_column": 77
                },
                {
                  "label": "split-GAL4 lines for dopaminergic neurons (AsoRubin2016)",
                  "symbol": "",
                  "id": "FlyLight2019AsoRubin2016",
                  "tags": "Entity|Individual|DataSet",
                  "description": "['For comparison of the properties of memories formed by optogenetic activation of individual DAN cell types']",
                  "miniref": "Aso and Rubin, 2016, eLife 5: e16135",
                  "FlyBase": "FBrf0233230",
                  "PMID": "27441388",
                  "DOI": "10.7554/eLife.16135",
                  "_deepnote_index_column": 14
                },
                {
                  "label": "Grooming neurons and drivers (Hampel 2015)",
                  "symbol": "",
                  "id": "FlyLight2019Hampel2015",
                  "tags": "Entity|Individual|DataSet",
                  "description": "['Images of grooming neurons and split GAL4 line drivers.']",
                  "miniref": "Hampel et al., 2015, eLife 4: e08758",
                  "FlyBase": "FBrf0229838",
                  "PMID": "26344548",
                  "DOI": "10.7554/eLife.08758",
                  "_deepnote_index_column": 51
                },
                {
                  "label": "Split-GAL4 lines from Klapoetke et al. 2017",
                  "symbol": "",
                  "id": "FlyLight2019Klapoetke2017",
                  "tags": "Entity|Individual|DataSet",
                  "description": "['Split-GAL4 lines used for the characterization of LPLC2 anatomy and function']",
                  "miniref": "Klapoetke et al., 2017, Nature 551(7679): 237--241",
                  "FlyBase": "FBrf0237184",
                  "PMID": "29120418",
                  "DOI": "10.1038/nature24626",
                  "_deepnote_index_column": 38
                },
                {
                  "label": "FlyLight split-GAL4 lines for Lateral Horn",
                  "symbol": "",
                  "id": "FlyLight2019LateralHorn2019",
                  "tags": "Entity|Individual|DataSet",
                  "description": "['FlyLight split-GAL4 lines for Lateral Horn from Dolan et al. 2019']",
                  "miniref": "Dolan et al., 2019, eLife 8: e43079",
                  "FlyBase": "FBrf0242477",
                  "PMID": "31112130",
                  "DOI": "10.7554/eLife.43079",
                  "_deepnote_index_column": 22
                },
                {
                  "label": "split-GAL4 lines for descending neurons (Namiki2018)",
                  "symbol": "",
                  "id": "FlyLight2019Namiki2018",
                  "tags": "Entity|Individual|DataSet",
                  "description": "['Descending sensory-motor pathways in adult CNS']",
                  "miniref": "Namiki et al., 2018, eLife 7: e34272",
                  "FlyBase": "FBrf0239335",
                  "PMID": "29943730",
                  "DOI": "10.7554/eLife.34272",
                  "_deepnote_index_column": 1
                },
                {
                  "label": "split-GAL4 lines for EB neurons (Robie2017)",
                  "symbol": "",
                  "id": "FlyLight2019Robie2017",
                  "tags": "Entity|Individual|DataSet",
                  "description": "['split-GAL4 lines for Ellipsoid Body neurons from the (walking-more) brain-behavior map']",
                  "miniref": "Robie et al., 2017, Cell 170(2): 393--406.e28",
                  "FlyBase": "FBrf0236042",
                  "PMID": "28709004",
                  "DOI": "10.1016/j.cell.2017.06.032",
                  "_deepnote_index_column": 18
                },
                {
                  "label": "Splits targetting the visual motion pathway, Strother2017",
                  "symbol": "",
                  "id": "FlyLight2019Strother2017",
                  "tags": "Entity|Individual|DataSet",
                  "description": "['']",
                  "miniref": "Strother et al., 2017, Neuron 94(1): 168--182.e10",
                  "FlyBase": "FBrf0235230",
                  "PMID": "28384470",
                  "DOI": "10.1016/j.neuron.2017.03.010",
                  "_deepnote_index_column": 69
                },
                {
                  "label": "Splits targetting CX neurons, Wolff2018",
                  "symbol": "",
                  "id": "FlyLight2019Wolff2018",
                  "tags": "Entity|Individual|DataSet",
                  "description": "['']",
                  "miniref": "FBrf0240744",
                  "FlyBase": "FBrf0240744",
                  "PMID": "30084503",
                  "DOI": "10.1002/cne.24512",
                  "_deepnote_index_column": 32
                },
                {
                  "label": "split-GAL4 lines for LC VPNs (Wu2016)",
                  "symbol": "",
                  "id": "FlyLight2019Wu2016",
                  "tags": "Entity|Individual|DataSet",
                  "description": "['split-GAL4 lines for the Lobula Columnar (LC) visual projection neurons (LC Paper)']",
                  "miniref": "Wu et al., 2016, eLife 5: e21022",
                  "FlyBase": "FBrf0234700",
                  "PMID": "28029094",
                  "DOI": "10.7554/eLife.21022",
                  "_deepnote_index_column": 42
                },
                {
                  "label": "FlyLight - Gen1 GAL4/LexA collection (exported 2019)",
                  "symbol": "",
                  "id": "FlyLightGen1Set2019",
                  "tags": "Entity|Individual|DataSet",
                  "description": "[]",
                  "miniref": "Jenett et al., 2012, Cell Rep. 2(4): 991--1001",
                  "FlyBase": "FBrf0219813",
                  "PMID": "23063364",
                  "DOI": "10.1016/j.celrep.2012.09.011",
                  "_deepnote_index_column": 33
                },
                {
                  "label": "Larval peristaltic locomotor system neurons - EM (Fushiki2016)",
                  "symbol": "",
                  "id": "Fushiki2016",
                  "tags": "Entity|Individual|DataSet",
                  "description": "['Fushiki et al. 2016']",
                  "miniref": "Fushiki et al., 2016, eLife 5: e13253",
                  "FlyBase": "FBrf0231611",
                  "PMID": "26880545",
                  "DOI": "10.7554/eLife.13253",
                  "_deepnote_index_column": 67
                },
                {
                  "label": "Nociceptive circuit neurons - EM (Gerhard2017)",
                  "symbol": "",
                  "id": "Gerhard2017",
                  "tags": "Entity|Individual|DataSet",
                  "description": "['Gerhard et al. 2017']",
                  "miniref": "Gerhard et al., 2017, eLife 6: e29089",
                  "FlyBase": "FBrf0237057",
                  "PMID": "29058674",
                  "DOI": "10.7554/eLife.29089",
                  "_deepnote_index_column": 56
                },
                {
                  "label": "Grooming neurons and drivers (Hampel 2015)",
                  "symbol": "",
                  "id": "Hampel2015",
                  "tags": "Entity|Individual|DataSet",
                  "description": "['Images of grooming neurons and split GAL4 line drivers.']",
                  "miniref": "Hampel et al., 2015, eLife 4: e08758",
                  "FlyBase": "FBrf0229838",
                  "PMID": "26344548",
                  "DOI": "10.7554/eLife.08758",
                  "_deepnote_index_column": 61
                },
                {
                  "label": "LexA driver targetting mechanosensory eye bristles (Hampel2017)",
                  "symbol": "",
                  "id": "Hampel2017",
                  "tags": "Entity|Individual|DataSet",
                  "description": "['Simultaneous activation of parallel sensory pathways promotes a grooming sequence in Drosophila']",
                  "miniref": "Hampel et al., 2017, eLife 6: e28804",
                  "FlyBase": "FBrf0236775",
                  "PMID": "28887878",
                  "DOI": "10.7554/eLife.28804",
                  "_deepnote_index_column": 57
                },
                {
                  "label": "EM FAFB Hampel and Eichler et al 2020",
                  "symbol": "",
                  "id": "HampelEichler2020",
                  "tags": "Entity|Individual|DataSet",
                  "description": "['FAFB EM reconstructed neurons from Hampel and Eichler et al 2020']",
                  "miniref": "Hampel et al., 2020, eLife 9: e59976",
                  "FlyBase": "FBrf0247223",
                  "PMID": "33103999",
                  "DOI": "10.7554/eLife.59976",
                  "_deepnote_index_column": 26
                },
                {
                  "label": "Eve+ neurons, sensorimotor circuit - EM (Heckscher2015)",
                  "symbol": "",
                  "id": "Heckscher2015",
                  "tags": "Entity|Individual|DataSet",
                  "description": "['Heckscher et al. 2015']",
                  "miniref": "Heckscher et al., 2015, Neuron 88(2): 314--329",
                  "FlyBase": "FBrf0229965",
                  "PMID": "26439528",
                  "DOI": "10.1016/j.neuron.2015.09.009",
                  "_deepnote_index_column": 68
                },
                {
                  "label": "Ito lab adult brain lineage clone image set",
                  "symbol": "",
                  "id": "Ito2013",
                  "tags": "Entity|Individual|DataSet",
                  "description": "[\"An exhaustive set of lineage clones covering the adult brain from Kei Ito's  lab.\"]",
                  "miniref": "Ito et al., 2013, Curr. Biol. 23(8): 644--655",
                  "FlyBase": "FBrf0221438",
                  "PMID": "23541729",
                  "DOI": "10.1016/j.cub.2013.03.015",
                  "_deepnote_index_column": 47
                },
                {
                  "label": "JRC 2018 templates & ROIs",
                  "symbol": "",
                  "id": "JRC2018",
                  "tags": "Entity|Individual|DataSet",
                  "description": "['JRC2018 templates and regions of interest']",
                  "miniref": "Bogovic et al., 2019, biorxiv",
                  "FlyBase": "",
                  "PMID": "",
                  "DOI": "10.1101/376384",
                  "_deepnote_index_column": 79
                },
                {
                  "label": "FlyLight - GMR GAL4 collection (Jenett2012)",
                  "symbol": "",
                  "id": "Jenett2012",
                  "tags": "Entity|Individual|DataSet",
                  "description": "[]",
                  "miniref": "Jenett et al., 2012, Cell Rep. 2(4): 991--1001",
                  "FlyBase": "FBrf0219813",
                  "PMID": "23063364",
                  "DOI": "10.1016/j.celrep.2012.09.011",
                  "_deepnote_index_column": 23
                },
                {
                  "label": "BrainName neuropils on adult brain JFRC2 (Jenett, Shinomya)",
                  "symbol": "",
                  "id": "JenettShinomya_BrainName",
                  "tags": "Entity|Individual|DataSet",
                  "description": "[]",
                  "miniref": "Ito et al., 2014, Neuron 81(4): 755--765",
                  "FlyBase": "FBrf0224194",
                  "PMID": "24559671",
                  "DOI": "10.1016/j.neuron.2013.12.017",
                  "_deepnote_index_column": 44
                },
                {
                  "label": "larval sensorimotor decision pathways (Jovanic2016)",
                  "symbol": "",
                  "id": "Jovanic2016",
                  "tags": "Entity|Individual|DataSet",
                  "description": "['Jovanic, Schneider-Mizell et al. 2016']",
                  "miniref": "Jovanic et al., 2016, Cell 167(3): 858--870.e19",
                  "FlyBase": "FBrf0233796",
                  "PMID": "27720450",
                  "DOI": "10.1016/j.cell.2016.09.009",
                  "_deepnote_index_column": 63
                },
                {
                  "label": "EM L1 Jovanic et al. 2019",
                  "symbol": "",
                  "id": "Jovanic2019",
                  "tags": "Entity|Individual|DataSet",
                  "description": "['L1 EM reconstructed neurons from Jovanic et al. 2019']",
                  "miniref": "Jovanic et al., 2019, Curr. Biol. 29(4): 554--566.e4",
                  "FlyBase": "FBrf0241547",
                  "PMID": "30744969",
                  "DOI": "10.1016/j.cub.2019.01.009",
                  "_deepnote_index_column": 64
                },
                {
                  "label": "EM FAFB Kim et al 2020",
                  "symbol": "",
                  "id": "Kim2020",
                  "tags": "Entity|Individual|DataSet",
                  "description": "['FAFB EM reconstructed neurons from Kim et al 2020']",
                  "miniref": "Kim et al., 2020",
                  "FlyBase": "",
                  "PMID": "",
                  "DOI": "10.1002/cne.24877",
                  "_deepnote_index_column": 10
                },
                {
                  "label": "Split-GAL4 lines from Klapoetke et al. 2017",
                  "symbol": "",
                  "id": "Klapoetke2017",
                  "tags": "Entity|Individual|DataSet",
                  "description": "['Split-GAL4 lines used for the characterization of LPLC2 anatomy and function']",
                  "miniref": "Klapoetke et al., 2017, Nature 551(7679): 237--241",
                  "FlyBase": "FBrf0237184",
                  "PMID": "29120418",
                  "DOI": "10.1038/nature24626",
                  "_deepnote_index_column": 76
                },
                {
                  "label": "BrainTrap lines (Knowles-Barley2010)",
                  "symbol": "",
                  "id": "Knowles_Barley2010",
                  "tags": "Entity|Individual|DataSet",
                  "description": "[]",
                  "miniref": "Knowles-Barley et al., 2010, Database (Oxford) 2010: baq005",
                  "FlyBase": "FBrf0211243",
                  "PMID": "20624714",
                  "DOI": "10.1093/database/baq005",
                  "_deepnote_index_column": 49
                },
                {
                  "label": "Third order olfactory neurons involved in pheromone response - backfills (Kohl2013)",
                  "symbol": "",
                  "id": "Kohl2013",
                  "tags": "Entity|Individual|DataSet",
                  "description": "[]",
                  "miniref": "Kohl et al., 2013, Cell 155(7): 1610--1623",
                  "FlyBase": "FBrf0223724",
                  "PMID": "24360281",
                  "DOI": "10.1016/j.cell.2013.11.025",
                  "_deepnote_index_column": 8
                },
                {
                  "label": "larval visual circuit neurons (Larderet2017)",
                  "symbol": "",
                  "id": "Larderet2017",
                  "tags": "Entity|Individual|DataSet",
                  "description": "['Larderet, Fritsch et al. 2017']",
                  "miniref": "Larderet et al., 2017, eLife 6: e28387",
                  "FlyBase": "FBrf0237760",
                  "PMID": "",
                  "DOI": "10.7554/eLife.28387",
                  "_deepnote_index_column": 70
                },
                {
                  "label": "FlyLight split-GAL4 lines for Lateral Horn",
                  "symbol": "",
                  "id": "LateralHorn2019",
                  "tags": "Entity|Individual|DataSet",
                  "description": "['FlyLight split-GAL4 lines for Lateral Horn from Dolan et al. 2019']",
                  "miniref": "Dolan et al., 2019, eLife 8: e43079",
                  "FlyBase": "FBrf0242477",
                  "PMID": "31112130",
                  "DOI": "10.7554/eLife.43079",
                  "_deepnote_index_column": 66
                },
                {
                  "label": "central brain neurons by lineage, Lee2020",
                  "symbol": "",
                  "id": "Lee2020",
                  "tags": "Entity|Individual|DataSet",
                  "description": "['A catalogue of single neuron images covering 18 central brain lineages.']",
                  "miniref": "Lee et al., 2020",
                  "FlyBase": "",
                  "PMID": "",
                  "DOI": "10.7554/eLife.53518",
                  "_deepnote_index_column": 4
                },
                {
                  "label": "Neurons involved in courtship and song (Lilvis2018)",
                  "symbol": "",
                  "id": "Lilvis2018",
                  "tags": "Entity|Individual|DataSet",
                  "description": "['single example of pIP10 neuron in adult CNS']",
                  "miniref": "Ding et al., 2017",
                  "FlyBase": "",
                  "PMID": "",
                  "DOI": "10.1101/238147",
                  "_deepnote_index_column": 74
                },
                {
                  "label": "EM FAFB Marin et al 2020",
                  "symbol": "",
                  "id": "Marin2020",
                  "tags": "Entity|Individual|DataSet",
                  "description": "['FAFB EM reconstructed neurons from Marin et al 2020']",
                  "miniref": "Marin et al., 2020",
                  "FlyBase": "",
                  "PMID": "",
                  "DOI": "10.1016/j.cub.2020.06.028",
                  "_deepnote_index_column": 46
                },
                {
                  "label": "EM L1 Mark et al. 2019",
                  "symbol": "",
                  "id": "Mark2019",
                  "tags": "Entity|Individual|DataSet",
                  "description": "['L1 EM reconstructed neurons from Mark et al. 2019']",
                  "miniref": "Mark et al., 2019",
                  "FlyBase": "",
                  "PMID": "",
                  "DOI": "10.1101/617936",
                  "_deepnote_index_column": 20
                },
                {
                  "label": "AMMC local and projection neurons (Matsuo2016)",
                  "symbol": "",
                  "id": "Matsuo2016",
                  "tags": "Entity|Individual|DataSet",
                  "description": "[]",
                  "miniref": "Matsuo et al., 2016, J. Comp. Neurol. 524(6): 1099--1164",
                  "FlyBase": "FBrf0230862",
                  "PMID": "26762251",
                  "DOI": "10.1002/cne.23955",
                  "_deepnote_index_column": 25
                },
                {
                  "label": "EM L1 Miroschnikow et al. 2018",
                  "symbol": "",
                  "id": "Miroschnikow2018",
                  "tags": "Entity|Individual|DataSet",
                  "description": "['L1 EM reconstructed neurons from Miroschnikow et al. 2018']",
                  "miniref": "Miroschnikow et al., 2018, eLife 7: e40247",
                  "FlyBase": "FBrf0240975",
                  "PMID": "30526854",
                  "DOI": "10.7554/eLife.40247",
                  "_deepnote_index_column": 82
                },
                {
                  "label": "EM FAFB Morimoto et al 2020",
                  "symbol": "",
                  "id": "Morimoto2020",
                  "tags": "Entity|Individual|DataSet",
                  "description": "['FAFB EM reconstructed neurons from Morimoto et al 2020']",
                  "miniref": "Morimoto et al., 2020, eLife 9: e57685",
                  "FlyBase": "FBrf0247630",
                  "PMID": "33205753",
                  "DOI": "10.7554/eLife.57685",
                  "_deepnote_index_column": 40
                },
                {
                  "label": "split-GAL4 lines for descending neurons (Namiki2018)",
                  "symbol": "",
                  "id": "Namiki2018",
                  "tags": "Entity|Individual|DataSet",
                  "description": "['Descending sensory-motor pathways in adult CNS']",
                  "miniref": "Namiki et al., 2018, eLife 7: e34272",
                  "FlyBase": "FBrf0239335",
                  "PMID": "29943730",
                  "DOI": "10.7554/eLife.34272",
                  "_deepnote_index_column": 78
                },
                {
                  "label": "Neurons involved in larval fast escape response - EM (Ohyama2016)",
                  "symbol": "",
                  "id": "Ohyama2015",
                  "tags": "Entity|Individual|DataSet",
                  "description": "['Ohyama, Schneider-Mizell et al. 2015']",
                  "miniref": "Ohyama et al., 2015, Nature 520(7549): 633--639",
                  "FlyBase": "FBrf0228257",
                  "PMID": "25896325",
                  "DOI": "10.1038/nature14297",
                  "_deepnote_index_column": 6
                },
                {
                  "label": "EM FAFB Otto et al 2020",
                  "symbol": "",
                  "id": "Otto2020",
                  "tags": "Entity|Individual|DataSet",
                  "description": "['FAFB EM reconstructed neurons from Otto et al 2020']",
                  "miniref": "Otto et al., 2020, Curr. Biol. 30(16): 3200--3211.e8",
                  "FlyBase": "FBrf0246510",
                  "PMID": "32619479",
                  "DOI": "10.1016/j.cub.2020.05.077",
                  "_deepnote_index_column": 41
                },
                {
                  "label": "split-GAL4 lines for  EB neurons (Robie2017)",
                  "symbol": "",
                  "id": "Robie2017",
                  "tags": "Entity|Individual|DataSet",
                  "description": "['split-GAL4 lines for Ellipsoid Body neurons from the (walking-more) brain-behavior map']",
                  "miniref": "Robie et al., 2017, Cell 170(2): 393--406.e28",
                  "FlyBase": "FBrf0236042",
                  "PMID": "28709004",
                  "DOI": "10.1016/j.cell.2017.06.032",
                  "_deepnote_index_column": 75
                },
                {
                  "label": "EM FAFB Sayin et al 2019",
                  "symbol": "",
                  "id": "Sayin2019",
                  "tags": "Entity|Individual|DataSet",
                  "description": "['FAFB EM reconstructed neurons from Sayin et al 2019']",
                  "miniref": "Sayin et al., 2019, Neuron 104(3): 544--558.e6",
                  "FlyBase": "FBrf0243986",
                  "PMID": "31471123",
                  "DOI": "10.1016/j.neuron.2019.07.028",
                  "_deepnote_index_column": 43
                },
                {
                  "label": "larval hugin neurons - EM (Schlegel2016)",
                  "symbol": "",
                  "id": "Schlegel2016",
                  "tags": "Entity|Individual|DataSet",
                  "description": "['Schlegel et al. 2016']",
                  "miniref": "Schlegel et al., 2016, eLife 5: e16799",
                  "FlyBase": "FBrf0234450",
                  "PMID": "27845623",
                  "DOI": "10.7554/eLife.16799",
                  "_deepnote_index_column": 5
                },
                {
                  "label": "Splits targetting the visual motion pathway, Strother2017",
                  "symbol": "",
                  "id": "Strother2017",
                  "tags": "Entity|Individual|DataSet",
                  "description": "['']",
                  "miniref": "Strother et al., 2017, Neuron 94(1): 168--182.e10",
                  "FlyBase": "FBrf0235230",
                  "PMID": "28384470",
                  "DOI": "10.1016/j.neuron.2017.03.010",
                  "_deepnote_index_column": 36
                },
                {
                  "label": "Larval wave neurons and circuit partners - EM  (Takagi2017)",
                  "symbol": "",
                  "id": "Takagi2017",
                  "tags": "Entity|Individual|DataSet",
                  "description": "['Takagi et al. 2017']",
                  "miniref": "Takagi et al., 2017, Neuron 96(6): 1373--1387.e6",
                  "FlyBase": "FBrf0237618",
                  "PMID": "29198754",
                  "DOI": "10.1016/j.neuron.2017.10.030",
                  "_deepnote_index_column": 71
                },
                {
                  "label": "EM L1 Tastekin et al 2018",
                  "symbol": "",
                  "id": "Tastekin2018",
                  "tags": "Entity|Individual|DataSet",
                  "description": "['L1 EM reconstructed neurons from Tastekin et al 2018']",
                  "miniref": "Tastekin et al., 2018, eLife 7: e38740",
                  "FlyBase": "FBrf0240828",
                  "PMID": "30465650",
                  "DOI": "10.7554/eLife.38740",
                  "_deepnote_index_column": 35
                },
                {
                  "label": "L3 Larval CNS Template (Truman2016)",
                  "symbol": "",
                  "id": "Truman2016",
                  "tags": "Entity|Individual|DataSet",
                  "description": "['Template image by James W. Truman and the Fly Light Project Team at HHMI Janelia Research Campus.']",
                  "miniref": "",
                  "FlyBase": "",
                  "PMID": "",
                  "DOI": "",
                  "_deepnote_index_column": 21
                },
                {
                  "label": "Truman Larval Flip-Out Collection",
                  "symbol": "",
                  "id": "TrumanWood2018public",
                  "tags": "Entity|Individual|DataSet",
                  "description": "['Images by James W. Truman and the Fly Light Project Team at HHMI Janelia Research Campus.']",
                  "miniref": "",
                  "FlyBase": "",
                  "PMID": "",
                  "DOI": "",
                  "_deepnote_index_column": 65
                },
                {
                  "label": "EM FAFB Turner-Evans et al 2020",
                  "symbol": "",
                  "id": "Turner_Evans2020",
                  "tags": "Entity|Individual|DataSet",
                  "description": "['FAFB EM reconstructed neurons from Turner-Evans et al 2020']",
                  "miniref": "Turner-Evans et al., 2020",
                  "FlyBase": "",
                  "PMID": "",
                  "DOI": "10.1016/j.neuron.2020.08.006",
                  "_deepnote_index_column": 73
                },
                {
                  "label": "EM FAFB Wang et al 2020a",
                  "symbol": "",
                  "id": "Wang2020a",
                  "tags": "Entity|Individual|DataSet",
                  "description": "['FAFB EM reconstructed neurons from Wang et al 2020a']",
                  "miniref": "Wang et al., 2020, Nature 579(7797): 101--105",
                  "FlyBase": "FBrf0245074",
                  "PMID": "32103180",
                  "DOI": "10.1038/s41586-020-2055-9",
                  "_deepnote_index_column": 55
                },
                {
                  "label": "EM FAFB Wang et al 2020b",
                  "symbol": "",
                  "id": "Wang2020b",
                  "tags": "Entity|Individual|DataSet",
                  "description": "['FAFB EM reconstructed neurons from Wang et al 2020b']",
                  "miniref": "Wang et al., 2020, Curr. Biol. 30(19): 3749--3760.e3",
                  "FlyBase": "FBrf0246914",
                  "PMID": "32795445",
                  "DOI": "10.1016/j.cub.2020.07.083",
                  "_deepnote_index_column": 11
                },
                {
                  "label": "Splits targetting CX neurons, Wolff2018",
                  "symbol": "",
                  "id": "Wolff2018",
                  "tags": "Entity|Individual|DataSet",
                  "description": "['']",
                  "miniref": "FBrf0240744",
                  "FlyBase": "FBrf0240744",
                  "PMID": "30084503",
                  "DOI": "10.1002/cne.24512",
                  "_deepnote_index_column": 27
                },
                {
                  "label": "L3 neuropils (WoodHartenstein2018)",
                  "symbol": "",
                  "id": "WoodHartenstein2018",
                  "tags": "Entity|Individual|DataSet",
                  "description": "[]",
                  "miniref": "",
                  "FlyBase": "",
                  "PMID": "",
                  "DOI": "",
                  "_deepnote_index_column": 62
                },
                {
                  "label": "split-GAL4 lines for LC VPNs (Wu2016)",
                  "symbol": "",
                  "id": "Wu2016",
                  "tags": "Entity|Individual|DataSet",
                  "description": "['split-GAL4 lines for the Lobula Columnar (LC) visual projection neurons (LC Paper)']",
                  "miniref": "Wu et al., 2016, eLife 5: e21022",
                  "FlyBase": "FBrf0234700",
                  "PMID": "28029094",
                  "DOI": "10.7554/eLife.21022",
                  "_deepnote_index_column": 54
                },
                {
                  "label": "Split GAL4 lines for dopaminergic neurons, Xie2018",
                  "symbol": "",
                  "id": "Xie2018",
                  "tags": "Entity|Individual|DataSet",
                  "description": "[]",
                  "miniref": "Xie et al., 2018, Cell Rep. 23(2): 652--665",
                  "FlyBase": "FBrf0238545",
                  "PMID": "29642019",
                  "DOI": "10.1016/j.celrep.2018.03.068",
                  "_deepnote_index_column": 17
                },
                {
                  "label": "JRC_FlyEM_Hemibrain neurons Version 1.0.1",
                  "symbol": "",
                  "id": "Xu2020Neurons",
                  "tags": "Entity|Individual|DataSet",
                  "description": "['Version 1.0.1 of reconstruction JRC_FlyEM_Hemibrain neurons and their synaptic connectivity']",
                  "miniref": "Xu et al., 2020",
                  "FlyBase": "",
                  "PMID": "",
                  "DOI": "10.1101/2020.01.21.911859",
                  "_deepnote_index_column": 29
                },
                {
                  "label": "JRC_FlyEM_Hemibrain neurons Version 1.1",
                  "symbol": "",
                  "id": "Xu2020NeuronsV1point1",
                  "tags": "Entity|Individual|DataSet",
                  "description": "['Version 1.1 of reconstruction JRC_FlyEM_Hemibrain neurons and their synaptic connectivity']",
                  "miniref": "Xu et al., 2020",
                  "FlyBase": "",
                  "PMID": "",
                  "DOI": "10.1101/2020.01.21.911859",
                  "_deepnote_index_column": 7
                },
                {
                  "label": "JRC_FlyEM_Hemibrain painted domains",
                  "symbol": "",
                  "id": "Xu2020roi",
                  "tags": "Entity|Individual|DataSet",
                  "description": "['Synapse segmentation and regions of interest on JRC_FlyEM_Hemibrain']",
                  "miniref": "Xu et al., 2020",
                  "FlyBase": "",
                  "PMID": "",
                  "DOI": "10.1101/2020.01.21.911859",
                  "_deepnote_index_column": 3
                },
                {
                  "label": "Lee lab adult brain lineage clone image set",
                  "symbol": "",
                  "id": "Yu2013",
                  "tags": "Entity|Individual|DataSet",
                  "description": "[\"An exhaustive set of lineage clones covering the adult brain from Tzumin Lee's lab.\"]",
                  "miniref": "Yu et al., 2013, Curr. Biol. 23(8): 633--643",
                  "FlyBase": "FBrf0221412",
                  "PMID": "23541733",
                  "DOI": "10.1016/j.cub.2013.02.057",
                  "_deepnote_index_column": 30
                },
                {
                  "label": "EM L1 Zarin, Mark et al. 2019",
                  "symbol": "",
                  "id": "Zarin2019",
                  "tags": "Entity|Individual|DataSet",
                  "description": "['L1 EM reconstructed neurons from Zarin, Mark et al. 2019']",
                  "miniref": "Zarin, Mark et al., 2019",
                  "FlyBase": "",
                  "PMID": "",
                  "DOI": "10.1101/617977",
                  "_deepnote_index_column": 15
                },
                {
                  "label": "EM FAFB Zheng et al 2018",
                  "symbol": "",
                  "id": "Zheng2018",
                  "tags": "Entity|Individual|DataSet",
                  "description": "['FAFB EM reconstructed neurons from Zheng et al 2018']",
                  "miniref": "Zheng et al., 2018, Cell 174(3): 730--743.e22",
                  "FlyBase": "FBrf0239557",
                  "PMID": "30033368",
                  "DOI": "10.1016/j.cell.2018.06.019",
                  "_deepnote_index_column": 48
                },
                {
                  "label": "EM FAFB Zheng et al 2020",
                  "symbol": "",
                  "id": "Zheng2020",
                  "tags": "Entity|Individual|DataSet",
                  "description": "['FAFB EM reconstructed neurons from Zheng et al 2020']",
                  "miniref": "Zheng et al. 2020",
                  "FlyBase": "",
                  "PMID": "",
                  "DOI": "10.1101/2020.04.17.047167",
                  "_deepnote_index_column": 34
                },
                {
                  "label": "Larval motor circuit neurons (Zwart2016)",
                  "symbol": "",
                  "id": "Zwart2016",
                  "tags": "Entity|Individual|DataSet",
                  "description": "['Zwart et al. 2016']",
                  "miniref": "Zwart et al., 2016, Neuron 91(3): 615--628",
                  "FlyBase": "FBrf0233076",
                  "PMID": "27427461",
                  "DOI": "10.1016/j.neuron.2016.06.031",
                  "_deepnote_index_column": 28
                }
              ],
              "rows_bottom": null
            },
            "text/plain": "                                                label symbol  \\\n81                          EM L1 Andrade et al. 2019          \n16  MBONs and split-GAL4 lines that target them (A...          \n19  split-GAL4 lines for dopaminergic neurons (Aso...          \n52              EM FAFB Bates and Schlegel et al 2020          \n0     Larval olfactory system neurons - EM (Berk2016)          \n..                                                ...    ...   \n30        Lee lab adult brain lineage clone image set          \n15                      EM L1 Zarin, Mark et al. 2019          \n48                           EM FAFB Zheng et al 2018          \n34                           EM FAFB Zheng et al 2020          \n28           Larval motor circuit neurons (Zwart2016)          \n\n                   id                       tags  \\\n81        Andrade2019  Entity|Individual|DataSet   \n16            Aso2014  Entity|Individual|DataSet   \n19       AsoRubin2016  Entity|Individual|DataSet   \n52  BatesSchlegel2020  Entity|Individual|DataSet   \n0           Berck2016  Entity|Individual|DataSet   \n..                ...                        ...   \n30             Yu2013  Entity|Individual|DataSet   \n15          Zarin2019  Entity|Individual|DataSet   \n48          Zheng2018  Entity|Individual|DataSet   \n34          Zheng2020  Entity|Individual|DataSet   \n28          Zwart2016  Entity|Individual|DataSet   \n\n                                          description  \\\n81  [L1 EM reconstructed neurons from Andrade et a...   \n16                                                 []   \n19  [For comparison of the properties of memories ...   \n52  [FAFB EM reconstructed neurons from Bates and ...   \n0                     [Berck, Khandelwal et al. 2016]   \n..                                                ...   \n30  [An exhaustive set of lineage clones covering ...   \n15  [L1 EM reconstructed neurons from Zarin, Mark ...   \n48  [FAFB EM reconstructed neurons from Zheng et a...   \n34  [FAFB EM reconstructed neurons from Zheng et a...   \n28                                [Zwart et al. 2016]   \n\n                                              miniref      FlyBase      PMID  \\\n81  Andrade et al., 2019, Curr. Biol. 29(3): 412--...  FBrf0241389  30661802   \n16                  Aso et al., 2014, eLife 3: e04577  FBrf0227179  25535793   \n19               Aso and Rubin, 2016, eLife 5: e16135  FBrf0233230  27441388   \n52                    Bates and Schlegel et al., 2020                          \n0                 Berck et al., 2016, eLife 5: e14859  FBrf0232785  27177418   \n..                                                ...          ...       ...   \n30       Yu et al., 2013, Curr. Biol. 23(8): 633--643  FBrf0221412  23541733   \n15                           Zarin, Mark et al., 2019                          \n48      Zheng et al., 2018, Cell 174(3): 730--743.e22  FBrf0239557  30033368   \n34                                  Zheng et al. 2020                          \n28         Zwart et al., 2016, Neuron 91(3): 615--628  FBrf0233076  27427461   \n\n                             DOI  \n81     10.1016/j.cub.2018.12.012  \n16           10.7554/eLife.04577  \n19           10.7554/eLife.16135  \n52     10.1016/j.cub.2020.06.042  \n0            10.7554/eLife.14859  \n..                           ...  \n30     10.1016/j.cub.2013.02.057  \n15                10.1101/617977  \n48    10.1016/j.cell.2018.06.019  \n34     10.1101/2020.04.17.047167  \n28  10.1016/j.neuron.2016.06.031  \n\n[83 rows x 9 columns]",
            "text/html": "<div>\n<style scoped>\n    .dataframe tbody tr th:only-of-type {\n        vertical-align: middle;\n    }\n\n    .dataframe tbody tr th {\n        vertical-align: top;\n    }\n\n    .dataframe thead th {\n        text-align: right;\n    }\n</style>\n<table border=\"1\" class=\"dataframe\">\n  <thead>\n    <tr style=\"text-align: right;\">\n      <th></th>\n      <th>label</th>\n      <th>symbol</th>\n      <th>id</th>\n      <th>tags</th>\n      <th>description</th>\n      <th>miniref</th>\n      <th>FlyBase</th>\n      <th>PMID</th>\n      <th>DOI</th>\n    </tr>\n  </thead>\n  <tbody>\n    <tr>\n      <th>81</th>\n      <td>EM L1 Andrade et al. 2019</td>\n      <td></td>\n      <td>Andrade2019</td>\n      <td>Entity|Individual|DataSet</td>\n      <td>[L1 EM reconstructed neurons from Andrade et a...</td>\n      <td>Andrade et al., 2019, Curr. Biol. 29(3): 412--...</td>\n      <td>FBrf0241389</td>\n      <td>30661802</td>\n      <td>10.1016/j.cub.2018.12.012</td>\n    </tr>\n    <tr>\n      <th>16</th>\n      <td>MBONs and split-GAL4 lines that target them (A...</td>\n      <td></td>\n      <td>Aso2014</td>\n      <td>Entity|Individual|DataSet</td>\n      <td>[]</td>\n      <td>Aso et al., 2014, eLife 3: e04577</td>\n      <td>FBrf0227179</td>\n      <td>25535793</td>\n      <td>10.7554/eLife.04577</td>\n    </tr>\n    <tr>\n      <th>19</th>\n      <td>split-GAL4 lines for dopaminergic neurons (Aso...</td>\n      <td></td>\n      <td>AsoRubin2016</td>\n      <td>Entity|Individual|DataSet</td>\n      <td>[For comparison of the properties of memories ...</td>\n      <td>Aso and Rubin, 2016, eLife 5: e16135</td>\n      <td>FBrf0233230</td>\n      <td>27441388</td>\n      <td>10.7554/eLife.16135</td>\n    </tr>\n    <tr>\n      <th>52</th>\n      <td>EM FAFB Bates and Schlegel et al 2020</td>\n      <td></td>\n      <td>BatesSchlegel2020</td>\n      <td>Entity|Individual|DataSet</td>\n      <td>[FAFB EM reconstructed neurons from Bates and ...</td>\n      <td>Bates and Schlegel et al., 2020</td>\n      <td></td>\n      <td></td>\n      <td>10.1016/j.cub.2020.06.042</td>\n    </tr>\n    <tr>\n      <th>0</th>\n      <td>Larval olfactory system neurons - EM (Berk2016)</td>\n      <td></td>\n      <td>Berck2016</td>\n      <td>Entity|Individual|DataSet</td>\n      <td>[Berck, Khandelwal et al. 2016]</td>\n      <td>Berck et al., 2016, eLife 5: e14859</td>\n      <td>FBrf0232785</td>\n      <td>27177418</td>\n      <td>10.7554/eLife.14859</td>\n    </tr>\n    <tr>\n      <th>...</th>\n      <td>...</td>\n      <td>...</td>\n      <td>...</td>\n      <td>...</td>\n      <td>...</td>\n      <td>...</td>\n      <td>...</td>\n      <td>...</td>\n      <td>...</td>\n    </tr>\n    <tr>\n      <th>30</th>\n      <td>Lee lab adult brain lineage clone image set</td>\n      <td></td>\n      <td>Yu2013</td>\n      <td>Entity|Individual|DataSet</td>\n      <td>[An exhaustive set of lineage clones covering ...</td>\n      <td>Yu et al., 2013, Curr. Biol. 23(8): 633--643</td>\n      <td>FBrf0221412</td>\n      <td>23541733</td>\n      <td>10.1016/j.cub.2013.02.057</td>\n    </tr>\n    <tr>\n      <th>15</th>\n      <td>EM L1 Zarin, Mark et al. 2019</td>\n      <td></td>\n      <td>Zarin2019</td>\n      <td>Entity|Individual|DataSet</td>\n      <td>[L1 EM reconstructed neurons from Zarin, Mark ...</td>\n      <td>Zarin, Mark et al., 2019</td>\n      <td></td>\n      <td></td>\n      <td>10.1101/617977</td>\n    </tr>\n    <tr>\n      <th>48</th>\n      <td>EM FAFB Zheng et al 2018</td>\n      <td></td>\n      <td>Zheng2018</td>\n      <td>Entity|Individual|DataSet</td>\n      <td>[FAFB EM reconstructed neurons from Zheng et a...</td>\n      <td>Zheng et al., 2018, Cell 174(3): 730--743.e22</td>\n      <td>FBrf0239557</td>\n      <td>30033368</td>\n      <td>10.1016/j.cell.2018.06.019</td>\n    </tr>\n    <tr>\n      <th>34</th>\n      <td>EM FAFB Zheng et al 2020</td>\n      <td></td>\n      <td>Zheng2020</td>\n      <td>Entity|Individual|DataSet</td>\n      <td>[FAFB EM reconstructed neurons from Zheng et a...</td>\n      <td>Zheng et al. 2020</td>\n      <td></td>\n      <td></td>\n      <td>10.1101/2020.04.17.047167</td>\n    </tr>\n    <tr>\n      <th>28</th>\n      <td>Larval motor circuit neurons (Zwart2016)</td>\n      <td></td>\n      <td>Zwart2016</td>\n      <td>Entity|Individual|DataSet</td>\n      <td>[Zwart et al. 2016]</td>\n      <td>Zwart et al., 2016, Neuron 91(3): 615--628</td>\n      <td>FBrf0233076</td>\n      <td>27427461</td>\n      <td>10.1016/j.neuron.2016.06.031</td>\n    </tr>\n  </tbody>\n</table>\n<p>83 rows × 9 columns</p>\n</div>"
          },
          "metadata": {}
        }
      ]
    },
    {
      "cell_type": "code",
      "metadata": {
        "tags": [],
        "cell_id": "00011-0813a13c-a41c-4399-86ea-af6b1934912b",
        "deepnote_to_be_reexecuted": false,
        "source_hash": "8d995be0",
        "execution_millis": 429,
        "output_cleared": false,
        "execution_start": 1614738319313,
        "deepnote_cell_type": "code"
      },
      "source": [
        "sayin_tab = pd.DataFrame.from_records(vc.get_instances_by_dataset('Sayin2019', summary=True))\n",
        "sayin_tab"
      ],
      "execution_count": null,
      "outputs": [
        {
          "output_type": "execute_result",
          "execution_count": 12,
          "data": {
            "application/vnd.deepnote.dataframe.v2+json": {
              "row_count": 2,
              "column_count": 11,
              "columns": [
                {
                  "name": "label",
                  "dtype": "object",
                  "stats": {
                    "unique_count": 2,
                    "nan_count": 0,
                    "categories": [
                      {
                        "name": "OA-VPM3 (FAFB:1329078)",
                        "count": 1
                      },
                      {
                        "name": "OA-VPM4 (FAFB:1191261)",
                        "count": 1
                      }
                    ]
                  }
                },
                {
                  "name": "symbol",
                  "dtype": "object",
                  "stats": {
                    "unique_count": 1,
                    "nan_count": 0,
                    "categories": [
                      {
                        "name": "",
                        "count": 2
                      }
                    ]
                  }
                },
                {
                  "name": "id",
                  "dtype": "object",
                  "stats": {
                    "unique_count": 2,
                    "nan_count": 0,
                    "categories": [
                      {
                        "name": "VFB_001001dr",
                        "count": 1
                      },
                      {
                        "name": "VFB_001001dq",
                        "count": 1
                      }
                    ]
                  }
                },
                {
                  "name": "tags",
                  "dtype": "object",
                  "stats": {
                    "unique_count": 1,
                    "nan_count": 0,
                    "categories": [
                      {
                        "name": "Entity|Octopaminergic|Adult|Anatomy|has_image|Cell|Individual|has_neuron_connectivity|Nervous_system|Neuron",
                        "count": 2
                      }
                    ]
                  }
                },
                {
                  "name": "parents_label",
                  "dtype": "object",
                  "stats": {
                    "unique_count": 2,
                    "nan_count": 0,
                    "categories": [
                      {
                        "name": "octopaminergic VPM3 neuron",
                        "count": 1
                      },
                      {
                        "name": "octopaminergic VPM4 neuron",
                        "count": 1
                      }
                    ]
                  }
                },
                {
                  "name": "parents_id",
                  "dtype": "object",
                  "stats": {
                    "unique_count": 2,
                    "nan_count": 0,
                    "categories": [
                      {
                        "name": "FBbt_00110151",
                        "count": 1
                      },
                      {
                        "name": "FBbt_00110152",
                        "count": 1
                      }
                    ]
                  }
                },
                {
                  "name": "data_source",
                  "dtype": "object",
                  "stats": {
                    "unique_count": 1,
                    "nan_count": 0,
                    "categories": [
                      {
                        "name": "catmaid_fafb",
                        "count": 2
                      }
                    ]
                  }
                },
                {
                  "name": "accession",
                  "dtype": "object",
                  "stats": {
                    "unique_count": 2,
                    "nan_count": 0,
                    "categories": [
                      {
                        "name": "1329078",
                        "count": 1
                      },
                      {
                        "name": "1191261",
                        "count": 1
                      }
                    ]
                  }
                },
                {
                  "name": "templates",
                  "dtype": "object",
                  "stats": {
                    "unique_count": 1,
                    "nan_count": 0,
                    "categories": [
                      {
                        "name": "JRC2018Unisex",
                        "count": 2
                      }
                    ]
                  }
                },
                {
                  "name": "dataset",
                  "dtype": "object",
                  "stats": {
                    "unique_count": 1,
                    "nan_count": 0,
                    "categories": [
                      {
                        "name": "Sayin2019",
                        "count": 2
                      }
                    ]
                  }
                },
                {
                  "name": "license",
                  "dtype": "object",
                  "stats": {
                    "unique_count": 1,
                    "nan_count": 0,
                    "categories": [
                      {
                        "name": "https://creativecommons.org/licenses/by-sa/4.0/legalcode",
                        "count": 2
                      }
                    ]
                  }
                },
                {
                  "name": "_deepnote_index_column",
                  "dtype": "int64"
                }
              ],
              "rows_top": [
                {
                  "label": "OA-VPM3 (FAFB:1329078)",
                  "symbol": "",
                  "id": "VFB_001001dr",
                  "tags": "Entity|Octopaminergic|Adult|Anatomy|has_image|Cell|Individual|has_neuron_connectivity|Nervous_system|Neuron",
                  "parents_label": "octopaminergic VPM3 neuron",
                  "parents_id": "FBbt_00110151",
                  "data_source": "catmaid_fafb",
                  "accession": "1329078",
                  "templates": "JRC2018Unisex",
                  "dataset": "Sayin2019",
                  "license": "https://creativecommons.org/licenses/by-sa/4.0/legalcode",
                  "_deepnote_index_column": 0
                },
                {
                  "label": "OA-VPM4 (FAFB:1191261)",
                  "symbol": "",
                  "id": "VFB_001001dq",
                  "tags": "Entity|Octopaminergic|Adult|Anatomy|has_image|Cell|Individual|has_neuron_connectivity|Nervous_system|Neuron",
                  "parents_label": "octopaminergic VPM4 neuron",
                  "parents_id": "FBbt_00110152",
                  "data_source": "catmaid_fafb",
                  "accession": "1191261",
                  "templates": "JRC2018Unisex",
                  "dataset": "Sayin2019",
                  "license": "https://creativecommons.org/licenses/by-sa/4.0/legalcode",
                  "_deepnote_index_column": 1
                }
              ],
              "rows_bottom": null
            },
            "text/plain": "                    label symbol            id  \\\n0  OA-VPM3 (FAFB:1329078)         VFB_001001dr   \n1  OA-VPM4 (FAFB:1191261)         VFB_001001dq   \n\n                                                tags  \\\n0  Entity|Octopaminergic|Adult|Anatomy|has_image|...   \n1  Entity|Octopaminergic|Adult|Anatomy|has_image|...   \n\n                parents_label     parents_id   data_source accession  \\\n0  octopaminergic VPM3 neuron  FBbt_00110151  catmaid_fafb   1329078   \n1  octopaminergic VPM4 neuron  FBbt_00110152  catmaid_fafb   1191261   \n\n       templates    dataset                                            license  \n0  JRC2018Unisex  Sayin2019  https://creativecommons.org/licenses/by-sa/4.0...  \n1  JRC2018Unisex  Sayin2019  https://creativecommons.org/licenses/by-sa/4.0...  ",
            "text/html": "<div>\n<style scoped>\n    .dataframe tbody tr th:only-of-type {\n        vertical-align: middle;\n    }\n\n    .dataframe tbody tr th {\n        vertical-align: top;\n    }\n\n    .dataframe thead th {\n        text-align: right;\n    }\n</style>\n<table border=\"1\" class=\"dataframe\">\n  <thead>\n    <tr style=\"text-align: right;\">\n      <th></th>\n      <th>label</th>\n      <th>symbol</th>\n      <th>id</th>\n      <th>tags</th>\n      <th>parents_label</th>\n      <th>parents_id</th>\n      <th>data_source</th>\n      <th>accession</th>\n      <th>templates</th>\n      <th>dataset</th>\n      <th>license</th>\n    </tr>\n  </thead>\n  <tbody>\n    <tr>\n      <th>0</th>\n      <td>OA-VPM3 (FAFB:1329078)</td>\n      <td></td>\n      <td>VFB_001001dr</td>\n      <td>Entity|Octopaminergic|Adult|Anatomy|has_image|...</td>\n      <td>octopaminergic VPM3 neuron</td>\n      <td>FBbt_00110151</td>\n      <td>catmaid_fafb</td>\n      <td>1329078</td>\n      <td>JRC2018Unisex</td>\n      <td>Sayin2019</td>\n      <td>https://creativecommons.org/licenses/by-sa/4.0...</td>\n    </tr>\n    <tr>\n      <th>1</th>\n      <td>OA-VPM4 (FAFB:1191261)</td>\n      <td></td>\n      <td>VFB_001001dq</td>\n      <td>Entity|Octopaminergic|Adult|Anatomy|has_image|...</td>\n      <td>octopaminergic VPM4 neuron</td>\n      <td>FBbt_00110152</td>\n      <td>catmaid_fafb</td>\n      <td>1191261</td>\n      <td>JRC2018Unisex</td>\n      <td>Sayin2019</td>\n      <td>https://creativecommons.org/licenses/by-sa/4.0...</td>\n    </tr>\n  </tbody>\n</table>\n</div>"
          },
          "metadata": {}
        }
      ]
    },
    {
      "cell_type": "code",
      "metadata": {
        "tags": [],
        "cell_id": "00013-c3cc7d86-9755-48dc-a66e-3a702ebbc015",
        "deepnote_to_be_reexecuted": false,
        "source_hash": "962af1fb",
        "execution_millis": 279,
        "execution_start": 1614738289534,
        "deepnote_cell_type": "code"
      },
      "source": [
        "vc.get_connected_neurons_by_type(upstream_type='LNd', downstream_type='adult descending neuron', weight=20)"
      ],
      "execution_count": null,
      "outputs": [
        {
          "output_type": "execute_result",
          "execution_count": 9,
          "data": {
            "application/vnd.deepnote.dataframe.v2+json": {
              "row_count": 1,
              "column_count": 11,
              "columns": [
                {
                  "name": "upstream_neuron_id",
                  "dtype": "object",
                  "stats": {
                    "unique_count": 1,
                    "nan_count": 0,
                    "categories": [
                      {
                        "name": "VFB_jrchjzxx",
                        "count": 1
                      }
                    ]
                  }
                },
                {
                  "name": "upstream_neuron_name",
                  "dtype": "object",
                  "stats": {
                    "unique_count": 1,
                    "nan_count": 0,
                    "categories": [
                      {
                        "name": "LNd_R - 5813021192",
                        "count": 1
                      }
                    ]
                  }
                },
                {
                  "name": "weight",
                  "dtype": "int64",
                  "stats": {
                    "unique_count": 1,
                    "nan_count": 0,
                    "min": 25,
                    "max": 25,
                    "histogram": [
                      {
                        "bin_start": 24.5,
                        "bin_end": 24.6,
                        "count": 0
                      },
                      {
                        "bin_start": 24.6,
                        "bin_end": 24.7,
                        "count": 0
                      },
                      {
                        "bin_start": 24.7,
                        "bin_end": 24.8,
                        "count": 0
                      },
                      {
                        "bin_start": 24.8,
                        "bin_end": 24.9,
                        "count": 0
                      },
                      {
                        "bin_start": 24.9,
                        "bin_end": 25,
                        "count": 0
                      },
                      {
                        "bin_start": 25,
                        "bin_end": 25.1,
                        "count": 1
                      },
                      {
                        "bin_start": 25.1,
                        "bin_end": 25.2,
                        "count": 0
                      },
                      {
                        "bin_start": 25.2,
                        "bin_end": 25.3,
                        "count": 0
                      },
                      {
                        "bin_start": 25.3,
                        "bin_end": 25.4,
                        "count": 0
                      },
                      {
                        "bin_start": 25.4,
                        "bin_end": 25.5,
                        "count": 0
                      }
                    ]
                  }
                },
                {
                  "name": "downstream_neuron_id",
                  "dtype": "object",
                  "stats": {
                    "unique_count": 1,
                    "nan_count": 0,
                    "categories": [
                      {
                        "name": "VFB_jrchjthm",
                        "count": 1
                      }
                    ]
                  }
                },
                {
                  "name": "downstream_neuron_name",
                  "dtype": "object",
                  "stats": {
                    "unique_count": 1,
                    "nan_count": 0,
                    "categories": [
                      {
                        "name": "DNp27_R - 1072063538",
                        "count": 1
                      }
                    ]
                  }
                },
                {
                  "name": "upstream_class",
                  "dtype": "object",
                  "stats": {
                    "unique_count": 1,
                    "nan_count": 0,
                    "categories": [
                      {
                        "name": "LNd neuron",
                        "count": 1
                      }
                    ]
                  }
                },
                {
                  "name": "downstream_class",
                  "dtype": "object",
                  "stats": {
                    "unique_count": 1,
                    "nan_count": 0,
                    "categories": [
                      {
                        "name": "descending neuron of the posterior brain DNp27",
                        "count": 1
                      }
                    ]
                  }
                },
                {
                  "name": "up_data_source",
                  "dtype": "object",
                  "stats": {
                    "unique_count": 1,
                    "nan_count": 0,
                    "categories": [
                      {
                        "name": "neuprint_JRC_Hemibrain_1point1",
                        "count": 1
                      }
                    ]
                  }
                },
                {
                  "name": "up_accession",
                  "dtype": "object",
                  "stats": {
                    "unique_count": 1,
                    "nan_count": 0,
                    "categories": [
                      {
                        "name": "5813021192",
                        "count": 1
                      }
                    ]
                  }
                },
                {
                  "name": "down_source",
                  "dtype": "object",
                  "stats": {
                    "unique_count": 1,
                    "nan_count": 0,
                    "categories": [
                      {
                        "name": "neuprint_JRC_Hemibrain_1point1",
                        "count": 1
                      }
                    ]
                  }
                },
                {
                  "name": "down_accession",
                  "dtype": "object",
                  "stats": {
                    "unique_count": 1,
                    "nan_count": 0,
                    "categories": [
                      {
                        "name": "1072063538",
                        "count": 1
                      }
                    ]
                  }
                },
                {
                  "name": "_deepnote_index_column",
                  "dtype": "int64"
                }
              ],
              "rows_top": [
                {
                  "upstream_neuron_id": "VFB_jrchjzxx",
                  "upstream_neuron_name": "LNd_R - 5813021192",
                  "weight": 25,
                  "downstream_neuron_id": "VFB_jrchjthm",
                  "downstream_neuron_name": "DNp27_R - 1072063538",
                  "upstream_class": "LNd neuron",
                  "downstream_class": "descending neuron of the posterior brain DNp27",
                  "up_data_source": "neuprint_JRC_Hemibrain_1point1",
                  "up_accession": "5813021192",
                  "down_source": "neuprint_JRC_Hemibrain_1point1",
                  "down_accession": "1072063538",
                  "_deepnote_index_column": 0
                }
              ],
              "rows_bottom": null
            },
            "text/plain": "  upstream_neuron_id upstream_neuron_name  weight downstream_neuron_id  \\\n0       VFB_jrchjzxx   LNd_R - 5813021192      25         VFB_jrchjthm   \n\n  downstream_neuron_name upstream_class  \\\n0   DNp27_R - 1072063538     LNd neuron   \n\n                                 downstream_class  \\\n0  descending neuron of the posterior brain DNp27   \n\n                   up_data_source up_accession  \\\n0  neuprint_JRC_Hemibrain_1point1   5813021192   \n\n                      down_source down_accession  \n0  neuprint_JRC_Hemibrain_1point1     1072063538  ",
            "text/html": "<div>\n<style scoped>\n    .dataframe tbody tr th:only-of-type {\n        vertical-align: middle;\n    }\n\n    .dataframe tbody tr th {\n        vertical-align: top;\n    }\n\n    .dataframe thead th {\n        text-align: right;\n    }\n</style>\n<table border=\"1\" class=\"dataframe\">\n  <thead>\n    <tr style=\"text-align: right;\">\n      <th></th>\n      <th>upstream_neuron_id</th>\n      <th>upstream_neuron_name</th>\n      <th>weight</th>\n      <th>downstream_neuron_id</th>\n      <th>downstream_neuron_name</th>\n      <th>upstream_class</th>\n      <th>downstream_class</th>\n      <th>up_data_source</th>\n      <th>up_accession</th>\n      <th>down_source</th>\n      <th>down_accession</th>\n    </tr>\n  </thead>\n  <tbody>\n    <tr>\n      <th>0</th>\n      <td>VFB_jrchjzxx</td>\n      <td>LNd_R - 5813021192</td>\n      <td>25</td>\n      <td>VFB_jrchjthm</td>\n      <td>DNp27_R - 1072063538</td>\n      <td>LNd neuron</td>\n      <td>descending neuron of the posterior brain DNp27</td>\n      <td>neuprint_JRC_Hemibrain_1point1</td>\n      <td>5813021192</td>\n      <td>neuprint_JRC_Hemibrain_1point1</td>\n      <td>1072063538</td>\n    </tr>\n  </tbody>\n</table>\n</div>"
          },
          "metadata": {}
        }
      ]
    },
    {
      "cell_type": "code",
      "metadata": {
        "tags": [],
        "cell_id": "00014-4dfb6b71-235d-4a48-8c0d-9207aa900448",
        "deepnote_to_be_reexecuted": false,
        "source_hash": "d785af5",
        "execution_millis": 286,
        "execution_start": 1614738379854,
        "deepnote_cell_type": "code"
      },
      "source": [
        "# Intra pacemaker neuron neuron connections\n",
        "\n",
        "vc.get_connected_neurons_by_type(upstream_type='pacemaker neuron', downstream_type='pacemaker neuron', weight=20)"
      ],
      "execution_count": null,
      "outputs": [
        {
          "output_type": "execute_result",
          "execution_count": 13,
          "data": {
            "application/vnd.deepnote.dataframe.v2+json": {
              "row_count": 20,
              "column_count": 11,
              "columns": [
                {
                  "name": "upstream_neuron_id",
                  "dtype": "object",
                  "stats": {
                    "unique_count": 11,
                    "nan_count": 0,
                    "categories": [
                      {
                        "name": "VFB_jrchjzxy",
                        "count": 3
                      },
                      {
                        "name": "VFB_jrchjtf0",
                        "count": 2
                      },
                      {
                        "name": "9 others",
                        "count": 15
                      }
                    ]
                  }
                },
                {
                  "name": "upstream_neuron_name",
                  "dtype": "object",
                  "stats": {
                    "unique_count": 11,
                    "nan_count": 0,
                    "categories": [
                      {
                        "name": "LNd_R - 5813069648",
                        "count": 3
                      },
                      {
                        "name": "DN1pA_R - 324846570",
                        "count": 2
                      },
                      {
                        "name": "9 others",
                        "count": 15
                      }
                    ]
                  }
                },
                {
                  "name": "weight",
                  "dtype": "int64",
                  "stats": {
                    "unique_count": 14,
                    "nan_count": 0,
                    "min": 21,
                    "max": 79,
                    "histogram": [
                      {
                        "bin_start": 21,
                        "bin_end": 26.8,
                        "count": 6
                      },
                      {
                        "bin_start": 26.8,
                        "bin_end": 32.6,
                        "count": 4
                      },
                      {
                        "bin_start": 32.6,
                        "bin_end": 38.4,
                        "count": 4
                      },
                      {
                        "bin_start": 38.4,
                        "bin_end": 44.2,
                        "count": 2
                      },
                      {
                        "bin_start": 44.2,
                        "bin_end": 50,
                        "count": 0
                      },
                      {
                        "bin_start": 50,
                        "bin_end": 55.8,
                        "count": 1
                      },
                      {
                        "bin_start": 55.8,
                        "bin_end": 61.6,
                        "count": 0
                      },
                      {
                        "bin_start": 61.6,
                        "bin_end": 67.4,
                        "count": 1
                      },
                      {
                        "bin_start": 67.4,
                        "bin_end": 73.19999999999999,
                        "count": 0
                      },
                      {
                        "bin_start": 73.19999999999999,
                        "bin_end": 79,
                        "count": 2
                      }
                    ]
                  }
                },
                {
                  "name": "downstream_neuron_id",
                  "dtype": "object",
                  "stats": {
                    "unique_count": 6,
                    "nan_count": 0,
                    "categories": [
                      {
                        "name": "VFB_jrchk8e0",
                        "count": 8
                      },
                      {
                        "name": "VFB_jrchjzxy",
                        "count": 7
                      },
                      {
                        "name": "4 others",
                        "count": 5
                      }
                    ]
                  }
                },
                {
                  "name": "downstream_neuron_name",
                  "dtype": "object",
                  "stats": {
                    "unique_count": 6,
                    "nan_count": 0,
                    "categories": [
                      {
                        "name": "5th s-LNv - 511051477",
                        "count": 8
                      },
                      {
                        "name": "LNd_R - 5813069648",
                        "count": 7
                      },
                      {
                        "name": "4 others",
                        "count": 5
                      }
                    ]
                  }
                },
                {
                  "name": "upstream_class",
                  "dtype": "object",
                  "stats": {
                    "unique_count": 5,
                    "nan_count": 0,
                    "categories": [
                      {
                        "name": "DN1p neuron",
                        "count": 9
                      },
                      {
                        "name": "DN1a neuron",
                        "count": 4
                      },
                      {
                        "name": "3 others",
                        "count": 7
                      }
                    ]
                  }
                },
                {
                  "name": "downstream_class",
                  "dtype": "object",
                  "stats": {
                    "unique_count": 3,
                    "nan_count": 0,
                    "categories": [
                      {
                        "name": "LNd neuron",
                        "count": 10
                      },
                      {
                        "name": "s-LNv neuron",
                        "count": 8
                      },
                      {
                        "name": "LP neuron",
                        "count": 2
                      }
                    ]
                  }
                },
                {
                  "name": "up_data_source",
                  "dtype": "object",
                  "stats": {
                    "unique_count": 1,
                    "nan_count": 0,
                    "categories": [
                      {
                        "name": "neuprint_JRC_Hemibrain_1point1",
                        "count": 20
                      }
                    ]
                  }
                },
                {
                  "name": "up_accession",
                  "dtype": "object",
                  "stats": {
                    "unique_count": 11,
                    "nan_count": 0,
                    "categories": [
                      {
                        "name": "5813069648",
                        "count": 3
                      },
                      {
                        "name": "324846570",
                        "count": 2
                      },
                      {
                        "name": "9 others",
                        "count": 15
                      }
                    ]
                  }
                },
                {
                  "name": "down_source",
                  "dtype": "object",
                  "stats": {
                    "unique_count": 1,
                    "nan_count": 0,
                    "categories": [
                      {
                        "name": "neuprint_JRC_Hemibrain_1point1",
                        "count": 20
                      }
                    ]
                  }
                },
                {
                  "name": "down_accession",
                  "dtype": "object",
                  "stats": {
                    "unique_count": 6,
                    "nan_count": 0,
                    "categories": [
                      {
                        "name": "511051477",
                        "count": 8
                      },
                      {
                        "name": "5813069648",
                        "count": 7
                      },
                      {
                        "name": "4 others",
                        "count": 5
                      }
                    ]
                  }
                },
                {
                  "name": "_deepnote_index_column",
                  "dtype": "int64"
                }
              ],
              "rows_top": [
                {
                  "upstream_neuron_id": "VFB_jrchjzxy",
                  "upstream_neuron_name": "LNd_R - 5813069648",
                  "weight": 37,
                  "downstream_neuron_id": "VFB_jrchk8e0",
                  "downstream_neuron_name": "5th s-LNv - 511051477",
                  "upstream_class": "LNd neuron",
                  "downstream_class": "s-LNv neuron",
                  "up_data_source": "neuprint_JRC_Hemibrain_1point1",
                  "up_accession": "5813069648",
                  "down_source": "neuprint_JRC_Hemibrain_1point1",
                  "down_accession": "511051477",
                  "_deepnote_index_column": 0
                },
                {
                  "upstream_neuron_id": "VFB_jrchk089",
                  "upstream_neuron_name": "LPN_R - 480029788",
                  "weight": 43,
                  "downstream_neuron_id": "VFB_jrchk08a",
                  "downstream_neuron_name": "LPN_R - 450034902",
                  "upstream_class": "LP neuron",
                  "downstream_class": "LP neuron",
                  "up_data_source": "neuprint_JRC_Hemibrain_1point1",
                  "up_accession": "480029788",
                  "down_source": "neuprint_JRC_Hemibrain_1point1",
                  "down_accession": "450034902",
                  "_deepnote_index_column": 1
                },
                {
                  "upstream_neuron_id": "VFB_jrchjtf0",
                  "upstream_neuron_name": "DN1pA_R - 324846570",
                  "weight": 25,
                  "downstream_neuron_id": "VFB_jrchk8e0",
                  "downstream_neuron_name": "5th s-LNv - 511051477",
                  "upstream_class": "DN1p neuron",
                  "downstream_class": "s-LNv neuron",
                  "up_data_source": "neuprint_JRC_Hemibrain_1point1",
                  "up_accession": "324846570",
                  "down_source": "neuprint_JRC_Hemibrain_1point1",
                  "down_accession": "511051477",
                  "_deepnote_index_column": 2
                },
                {
                  "upstream_neuron_id": "VFB_jrchjtf0",
                  "upstream_neuron_name": "DN1pA_R - 324846570",
                  "weight": 37,
                  "downstream_neuron_id": "VFB_jrchjzxy",
                  "downstream_neuron_name": "LNd_R - 5813069648",
                  "upstream_class": "DN1p neuron",
                  "downstream_class": "LNd neuron",
                  "up_data_source": "neuprint_JRC_Hemibrain_1point1",
                  "up_accession": "324846570",
                  "down_source": "neuprint_JRC_Hemibrain_1point1",
                  "down_accession": "5813069648",
                  "_deepnote_index_column": 3
                },
                {
                  "upstream_neuron_id": "VFB_jrchk8e0",
                  "upstream_neuron_name": "5th s-LNv - 511051477",
                  "weight": 40,
                  "downstream_neuron_id": "VFB_jrchjzxy",
                  "downstream_neuron_name": "LNd_R - 5813069648",
                  "upstream_class": "s-LNv neuron",
                  "downstream_class": "LNd neuron",
                  "up_data_source": "neuprint_JRC_Hemibrain_1point1",
                  "up_accession": "511051477",
                  "down_source": "neuprint_JRC_Hemibrain_1point1",
                  "down_accession": "5813069648",
                  "_deepnote_index_column": 4
                },
                {
                  "upstream_neuron_id": "VFB_jrchjtf3",
                  "upstream_neuron_name": "DN1pA_R - 387166379",
                  "weight": 25,
                  "downstream_neuron_id": "VFB_jrchk8e0",
                  "downstream_neuron_name": "5th s-LNv - 511051477",
                  "upstream_class": "DN1p neuron",
                  "downstream_class": "s-LNv neuron",
                  "up_data_source": "neuprint_JRC_Hemibrain_1point1",
                  "up_accession": "387166379",
                  "down_source": "neuprint_JRC_Hemibrain_1point1",
                  "down_accession": "511051477",
                  "_deepnote_index_column": 5
                },
                {
                  "upstream_neuron_id": "VFB_jrchjtf1",
                  "upstream_neuron_name": "DN1pA_R - 325529237",
                  "weight": 30,
                  "downstream_neuron_id": "VFB_jrchjzxy",
                  "downstream_neuron_name": "LNd_R - 5813069648",
                  "upstream_class": "DN1p neuron",
                  "downstream_class": "LNd neuron",
                  "up_data_source": "neuprint_JRC_Hemibrain_1point1",
                  "up_accession": "325529237",
                  "down_source": "neuprint_JRC_Hemibrain_1point1",
                  "down_accession": "5813069648",
                  "_deepnote_index_column": 6
                },
                {
                  "upstream_neuron_id": "VFB_jrchk8e0",
                  "upstream_neuron_name": "5th s-LNv - 511051477",
                  "weight": 25,
                  "downstream_neuron_id": "VFB_jrchjzxx",
                  "downstream_neuron_name": "LNd_R - 5813021192",
                  "upstream_class": "s-LNv neuron",
                  "downstream_class": "LNd neuron",
                  "up_data_source": "neuprint_JRC_Hemibrain_1point1",
                  "up_accession": "511051477",
                  "down_source": "neuprint_JRC_Hemibrain_1point1",
                  "down_accession": "5813021192",
                  "_deepnote_index_column": 7
                },
                {
                  "upstream_neuron_id": "VFB_jrchjtez",
                  "upstream_neuron_name": "DN1pA_R - 5813010153",
                  "weight": 25,
                  "downstream_neuron_id": "VFB_jrchk8e0",
                  "downstream_neuron_name": "5th s-LNv - 511051477",
                  "upstream_class": "DN1p neuron",
                  "downstream_class": "s-LNv neuron",
                  "up_data_source": "neuprint_JRC_Hemibrain_1point1",
                  "up_accession": "5813010153",
                  "down_source": "neuprint_JRC_Hemibrain_1point1",
                  "down_accession": "511051477",
                  "_deepnote_index_column": 8
                },
                {
                  "upstream_neuron_id": "VFB_jrchjzxy",
                  "upstream_neuron_name": "LNd_R - 5813069648",
                  "weight": 29,
                  "downstream_neuron_id": "VFB_jrchjzxw",
                  "downstream_neuron_name": "LNd_R - 5813056917",
                  "upstream_class": "LNd neuron",
                  "downstream_class": "LNd neuron",
                  "up_data_source": "neuprint_JRC_Hemibrain_1point1",
                  "up_accession": "5813069648",
                  "down_source": "neuprint_JRC_Hemibrain_1point1",
                  "down_accession": "5813056917",
                  "_deepnote_index_column": 9
                },
                {
                  "upstream_neuron_id": "VFB_jrchjtf2",
                  "upstream_neuron_name": "DN1pA_R - 387944118",
                  "weight": 22,
                  "downstream_neuron_id": "VFB_jrchk8e0",
                  "downstream_neuron_name": "5th s-LNv - 511051477",
                  "upstream_class": "DN1p neuron",
                  "downstream_class": "s-LNv neuron",
                  "up_data_source": "neuprint_JRC_Hemibrain_1point1",
                  "up_accession": "387944118",
                  "down_source": "neuprint_JRC_Hemibrain_1point1",
                  "down_accession": "511051477",
                  "_deepnote_index_column": 10
                },
                {
                  "upstream_neuron_id": "VFB_jrchjtf2",
                  "upstream_neuron_name": "DN1pA_R - 387944118",
                  "weight": 34,
                  "downstream_neuron_id": "VFB_jrchjzxy",
                  "downstream_neuron_name": "LNd_R - 5813069648",
                  "upstream_class": "DN1p neuron",
                  "downstream_class": "LNd neuron",
                  "up_data_source": "neuprint_JRC_Hemibrain_1point1",
                  "up_accession": "387944118",
                  "down_source": "neuprint_JRC_Hemibrain_1point1",
                  "down_accession": "5813069648",
                  "_deepnote_index_column": 11
                },
                {
                  "upstream_neuron_id": "VFB_jrchjtf1",
                  "upstream_neuron_name": "DN1pA_R - 325529237",
                  "weight": 33,
                  "downstream_neuron_id": "VFB_jrchk8e0",
                  "downstream_neuron_name": "5th s-LNv - 511051477",
                  "upstream_class": "DN1p neuron",
                  "downstream_class": "s-LNv neuron",
                  "up_data_source": "neuprint_JRC_Hemibrain_1point1",
                  "up_accession": "325529237",
                  "down_source": "neuprint_JRC_Hemibrain_1point1",
                  "down_accession": "511051477",
                  "_deepnote_index_column": 12
                },
                {
                  "upstream_neuron_id": "VFB_jrchk08a",
                  "upstream_neuron_name": "LPN_R - 450034902",
                  "weight": 30,
                  "downstream_neuron_id": "VFB_jrchk089",
                  "downstream_neuron_name": "LPN_R - 480029788",
                  "upstream_class": "LP neuron",
                  "downstream_class": "LP neuron",
                  "up_data_source": "neuprint_JRC_Hemibrain_1point1",
                  "up_accession": "450034902",
                  "down_source": "neuprint_JRC_Hemibrain_1point1",
                  "down_accession": "480029788",
                  "_deepnote_index_column": 13
                },
                {
                  "upstream_neuron_id": "VFB_jrchjtey",
                  "upstream_neuron_name": "DN1a_R - 5813022274",
                  "weight": 63,
                  "downstream_neuron_id": "VFB_jrchk8e0",
                  "downstream_neuron_name": "5th s-LNv - 511051477",
                  "upstream_class": "DN1a neuron",
                  "downstream_class": "s-LNv neuron",
                  "up_data_source": "neuprint_JRC_Hemibrain_1point1",
                  "up_accession": "5813022274",
                  "down_source": "neuprint_JRC_Hemibrain_1point1",
                  "down_accession": "511051477",
                  "_deepnote_index_column": 14
                },
                {
                  "upstream_neuron_id": "VFB_jrchjtex",
                  "upstream_neuron_name": "DN1a_R - 264083994",
                  "weight": 55,
                  "downstream_neuron_id": "VFB_jrchk8e0",
                  "downstream_neuron_name": "5th s-LNv - 511051477",
                  "upstream_class": "DN1a neuron",
                  "downstream_class": "s-LNv neuron",
                  "up_data_source": "neuprint_JRC_Hemibrain_1point1",
                  "up_accession": "264083994",
                  "down_source": "neuprint_JRC_Hemibrain_1point1",
                  "down_accession": "511051477",
                  "_deepnote_index_column": 15
                },
                {
                  "upstream_neuron_id": "VFB_jrchjtey",
                  "upstream_neuron_name": "DN1a_R - 5813022274",
                  "weight": 75,
                  "downstream_neuron_id": "VFB_jrchjzxy",
                  "downstream_neuron_name": "LNd_R - 5813069648",
                  "upstream_class": "DN1a neuron",
                  "downstream_class": "LNd neuron",
                  "up_data_source": "neuprint_JRC_Hemibrain_1point1",
                  "up_accession": "5813022274",
                  "down_source": "neuprint_JRC_Hemibrain_1point1",
                  "down_accession": "5813069648",
                  "_deepnote_index_column": 16
                },
                {
                  "upstream_neuron_id": "VFB_jrchjtex",
                  "upstream_neuron_name": "DN1a_R - 264083994",
                  "weight": 79,
                  "downstream_neuron_id": "VFB_jrchjzxy",
                  "downstream_neuron_name": "LNd_R - 5813069648",
                  "upstream_class": "DN1a neuron",
                  "downstream_class": "LNd neuron",
                  "up_data_source": "neuprint_JRC_Hemibrain_1point1",
                  "up_accession": "264083994",
                  "down_source": "neuprint_JRC_Hemibrain_1point1",
                  "down_accession": "5813069648",
                  "_deepnote_index_column": 17
                },
                {
                  "upstream_neuron_id": "VFB_jrchjtf3",
                  "upstream_neuron_name": "DN1pA_R - 387166379",
                  "weight": 30,
                  "downstream_neuron_id": "VFB_jrchjzxy",
                  "downstream_neuron_name": "LNd_R - 5813069648",
                  "upstream_class": "DN1p neuron",
                  "downstream_class": "LNd neuron",
                  "up_data_source": "neuprint_JRC_Hemibrain_1point1",
                  "up_accession": "387166379",
                  "down_source": "neuprint_JRC_Hemibrain_1point1",
                  "down_accession": "5813069648",
                  "_deepnote_index_column": 18
                },
                {
                  "upstream_neuron_id": "VFB_jrchjzxy",
                  "upstream_neuron_name": "LNd_R - 5813069648",
                  "weight": 21,
                  "downstream_neuron_id": "VFB_jrchjzxx",
                  "downstream_neuron_name": "LNd_R - 5813021192",
                  "upstream_class": "LNd neuron",
                  "downstream_class": "LNd neuron",
                  "up_data_source": "neuprint_JRC_Hemibrain_1point1",
                  "up_accession": "5813069648",
                  "down_source": "neuprint_JRC_Hemibrain_1point1",
                  "down_accession": "5813021192",
                  "_deepnote_index_column": 19
                }
              ],
              "rows_bottom": null
            },
            "text/plain": "   upstream_neuron_id   upstream_neuron_name  weight downstream_neuron_id  \\\n0        VFB_jrchjzxy     LNd_R - 5813069648      37         VFB_jrchk8e0   \n1        VFB_jrchk089      LPN_R - 480029788      43         VFB_jrchk08a   \n2        VFB_jrchjtf0    DN1pA_R - 324846570      25         VFB_jrchk8e0   \n3        VFB_jrchjtf0    DN1pA_R - 324846570      37         VFB_jrchjzxy   \n4        VFB_jrchk8e0  5th s-LNv - 511051477      40         VFB_jrchjzxy   \n5        VFB_jrchjtf3    DN1pA_R - 387166379      25         VFB_jrchk8e0   \n6        VFB_jrchjtf1    DN1pA_R - 325529237      30         VFB_jrchjzxy   \n7        VFB_jrchk8e0  5th s-LNv - 511051477      25         VFB_jrchjzxx   \n8        VFB_jrchjtez   DN1pA_R - 5813010153      25         VFB_jrchk8e0   \n9        VFB_jrchjzxy     LNd_R - 5813069648      29         VFB_jrchjzxw   \n10       VFB_jrchjtf2    DN1pA_R - 387944118      22         VFB_jrchk8e0   \n11       VFB_jrchjtf2    DN1pA_R - 387944118      34         VFB_jrchjzxy   \n12       VFB_jrchjtf1    DN1pA_R - 325529237      33         VFB_jrchk8e0   \n13       VFB_jrchk08a      LPN_R - 450034902      30         VFB_jrchk089   \n14       VFB_jrchjtey    DN1a_R - 5813022274      63         VFB_jrchk8e0   \n15       VFB_jrchjtex     DN1a_R - 264083994      55         VFB_jrchk8e0   \n16       VFB_jrchjtey    DN1a_R - 5813022274      75         VFB_jrchjzxy   \n17       VFB_jrchjtex     DN1a_R - 264083994      79         VFB_jrchjzxy   \n18       VFB_jrchjtf3    DN1pA_R - 387166379      30         VFB_jrchjzxy   \n19       VFB_jrchjzxy     LNd_R - 5813069648      21         VFB_jrchjzxx   \n\n   downstream_neuron_name upstream_class downstream_class  \\\n0   5th s-LNv - 511051477     LNd neuron     s-LNv neuron   \n1       LPN_R - 450034902      LP neuron        LP neuron   \n2   5th s-LNv - 511051477    DN1p neuron     s-LNv neuron   \n3      LNd_R - 5813069648    DN1p neuron       LNd neuron   \n4      LNd_R - 5813069648   s-LNv neuron       LNd neuron   \n5   5th s-LNv - 511051477    DN1p neuron     s-LNv neuron   \n6      LNd_R - 5813069648    DN1p neuron       LNd neuron   \n7      LNd_R - 5813021192   s-LNv neuron       LNd neuron   \n8   5th s-LNv - 511051477    DN1p neuron     s-LNv neuron   \n9      LNd_R - 5813056917     LNd neuron       LNd neuron   \n10  5th s-LNv - 511051477    DN1p neuron     s-LNv neuron   \n11     LNd_R - 5813069648    DN1p neuron       LNd neuron   \n12  5th s-LNv - 511051477    DN1p neuron     s-LNv neuron   \n13      LPN_R - 480029788      LP neuron        LP neuron   \n14  5th s-LNv - 511051477    DN1a neuron     s-LNv neuron   \n15  5th s-LNv - 511051477    DN1a neuron     s-LNv neuron   \n16     LNd_R - 5813069648    DN1a neuron       LNd neuron   \n17     LNd_R - 5813069648    DN1a neuron       LNd neuron   \n18     LNd_R - 5813069648    DN1p neuron       LNd neuron   \n19     LNd_R - 5813021192     LNd neuron       LNd neuron   \n\n                    up_data_source up_accession  \\\n0   neuprint_JRC_Hemibrain_1point1   5813069648   \n1   neuprint_JRC_Hemibrain_1point1    480029788   \n2   neuprint_JRC_Hemibrain_1point1    324846570   \n3   neuprint_JRC_Hemibrain_1point1    324846570   \n4   neuprint_JRC_Hemibrain_1point1    511051477   \n5   neuprint_JRC_Hemibrain_1point1    387166379   \n6   neuprint_JRC_Hemibrain_1point1    325529237   \n7   neuprint_JRC_Hemibrain_1point1    511051477   \n8   neuprint_JRC_Hemibrain_1point1   5813010153   \n9   neuprint_JRC_Hemibrain_1point1   5813069648   \n10  neuprint_JRC_Hemibrain_1point1    387944118   \n11  neuprint_JRC_Hemibrain_1point1    387944118   \n12  neuprint_JRC_Hemibrain_1point1    325529237   \n13  neuprint_JRC_Hemibrain_1point1    450034902   \n14  neuprint_JRC_Hemibrain_1point1   5813022274   \n15  neuprint_JRC_Hemibrain_1point1    264083994   \n16  neuprint_JRC_Hemibrain_1point1   5813022274   \n17  neuprint_JRC_Hemibrain_1point1    264083994   \n18  neuprint_JRC_Hemibrain_1point1    387166379   \n19  neuprint_JRC_Hemibrain_1point1   5813069648   \n\n                       down_source down_accession  \n0   neuprint_JRC_Hemibrain_1point1      511051477  \n1   neuprint_JRC_Hemibrain_1point1      450034902  \n2   neuprint_JRC_Hemibrain_1point1      511051477  \n3   neuprint_JRC_Hemibrain_1point1     5813069648  \n4   neuprint_JRC_Hemibrain_1point1     5813069648  \n5   neuprint_JRC_Hemibrain_1point1      511051477  \n6   neuprint_JRC_Hemibrain_1point1     5813069648  \n7   neuprint_JRC_Hemibrain_1point1     5813021192  \n8   neuprint_JRC_Hemibrain_1point1      511051477  \n9   neuprint_JRC_Hemibrain_1point1     5813056917  \n10  neuprint_JRC_Hemibrain_1point1      511051477  \n11  neuprint_JRC_Hemibrain_1point1     5813069648  \n12  neuprint_JRC_Hemibrain_1point1      511051477  \n13  neuprint_JRC_Hemibrain_1point1      480029788  \n14  neuprint_JRC_Hemibrain_1point1      511051477  \n15  neuprint_JRC_Hemibrain_1point1      511051477  \n16  neuprint_JRC_Hemibrain_1point1     5813069648  \n17  neuprint_JRC_Hemibrain_1point1     5813069648  \n18  neuprint_JRC_Hemibrain_1point1     5813069648  \n19  neuprint_JRC_Hemibrain_1point1     5813021192  ",
            "text/html": "<div>\n<style scoped>\n    .dataframe tbody tr th:only-of-type {\n        vertical-align: middle;\n    }\n\n    .dataframe tbody tr th {\n        vertical-align: top;\n    }\n\n    .dataframe thead th {\n        text-align: right;\n    }\n</style>\n<table border=\"1\" class=\"dataframe\">\n  <thead>\n    <tr style=\"text-align: right;\">\n      <th></th>\n      <th>upstream_neuron_id</th>\n      <th>upstream_neuron_name</th>\n      <th>weight</th>\n      <th>downstream_neuron_id</th>\n      <th>downstream_neuron_name</th>\n      <th>upstream_class</th>\n      <th>downstream_class</th>\n      <th>up_data_source</th>\n      <th>up_accession</th>\n      <th>down_source</th>\n      <th>down_accession</th>\n    </tr>\n  </thead>\n  <tbody>\n    <tr>\n      <th>0</th>\n      <td>VFB_jrchjzxy</td>\n      <td>LNd_R - 5813069648</td>\n      <td>37</td>\n      <td>VFB_jrchk8e0</td>\n      <td>5th s-LNv - 511051477</td>\n      <td>LNd neuron</td>\n      <td>s-LNv neuron</td>\n      <td>neuprint_JRC_Hemibrain_1point1</td>\n      <td>5813069648</td>\n      <td>neuprint_JRC_Hemibrain_1point1</td>\n      <td>511051477</td>\n    </tr>\n    <tr>\n      <th>1</th>\n      <td>VFB_jrchk089</td>\n      <td>LPN_R - 480029788</td>\n      <td>43</td>\n      <td>VFB_jrchk08a</td>\n      <td>LPN_R - 450034902</td>\n      <td>LP neuron</td>\n      <td>LP neuron</td>\n      <td>neuprint_JRC_Hemibrain_1point1</td>\n      <td>480029788</td>\n      <td>neuprint_JRC_Hemibrain_1point1</td>\n      <td>450034902</td>\n    </tr>\n    <tr>\n      <th>2</th>\n      <td>VFB_jrchjtf0</td>\n      <td>DN1pA_R - 324846570</td>\n      <td>25</td>\n      <td>VFB_jrchk8e0</td>\n      <td>5th s-LNv - 511051477</td>\n      <td>DN1p neuron</td>\n      <td>s-LNv neuron</td>\n      <td>neuprint_JRC_Hemibrain_1point1</td>\n      <td>324846570</td>\n      <td>neuprint_JRC_Hemibrain_1point1</td>\n      <td>511051477</td>\n    </tr>\n    <tr>\n      <th>3</th>\n      <td>VFB_jrchjtf0</td>\n      <td>DN1pA_R - 324846570</td>\n      <td>37</td>\n      <td>VFB_jrchjzxy</td>\n      <td>LNd_R - 5813069648</td>\n      <td>DN1p neuron</td>\n      <td>LNd neuron</td>\n      <td>neuprint_JRC_Hemibrain_1point1</td>\n      <td>324846570</td>\n      <td>neuprint_JRC_Hemibrain_1point1</td>\n      <td>5813069648</td>\n    </tr>\n    <tr>\n      <th>4</th>\n      <td>VFB_jrchk8e0</td>\n      <td>5th s-LNv - 511051477</td>\n      <td>40</td>\n      <td>VFB_jrchjzxy</td>\n      <td>LNd_R - 5813069648</td>\n      <td>s-LNv neuron</td>\n      <td>LNd neuron</td>\n      <td>neuprint_JRC_Hemibrain_1point1</td>\n      <td>511051477</td>\n      <td>neuprint_JRC_Hemibrain_1point1</td>\n      <td>5813069648</td>\n    </tr>\n    <tr>\n      <th>5</th>\n      <td>VFB_jrchjtf3</td>\n      <td>DN1pA_R - 387166379</td>\n      <td>25</td>\n      <td>VFB_jrchk8e0</td>\n      <td>5th s-LNv - 511051477</td>\n      <td>DN1p neuron</td>\n      <td>s-LNv neuron</td>\n      <td>neuprint_JRC_Hemibrain_1point1</td>\n      <td>387166379</td>\n      <td>neuprint_JRC_Hemibrain_1point1</td>\n      <td>511051477</td>\n    </tr>\n    <tr>\n      <th>6</th>\n      <td>VFB_jrchjtf1</td>\n      <td>DN1pA_R - 325529237</td>\n      <td>30</td>\n      <td>VFB_jrchjzxy</td>\n      <td>LNd_R - 5813069648</td>\n      <td>DN1p neuron</td>\n      <td>LNd neuron</td>\n      <td>neuprint_JRC_Hemibrain_1point1</td>\n      <td>325529237</td>\n      <td>neuprint_JRC_Hemibrain_1point1</td>\n      <td>5813069648</td>\n    </tr>\n    <tr>\n      <th>7</th>\n      <td>VFB_jrchk8e0</td>\n      <td>5th s-LNv - 511051477</td>\n      <td>25</td>\n      <td>VFB_jrchjzxx</td>\n      <td>LNd_R - 5813021192</td>\n      <td>s-LNv neuron</td>\n      <td>LNd neuron</td>\n      <td>neuprint_JRC_Hemibrain_1point1</td>\n      <td>511051477</td>\n      <td>neuprint_JRC_Hemibrain_1point1</td>\n      <td>5813021192</td>\n    </tr>\n    <tr>\n      <th>8</th>\n      <td>VFB_jrchjtez</td>\n      <td>DN1pA_R - 5813010153</td>\n      <td>25</td>\n      <td>VFB_jrchk8e0</td>\n      <td>5th s-LNv - 511051477</td>\n      <td>DN1p neuron</td>\n      <td>s-LNv neuron</td>\n      <td>neuprint_JRC_Hemibrain_1point1</td>\n      <td>5813010153</td>\n      <td>neuprint_JRC_Hemibrain_1point1</td>\n      <td>511051477</td>\n    </tr>\n    <tr>\n      <th>9</th>\n      <td>VFB_jrchjzxy</td>\n      <td>LNd_R - 5813069648</td>\n      <td>29</td>\n      <td>VFB_jrchjzxw</td>\n      <td>LNd_R - 5813056917</td>\n      <td>LNd neuron</td>\n      <td>LNd neuron</td>\n      <td>neuprint_JRC_Hemibrain_1point1</td>\n      <td>5813069648</td>\n      <td>neuprint_JRC_Hemibrain_1point1</td>\n      <td>5813056917</td>\n    </tr>\n    <tr>\n      <th>10</th>\n      <td>VFB_jrchjtf2</td>\n      <td>DN1pA_R - 387944118</td>\n      <td>22</td>\n      <td>VFB_jrchk8e0</td>\n      <td>5th s-LNv - 511051477</td>\n      <td>DN1p neuron</td>\n      <td>s-LNv neuron</td>\n      <td>neuprint_JRC_Hemibrain_1point1</td>\n      <td>387944118</td>\n      <td>neuprint_JRC_Hemibrain_1point1</td>\n      <td>511051477</td>\n    </tr>\n    <tr>\n      <th>11</th>\n      <td>VFB_jrchjtf2</td>\n      <td>DN1pA_R - 387944118</td>\n      <td>34</td>\n      <td>VFB_jrchjzxy</td>\n      <td>LNd_R - 5813069648</td>\n      <td>DN1p neuron</td>\n      <td>LNd neuron</td>\n      <td>neuprint_JRC_Hemibrain_1point1</td>\n      <td>387944118</td>\n      <td>neuprint_JRC_Hemibrain_1point1</td>\n      <td>5813069648</td>\n    </tr>\n    <tr>\n      <th>12</th>\n      <td>VFB_jrchjtf1</td>\n      <td>DN1pA_R - 325529237</td>\n      <td>33</td>\n      <td>VFB_jrchk8e0</td>\n      <td>5th s-LNv - 511051477</td>\n      <td>DN1p neuron</td>\n      <td>s-LNv neuron</td>\n      <td>neuprint_JRC_Hemibrain_1point1</td>\n      <td>325529237</td>\n      <td>neuprint_JRC_Hemibrain_1point1</td>\n      <td>511051477</td>\n    </tr>\n    <tr>\n      <th>13</th>\n      <td>VFB_jrchk08a</td>\n      <td>LPN_R - 450034902</td>\n      <td>30</td>\n      <td>VFB_jrchk089</td>\n      <td>LPN_R - 480029788</td>\n      <td>LP neuron</td>\n      <td>LP neuron</td>\n      <td>neuprint_JRC_Hemibrain_1point1</td>\n      <td>450034902</td>\n      <td>neuprint_JRC_Hemibrain_1point1</td>\n      <td>480029788</td>\n    </tr>\n    <tr>\n      <th>14</th>\n      <td>VFB_jrchjtey</td>\n      <td>DN1a_R - 5813022274</td>\n      <td>63</td>\n      <td>VFB_jrchk8e0</td>\n      <td>5th s-LNv - 511051477</td>\n      <td>DN1a neuron</td>\n      <td>s-LNv neuron</td>\n      <td>neuprint_JRC_Hemibrain_1point1</td>\n      <td>5813022274</td>\n      <td>neuprint_JRC_Hemibrain_1point1</td>\n      <td>511051477</td>\n    </tr>\n    <tr>\n      <th>15</th>\n      <td>VFB_jrchjtex</td>\n      <td>DN1a_R - 264083994</td>\n      <td>55</td>\n      <td>VFB_jrchk8e0</td>\n      <td>5th s-LNv - 511051477</td>\n      <td>DN1a neuron</td>\n      <td>s-LNv neuron</td>\n      <td>neuprint_JRC_Hemibrain_1point1</td>\n      <td>264083994</td>\n      <td>neuprint_JRC_Hemibrain_1point1</td>\n      <td>511051477</td>\n    </tr>\n    <tr>\n      <th>16</th>\n      <td>VFB_jrchjtey</td>\n      <td>DN1a_R - 5813022274</td>\n      <td>75</td>\n      <td>VFB_jrchjzxy</td>\n      <td>LNd_R - 5813069648</td>\n      <td>DN1a neuron</td>\n      <td>LNd neuron</td>\n      <td>neuprint_JRC_Hemibrain_1point1</td>\n      <td>5813022274</td>\n      <td>neuprint_JRC_Hemibrain_1point1</td>\n      <td>5813069648</td>\n    </tr>\n    <tr>\n      <th>17</th>\n      <td>VFB_jrchjtex</td>\n      <td>DN1a_R - 264083994</td>\n      <td>79</td>\n      <td>VFB_jrchjzxy</td>\n      <td>LNd_R - 5813069648</td>\n      <td>DN1a neuron</td>\n      <td>LNd neuron</td>\n      <td>neuprint_JRC_Hemibrain_1point1</td>\n      <td>264083994</td>\n      <td>neuprint_JRC_Hemibrain_1point1</td>\n      <td>5813069648</td>\n    </tr>\n    <tr>\n      <th>18</th>\n      <td>VFB_jrchjtf3</td>\n      <td>DN1pA_R - 387166379</td>\n      <td>30</td>\n      <td>VFB_jrchjzxy</td>\n      <td>LNd_R - 5813069648</td>\n      <td>DN1p neuron</td>\n      <td>LNd neuron</td>\n      <td>neuprint_JRC_Hemibrain_1point1</td>\n      <td>387166379</td>\n      <td>neuprint_JRC_Hemibrain_1point1</td>\n      <td>5813069648</td>\n    </tr>\n    <tr>\n      <th>19</th>\n      <td>VFB_jrchjzxy</td>\n      <td>LNd_R - 5813069648</td>\n      <td>21</td>\n      <td>VFB_jrchjzxx</td>\n      <td>LNd_R - 5813021192</td>\n      <td>LNd neuron</td>\n      <td>LNd neuron</td>\n      <td>neuprint_JRC_Hemibrain_1point1</td>\n      <td>5813069648</td>\n      <td>neuprint_JRC_Hemibrain_1point1</td>\n      <td>5813021192</td>\n    </tr>\n  </tbody>\n</table>\n</div>"
          },
          "metadata": {}
        }
      ]
    },
    {
      "cell_type": "code",
      "metadata": {
        "tags": [],
        "cell_id": "00014-805b86fa-55b8-4d49-a340-595932ba0c9a",
        "deepnote_to_be_reexecuted": false,
        "source_hash": "6ba8826f",
        "execution_millis": 80982,
        "execution_start": 1614738620354,
        "deepnote_cell_type": "code"
      },
      "source": [
        "\n",
        "vc.get_connected_neurons_by_type(upstream_type='adult neuron', downstream_type='adult Drosulfakinin neuron', weight=20)"
      ],
      "execution_count": null,
      "outputs": [
        {
          "output_type": "execute_result",
          "execution_count": 14,
          "data": {
            "application/vnd.deepnote.dataframe.v2+json": {
              "row_count": 61,
              "column_count": 11,
              "columns": [
                {
                  "name": "upstream_neuron_id",
                  "dtype": "object",
                  "stats": {
                    "unique_count": 52,
                    "nan_count": 0,
                    "categories": [
                      {
                        "name": "VFB_jrchk5ch",
                        "count": 4
                      },
                      {
                        "name": "VFB_jrchjz3e",
                        "count": 2
                      },
                      {
                        "name": "50 others",
                        "count": 55
                      }
                    ]
                  }
                },
                {
                  "name": "upstream_neuron_name",
                  "dtype": "object",
                  "stats": {
                    "unique_count": 52,
                    "nan_count": 0,
                    "categories": [
                      {
                        "name": "SLP031_R - 5813026615",
                        "count": 4
                      },
                      {
                        "name": "LHAV6h1_R - 672960748",
                        "count": 2
                      },
                      {
                        "name": "50 others",
                        "count": 55
                      }
                    ]
                  }
                },
                {
                  "name": "weight",
                  "dtype": "int64",
                  "stats": {
                    "unique_count": 30,
                    "nan_count": 0,
                    "min": 20,
                    "max": 124,
                    "histogram": [
                      {
                        "bin_start": 20,
                        "bin_end": 30.4,
                        "count": 40
                      },
                      {
                        "bin_start": 30.4,
                        "bin_end": 40.8,
                        "count": 4
                      },
                      {
                        "bin_start": 40.8,
                        "bin_end": 51.2,
                        "count": 4
                      },
                      {
                        "bin_start": 51.2,
                        "bin_end": 61.6,
                        "count": 4
                      },
                      {
                        "bin_start": 61.6,
                        "bin_end": 72,
                        "count": 1
                      },
                      {
                        "bin_start": 72,
                        "bin_end": 82.4,
                        "count": 2
                      },
                      {
                        "bin_start": 82.4,
                        "bin_end": 92.8,
                        "count": 3
                      },
                      {
                        "bin_start": 92.8,
                        "bin_end": 103.2,
                        "count": 1
                      },
                      {
                        "bin_start": 103.2,
                        "bin_end": 113.60000000000001,
                        "count": 1
                      },
                      {
                        "bin_start": 113.60000000000001,
                        "bin_end": 124,
                        "count": 1
                      }
                    ]
                  }
                },
                {
                  "name": "downstream_neuron_id",
                  "dtype": "object",
                  "stats": {
                    "unique_count": 4,
                    "nan_count": 0,
                    "categories": [
                      {
                        "name": "VFB_jrchjti4",
                        "count": 21
                      },
                      {
                        "name": "VFB_jrchjti2",
                        "count": 21
                      },
                      {
                        "name": "2 others",
                        "count": 19
                      }
                    ]
                  }
                },
                {
                  "name": "downstream_neuron_name",
                  "dtype": "object",
                  "stats": {
                    "unique_count": 4,
                    "nan_count": 0,
                    "categories": [
                      {
                        "name": "DSKMP1B_R - 1352077058",
                        "count": 21
                      },
                      {
                        "name": "DSKMP1A_R - 1135837629",
                        "count": 21
                      },
                      {
                        "name": "2 others",
                        "count": 19
                      }
                    ]
                  }
                },
                {
                  "name": "upstream_class",
                  "dtype": "object",
                  "stats": {
                    "unique_count": 36,
                    "nan_count": 0,
                    "categories": [
                      {
                        "name": "adult neuron",
                        "count": 11
                      },
                      {
                        "name": "adult superior lateral protocerebrum neuron 031",
                        "count": 4
                      },
                      {
                        "name": "34 others",
                        "count": 46
                      }
                    ]
                  }
                },
                {
                  "name": "downstream_class",
                  "dtype": "object",
                  "stats": {
                    "unique_count": 1,
                    "nan_count": 0,
                    "categories": [
                      {
                        "name": "adult Drosulfakinin neuron",
                        "count": 61
                      }
                    ]
                  }
                },
                {
                  "name": "up_data_source",
                  "dtype": "object",
                  "stats": {
                    "unique_count": 1,
                    "nan_count": 0,
                    "categories": [
                      {
                        "name": "neuprint_JRC_Hemibrain_1point1",
                        "count": 61
                      }
                    ]
                  }
                },
                {
                  "name": "up_accession",
                  "dtype": "object",
                  "stats": {
                    "unique_count": 52,
                    "nan_count": 0,
                    "categories": [
                      {
                        "name": "5813026615",
                        "count": 4
                      },
                      {
                        "name": "672960748",
                        "count": 2
                      },
                      {
                        "name": "50 others",
                        "count": 55
                      }
                    ]
                  }
                },
                {
                  "name": "down_source",
                  "dtype": "object",
                  "stats": {
                    "unique_count": 1,
                    "nan_count": 0,
                    "categories": [
                      {
                        "name": "neuprint_JRC_Hemibrain_1point1",
                        "count": 61
                      }
                    ]
                  }
                },
                {
                  "name": "down_accession",
                  "dtype": "object",
                  "stats": {
                    "unique_count": 4,
                    "nan_count": 0,
                    "categories": [
                      {
                        "name": "1352077058",
                        "count": 21
                      },
                      {
                        "name": "1135837629",
                        "count": 21
                      },
                      {
                        "name": "2 others",
                        "count": 19
                      }
                    ]
                  }
                },
                {
                  "name": "_deepnote_index_column",
                  "dtype": "int64"
                }
              ],
              "rows_top": [
                {
                  "upstream_neuron_id": "VFB_jrchjsj3",
                  "upstream_neuron_name": "AstA1_L - 362473525",
                  "weight": 28,
                  "downstream_neuron_id": "VFB_jrchjti4",
                  "downstream_neuron_name": "DSKMP1B_R - 1352077058",
                  "upstream_class": "adult neuron",
                  "downstream_class": "adult Drosulfakinin neuron",
                  "up_data_source": "neuprint_JRC_Hemibrain_1point1",
                  "up_accession": "362473525",
                  "down_source": "neuprint_JRC_Hemibrain_1point1",
                  "down_accession": "1352077058",
                  "_deepnote_index_column": 0
                },
                {
                  "upstream_neuron_id": "VFB_jrchk5zh",
                  "upstream_neuron_name": "SLP384_R - 482702027",
                  "weight": 20,
                  "downstream_neuron_id": "VFB_jrchjti6",
                  "downstream_neuron_name": "DSKMP3_R - 327937328",
                  "upstream_class": "adult superior lateral protocerebrum neuron 384",
                  "downstream_class": "adult Drosulfakinin neuron",
                  "up_data_source": "neuprint_JRC_Hemibrain_1point1",
                  "up_accession": "482702027",
                  "down_source": "neuprint_JRC_Hemibrain_1point1",
                  "down_accession": "327937328",
                  "_deepnote_index_column": 1
                },
                {
                  "upstream_neuron_id": "VFB_jrchjrjn",
                  "upstream_neuron_name": "AVLP001_R - 1321564092",
                  "weight": 26,
                  "downstream_neuron_id": "VFB_jrchjti2",
                  "downstream_neuron_name": "DSKMP1A_R - 1135837629",
                  "upstream_class": "adult anterior ventrolateral protocerebrum neuron 001",
                  "downstream_class": "adult Drosulfakinin neuron",
                  "up_data_source": "neuprint_JRC_Hemibrain_1point1",
                  "up_accession": "1321564092",
                  "down_source": "neuprint_JRC_Hemibrain_1point1",
                  "down_accession": "1135837629",
                  "_deepnote_index_column": 2
                },
                {
                  "upstream_neuron_id": "VFB_jrchk5eo",
                  "upstream_neuron_name": "SLP066_R - 327843160",
                  "weight": 42,
                  "downstream_neuron_id": "VFB_jrchjti4",
                  "downstream_neuron_name": "DSKMP1B_R - 1352077058",
                  "upstream_class": "adult superior lateral protocerebrum neuron 066",
                  "downstream_class": "adult Drosulfakinin neuron",
                  "up_data_source": "neuprint_JRC_Hemibrain_1point1",
                  "up_accession": "327843160",
                  "down_source": "neuprint_JRC_Hemibrain_1point1",
                  "down_accession": "1352077058",
                  "_deepnote_index_column": 3
                },
                {
                  "upstream_neuron_id": "VFB_jrchk5qf",
                  "upstream_neuron_name": "SLP244_R - 298214577",
                  "weight": 27,
                  "downstream_neuron_id": "VFB_jrchjti6",
                  "downstream_neuron_name": "DSKMP3_R - 327937328",
                  "upstream_class": "adult superior lateral protocerebrum neuron 244",
                  "downstream_class": "adult Drosulfakinin neuron",
                  "up_data_source": "neuprint_JRC_Hemibrain_1point1",
                  "up_accession": "298214577",
                  "down_source": "neuprint_JRC_Hemibrain_1point1",
                  "down_accession": "327937328",
                  "_deepnote_index_column": 4
                },
                {
                  "upstream_neuron_id": "VFB_jrchjz3e",
                  "upstream_neuron_name": "LHAV6h1_R - 672960748",
                  "weight": 27,
                  "downstream_neuron_id": "VFB_jrchjti6",
                  "downstream_neuron_name": "DSKMP3_R - 327937328",
                  "upstream_class": "adult neuron",
                  "downstream_class": "adult Drosulfakinin neuron",
                  "up_data_source": "neuprint_JRC_Hemibrain_1point1",
                  "up_accession": "672960748",
                  "down_source": "neuprint_JRC_Hemibrain_1point1",
                  "down_accession": "327937328",
                  "_deepnote_index_column": 5
                },
                {
                  "upstream_neuron_id": "VFB_jrchk5ch",
                  "upstream_neuron_name": "SLP031_R - 5813026615",
                  "weight": 51,
                  "downstream_neuron_id": "VFB_jrchjti7",
                  "downstream_neuron_name": "DSKMP3_R - 328559607",
                  "upstream_class": "adult superior lateral protocerebrum neuron 031",
                  "downstream_class": "adult Drosulfakinin neuron",
                  "up_data_source": "neuprint_JRC_Hemibrain_1point1",
                  "up_accession": "5813026615",
                  "down_source": "neuprint_JRC_Hemibrain_1point1",
                  "down_accession": "328559607",
                  "_deepnote_index_column": 6
                },
                {
                  "upstream_neuron_id": "VFB_jrchk4t2",
                  "upstream_neuron_name": "PVLP083_R - 1260949362",
                  "weight": 20,
                  "downstream_neuron_id": "VFB_jrchjti2",
                  "downstream_neuron_name": "DSKMP1A_R - 1135837629",
                  "upstream_class": "adult posterior ventrolateral protocerebrum neuron 083",
                  "downstream_class": "adult Drosulfakinin neuron",
                  "up_data_source": "neuprint_JRC_Hemibrain_1point1",
                  "up_accession": "1260949362",
                  "down_source": "neuprint_JRC_Hemibrain_1point1",
                  "down_accession": "1135837629",
                  "_deepnote_index_column": 7
                },
                {
                  "upstream_neuron_id": "VFB_jrchk746",
                  "upstream_neuron_name": "SMP493(PDM17)_L - 762171741",
                  "weight": 25,
                  "downstream_neuron_id": "VFB_jrchjti2",
                  "downstream_neuron_name": "DSKMP1A_R - 1135837629",
                  "upstream_class": "adult superior medial protocerebrum neuron 493",
                  "downstream_class": "adult Drosulfakinin neuron",
                  "up_data_source": "neuprint_JRC_Hemibrain_1point1",
                  "up_accession": "762171741",
                  "down_source": "neuprint_JRC_Hemibrain_1point1",
                  "down_accession": "1135837629",
                  "_deepnote_index_column": 8
                },
                {
                  "upstream_neuron_id": "VFB_jrchk5pp",
                  "upstream_neuron_name": "SLP230_R - 5813021535",
                  "weight": 44,
                  "downstream_neuron_id": "VFB_jrchjti4",
                  "downstream_neuron_name": "DSKMP1B_R - 1352077058",
                  "upstream_class": "adult superior lateral protocerebrum neuron 230",
                  "downstream_class": "adult Drosulfakinin neuron",
                  "up_data_source": "neuprint_JRC_Hemibrain_1point1",
                  "up_accession": "5813021535",
                  "down_source": "neuprint_JRC_Hemibrain_1point1",
                  "down_accession": "1352077058",
                  "_deepnote_index_column": 9
                },
                {
                  "upstream_neuron_id": "VFB_jrchjs2k",
                  "upstream_neuron_name": "AVLP299_a_R - 2376180863",
                  "weight": 20,
                  "downstream_neuron_id": "VFB_jrchjti2",
                  "downstream_neuron_name": "DSKMP1A_R - 1135837629",
                  "upstream_class": "adult anterior ventrolateral protocerebrum neuron 299",
                  "downstream_class": "adult Drosulfakinin neuron",
                  "up_data_source": "neuprint_JRC_Hemibrain_1point1",
                  "up_accession": "2376180863",
                  "down_source": "neuprint_JRC_Hemibrain_1point1",
                  "down_accession": "1135837629",
                  "_deepnote_index_column": 10
                },
                {
                  "upstream_neuron_id": "VFB_jrchjzec",
                  "upstream_neuron_name": "LHPV4d2_R - 578155687",
                  "weight": 20,
                  "downstream_neuron_id": "VFB_jrchjti4",
                  "downstream_neuron_name": "DSKMP1B_R - 1352077058",
                  "upstream_class": "adult lateral horn PV4d2 neuron",
                  "downstream_class": "adult Drosulfakinin neuron",
                  "up_data_source": "neuprint_JRC_Hemibrain_1point1",
                  "up_accession": "578155687",
                  "down_source": "neuprint_JRC_Hemibrain_1point1",
                  "down_accession": "1352077058",
                  "_deepnote_index_column": 11
                },
                {
                  "upstream_neuron_id": "VFB_jrchjrmu",
                  "upstream_neuron_name": "AVLP053_R - 5813021533",
                  "weight": 124,
                  "downstream_neuron_id": "VFB_jrchjti2",
                  "downstream_neuron_name": "DSKMP1A_R - 1135837629",
                  "upstream_class": "adult anterior ventrolateral protocerebrum neuron 053",
                  "downstream_class": "adult Drosulfakinin neuron",
                  "up_data_source": "neuprint_JRC_Hemibrain_1point1",
                  "up_accession": "5813021533",
                  "down_source": "neuprint_JRC_Hemibrain_1point1",
                  "down_accession": "1135837629",
                  "_deepnote_index_column": 12
                },
                {
                  "upstream_neuron_id": "VFB_jrchk5ci",
                  "upstream_neuron_name": "SLP032_R - 388284324",
                  "weight": 23,
                  "downstream_neuron_id": "VFB_jrchjti2",
                  "downstream_neuron_name": "DSKMP1A_R - 1135837629",
                  "upstream_class": "adult superior lateral protocerebrum neuron 032",
                  "downstream_class": "adult Drosulfakinin neuron",
                  "up_data_source": "neuprint_JRC_Hemibrain_1point1",
                  "up_accession": "388284324",
                  "down_source": "neuprint_JRC_Hemibrain_1point1",
                  "down_accession": "1135837629",
                  "_deepnote_index_column": 13
                },
                {
                  "upstream_neuron_id": "VFB_jrchjsi7",
                  "upstream_neuron_name": "AVLP580_L - 1097642017",
                  "weight": 91,
                  "downstream_neuron_id": "VFB_jrchjti2",
                  "downstream_neuron_name": "DSKMP1A_R - 1135837629",
                  "upstream_class": "adult anterior ventrolateral protocerebrum neuron 580",
                  "downstream_class": "adult Drosulfakinin neuron",
                  "up_data_source": "neuprint_JRC_Hemibrain_1point1",
                  "up_accession": "1097642017",
                  "down_source": "neuprint_JRC_Hemibrain_1point1",
                  "down_accession": "1135837629",
                  "_deepnote_index_column": 14
                },
                {
                  "upstream_neuron_id": "VFB_jrchjti6",
                  "upstream_neuron_name": "DSKMP3_R - 327937328",
                  "weight": 39,
                  "downstream_neuron_id": "VFB_jrchjti4",
                  "downstream_neuron_name": "DSKMP1B_R - 1352077058",
                  "upstream_class": "adult Drosulfakinin neuron",
                  "downstream_class": "adult Drosulfakinin neuron",
                  "up_data_source": "neuprint_JRC_Hemibrain_1point1",
                  "up_accession": "327937328",
                  "down_source": "neuprint_JRC_Hemibrain_1point1",
                  "down_accession": "1352077058",
                  "_deepnote_index_column": 15
                },
                {
                  "upstream_neuron_id": "VFB_jrchjzeo",
                  "upstream_neuron_name": "LHPV4d7_R - 821621397",
                  "weight": 25,
                  "downstream_neuron_id": "VFB_jrchjti4",
                  "downstream_neuron_name": "DSKMP1B_R - 1352077058",
                  "upstream_class": "adult neuron",
                  "downstream_class": "adult Drosulfakinin neuron",
                  "up_data_source": "neuprint_JRC_Hemibrain_1point1",
                  "up_accession": "821621397",
                  "down_source": "neuprint_JRC_Hemibrain_1point1",
                  "down_accession": "1352077058",
                  "_deepnote_index_column": 16
                },
                {
                  "upstream_neuron_id": "VFB_jrchjti7",
                  "upstream_neuron_name": "DSKMP3_R - 328559607",
                  "weight": 53,
                  "downstream_neuron_id": "VFB_jrchjti4",
                  "downstream_neuron_name": "DSKMP1B_R - 1352077058",
                  "upstream_class": "adult Drosulfakinin neuron",
                  "downstream_class": "adult Drosulfakinin neuron",
                  "up_data_source": "neuprint_JRC_Hemibrain_1point1",
                  "up_accession": "328559607",
                  "down_source": "neuprint_JRC_Hemibrain_1point1",
                  "down_accession": "1352077058",
                  "_deepnote_index_column": 17
                },
                {
                  "upstream_neuron_id": "VFB_jrchjrxf",
                  "upstream_neuron_name": "AVLP223_R - 1357088989",
                  "weight": 23,
                  "downstream_neuron_id": "VFB_jrchjti2",
                  "downstream_neuron_name": "DSKMP1A_R - 1135837629",
                  "upstream_class": "adult anterior ventrolateral protocerebrum neuron 223",
                  "downstream_class": "adult Drosulfakinin neuron",
                  "up_data_source": "neuprint_JRC_Hemibrain_1point1",
                  "up_accession": "1357088989",
                  "down_source": "neuprint_JRC_Hemibrain_1point1",
                  "down_accession": "1135837629",
                  "_deepnote_index_column": 18
                },
                {
                  "upstream_neuron_id": "VFB_jrchjrmu",
                  "upstream_neuron_name": "AVLP053_R - 5813021533",
                  "weight": 59,
                  "downstream_neuron_id": "VFB_jrchjti4",
                  "downstream_neuron_name": "DSKMP1B_R - 1352077058",
                  "upstream_class": "adult anterior ventrolateral protocerebrum neuron 053",
                  "downstream_class": "adult Drosulfakinin neuron",
                  "up_data_source": "neuprint_JRC_Hemibrain_1point1",
                  "up_accession": "5813021533",
                  "down_source": "neuprint_JRC_Hemibrain_1point1",
                  "down_accession": "1352077058",
                  "_deepnote_index_column": 19
                },
                {
                  "upstream_neuron_id": "VFB_jrchjs38",
                  "upstream_neuron_name": "AVLP308_R - 950544340",
                  "weight": 20,
                  "downstream_neuron_id": "VFB_jrchjti2",
                  "downstream_neuron_name": "DSKMP1A_R - 1135837629",
                  "upstream_class": "adult anterior ventrolateral protocerebrum neuron 308",
                  "downstream_class": "adult Drosulfakinin neuron",
                  "up_data_source": "neuprint_JRC_Hemibrain_1point1",
                  "up_accession": "950544340",
                  "down_source": "neuprint_JRC_Hemibrain_1point1",
                  "down_accession": "1135837629",
                  "_deepnote_index_column": 20
                },
                {
                  "upstream_neuron_id": "VFB_jrchjs4y",
                  "upstream_neuron_name": "AVLP340_R - 1260949492",
                  "weight": 29,
                  "downstream_neuron_id": "VFB_jrchjti2",
                  "downstream_neuron_name": "DSKMP1A_R - 1135837629",
                  "upstream_class": "adult anterior ventrolateral protocerebrum neuron 340",
                  "downstream_class": "adult Drosulfakinin neuron",
                  "up_data_source": "neuprint_JRC_Hemibrain_1point1",
                  "up_accession": "1260949492",
                  "down_source": "neuprint_JRC_Hemibrain_1point1",
                  "down_accession": "1135837629",
                  "_deepnote_index_column": 21
                },
                {
                  "upstream_neuron_id": "VFB_jrchjsj7",
                  "upstream_neuron_name": "CL003_R - 549175510",
                  "weight": 20,
                  "downstream_neuron_id": "VFB_jrchjti7",
                  "downstream_neuron_name": "DSKMP3_R - 328559607",
                  "upstream_class": "adult clamp neuron 003",
                  "downstream_class": "adult Drosulfakinin neuron",
                  "up_data_source": "neuprint_JRC_Hemibrain_1point1",
                  "up_accession": "549175510",
                  "down_source": "neuprint_JRC_Hemibrain_1point1",
                  "down_accession": "328559607",
                  "_deepnote_index_column": 22
                },
                {
                  "upstream_neuron_id": "VFB_jrchk5ch",
                  "upstream_neuron_name": "SLP031_R - 5813026615",
                  "weight": 37,
                  "downstream_neuron_id": "VFB_jrchjti4",
                  "downstream_neuron_name": "DSKMP1B_R - 1352077058",
                  "upstream_class": "adult superior lateral protocerebrum neuron 031",
                  "downstream_class": "adult Drosulfakinin neuron",
                  "up_data_source": "neuprint_JRC_Hemibrain_1point1",
                  "up_accession": "5813026615",
                  "down_source": "neuprint_JRC_Hemibrain_1point1",
                  "down_accession": "1352077058",
                  "_deepnote_index_column": 23
                },
                {
                  "upstream_neuron_id": "VFB_jrchjzeq",
                  "upstream_neuron_name": "LHPV4d7_R - 821617263",
                  "weight": 21,
                  "downstream_neuron_id": "VFB_jrchjti4",
                  "downstream_neuron_name": "DSKMP1B_R - 1352077058",
                  "upstream_class": "adult neuron",
                  "downstream_class": "adult Drosulfakinin neuron",
                  "up_data_source": "neuprint_JRC_Hemibrain_1point1",
                  "up_accession": "821617263",
                  "down_source": "neuprint_JRC_Hemibrain_1point1",
                  "down_accession": "1352077058",
                  "_deepnote_index_column": 24
                },
                {
                  "upstream_neuron_id": "VFB_jrchk64p",
                  "upstream_neuron_name": "SMP001_R - 5813056887",
                  "weight": 44,
                  "downstream_neuron_id": "VFB_jrchjti7",
                  "downstream_neuron_name": "DSKMP3_R - 328559607",
                  "upstream_class": "adult superior medial protocerebrum neuron 001",
                  "downstream_class": "adult Drosulfakinin neuron",
                  "up_data_source": "neuprint_JRC_Hemibrain_1point1",
                  "up_accession": "5813056887",
                  "down_source": "neuprint_JRC_Hemibrain_1point1",
                  "down_accession": "328559607",
                  "_deepnote_index_column": 25
                },
                {
                  "upstream_neuron_id": "VFB_jrchjyu7",
                  "upstream_neuron_name": "LHAV3j1_R - 297851977",
                  "weight": 24,
                  "downstream_neuron_id": "VFB_jrchjti6",
                  "downstream_neuron_name": "DSKMP3_R - 327937328",
                  "upstream_class": "adult neuron",
                  "downstream_class": "adult Drosulfakinin neuron",
                  "up_data_source": "neuprint_JRC_Hemibrain_1point1",
                  "up_accession": "297851977",
                  "down_source": "neuprint_JRC_Hemibrain_1point1",
                  "down_accession": "327937328",
                  "_deepnote_index_column": 26
                },
                {
                  "upstream_neuron_id": "VFB_jrchk0fd",
                  "upstream_neuron_name": "MBON23(a2sp)_R - 423382015",
                  "weight": 20,
                  "downstream_neuron_id": "VFB_jrchjti7",
                  "downstream_neuron_name": "DSKMP3_R - 328559607",
                  "upstream_class": "mushroom body output neuron 23",
                  "downstream_class": "adult Drosulfakinin neuron",
                  "up_data_source": "neuprint_JRC_Hemibrain_1point1",
                  "up_accession": "423382015",
                  "down_source": "neuprint_JRC_Hemibrain_1point1",
                  "down_accession": "328559607",
                  "_deepnote_index_column": 27
                },
                {
                  "upstream_neuron_id": "VFB_jrchk64p",
                  "upstream_neuron_name": "SMP001_R - 5813056887",
                  "weight": 22,
                  "downstream_neuron_id": "VFB_jrchjti6",
                  "downstream_neuron_name": "DSKMP3_R - 327937328",
                  "upstream_class": "adult superior medial protocerebrum neuron 001",
                  "downstream_class": "adult Drosulfakinin neuron",
                  "up_data_source": "neuprint_JRC_Hemibrain_1point1",
                  "up_accession": "5813056887",
                  "down_source": "neuprint_JRC_Hemibrain_1point1",
                  "down_accession": "327937328",
                  "_deepnote_index_column": 28
                },
                {
                  "upstream_neuron_id": "VFB_jrchjz3e",
                  "upstream_neuron_name": "LHAV6h1_R - 672960748",
                  "weight": 21,
                  "downstream_neuron_id": "VFB_jrchjti7",
                  "downstream_neuron_name": "DSKMP3_R - 328559607",
                  "upstream_class": "adult neuron",
                  "downstream_class": "adult Drosulfakinin neuron",
                  "up_data_source": "neuprint_JRC_Hemibrain_1point1",
                  "up_accession": "672960748",
                  "down_source": "neuprint_JRC_Hemibrain_1point1",
                  "down_accession": "328559607",
                  "_deepnote_index_column": 29
                },
                {
                  "upstream_neuron_id": "VFB_jrchk0xm",
                  "upstream_neuron_name": "M_lvPNm45_R - 792023887",
                  "weight": 24,
                  "downstream_neuron_id": "VFB_jrchjti4",
                  "downstream_neuron_name": "DSKMP1B_R - 1352077058",
                  "upstream_class": "adult multiglomerular antennal lobe projection neuron lvPN",
                  "downstream_class": "adult Drosulfakinin neuron",
                  "up_data_source": "neuprint_JRC_Hemibrain_1point1",
                  "up_accession": "792023887",
                  "down_source": "neuprint_JRC_Hemibrain_1point1",
                  "down_accession": "1352077058",
                  "_deepnote_index_column": 30
                },
                {
                  "upstream_neuron_id": "VFB_jrchjrlf",
                  "upstream_neuron_name": "AVLP029_R - 580227374",
                  "weight": 25,
                  "downstream_neuron_id": "VFB_jrchjti6",
                  "downstream_neuron_name": "DSKMP3_R - 327937328",
                  "upstream_class": "adult anterior ventrolateral protocerebrum neuron 029",
                  "downstream_class": "adult Drosulfakinin neuron",
                  "up_data_source": "neuprint_JRC_Hemibrain_1point1",
                  "up_accession": "580227374",
                  "down_source": "neuprint_JRC_Hemibrain_1point1",
                  "down_accession": "327937328",
                  "_deepnote_index_column": 31
                },
                {
                  "upstream_neuron_id": "VFB_jrchk8dv",
                  "upstream_neuron_name": "pC1c_R - 267551639",
                  "weight": 84,
                  "downstream_neuron_id": "VFB_jrchjti4",
                  "downstream_neuron_name": "DSKMP1B_R - 1352077058",
                  "upstream_class": "adult doublesex pC1 (female) neuron",
                  "downstream_class": "adult Drosulfakinin neuron",
                  "up_data_source": "neuprint_JRC_Hemibrain_1point1",
                  "up_accession": "267551639",
                  "down_source": "neuprint_JRC_Hemibrain_1point1",
                  "down_accession": "1352077058",
                  "_deepnote_index_column": 32
                },
                {
                  "upstream_neuron_id": "VFB_jrchjyrd",
                  "upstream_neuron_name": "LHAV2k9_R - 424384254",
                  "weight": 22,
                  "downstream_neuron_id": "VFB_jrchjti4",
                  "downstream_neuron_name": "DSKMP1B_R - 1352077058",
                  "upstream_class": "adult neuron",
                  "downstream_class": "adult Drosulfakinin neuron",
                  "up_data_source": "neuprint_JRC_Hemibrain_1point1",
                  "up_accession": "424384254",
                  "down_source": "neuprint_JRC_Hemibrain_1point1",
                  "down_accession": "1352077058",
                  "_deepnote_index_column": 33
                },
                {
                  "upstream_neuron_id": "VFB_jrchk745",
                  "upstream_neuron_name": "SMP493_R - 676824431",
                  "weight": 20,
                  "downstream_neuron_id": "VFB_jrchjti2",
                  "downstream_neuron_name": "DSKMP1A_R - 1135837629",
                  "upstream_class": "adult superior medial protocerebrum neuron 493",
                  "downstream_class": "adult Drosulfakinin neuron",
                  "up_data_source": "neuprint_JRC_Hemibrain_1point1",
                  "up_accession": "676824431",
                  "down_source": "neuprint_JRC_Hemibrain_1point1",
                  "down_accession": "1135837629",
                  "_deepnote_index_column": 34
                },
                {
                  "upstream_neuron_id": "VFB_jrchjyu7",
                  "upstream_neuron_name": "LHAV3j1_R - 297851977",
                  "weight": 20,
                  "downstream_neuron_id": "VFB_jrchjti7",
                  "downstream_neuron_name": "DSKMP3_R - 328559607",
                  "upstream_class": "adult neuron",
                  "downstream_class": "adult Drosulfakinin neuron",
                  "up_data_source": "neuprint_JRC_Hemibrain_1point1",
                  "up_accession": "297851977",
                  "down_source": "neuprint_JRC_Hemibrain_1point1",
                  "down_accession": "328559607",
                  "_deepnote_index_column": 35
                },
                {
                  "upstream_neuron_id": "VFB_jrchk5ch",
                  "upstream_neuron_name": "SLP031_R - 5813026615",
                  "weight": 52,
                  "downstream_neuron_id": "VFB_jrchjti2",
                  "downstream_neuron_name": "DSKMP1A_R - 1135837629",
                  "upstream_class": "adult superior lateral protocerebrum neuron 031",
                  "downstream_class": "adult Drosulfakinin neuron",
                  "up_data_source": "neuprint_JRC_Hemibrain_1point1",
                  "up_accession": "5813026615",
                  "down_source": "neuprint_JRC_Hemibrain_1point1",
                  "down_accession": "1135837629",
                  "_deepnote_index_column": 36
                },
                {
                  "upstream_neuron_id": "VFB_jrchk5ep",
                  "upstream_neuron_name": "SLP067_R - 297221971",
                  "weight": 92,
                  "downstream_neuron_id": "VFB_jrchjti4",
                  "downstream_neuron_name": "DSKMP1B_R - 1352077058",
                  "upstream_class": "adult superior lateral protocerebrum neuron 067",
                  "downstream_class": "adult Drosulfakinin neuron",
                  "up_data_source": "neuprint_JRC_Hemibrain_1point1",
                  "up_accession": "297221971",
                  "down_source": "neuprint_JRC_Hemibrain_1point1",
                  "down_accession": "1352077058",
                  "_deepnote_index_column": 37
                },
                {
                  "upstream_neuron_id": "VFB_jrchjz40",
                  "upstream_neuron_name": "LHAV7b1_R - 577464071",
                  "weight": 20,
                  "downstream_neuron_id": "VFB_jrchjti6",
                  "downstream_neuron_name": "DSKMP3_R - 327937328",
                  "upstream_class": "adult neuron",
                  "downstream_class": "adult Drosulfakinin neuron",
                  "up_data_source": "neuprint_JRC_Hemibrain_1point1",
                  "up_accession": "577464071",
                  "down_source": "neuprint_JRC_Hemibrain_1point1",
                  "down_accession": "327937328",
                  "_deepnote_index_column": 38
                },
                {
                  "upstream_neuron_id": "VFB_jrchjz41",
                  "upstream_neuron_name": "LHAV7b1_R - 423351806",
                  "weight": 23,
                  "downstream_neuron_id": "VFB_jrchjti7",
                  "downstream_neuron_name": "DSKMP3_R - 328559607",
                  "upstream_class": "adult neuron",
                  "downstream_class": "adult Drosulfakinin neuron",
                  "up_data_source": "neuprint_JRC_Hemibrain_1point1",
                  "up_accession": "423351806",
                  "down_source": "neuprint_JRC_Hemibrain_1point1",
                  "down_accession": "328559607",
                  "_deepnote_index_column": 39
                },
                {
                  "upstream_neuron_id": "VFB_jrchk5ch",
                  "upstream_neuron_name": "SLP031_R - 5813026615",
                  "weight": 59,
                  "downstream_neuron_id": "VFB_jrchjti6",
                  "downstream_neuron_name": "DSKMP3_R - 327937328",
                  "upstream_class": "adult superior lateral protocerebrum neuron 031",
                  "downstream_class": "adult Drosulfakinin neuron",
                  "up_data_source": "neuprint_JRC_Hemibrain_1point1",
                  "up_accession": "5813026615",
                  "down_source": "neuprint_JRC_Hemibrain_1point1",
                  "down_accession": "327937328",
                  "_deepnote_index_column": 40
                },
                {
                  "upstream_neuron_id": "VFB_jrchk0fd",
                  "upstream_neuron_name": "MBON23(a2sp)_R - 423382015",
                  "weight": 21,
                  "downstream_neuron_id": "VFB_jrchjti6",
                  "downstream_neuron_name": "DSKMP3_R - 327937328",
                  "upstream_class": "mushroom body output neuron 23",
                  "downstream_class": "adult Drosulfakinin neuron",
                  "up_data_source": "neuprint_JRC_Hemibrain_1point1",
                  "up_accession": "423382015",
                  "down_source": "neuprint_JRC_Hemibrain_1point1",
                  "down_accession": "327937328",
                  "_deepnote_index_column": 41
                },
                {
                  "upstream_neuron_id": "VFB_jrchjsi8",
                  "upstream_neuron_name": "AVLP580_L - 1449200693",
                  "weight": 75,
                  "downstream_neuron_id": "VFB_jrchjti2",
                  "downstream_neuron_name": "DSKMP1A_R - 1135837629",
                  "upstream_class": "adult anterior ventrolateral protocerebrum neuron 580",
                  "downstream_class": "adult Drosulfakinin neuron",
                  "up_data_source": "neuprint_JRC_Hemibrain_1point1",
                  "up_accession": "1449200693",
                  "down_source": "neuprint_JRC_Hemibrain_1point1",
                  "down_accession": "1135837629",
                  "_deepnote_index_column": 42
                },
                {
                  "upstream_neuron_id": "VFB_jrchjsai",
                  "upstream_neuron_name": "AVLP435_R - 5813033561",
                  "weight": 26,
                  "downstream_neuron_id": "VFB_jrchjti2",
                  "downstream_neuron_name": "DSKMP1A_R - 1135837629",
                  "upstream_class": "adult anterior ventrolateral protocerebrum neuron 435",
                  "downstream_class": "adult Drosulfakinin neuron",
                  "up_data_source": "neuprint_JRC_Hemibrain_1point1",
                  "up_accession": "5813033561",
                  "down_source": "neuprint_JRC_Hemibrain_1point1",
                  "down_accession": "1135837629",
                  "_deepnote_index_column": 43
                },
                {
                  "upstream_neuron_id": "VFB_jrchk0xi",
                  "upstream_neuron_name": "M_lvPNm43_R - 792024028",
                  "weight": 24,
                  "downstream_neuron_id": "VFB_jrchjti4",
                  "downstream_neuron_name": "DSKMP1B_R - 1352077058",
                  "upstream_class": "adult multiglomerular antennal lobe projection neuron lvPN",
                  "downstream_class": "adult Drosulfakinin neuron",
                  "up_data_source": "neuprint_JRC_Hemibrain_1point1",
                  "up_accession": "792024028",
                  "down_source": "neuprint_JRC_Hemibrain_1point1",
                  "down_accession": "1352077058",
                  "_deepnote_index_column": 44
                },
                {
                  "upstream_neuron_id": "VFB_jrchk5in",
                  "upstream_neuron_name": "SLP130_R - 456847100",
                  "weight": 94,
                  "downstream_neuron_id": "VFB_jrchjti2",
                  "downstream_neuron_name": "DSKMP1A_R - 1135837629",
                  "upstream_class": "adult superior lateral protocerebrum neuron 130",
                  "downstream_class": "adult Drosulfakinin neuron",
                  "up_data_source": "neuprint_JRC_Hemibrain_1point1",
                  "up_accession": "456847100",
                  "down_source": "neuprint_JRC_Hemibrain_1point1",
                  "down_accession": "1135837629",
                  "_deepnote_index_column": 45
                },
                {
                  "upstream_neuron_id": "VFB_jrchjsp7",
                  "upstream_neuron_name": "CL092_R - 734677385",
                  "weight": 27,
                  "downstream_neuron_id": "VFB_jrchjti2",
                  "downstream_neuron_name": "DSKMP1A_R - 1135837629",
                  "upstream_class": "adult clamp neuron 092",
                  "downstream_class": "adult Drosulfakinin neuron",
                  "up_data_source": "neuprint_JRC_Hemibrain_1point1",
                  "up_accession": "734677385",
                  "down_source": "neuprint_JRC_Hemibrain_1point1",
                  "down_accession": "1135837629",
                  "_deepnote_index_column": 46
                },
                {
                  "upstream_neuron_id": "VFB_jrchjsra",
                  "upstream_neuron_name": "CL132_R - 356140121",
                  "weight": 30,
                  "downstream_neuron_id": "VFB_jrchjti4",
                  "downstream_neuron_name": "DSKMP1B_R - 1352077058",
                  "upstream_class": "adult clamp neuron 132",
                  "downstream_class": "adult Drosulfakinin neuron",
                  "up_data_source": "neuprint_JRC_Hemibrain_1point1",
                  "up_accession": "356140121",
                  "down_source": "neuprint_JRC_Hemibrain_1point1",
                  "down_accession": "1352077058",
                  "_deepnote_index_column": 47
                },
                {
                  "upstream_neuron_id": "VFB_jrchjrlh",
                  "upstream_neuron_name": "AVLP031_R - 829145708",
                  "weight": 80,
                  "downstream_neuron_id": "VFB_jrchjti2",
                  "downstream_neuron_name": "DSKMP1A_R - 1135837629",
                  "upstream_class": "adult anterior ventrolateral protocerebrum neuron 031",
                  "downstream_class": "adult Drosulfakinin neuron",
                  "up_data_source": "neuprint_JRC_Hemibrain_1point1",
                  "up_accession": "829145708",
                  "down_source": "neuprint_JRC_Hemibrain_1point1",
                  "down_accession": "1135837629",
                  "_deepnote_index_column": 48
                },
                {
                  "upstream_neuron_id": "VFB_jrchjz42",
                  "upstream_neuron_name": "LHAV7b1_R - 517479202",
                  "weight": 20,
                  "downstream_neuron_id": "VFB_jrchjti7",
                  "downstream_neuron_name": "DSKMP3_R - 328559607",
                  "upstream_class": "adult neuron",
                  "downstream_class": "adult Drosulfakinin neuron",
                  "up_data_source": "neuprint_JRC_Hemibrain_1point1",
                  "up_accession": "517479202",
                  "down_source": "neuprint_JRC_Hemibrain_1point1",
                  "down_accession": "328559607",
                  "_deepnote_index_column": 49
                },
                {
                  "upstream_neuron_id": "VFB_jrchk5ao",
                  "upstream_neuron_name": "SLP011_R - 297519736",
                  "weight": 23,
                  "downstream_neuron_id": "VFB_jrchjti6",
                  "downstream_neuron_name": "DSKMP3_R - 327937328",
                  "upstream_class": "adult superior lateral protocerebrum neuron 011",
                  "downstream_class": "adult Drosulfakinin neuron",
                  "up_data_source": "neuprint_JRC_Hemibrain_1point1",
                  "up_accession": "297519736",
                  "down_source": "neuprint_JRC_Hemibrain_1point1",
                  "down_accession": "327937328",
                  "_deepnote_index_column": 50
                },
                {
                  "upstream_neuron_id": "VFB_jrchjsi9",
                  "upstream_neuron_name": "AVLP580_L - 5812991151",
                  "weight": 64,
                  "downstream_neuron_id": "VFB_jrchjti2",
                  "downstream_neuron_name": "DSKMP1A_R - 1135837629",
                  "upstream_class": "adult anterior ventrolateral protocerebrum neuron 580",
                  "downstream_class": "adult Drosulfakinin neuron",
                  "up_data_source": "neuprint_JRC_Hemibrain_1point1",
                  "up_accession": "5812991151",
                  "down_source": "neuprint_JRC_Hemibrain_1point1",
                  "down_accession": "1135837629",
                  "_deepnote_index_column": 51
                },
                {
                  "upstream_neuron_id": "VFB_jrchjsrb",
                  "upstream_neuron_name": "CL132_R - 387512128",
                  "weight": 27,
                  "downstream_neuron_id": "VFB_jrchjti4",
                  "downstream_neuron_name": "DSKMP1B_R - 1352077058",
                  "upstream_class": "adult clamp neuron 132",
                  "downstream_class": "adult Drosulfakinin neuron",
                  "up_data_source": "neuprint_JRC_Hemibrain_1point1",
                  "up_accession": "387512128",
                  "down_source": "neuprint_JRC_Hemibrain_1point1",
                  "down_accession": "1352077058",
                  "_deepnote_index_column": 52
                },
                {
                  "upstream_neuron_id": "VFB_jrchjrxk",
                  "upstream_neuron_name": "AVLP224_b_R - 1354722783",
                  "weight": 24,
                  "downstream_neuron_id": "VFB_jrchjti2",
                  "downstream_neuron_name": "DSKMP1A_R - 1135837629",
                  "upstream_class": "adult anterior ventrolateral protocerebrum neuron 224",
                  "downstream_class": "adult Drosulfakinin neuron",
                  "up_data_source": "neuprint_JRC_Hemibrain_1point1",
                  "up_accession": "1354722783",
                  "down_source": "neuprint_JRC_Hemibrain_1point1",
                  "down_accession": "1135837629",
                  "_deepnote_index_column": 53
                },
                {
                  "upstream_neuron_id": "VFB_jrchk5in",
                  "upstream_neuron_name": "SLP130_R - 456847100",
                  "weight": 106,
                  "downstream_neuron_id": "VFB_jrchjti4",
                  "downstream_neuron_name": "DSKMP1B_R - 1352077058",
                  "upstream_class": "adult superior lateral protocerebrum neuron 130",
                  "downstream_class": "adult Drosulfakinin neuron",
                  "up_data_source": "neuprint_JRC_Hemibrain_1point1",
                  "up_accession": "456847100",
                  "down_source": "neuprint_JRC_Hemibrain_1point1",
                  "down_accession": "1352077058",
                  "_deepnote_index_column": 54
                },
                {
                  "upstream_neuron_id": "VFB_jrchjs24",
                  "upstream_neuron_name": "AVLP294_R - 1229197633",
                  "weight": 24,
                  "downstream_neuron_id": "VFB_jrchjti2",
                  "downstream_neuron_name": "DSKMP1A_R - 1135837629",
                  "upstream_class": "adult anterior ventrolateral protocerebrum neuron 294",
                  "downstream_class": "adult Drosulfakinin neuron",
                  "up_data_source": "neuprint_JRC_Hemibrain_1point1",
                  "up_accession": "1229197633",
                  "down_source": "neuprint_JRC_Hemibrain_1point1",
                  "down_accession": "1135837629",
                  "_deepnote_index_column": 55
                },
                {
                  "upstream_neuron_id": "VFB_jrchk6zu",
                  "upstream_neuron_name": "SMP449_R - 5813026592",
                  "weight": 25,
                  "downstream_neuron_id": "VFB_jrchjti4",
                  "downstream_neuron_name": "DSKMP1B_R - 1352077058",
                  "upstream_class": "adult superior medial protocerebrum neuron 449",
                  "downstream_class": "adult Drosulfakinin neuron",
                  "up_data_source": "neuprint_JRC_Hemibrain_1point1",
                  "up_accession": "5813026592",
                  "down_source": "neuprint_JRC_Hemibrain_1point1",
                  "down_accession": "1352077058",
                  "_deepnote_index_column": 56
                },
                {
                  "upstream_neuron_id": "VFB_jrchk5jv",
                  "upstream_neuron_name": "SLP152_R - 487812620",
                  "weight": 28,
                  "downstream_neuron_id": "VFB_jrchjti4",
                  "downstream_neuron_name": "DSKMP1B_R - 1352077058",
                  "upstream_class": "adult superior lateral protocerebrum neuron 152",
                  "downstream_class": "adult Drosulfakinin neuron",
                  "up_data_source": "neuprint_JRC_Hemibrain_1point1",
                  "up_accession": "487812620",
                  "down_source": "neuprint_JRC_Hemibrain_1point1",
                  "down_accession": "1352077058",
                  "_deepnote_index_column": 57
                },
                {
                  "upstream_neuron_id": "VFB_jrchjrxe",
                  "upstream_neuron_name": "AVLP223_R - 1356743512",
                  "weight": 27,
                  "downstream_neuron_id": "VFB_jrchjti2",
                  "downstream_neuron_name": "DSKMP1A_R - 1135837629",
                  "upstream_class": "adult anterior ventrolateral protocerebrum neuron 223",
                  "downstream_class": "adult Drosulfakinin neuron",
                  "up_data_source": "neuprint_JRC_Hemibrain_1point1",
                  "up_accession": "1356743512",
                  "down_source": "neuprint_JRC_Hemibrain_1point1",
                  "down_accession": "1135837629",
                  "_deepnote_index_column": 58
                },
                {
                  "upstream_neuron_id": "VFB_jrchk5qg",
                  "upstream_neuron_name": "SLP244_R - 297533212",
                  "weight": 33,
                  "downstream_neuron_id": "VFB_jrchjti6",
                  "downstream_neuron_name": "DSKMP3_R - 327937328",
                  "upstream_class": "adult superior lateral protocerebrum neuron 244",
                  "downstream_class": "adult Drosulfakinin neuron",
                  "up_data_source": "neuprint_JRC_Hemibrain_1point1",
                  "up_accession": "297533212",
                  "down_source": "neuprint_JRC_Hemibrain_1point1",
                  "down_accession": "327937328",
                  "_deepnote_index_column": 59
                },
                {
                  "upstream_neuron_id": "VFB_jrchk6g5",
                  "upstream_neuron_name": "SMP157_R - 421041565",
                  "weight": 32,
                  "downstream_neuron_id": "VFB_jrchjti4",
                  "downstream_neuron_name": "DSKMP1B_R - 1352077058",
                  "upstream_class": "adult superior medial protocerebrum neuron 157",
                  "downstream_class": "adult Drosulfakinin neuron",
                  "up_data_source": "neuprint_JRC_Hemibrain_1point1",
                  "up_accession": "421041565",
                  "down_source": "neuprint_JRC_Hemibrain_1point1",
                  "down_accession": "1352077058",
                  "_deepnote_index_column": 60
                }
              ],
              "rows_bottom": null
            },
            "text/plain": "   upstream_neuron_id    upstream_neuron_name  weight downstream_neuron_id  \\\n0        VFB_jrchjsj3     AstA1_L - 362473525      28         VFB_jrchjti4   \n1        VFB_jrchk5zh    SLP384_R - 482702027      20         VFB_jrchjti6   \n2        VFB_jrchjrjn  AVLP001_R - 1321564092      26         VFB_jrchjti2   \n3        VFB_jrchk5eo    SLP066_R - 327843160      42         VFB_jrchjti4   \n4        VFB_jrchk5qf    SLP244_R - 298214577      27         VFB_jrchjti6   \n..                ...                     ...     ...                  ...   \n56       VFB_jrchk6zu   SMP449_R - 5813026592      25         VFB_jrchjti4   \n57       VFB_jrchk5jv    SLP152_R - 487812620      28         VFB_jrchjti4   \n58       VFB_jrchjrxe  AVLP223_R - 1356743512      27         VFB_jrchjti2   \n59       VFB_jrchk5qg    SLP244_R - 297533212      33         VFB_jrchjti6   \n60       VFB_jrchk6g5    SMP157_R - 421041565      32         VFB_jrchjti4   \n\n    downstream_neuron_name                                     upstream_class  \\\n0   DSKMP1B_R - 1352077058                                       adult neuron   \n1     DSKMP3_R - 327937328    adult superior lateral protocerebrum neuron 384   \n2   DSKMP1A_R - 1135837629  adult anterior ventrolateral protocerebrum neu...   \n3   DSKMP1B_R - 1352077058    adult superior lateral protocerebrum neuron 066   \n4     DSKMP3_R - 327937328    adult superior lateral protocerebrum neuron 244   \n..                     ...                                                ...   \n56  DSKMP1B_R - 1352077058     adult superior medial protocerebrum neuron 449   \n57  DSKMP1B_R - 1352077058    adult superior lateral protocerebrum neuron 152   \n58  DSKMP1A_R - 1135837629  adult anterior ventrolateral protocerebrum neu...   \n59    DSKMP3_R - 327937328    adult superior lateral protocerebrum neuron 244   \n60  DSKMP1B_R - 1352077058     adult superior medial protocerebrum neuron 157   \n\n              downstream_class                  up_data_source up_accession  \\\n0   adult Drosulfakinin neuron  neuprint_JRC_Hemibrain_1point1    362473525   \n1   adult Drosulfakinin neuron  neuprint_JRC_Hemibrain_1point1    482702027   \n2   adult Drosulfakinin neuron  neuprint_JRC_Hemibrain_1point1   1321564092   \n3   adult Drosulfakinin neuron  neuprint_JRC_Hemibrain_1point1    327843160   \n4   adult Drosulfakinin neuron  neuprint_JRC_Hemibrain_1point1    298214577   \n..                         ...                             ...          ...   \n56  adult Drosulfakinin neuron  neuprint_JRC_Hemibrain_1point1   5813026592   \n57  adult Drosulfakinin neuron  neuprint_JRC_Hemibrain_1point1    487812620   \n58  adult Drosulfakinin neuron  neuprint_JRC_Hemibrain_1point1   1356743512   \n59  adult Drosulfakinin neuron  neuprint_JRC_Hemibrain_1point1    297533212   \n60  adult Drosulfakinin neuron  neuprint_JRC_Hemibrain_1point1    421041565   \n\n                       down_source down_accession  \n0   neuprint_JRC_Hemibrain_1point1     1352077058  \n1   neuprint_JRC_Hemibrain_1point1      327937328  \n2   neuprint_JRC_Hemibrain_1point1     1135837629  \n3   neuprint_JRC_Hemibrain_1point1     1352077058  \n4   neuprint_JRC_Hemibrain_1point1      327937328  \n..                             ...            ...  \n56  neuprint_JRC_Hemibrain_1point1     1352077058  \n57  neuprint_JRC_Hemibrain_1point1     1352077058  \n58  neuprint_JRC_Hemibrain_1point1     1135837629  \n59  neuprint_JRC_Hemibrain_1point1      327937328  \n60  neuprint_JRC_Hemibrain_1point1     1352077058  \n\n[61 rows x 11 columns]",
            "text/html": "<div>\n<style scoped>\n    .dataframe tbody tr th:only-of-type {\n        vertical-align: middle;\n    }\n\n    .dataframe tbody tr th {\n        vertical-align: top;\n    }\n\n    .dataframe thead th {\n        text-align: right;\n    }\n</style>\n<table border=\"1\" class=\"dataframe\">\n  <thead>\n    <tr style=\"text-align: right;\">\n      <th></th>\n      <th>upstream_neuron_id</th>\n      <th>upstream_neuron_name</th>\n      <th>weight</th>\n      <th>downstream_neuron_id</th>\n      <th>downstream_neuron_name</th>\n      <th>upstream_class</th>\n      <th>downstream_class</th>\n      <th>up_data_source</th>\n      <th>up_accession</th>\n      <th>down_source</th>\n      <th>down_accession</th>\n    </tr>\n  </thead>\n  <tbody>\n    <tr>\n      <th>0</th>\n      <td>VFB_jrchjsj3</td>\n      <td>AstA1_L - 362473525</td>\n      <td>28</td>\n      <td>VFB_jrchjti4</td>\n      <td>DSKMP1B_R - 1352077058</td>\n      <td>adult neuron</td>\n      <td>adult Drosulfakinin neuron</td>\n      <td>neuprint_JRC_Hemibrain_1point1</td>\n      <td>362473525</td>\n      <td>neuprint_JRC_Hemibrain_1point1</td>\n      <td>1352077058</td>\n    </tr>\n    <tr>\n      <th>1</th>\n      <td>VFB_jrchk5zh</td>\n      <td>SLP384_R - 482702027</td>\n      <td>20</td>\n      <td>VFB_jrchjti6</td>\n      <td>DSKMP3_R - 327937328</td>\n      <td>adult superior lateral protocerebrum neuron 384</td>\n      <td>adult Drosulfakinin neuron</td>\n      <td>neuprint_JRC_Hemibrain_1point1</td>\n      <td>482702027</td>\n      <td>neuprint_JRC_Hemibrain_1point1</td>\n      <td>327937328</td>\n    </tr>\n    <tr>\n      <th>2</th>\n      <td>VFB_jrchjrjn</td>\n      <td>AVLP001_R - 1321564092</td>\n      <td>26</td>\n      <td>VFB_jrchjti2</td>\n      <td>DSKMP1A_R - 1135837629</td>\n      <td>adult anterior ventrolateral protocerebrum neu...</td>\n      <td>adult Drosulfakinin neuron</td>\n      <td>neuprint_JRC_Hemibrain_1point1</td>\n      <td>1321564092</td>\n      <td>neuprint_JRC_Hemibrain_1point1</td>\n      <td>1135837629</td>\n    </tr>\n    <tr>\n      <th>3</th>\n      <td>VFB_jrchk5eo</td>\n      <td>SLP066_R - 327843160</td>\n      <td>42</td>\n      <td>VFB_jrchjti4</td>\n      <td>DSKMP1B_R - 1352077058</td>\n      <td>adult superior lateral protocerebrum neuron 066</td>\n      <td>adult Drosulfakinin neuron</td>\n      <td>neuprint_JRC_Hemibrain_1point1</td>\n      <td>327843160</td>\n      <td>neuprint_JRC_Hemibrain_1point1</td>\n      <td>1352077058</td>\n    </tr>\n    <tr>\n      <th>4</th>\n      <td>VFB_jrchk5qf</td>\n      <td>SLP244_R - 298214577</td>\n      <td>27</td>\n      <td>VFB_jrchjti6</td>\n      <td>DSKMP3_R - 327937328</td>\n      <td>adult superior lateral protocerebrum neuron 244</td>\n      <td>adult Drosulfakinin neuron</td>\n      <td>neuprint_JRC_Hemibrain_1point1</td>\n      <td>298214577</td>\n      <td>neuprint_JRC_Hemibrain_1point1</td>\n      <td>327937328</td>\n    </tr>\n    <tr>\n      <th>...</th>\n      <td>...</td>\n      <td>...</td>\n      <td>...</td>\n      <td>...</td>\n      <td>...</td>\n      <td>...</td>\n      <td>...</td>\n      <td>...</td>\n      <td>...</td>\n      <td>...</td>\n      <td>...</td>\n    </tr>\n    <tr>\n      <th>56</th>\n      <td>VFB_jrchk6zu</td>\n      <td>SMP449_R - 5813026592</td>\n      <td>25</td>\n      <td>VFB_jrchjti4</td>\n      <td>DSKMP1B_R - 1352077058</td>\n      <td>adult superior medial protocerebrum neuron 449</td>\n      <td>adult Drosulfakinin neuron</td>\n      <td>neuprint_JRC_Hemibrain_1point1</td>\n      <td>5813026592</td>\n      <td>neuprint_JRC_Hemibrain_1point1</td>\n      <td>1352077058</td>\n    </tr>\n    <tr>\n      <th>57</th>\n      <td>VFB_jrchk5jv</td>\n      <td>SLP152_R - 487812620</td>\n      <td>28</td>\n      <td>VFB_jrchjti4</td>\n      <td>DSKMP1B_R - 1352077058</td>\n      <td>adult superior lateral protocerebrum neuron 152</td>\n      <td>adult Drosulfakinin neuron</td>\n      <td>neuprint_JRC_Hemibrain_1point1</td>\n      <td>487812620</td>\n      <td>neuprint_JRC_Hemibrain_1point1</td>\n      <td>1352077058</td>\n    </tr>\n    <tr>\n      <th>58</th>\n      <td>VFB_jrchjrxe</td>\n      <td>AVLP223_R - 1356743512</td>\n      <td>27</td>\n      <td>VFB_jrchjti2</td>\n      <td>DSKMP1A_R - 1135837629</td>\n      <td>adult anterior ventrolateral protocerebrum neu...</td>\n      <td>adult Drosulfakinin neuron</td>\n      <td>neuprint_JRC_Hemibrain_1point1</td>\n      <td>1356743512</td>\n      <td>neuprint_JRC_Hemibrain_1point1</td>\n      <td>1135837629</td>\n    </tr>\n    <tr>\n      <th>59</th>\n      <td>VFB_jrchk5qg</td>\n      <td>SLP244_R - 297533212</td>\n      <td>33</td>\n      <td>VFB_jrchjti6</td>\n      <td>DSKMP3_R - 327937328</td>\n      <td>adult superior lateral protocerebrum neuron 244</td>\n      <td>adult Drosulfakinin neuron</td>\n      <td>neuprint_JRC_Hemibrain_1point1</td>\n      <td>297533212</td>\n      <td>neuprint_JRC_Hemibrain_1point1</td>\n      <td>327937328</td>\n    </tr>\n    <tr>\n      <th>60</th>\n      <td>VFB_jrchk6g5</td>\n      <td>SMP157_R - 421041565</td>\n      <td>32</td>\n      <td>VFB_jrchjti4</td>\n      <td>DSKMP1B_R - 1352077058</td>\n      <td>adult superior medial protocerebrum neuron 157</td>\n      <td>adult Drosulfakinin neuron</td>\n      <td>neuprint_JRC_Hemibrain_1point1</td>\n      <td>421041565</td>\n      <td>neuprint_JRC_Hemibrain_1point1</td>\n      <td>1352077058</td>\n    </tr>\n  </tbody>\n</table>\n<p>61 rows × 11 columns</p>\n</div>"
          },
          "metadata": {}
        }
      ]
    }
  ],
  "nbformat": 4,
  "nbformat_minor": 2,
  "metadata": {
    "orig_nbformat": 2,
    "deepnote_notebook_id": "718b5c51-e3e5-4906-8b47-3ce8982d56ba",
    "deepnote": {},
    "deepnote_execution_queue": []
  }
}