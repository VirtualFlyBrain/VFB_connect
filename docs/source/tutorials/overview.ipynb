{
  "cells": [
    {
      "cell_type": "markdown",
      "metadata": {
        "cell_id": "00000-5545529d-e471-4f03-981f-5035e08c07bd",
        "deepnote_cell_type": "markdown",
        "tags": []
      },
      "source": [
        "# VFB_connect Quickstart Guide\n"
      ]
    },
    {
      "cell_type": "code",
      "execution_count": 4,
      "metadata": {
        "cell_id": "00000-8210ad75-dbbb-4b0a-9300-c89cfe9b9566",
        "deepnote_cell_type": "code",
        "deepnote_to_be_reexecuted": false,
        "execution_millis": 3868,
        "execution_start": 1620034838029,
        "source_hash": "f963f177",
        "tags": []
      },
      "outputs": [],
      "source": [
        "!pip install -r ../../../requirements.txt --quiet\n",
        "!pip install ../../../ --quiet\n",
        "\n",
        "# Import lib and initialise object\n",
        "from vfb_connect.cross_server_tools import VfbConnect\n",
        "vc = VfbConnect()"
      ]
    },
    {
      "cell_type": "markdown",
      "metadata": {
        "cell_id": "00001-daa13a5a-5442-4d9e-9739-b775f0136af7",
        "deepnote_cell_type": "markdown",
        "tags": []
      },
      "source": [
        "\n",
        "## VFB connect API overview\n",
        "\n",
        "The VFB connect API provides programmatic access to the databases underlying [Virtual Fly Brain](http://virtualflybrain.org). \n",
        "\n",
        "At the core of Virtual Fly Brain is a set of curated terms for Drosophila neuro-anatomy organised into a queryable classification, including terms for brain regions, e.g. [nodulus](http://virtualflybrain.org/reports/FBbt_00003680) and neurons e.g. [MBON01](http://virtualflybrain.org/reports/FBbt_00100234). These terms are used to annotate and classify individual brain regions and neurons in images and connectomics data. For example the term MBON01 is used to classify individual [neurons from sources including the CATMAID-FAFB and Neuprint-HemiBrain databases](https://v2.virtualflybrain.org/org.geppetto.frontend/geppetto?q=FBbt_00100234,ListAllAvailableImages). VFB stores both [registered 3D images](http://virtualflybrain.org/reports/VFB_00101382) and [connectomics data](https://v2-dev.virtualflybrain.org/org.geppetto.frontend/geppetto?q=VFB_00101382,ref_neuron_neuron_connectivity_query) (where available) for all of these neurons.\n",
        "\n",
        "A single VfbConnect object wraps connections and canned queries against all open VFB databases. It includes methods for retreiving metadata about anatomy, individual brain regions and neurons including IDs for these that can be used for queries against other databases (e.g. CATMAID & neuprint).  It provides methods for downloading images and connectomics data. It provides access to sophisticated queries for anatomical classes and individual neurons accoring to their classification & properties. "
      ]
    },
    {
      "cell_type": "markdown",
      "metadata": {
        "cell_id": "00002-48f36469-c1e8-489f-8d82-28cda64901bd",
        "deepnote_cell_type": "markdown",
        "tags": []
      },
      "source": [
        "### Locations for methods under a `VfbConnect` object.\n",
        "\n",
        "1. Under `vc.neo_query_wrapper` are \n",
        "   1. A set of methods that take lists of IDs as a primary argument and return metadata. \n",
        "   2. A set of methods for mapping between VFB IDs and external IDs\n",
        "2. Directly under `vc` are:\n",
        "    1. A set of methods that take the names of classes in VFB e.g. 'nodulus' or 'Kenyon cell', or simple query expressions using the names of classes and return metadata about the classes.\n",
        "    2. A set methods for querying connectivity and similarity\n",
        "3. Direct access to API queries is provided under the 'nc' and 'oc' attributes for Neo4J and OWL queries respectively. We will not cover details of how to use these here.\n",
        "\n",
        "Note: available methods and their documentation are easy to explore in DeepNote. Tab completion and type adhead can be used to help find methods. Float your cursor over a method to see its signature and docstring. "
      ]
    },
    {
      "cell_type": "markdown",
      "metadata": {
        "cell_id": "00003-882a178b-b8ec-499a-b737-b34a16bf5209",
        "deepnote_cell_type": "markdown",
        "tags": []
      },
      "source": [
        "### 1. `vc.neo_query_wrapper` methods overview\n",
        "\n",
        "**1.1** `vc.neo_query_wrapper` TermInfo queries return the results of a VFB Term Information window as JSON, following the [VFB_JSON standard](https://virtualflybrain.github.io/VFB_json_schema/doc/schema_doc.html), or a summary that can easily be converted into a DataFrame."
      ]
    },
    {
      "cell_type": "code",
      "execution_count": 5,
      "metadata": {
        "cell_id": "00004-a903a95d-00d0-4f84-a59b-9bb8783cc403",
        "deepnote_cell_type": "code",
        "deepnote_to_be_reexecuted": false,
        "execution_millis": 300,
        "execution_start": 1620034844460,
        "source_hash": "c6222ca9",
        "tags": []
      },
      "outputs": [
        {
          "data": {
            "text/plain": [
              "dict_keys(['label', 'symbol', 'id', 'tags', 'data_source', 'accession', 'parents_label', 'parents_id'])"
            ]
          },
          "execution_count": 5,
          "metadata": {},
          "output_type": "execute_result"
        }
      ],
      "source": [
        "# A query for full TermInfo.  This probably produces more information than you will need for most purposes.\n",
        "vc.neo_query_wrapper.get_type_TermInfo(['FBbt_00003686'])[0].keys()"
      ]
    },
    {
      "cell_type": "code",
      "execution_count": 6,
      "metadata": {
        "cell_id": "00005-babd24bb-f0ba-4d64-b2e7-8c290cb16c66",
        "deepnote_cell_type": "code",
        "deepnote_to_be_reexecuted": false,
        "execution_millis": 591,
        "execution_start": 1614965530699,
        "source_hash": "ea010a2a",
        "tags": []
      },
      "outputs": [
        {
          "data": {
            "text/plain": [
              "[{'label': 'KC',\n",
              "  'symbol': 'KC',\n",
              "  'id': 'FBbt_00003686',\n",
              "  'tags': 'Entity|Anatomy|Cell|Class|Nervous_system|Neuron|has_subClass|hasScRNAseq',\n",
              "  'data_source': '',\n",
              "  'accession': '',\n",
              "  'parents_label': 'anterior ectoderm derivative|mushroom body intrinsic neuron',\n",
              "  'parents_id': 'FBbt_00025991|FBbt_00007484'}]"
            ]
          },
          "execution_count": 6,
          "metadata": {},
          "output_type": "execute_result"
        }
      ],
      "source": [
        "# A query for summary info\n",
        "import pandas as pd\n",
        "\n",
        "summary = vc.neo_query_wrapper.get_type_TermInfo(['FBbt_00003686'])\n",
        "summary"
      ]
    },
    {
      "cell_type": "code",
      "execution_count": 7,
      "metadata": {
        "cell_id": "00006-3d3a3d19-b478-4ec0-9e5c-13dc358acac9",
        "deepnote_cell_type": "code",
        "deepnote_to_be_reexecuted": false,
        "execution_millis": 392,
        "execution_start": 1614965531201,
        "source_hash": "b96f75cd",
        "tags": []
      },
      "outputs": [
        {
          "data": {
            "text/plain": [
              "[{'label': '5-HTPLP01_R',\n",
              "  'symbol': '5-HTPLP01_R',\n",
              "  'id': 'VFB_jrchjrch',\n",
              "  'tags': 'Entity|Adult|Anatomy|Cell|Glutamatergic|Individual|Nervous_system|Neuron|Serotonergic|has_image|has_neuron_connectivity|has_region_connectivity|FlyEM_HB|NBLAST|neuronbridge',\n",
              "  'data_source': 'neuprint_JRC_Hemibrain_1point1',\n",
              "  'accession': '1324365879',\n",
              "  'parents_label': 'adult glutamatergic neuron|adult serotonergic PLP neuron',\n",
              "  'parents_id': 'FBbt_00058208|FBbt_00110945',\n",
              "  'xrefs': ':1324365879|:1324365879',\n",
              "  'templates': 'JRC2018Unisex|JRC_FlyEM_Hemibrain',\n",
              "  'dataset': 'Xu2020NeuronsV1point1',\n",
              "  'license': 'https://creativecommons.org/licenses/by/4.0/legalcode'}]"
            ]
          },
          "execution_count": 7,
          "metadata": {},
          "output_type": "execute_result"
        }
      ],
      "source": [
        "# A different method is needed to get info about individual neurons\n",
        "\n",
        "summary = vc.neo_query_wrapper.get_anatomical_individual_TermInfo(['VFB_jrchjrch'])\n",
        "summary\n"
      ]
    },
    {
      "cell_type": "markdown",
      "metadata": {
        "cell_id": "00007-493e5cba-0f62-4368-85ac-25591f0ed904",
        "deepnote_cell_type": "markdown",
        "tags": []
      },
      "source": [
        "**1.2** The `neo_query_wrapper` also includes methods for mapping between IDs from different sources. "
      ]
    },
    {
      "cell_type": "code",
      "execution_count": 8,
      "metadata": {
        "cell_id": "00008-588da430-9aca-4d42-885c-e024f0904061",
        "deepnote_cell_type": "code",
        "deepnote_to_be_reexecuted": false,
        "execution_millis": 1297,
        "execution_start": 1614965531623,
        "source_hash": "19280cf",
        "tags": []
      },
      "outputs": [
        {
          "data": {
            "text/plain": [
              "{'1068958652': [{'db': 'neuronbridge', 'vfb_id': 'VFB_jrch06r9'},\n",
              "  {'db': 'neuronbridge', 'vfb_id': 'VFB_jrchjwda'},\n",
              "  {'db': 'neuprint_JRC_Hemibrain_1point0point1', 'vfb_id': 'VFB_jrch06r9'},\n",
              "  {'db': 'neuprint_JRC_Hemibrain_1point1', 'vfb_id': 'VFB_jrchjwda'}],\n",
              " '571424748': [{'db': 'neuronbridge', 'vfb_id': 'VFB_jrch06r6'},\n",
              "  {'db': 'neuronbridge', 'vfb_id': 'VFB_jrchjwct'},\n",
              "  {'db': 'neuprint_JRC_Hemibrain_1point0point1', 'vfb_id': 'VFB_jrch06r6'},\n",
              "  {'db': 'neuprint_JRC_Hemibrain_1point1', 'vfb_id': 'VFB_jrchjwct'}],\n",
              " '1141631198': [{'db': 'neuronbridge', 'vfb_id': 'VFB_jrch05uz'},\n",
              "  {'db': 'neuronbridge', 'vfb_id': 'VFB_jrchjw8r'},\n",
              "  {'db': 'neuprint_JRC_Hemibrain_1point0point1', 'vfb_id': 'VFB_jrch05uz'},\n",
              "  {'db': 'neuprint_JRC_Hemibrain_1point1', 'vfb_id': 'VFB_jrchjw8r'}]}"
            ]
          },
          "execution_count": 8,
          "metadata": {},
          "output_type": "execute_result"
        }
      ],
      "source": [
        "# Some bodyIDs of HemiBrain neurons from the neuprint DataBase:\n",
        "bodyIDs = [1068958652, 571424748, 1141631198]\n",
        "vc.neo_query_wrapper.xref_2_vfb_id(map(str, bodyIDs)) # Note IDs must be strings"
      ]
    },
    {
      "cell_type": "code",
      "execution_count": 9,
      "metadata": {
        "cell_id": "00008-c3f3a1f0-9596-44e6-857c-ba8eabdba43a",
        "deepnote_cell_type": "code",
        "deepnote_to_be_reexecuted": false,
        "execution_millis": 358,
        "execution_start": 1614965532942,
        "source_hash": "3738587c",
        "tags": []
      },
      "outputs": [
        {
          "data": {
            "text/plain": [
              "{'VFB_jrchjwct': [{'acc': '571424748',\n",
              "   'db': 'neuprint_JRC_Hemibrain_1point1'}],\n",
              " 'VFB_jrchjw8r': [{'acc': '1141631198',\n",
              "   'db': 'neuprint_JRC_Hemibrain_1point1'}],\n",
              " 'VFB_jrchjwda': [{'acc': '1068958652',\n",
              "   'db': 'neuprint_JRC_Hemibrain_1point1'}]}"
            ]
          },
          "execution_count": 9,
          "metadata": {},
          "output_type": "execute_result"
        }
      ],
      "source": [
        "# xref queries can be constrained by DB. Results can optionally be reversed\n",
        "\n",
        "vc.neo_query_wrapper.xref_2_vfb_id(map(str, bodyIDs), db = 'neuprint_JRC_Hemibrain_1point1' , reverse_return=True)"
      ]
    },
    {
      "cell_type": "markdown",
      "metadata": {
        "cell_id": "00010-54619a98-fba7-40e7-9ff3-4ced3633540a",
        "deepnote_cell_type": "markdown",
        "tags": []
      },
      "source": [
        "### 2. `vc` direct methods overview"
      ]
    },
    {
      "cell_type": "markdown",
      "metadata": {
        "cell_id": "00011-f577015f-32f5-4bd6-bcea-f2274fdd9582",
        "deepnote_cell_type": "markdown",
        "tags": []
      },
      "source": [
        "**2.1** Methods that take the names of classes in VFB e.g. 'nodulus' or 'Kenyon cell', or simple query expressions using the names of classes and return metadata about the classes or individual neurons"
      ]
    },
    {
      "cell_type": "code",
      "execution_count": 10,
      "metadata": {
        "cell_id": "00009-4f6b2783-5d94-475d-88fe-f22c2302add2",
        "deepnote_cell_type": "code",
        "deepnote_to_be_reexecuted": false,
        "execution_millis": 2623,
        "execution_start": 1614965533309,
        "source_hash": "1ef0f13",
        "tags": []
      },
      "outputs": [
        {
          "name": "stdout",
          "output_type": "stream",
          "text": [
            "Running query: FBbt:00003686\n",
            "Query URL: http://owl.virtualflybrain.org/kbs/vfb/subclasses?object=FBbt%3A00003686&prefixes=%7B%22FBbt%22%3A+%22http%3A%2F%2Fpurl.obolibrary.org%2Fobo%2FFBbt_%22%2C+%22RO%22%3A+%22http%3A%2F%2Fpurl.obolibrary.org%2Fobo%2FRO_%22%2C+%22BFO%22%3A+%22http%3A%2F%2Fpurl.obolibrary.org%2Fobo%2FBFO_%22%7D&direct=False\n",
            "Query results: 37\n"
          ]
        },
        {
          "data": {
            "text/html": [
              "<div>\n",
              "<style scoped>\n",
              "    .dataframe tbody tr th:only-of-type {\n",
              "        vertical-align: middle;\n",
              "    }\n",
              "\n",
              "    .dataframe tbody tr th {\n",
              "        vertical-align: top;\n",
              "    }\n",
              "\n",
              "    .dataframe thead th {\n",
              "        text-align: right;\n",
              "    }\n",
              "</style>\n",
              "<table border=\"1\" class=\"dataframe\">\n",
              "  <thead>\n",
              "    <tr style=\"text-align: right;\">\n",
              "      <th></th>\n",
              "      <th>label</th>\n",
              "      <th>symbol</th>\n",
              "      <th>id</th>\n",
              "      <th>tags</th>\n",
              "      <th>data_source</th>\n",
              "      <th>accession</th>\n",
              "      <th>parents_label</th>\n",
              "      <th>parents_id</th>\n",
              "    </tr>\n",
              "  </thead>\n",
              "  <tbody>\n",
              "    <tr>\n",
              "      <th>0</th>\n",
              "      <td>Kenyon cell of main calyx</td>\n",
              "      <td></td>\n",
              "      <td>FBbt_00047926</td>\n",
              "      <td>Entity|Adult|Anatomy|Cell|Cholinergic|Class|Ne...</td>\n",
              "      <td></td>\n",
              "      <td></td>\n",
              "      <td>adult Kenyon cell</td>\n",
              "      <td>FBbt_00049825</td>\n",
              "    </tr>\n",
              "    <tr>\n",
              "      <th>1</th>\n",
              "      <td>KCab-c</td>\n",
              "      <td>KCab-c</td>\n",
              "      <td>FBbt_00110929</td>\n",
              "      <td>Entity|Adult|Anatomy|Cell|Cholinergic|Class|Ne...</td>\n",
              "      <td></td>\n",
              "      <td></td>\n",
              "      <td>alpha/beta surface/core Kenyon cell</td>\n",
              "      <td>FBbt_00049838</td>\n",
              "    </tr>\n",
              "    <tr>\n",
              "      <th>2</th>\n",
              "      <td>KCg-m</td>\n",
              "      <td>KCg-m</td>\n",
              "      <td>FBbt_00111061</td>\n",
              "      <td>Entity|Adult|Anatomy|Cell|Cholinergic|Class|Ne...</td>\n",
              "      <td></td>\n",
              "      <td></td>\n",
              "      <td>Kenyon cell of main calyx|adult gamma Kenyon cell</td>\n",
              "      <td>FBbt_00047926|FBbt_00049828</td>\n",
              "    </tr>\n",
              "    <tr>\n",
              "      <th>3</th>\n",
              "      <td>alpha/beta inner-core Kenyon cell</td>\n",
              "      <td></td>\n",
              "      <td>FBbt_00049111</td>\n",
              "      <td>Entity|Adult|Anatomy|Cell|Cholinergic|Class|Ne...</td>\n",
              "      <td></td>\n",
              "      <td></td>\n",
              "      <td>alpha/beta core Kenyon cell</td>\n",
              "      <td>FBbt_00110929</td>\n",
              "    </tr>\n",
              "    <tr>\n",
              "      <th>4</th>\n",
              "      <td>gamma Kenyon cell</td>\n",
              "      <td></td>\n",
              "      <td>FBbt_00100247</td>\n",
              "      <td>Entity|Anatomy|Cell|Class|Nervous_system|Neuro...</td>\n",
              "      <td></td>\n",
              "      <td></td>\n",
              "      <td>Kenyon cell</td>\n",
              "      <td>FBbt_00003686</td>\n",
              "    </tr>\n",
              "  </tbody>\n",
              "</table>\n",
              "</div>"
            ],
            "text/plain": [
              "                               label  symbol             id  \\\n",
              "0          Kenyon cell of main calyx          FBbt_00047926   \n",
              "1                             KCab-c  KCab-c  FBbt_00110929   \n",
              "2                              KCg-m   KCg-m  FBbt_00111061   \n",
              "3  alpha/beta inner-core Kenyon cell          FBbt_00049111   \n",
              "4                  gamma Kenyon cell          FBbt_00100247   \n",
              "\n",
              "                                                tags data_source accession  \\\n",
              "0  Entity|Adult|Anatomy|Cell|Cholinergic|Class|Ne...                         \n",
              "1  Entity|Adult|Anatomy|Cell|Cholinergic|Class|Ne...                         \n",
              "2  Entity|Adult|Anatomy|Cell|Cholinergic|Class|Ne...                         \n",
              "3  Entity|Adult|Anatomy|Cell|Cholinergic|Class|Ne...                         \n",
              "4  Entity|Anatomy|Cell|Class|Nervous_system|Neuro...                         \n",
              "\n",
              "                                       parents_label  \\\n",
              "0                                  adult Kenyon cell   \n",
              "1                alpha/beta surface/core Kenyon cell   \n",
              "2  Kenyon cell of main calyx|adult gamma Kenyon cell   \n",
              "3                        alpha/beta core Kenyon cell   \n",
              "4                                        Kenyon cell   \n",
              "\n",
              "                    parents_id  \n",
              "0                FBbt_00049825  \n",
              "1                FBbt_00049838  \n",
              "2  FBbt_00047926|FBbt_00049828  \n",
              "3                FBbt_00110929  \n",
              "4                FBbt_00003686  "
            ]
          },
          "execution_count": 10,
          "metadata": {},
          "output_type": "execute_result"
        }
      ],
      "source": [
        "KC_types = vc.get_subclasses(\"Kenyon cell\", summary=True)\n",
        "KC_types[0:5]"
      ]
    },
    {
      "cell_type": "markdown",
      "metadata": {
        "cell_id": "00013-375d396a-7123-4921-9340-96dbbf24cf01",
        "deepnote_cell_type": "markdown",
        "tags": []
      },
      "source": [
        "**2.2** Methods for querying connectivity\n",
        "\n",
        "Please see [Connectomics Notebook](connectomics.html) for examples"
      ]
    }
  ],
  "metadata": {
    "deepnote": {},
    "deepnote_execution_queue": [],
    "deepnote_notebook_id": "923d6d41-1023-4fd0-bdc2-838346c9b7c2",
    "kernelspec": {
      "display_name": "Python 3",
      "language": "python",
      "name": "python3"
    },
    "language_info": {
      "codemirror_mode": {
        "name": "ipython",
        "version": 3
      },
      "file_extension": ".py",
      "mimetype": "text/x-python",
      "name": "python",
      "nbconvert_exporter": "python",
      "pygments_lexer": "ipython3",
      "version": "3.10.9"
    },
    "orig_nbformat": 2
  },
  "nbformat": 4,
  "nbformat_minor": 2
}
