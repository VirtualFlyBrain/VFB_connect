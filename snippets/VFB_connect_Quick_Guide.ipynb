{
 "cells": [
  {
   "cell_type": "code",
   "execution_count": 2,
   "metadata": {},
   "outputs": [],
   "source": [
    "from vfb_connect.cross_server_tools import VfbConnect\n",
    "\n",
    "# VfbConnect object => wrapper for connection to public VFB servers + query methods\n",
    "vc = VfbConnect()"
   ]
  },
  {
   "cell_type": "code",
   "execution_count": 17,
   "metadata": {},
   "outputs": [
    {
     "data": {
      "text/plain": [
       "[{'term': {'core': {'short_form': 'VFB_00010001',\n",
       "    'label': 'fru-F-500075',\n",
       "    'iri': 'http://virtualflybrain.org/reports/VFB_00010001',\n",
       "    'types': ['Individual',\n",
       "     'VFB',\n",
       "     '_Individual',\n",
       "     'NBLAST',\n",
       "     'Neuron',\n",
       "     'Anatomy',\n",
       "     'Cell',\n",
       "     'Entity']},\n",
       "   'description': ['A(n) neuron expressing Scer\\\\GAL4[fru.P1.D] that is part of a female Scer\\\\GAL4[fru.P1.D] expression pattern.'],\n",
       "   'comment': ['OutAge: Adult 5~15 days']},\n",
       "  'query': 'Get JSON for Individual:Anatomy',\n",
       "  'version': '0f4d3af',\n",
       "  'dataset_license': [{'dataset': {'link': 'http://flybase.org/reports/FBrf0210580.html',\n",
       "     'core': {'short_form': 'Chiang2010',\n",
       "      'label': 'FlyCircuit 1.0 - single neurons (Chiang2010)',\n",
       "      'iri': 'http://virtualflybrain.org/data/Chiang2010',\n",
       "      'types': ['Individual', 'DataSet', 'Entity']}},\n",
       "    'license': {'icon': '',\n",
       "     'link': '',\n",
       "     'core': {'short_form': 'VFBlicense_FlyCircuit_License',\n",
       "      'label': 'FlyCircuit License',\n",
       "      'iri': 'http://virtualflybrain.org/licenses/FlyCircuit_License',\n",
       "      'types': ['Individual', 'License', 'Entity']}}}],\n",
       "  'parents': [{'short_form': 'FBbt_00050031',\n",
       "    'label': 'adult SMPpv1 lineage neuron',\n",
       "    'iri': 'http://purl.obolibrary.org/obo/FBbt_00050031',\n",
       "    'types': ['Class',\n",
       "     'VFB',\n",
       "     '_Class',\n",
       "     'Neuron',\n",
       "     'Anatomy',\n",
       "     'Cell',\n",
       "     'Entity',\n",
       "     'Leaf_node']}],\n",
       "  'relationships': [{'relation': {'label': 'overlaps',\n",
       "     'iri': 'http://purl.obolibrary.org/obo/RO_0002131',\n",
       "     'type': 'overlaps'},\n",
       "    'object': {'short_form': 'FBbt_00045050',\n",
       "     'label': 'flange',\n",
       "     'iri': 'http://purl.obolibrary.org/obo/FBbt_00045050',\n",
       "     'types': ['Class',\n",
       "      'VFB',\n",
       "      '_Class',\n",
       "      'Synaptic_neuropil',\n",
       "      'Synaptic_neuropil_domain',\n",
       "      'Anatomy',\n",
       "      'Entity']}},\n",
       "   {'relation': {'label': 'overlaps',\n",
       "     'iri': 'http://purl.obolibrary.org/obo/RO_0002131',\n",
       "     'type': 'overlaps'},\n",
       "    'object': {'short_form': 'FBbt_00007055',\n",
       "     'label': 'superior medial protocerebrum',\n",
       "     'iri': 'http://purl.obolibrary.org/obo/FBbt_00007055',\n",
       "     'types': ['Class',\n",
       "      'VFB',\n",
       "      '_Class',\n",
       "      'Synaptic_neuropil',\n",
       "      'Synaptic_neuropil_domain',\n",
       "      'Anatomy',\n",
       "      'Entity']}},\n",
       "   {'relation': {'label': 'part of',\n",
       "     'iri': 'http://purl.obolibrary.org/obo/BFO_0000050',\n",
       "     'type': 'part_of'},\n",
       "    'object': {'short_form': 'FBbt_00003624',\n",
       "     'label': 'adult brain',\n",
       "     'iri': 'http://purl.obolibrary.org/obo/FBbt_00003624',\n",
       "     'types': ['Class', 'VFB', '_Class', 'Anatomy', 'Entity']}},\n",
       "   {'relation': {'label': 'part of',\n",
       "     'iri': 'http://purl.obolibrary.org/obo/BFO_0000050',\n",
       "     'type': 'part_of'},\n",
       "    'object': {'short_form': 'VFBexp_FBal0276838',\n",
       "     'label': 'Scer\\\\GAL4[fru.P1.D] expression pattern',\n",
       "     'iri': 'http://virtualflybrain.org/reports/VFBexp_FBal0276838',\n",
       "     'types': ['Class', 'VFB', '_Class', 'Expression_pattern', 'Entity']}},\n",
       "   {'relation': {'label': 'part of',\n",
       "     'iri': 'http://purl.obolibrary.org/obo/BFO_0000050',\n",
       "     'type': 'part_of'},\n",
       "    'object': {'short_form': 'FBbt_00007011',\n",
       "     'label': 'female organism',\n",
       "     'iri': 'http://purl.obolibrary.org/obo/FBbt_00007011',\n",
       "     'types': ['Class', 'VFB', '_Class', 'Anatomy', 'Entity']}},\n",
       "   {'relation': {'label': 'member_of',\n",
       "     'iri': 'http://purl.obolibrary.org/obo/RO_0002350',\n",
       "     'type': 'member_of'},\n",
       "    'object': {'short_form': 'VFB_00017636',\n",
       "     'label': 'cluster 3.97',\n",
       "     'iri': 'http://virtualflybrain.org/reports/VFB_00017636',\n",
       "     'types': ['Individual', 'VFB', '_Individual', 'Entity', 'Cluster']}},\n",
       "   {'relation': {'label': 'expresses',\n",
       "     'iri': 'http://purl.obolibrary.org/obo/RO_0002292',\n",
       "     'type': 'expresses'},\n",
       "    'object': {'short_form': 'FBal0276838',\n",
       "     'label': 'Scer\\\\GAL4[fru.P1.D]',\n",
       "     'iri': 'http://flybase.org/reports/FBal0276838',\n",
       "     'types': ['Class', 'VFB', '_Class', 'Entity', 'Feature']}}],\n",
       "  'xrefs': [{'link_base': 'http://flycircuit.tw/modules.php?name=clearpage&op=detail_table&neuron=',\n",
       "    'icon': '',\n",
       "    'link_postfix': '',\n",
       "    'site': {'short_form': 'FlyCircuit',\n",
       "     'label': 'FlyCircuit',\n",
       "     'iri': 'http://flycircuit.tw',\n",
       "     'types': ['Individual', 'Site', 'Entity']},\n",
       "    'accession': 'fru-F-500075',\n",
       "    'link_text': 'fru-F-500075 on FlyCircuit',\n",
       "    'homepage': 'http://flycircuit.tw'}],\n",
       "  'channel_image': [{'channel': {'short_form': 'VFBc_00010001',\n",
       "     'label': 'fru-F-500075-c',\n",
       "     'iri': 'http://virtualflybrain.org/reports/VFBc_00010001',\n",
       "     'types': ['Individual', 'VFB', 'Entity']},\n",
       "    'imaging_technique': {'short_form': 'FBbi_00000251',\n",
       "     'label': 'confocal microscopy',\n",
       "     'iri': 'http://purl.obolibrary.org/obo/FBbi_00000251',\n",
       "     'types': ['Class', '_Class', 'FBBI', 'Entity']},\n",
       "    'image': {'template_channel': {'short_form': 'VFBc_00017894',\n",
       "      'label': 'JFRC2_template_c',\n",
       "      'iri': 'http://virtualflybrain.org/reports/VFBc_00017894',\n",
       "      'types': ['Individual', 'VFB', 'Template', 'Entity']},\n",
       "     'template_anatomy': {'short_form': 'VFB_00017894',\n",
       "      'label': 'adult brain template JFRC2',\n",
       "      'iri': 'http://virtualflybrain.org/reports/VFB_00017894',\n",
       "      'types': ['Individual',\n",
       "       'VFB',\n",
       "       '_Individual',\n",
       "       'Template',\n",
       "       'Anatomy',\n",
       "       'Entity']},\n",
       "     'image_folder': 'http://www.virtualflybrain.org/data/VFB/i/0001/0001/',\n",
       "     'index': []}}],\n",
       "  'related_individuals': [{'relation': {'label': 'member_of',\n",
       "     'iri': 'http://purl.obolibrary.org/obo/RO_0002350',\n",
       "     'type': 'member_of'},\n",
       "    'object': {'short_form': 'VFB_00017636',\n",
       "     'label': 'cluster 3.97',\n",
       "     'iri': 'http://virtualflybrain.org/reports/VFB_00017636',\n",
       "     'types': ['Individual', 'VFB', '_Individual', 'Entity', 'Cluster']}}]}]"
      ]
     },
     "execution_count": 17,
     "metadata": {},
     "output_type": "execute_result"
    }
   ],
   "source": [
    "#  Query with for term by ID. Supported IDs include anatomical individuals \n",
    "# (typically used for individual anatomical entities depicted in images), \n",
    "# dataset IDs and anatomy ontology IDs (FBbt)\n",
    "\n",
    "# All return values follow VFB_json_schema ()\n",
    "\n",
    "vc.neo_query_wrapper.get_TermInfo(['VFB_00010001']) # This can take multiple IDs, but is not efficient for querying with many IDs"
   ]
  },
  {
   "cell_type": "code",
   "execution_count": 23,
   "metadata": {},
   "outputs": [
    {
     "data": {
      "text/plain": [
       "dict_keys(['term', 'query', 'version', 'dataset_license', 'parents', 'relationships', 'xrefs', 'channel_image', 'related_individuals'])"
      ]
     },
     "execution_count": 23,
     "metadata": {},
     "output_type": "execute_result"
    }
   ],
   "source": [
    "vc.neo_query_wrapper.get_TermInfo(['VFB_00010001'])[0].keys()"
   ]
  },
  {
   "cell_type": "code",
   "execution_count": 24,
   "metadata": {},
   "outputs": [
    {
     "data": {
      "text/plain": [
       "[{'link_base': 'http://flycircuit.tw/modules.php?name=clearpage&op=detail_table&neuron=',\n",
       "  'icon': '',\n",
       "  'link_postfix': '',\n",
       "  'site': {'short_form': 'FlyCircuit',\n",
       "   'label': 'FlyCircuit',\n",
       "   'iri': 'http://flycircuit.tw',\n",
       "   'types': ['Individual', 'Site', 'Entity']},\n",
       "  'accession': 'fru-F-500075',\n",
       "  'link_text': 'fru-F-500075 on FlyCircuit',\n",
       "  'homepage': 'http://flycircuit.tw'}]"
      ]
     },
     "execution_count": 24,
     "metadata": {},
     "output_type": "execute_result"
    }
   ],
   "source": [
    "vc.neo_query_wrapper.get_TermInfo(['VFB_00010001'])[0]['xrefs']"
   ]
  },
  {
   "cell_type": "code",
   "execution_count": 19,
   "metadata": {},
   "outputs": [
    {
     "data": {
      "text/plain": [
       "[{'term': {'link': 'http://flybase.org/reports/FBrf0221438.html',\n",
       "   'core': {'short_form': 'Ito2013',\n",
       "    'label': 'Ito lab adult brain lineage clone image set',\n",
       "    'iri': 'http://virtualflybrain.org/data/Ito2013',\n",
       "    'types': ['Individual', 'DataSet', 'Entity']},\n",
       "   'description': [\"An exhaustive set of lineage clones covering the adult brain from Kei Ito\\\\'s  lab.\"],\n",
       "   'comment': []},\n",
       "  'query': 'Get JSON for DataSet',\n",
       "  'version': '0f4d3af',\n",
       "  'xrefs': [],\n",
       "  'license': [{'icon': 'http://mirrors.creativecommons.org/presskit/buttons/88x31/png/by-nc-sa.png',\n",
       "    'link': 'https://creativecommons.org/licenses/by-nc-sa/4.0/legalcode',\n",
       "    'core': {'short_form': 'VFBlicense_CC_BY_NC_SA_4_0',\n",
       "     'label': 'CC-BY-NC-SA_4.0',\n",
       "     'iri': 'http://creativecommons.org/licenses/by-nc-sa/4.0',\n",
       "     'types': ['Individual', 'License', 'Entity']}}],\n",
       "  'pubs': [{'core': {'short_form': 'FBrf0221438',\n",
       "     'label': 'Ito et al., 2013, Curr. Biol. 23(8): 644--655',\n",
       "     'iri': 'http://flybase.org/reports/FBrf0221438',\n",
       "     'types': ['Individual', 'pub', 'Entity']},\n",
       "    'PubMed': '23541729',\n",
       "    'FlyBase': 'FBrf0221438',\n",
       "    'DOI': '10.1016/j.cub.2013.03.015'}],\n",
       "  'dataset_counts': {'images': 96, 'types': 96}}]"
      ]
     },
     "execution_count": 19,
     "metadata": {},
     "output_type": "execute_result"
    }
   ],
   "source": [
    "#  Term type specific lookups are more efficient:\n",
    "\n",
    "vc.neo_query_wrapper.get_DataSet_TermInfo(['Ito2013'])"
   ]
  },
  {
   "cell_type": "code",
   "execution_count": 4,
   "metadata": {},
   "outputs": [
    {
     "data": {
      "text/plain": [
       "['FlyCircuit',\n",
       " 'FlyLight',\n",
       " 'BrainTrap',\n",
       " 'FlyBrain_NDB',\n",
       " 'DoOR',\n",
       " 'lmb_cluster_pages_v3',\n",
       " 'lmb_cluster_pages_v2',\n",
       " 'VDRC',\n",
       " 'catmaid_l1em',\n",
       " 'FlyLightSplit',\n",
       " 'FlyPNS',\n",
       " 'FlyBase',\n",
       " 'larvalbrain_axon_tract',\n",
       " 'larvalbrain_neuropil',\n",
       " 'catmaid_fafb',\n",
       " 'Konstantinides_et_al_2018_OpticLobe',\n",
       " 'neuprint_JRC',\n",
       " 'neuronbridge']"
      ]
     },
     "execution_count": 4,
     "metadata": {},
     "output_type": "execute_result"
    }
   ],
   "source": [
    "# Query with an external ID.\n",
    "# To find what sources (DBs) are supported: \n",
    "\n",
    "vc.neo_query_wrapper.get_dbs()"
   ]
  },
  {
   "cell_type": "code",
   "execution_count": 5,
   "metadata": {},
   "outputs": [
    {
     "data": {
      "text/plain": [
       "[{'term': {'core': {'short_form': 'VFB_00100184',\n",
       "    'label': 'L1 CNS neuron cypress left',\n",
       "    'iri': 'http://virtualflybrain.org/reports/VFB_00100184',\n",
       "    'types': ['Individual',\n",
       "     'VFB',\n",
       "     '_Individual',\n",
       "     'Neuron',\n",
       "     'Anatomy',\n",
       "     'Cell',\n",
       "     'Entity']},\n",
       "   'description': ['A(n) larval subesophageal zone cypress neuron.'],\n",
       "   'comment': []},\n",
       "  'query': 'Get JSON for Individual:Anatomy',\n",
       "  'version': '0f4d3af',\n",
       "  'dataset_license': [{'dataset': {'link': 'https://l1em.catmaid.virtualflybrain.org',\n",
       "     'core': {'short_form': 'Berck2016',\n",
       "      'label': 'Larval olfactory system neurons - EM (Berk2016)',\n",
       "      'iri': 'http://virtualflybrain.org/data/Berck2016',\n",
       "      'types': ['Individual', 'DataSet', 'Entity']}},\n",
       "    'license': {'icon': 'https://mirrors.creativecommons.org/presskit/buttons/88x31/png/by-sa.png',\n",
       "     'link': 'https://creativecommons.org/licenses/by-sa/4.0/legalcode',\n",
       "     'core': {'short_form': 'VFBlicense_CC_BY_SA_4_0',\n",
       "      'label': 'CC-BY-SA_4.0',\n",
       "      'iri': 'http://creativecommons.org/licenses/by-sa/4.0/',\n",
       "      'types': ['Individual', 'License', 'Entity']}}}],\n",
       "  'parents': [{'short_form': 'FBbt_00111724',\n",
       "    'label': 'larval subesophageal zone cypress neuron',\n",
       "    'iri': 'http://purl.obolibrary.org/obo/FBbt_00111724',\n",
       "    'types': ['Class',\n",
       "     'VFB',\n",
       "     '_Class',\n",
       "     'Neuron',\n",
       "     'Anatomy',\n",
       "     'Cell',\n",
       "     'Entity',\n",
       "     'Leaf_node']}],\n",
       "  'relationships': [],\n",
       "  'xrefs': [{'link_base': 'https://l1em.catmaid.virtualflybrain.org/?pid=1&tool=tracingtool&sid0=1&s0=2&active_skeleton_id=',\n",
       "    'icon': '',\n",
       "    'link_postfix': '',\n",
       "    'site': {'short_form': 'catmaid_l1em',\n",
       "     'label': 'VFB CATMAID L1 CNS',\n",
       "     'iri': 'https://l1em.catmaid.virtualflybrain.org/?pid=1&zp=56100&yp=32927.1&xp=27265&tool=tracingtool&sid0=1&s0=2',\n",
       "     'types': ['Individual', 'Site', 'Entity']},\n",
       "    'accession': '17545695',\n",
       "    'link_text': 'L1 CNS neuron cypress left on VFB CATMAID L1 CNS',\n",
       "    'homepage': 'https://l1em.catmaid.virtualflybrain.org/?pid=1&zp=56100&yp=32927.1&xp=27265&tool=tracingtool&sid0=1&s0=2'}],\n",
       "  'channel_image': [{'channel': {'short_form': 'VFBc_00100184',\n",
       "     'label': 'L1 CNS neuron cypress left_c',\n",
       "     'iri': 'http://virtualflybrain.org/reports/VFBc_00100184',\n",
       "     'types': ['Individual', 'Entity']},\n",
       "    'imaging_technique': {'short_form': 'FBbi_00000258',\n",
       "     'label': 'transmission electron microscopy (TEM)',\n",
       "     'iri': 'http://purl.obolibrary.org/obo/FBbi_00000258',\n",
       "     'types': ['Class', '_Class', 'FBBI', 'Entity']},\n",
       "    'image': {'template_channel': {'short_form': 'VFBc_00050000',\n",
       "      'label': 'L1 larval CNS ssTEM - Cardona/Janelia_c',\n",
       "      'iri': 'http://virtualflybrain.org/reports/VFBc_00050000',\n",
       "      'types': ['Individual', 'Template', 'Entity']},\n",
       "     'template_anatomy': {'short_form': 'VFB_00050000',\n",
       "      'label': 'L1 larval CNS ssTEM - Cardona/Janelia',\n",
       "      'iri': 'http://virtualflybrain.org/reports/VFB_00050000',\n",
       "      'types': ['Individual',\n",
       "       'VFB',\n",
       "       '_Individual',\n",
       "       'Template',\n",
       "       'Anatomy',\n",
       "       'Entity']},\n",
       "     'image_folder': 'http://www.virtualflybrain.org/data/VFB/i/0010/0184/',\n",
       "     'index': []}}],\n",
       "  'related_individuals': []}]"
      ]
     },
     "execution_count": 5,
     "metadata": {},
     "output_type": "execute_result"
    }
   ],
   "source": [
    "# Querying with an ID from catmaid_l1em\n",
    "vc.neo_query_wrapper.get_terms_by_xref(['17545695'], db='catmaid_l1em')"
   ]
  },
  {
   "cell_type": "code",
   "execution_count": 20,
   "metadata": {},
   "outputs": [
    {
     "name": "stdout",
     "output_type": "stream",
     "text": [
      "Running query: RO:0002131 some FBbt:00003679\n",
      "Query URL: http://owl.virtualflybrain.org/kbs/vfb/subclasses?object=RO%3A0002131+some+FBbt%3A00003679&prefixes=%7B%22FBbt%22%3A+%22http%3A%2F%2Fpurl.obolibrary.org%2Fobo%2FFBbt_%22%2C+%22RO%22%3A+%22http%3A%2F%2Fpurl.obolibrary.org%2Fobo%2FRO_%22%2C+%22BFO%22%3A+%22http%3A%2F%2Fpurl.obolibrary.org%2Fobo%2FBFO_%22%7D&direct=False\n",
      "Query results: 183\n"
     ]
    },
    {
     "data": {
      "text/plain": [
       "183"
      ]
     },
     "execution_count": 20,
     "metadata": {},
     "output_type": "execute_result"
    }
   ],
   "source": [
    "# Methods directly on cross-server tools allow integrative queries and support query by label\n",
    "\n",
    "# vc.get_terms_by_region: gets all terms relevant to a partcular region including neurons and parts\n",
    "    \n",
    "len(vc.get_terms_by_region('fan-shaped body'))\n",
    "\n",
    "  "
   ]
  },
  {
   "cell_type": "code",
   "execution_count": 21,
   "metadata": {},
   "outputs": [
    {
     "name": "stdout",
     "output_type": "stream",
     "text": [
      "Running query: RO:0002131 some FBbt:00003679\n",
      "Query URL: http://owl.virtualflybrain.org/kbs/vfb/subclasses?object=RO%3A0002131+some+FBbt%3A00003679&prefixes=%7B%22FBbt%22%3A+%22http%3A%2F%2Fpurl.obolibrary.org%2Fobo%2FFBbt_%22%2C+%22RO%22%3A+%22http%3A%2F%2Fpurl.obolibrary.org%2Fobo%2FRO_%22%2C+%22BFO%22%3A+%22http%3A%2F%2Fpurl.obolibrary.org%2Fobo%2FBFO_%22%7D&direct=False\n",
      "Query results: 183\n"
     ]
    },
    {
     "data": {
      "text/plain": [
       "[('pupal antennal lobes Tachykinin neuron', 'FBbt_00110042'),\n",
       " ('PB slice 3-FB layers 3-5-IDFP RB neuron', 'FBbt_00111427'),\n",
       " ('vertical fiber system neuron pb4', 'FBbt_00007563'),\n",
       " ('adult EBa1 lineage clone', 'FBbt_00050137'),\n",
       " ('adult Slp-AF neuron', 'FBbt_00049145'),\n",
       " ('pontine neuron', 'FBbt_00003636'),\n",
       " ('adult protocerebral LPP2 Tachykinin neuron', 'FBbt_00110043'),\n",
       " ('median fan-shaped neuron Fm', 'FBbt_00003658'),\n",
       " ('PB slice 3-FB-NO2 dorsal domain neuron', 'FBbt_00111392'),\n",
       " ('PB slice 3-FB-NO3 posterior domain neuron', 'FBbt_00111406')]"
      ]
     },
     "execution_count": 21,
     "metadata": {},
     "output_type": "execute_result"
    }
   ],
   "source": [
    "[(x['term']['core']['label'], x['term']['core']['short_form']) \n",
    " for x in vc.get_terms_by_region('fan-shaped body')][0:10]  \n"
   ]
  },
  {
   "cell_type": "code",
   "execution_count": 5,
   "metadata": {},
   "outputs": [
    {
     "name": "stdout",
     "output_type": "stream",
     "text": [
      "Running query: FBbt:00111724\n",
      "Query URL: http://owl.virtualflybrain.org/kbs/vfb/instances?object=FBbt%3A00111724&prefixes=%7B%22FBbt%22%3A+%22http%3A%2F%2Fpurl.obolibrary.org%2Fobo%2FFBbt_%22%2C+%22RO%22%3A+%22http%3A%2F%2Fpurl.obolibrary.org%2Fobo%2FRO_%22%2C+%22BFO%22%3A+%22http%3A%2F%2Fpurl.obolibrary.org%2Fobo%2FBFO_%22%7D&direct=False\n",
      "Query results: 2\n"
     ]
    }
   ],
   "source": [
    "cyp_neuron_images = vc.get_images('larval subesophageal zone cypress neuron')"
   ]
  },
  {
   "cell_type": "code",
   "execution_count": 31,
   "metadata": {},
   "outputs": [
    {
     "data": {
      "text/plain": [
       "[('L1 CNS neuron cypress right',\n",
       "  [{'image_folder': 'http://www.virtualflybrain.org/data/VFB/i/0010/0173/',\n",
       "    'template': 'L1 larval CNS ssTEM - Cardona/Janelia'}]),\n",
       " ('L1 CNS neuron cypress left',\n",
       "  [{'image_folder': 'http://www.virtualflybrain.org/data/VFB/i/0010/0184/',\n",
       "    'template': 'L1 larval CNS ssTEM - Cardona/Janelia'}])]"
      ]
     },
     "execution_count": 31,
     "metadata": {},
     "output_type": "execute_result"
    }
   ],
   "source": [
    "# Returned JSON includes direct links to image folders for each template the image is registered to:\n",
    "\n",
    "[(i['term']['core']['label'],\n",
    "  [{ 'image_folder': x['image']['image_folder'], 'template': x['image']['template_anatomy']['label']}\n",
    "   for x in i['channel_image']]) for i in cyp_neuron_images]\n"
   ]
  },
  {
   "cell_type": "code",
   "execution_count": 32,
   "metadata": {},
   "outputs": [
    {
     "name": "stdout",
     "output_type": "stream",
     "text": [
      "Running query: FBbt:00003679\n",
      "Query URL: http://owl.virtualflybrain.org/kbs/vfb/instances?object=FBbt%3A00003679&prefixes=%7B%22FBbt%22%3A+%22http%3A%2F%2Fpurl.obolibrary.org%2Fobo%2FFBbt_%22%2C+%22RO%22%3A+%22http%3A%2F%2Fpurl.obolibrary.org%2Fobo%2FRO_%22%2C+%22BFO%22%3A+%22http%3A%2F%2Fpurl.obolibrary.org%2Fobo%2FBFO_%22%7D&direct=False\n",
      "Query results: 4\n"
     ]
    },
    {
     "data": {
      "text/plain": [
       "[('FB on JRC2018Unisex adult brain',\n",
       "  [{'image_folder': 'http://www.virtualflybrain.org/data/VFB/i/0010/2134/VFB_00101567/',\n",
       "    'template': 'JRC2018Unisex'}]),\n",
       " ('fan-shaped body on adult brain template JFRC2',\n",
       "  [{'image_folder': 'http://www.virtualflybrain.org/data/VFB/i/0003/0633/',\n",
       "    'template': 'adult brain template JFRC2'}]),\n",
       " ('fan-shaped body on adult brain template Ito2014',\n",
       "  [{'image_folder': 'http://www.virtualflybrain.org/data/VFB/i/0003/0811/',\n",
       "    'template': 'adult brain template Ito2014'}]),\n",
       " ('FB on JRC_FlyEM_Hemibrain',\n",
       "  [{'image_folder': 'http://www.virtualflybrain.org/data/VFB/i/0010/1398/VFB_00101384/',\n",
       "    'template': 'JRC_FlyEM_Hemibrain'}])]"
      ]
     },
     "execution_count": 32,
     "metadata": {},
     "output_type": "execute_result"
    }
   ],
   "source": [
    "[(i['term']['core']['label'],\n",
    "  [{ 'image_folder': x['image']['image_folder'], 'template': x['image']['template_anatomy']['label']}\n",
    "   for x in i['channel_image']]) for i in vc.get_images('fan-shaped body')]\n"
   ]
  },
  {
   "cell_type": "code",
   "execution_count": 36,
   "metadata": {},
   "outputs": [
    {
     "name": "stdout",
     "output_type": "stream",
     "text": [
      "Running query: FBbt:00100214\n",
      "Query URL: http://owl.virtualflybrain.org/kbs/vfb/instances?object=FBbt%3A00100214&prefixes=%7B%22FBbt%22%3A+%22http%3A%2F%2Fpurl.obolibrary.org%2Fobo%2FFBbt_%22%2C+%22RO%22%3A+%22http%3A%2F%2Fpurl.obolibrary.org%2Fobo%2FRO_%22%2C+%22BFO%22%3A+%22http%3A%2F%2Fpurl.obolibrary.org%2Fobo%2FBFO_%22%7D&direct=False\n",
      "Query results: 365\n"
     ]
    },
    {
     "data": {
      "text/plain": [
       "[(\"PAM05_a(B\\\\'2p)_L\",\n",
       "  ['dopaminergic PAM neuron 5'],\n",
       "  [{'image_folder': 'http://www.virtualflybrain.org/data/VFB/i/jrch/07za/VFB_00101567/',\n",
       "    'template': 'JRC2018Unisex'},\n",
       "   {'image_folder': 'http://www.virtualflybrain.org/data/VFB/i/jrch/07za/VFB_00101384/',\n",
       "    'template': 'JRC_FlyEM_Hemibrain'}]),\n",
       " ('PAM09(B1ped)_L',\n",
       "  ['dopaminergic PAM neuron 9'],\n",
       "  [{'image_folder': 'http://www.virtualflybrain.org/data/VFB/i/jrch/06hx/VFB_00101567/',\n",
       "    'template': 'JRC2018Unisex'},\n",
       "   {'image_folder': 'http://www.virtualflybrain.org/data/VFB/i/jrch/06hx/VFB_00101384/',\n",
       "    'template': 'JRC_FlyEM_Hemibrain'}]),\n",
       " ('PAM11(a1)_L',\n",
       "  ['dopaminergic PAM neuron 11'],\n",
       "  [{'image_folder': 'http://www.virtualflybrain.org/data/VFB/i/jrch/04nq/VFB_00101384/',\n",
       "    'template': 'JRC_FlyEM_Hemibrain'},\n",
       "   {'image_folder': 'http://www.virtualflybrain.org/data/VFB/i/jrch/04nq/VFB_00101567/',\n",
       "    'template': 'JRC2018Unisex'}]),\n",
       " (\"PAM05_b(B\\\\'2p)_L\",\n",
       "  ['dopaminergic PAM neuron 5'],\n",
       "  [{'image_folder': 'http://www.virtualflybrain.org/data/VFB/i/jrch/07d2/VFB_00101384/',\n",
       "    'template': 'JRC_FlyEM_Hemibrain'},\n",
       "   {'image_folder': 'http://www.virtualflybrain.org/data/VFB/i/jrch/07d2/VFB_00101567/',\n",
       "    'template': 'JRC2018Unisex'}]),\n",
       " ('PAM07(y4<y1y2)_R',\n",
       "  ['dopaminergic PAM neuron 7'],\n",
       "  [{'image_folder': 'http://www.virtualflybrain.org/data/VFB/i/jrch/08nn/VFB_00101567/',\n",
       "    'template': 'JRC2018Unisex'},\n",
       "   {'image_folder': 'http://www.virtualflybrain.org/data/VFB/i/jrch/08nn/VFB_00101384/',\n",
       "    'template': 'JRC_FlyEM_Hemibrain'}])]"
      ]
     },
     "execution_count": 36,
     "metadata": {},
     "output_type": "execute_result"
    }
   ],
   "source": [
    "# Image queries range across multiple types\n",
    "[(i['term']['core']['label'],\n",
    "  [ x['label'] for x in i['parents']],\n",
    "  [{ 'image_folder': x['image']['image_folder'], 'template': x['image']['template_anatomy']['label']}\n",
    "   for x in i['channel_image']]) for i in vc.get_images('dopaminergic PAM neuron')][0:5]"
   ]
  }
 ],
 "metadata": {
  "kernelspec": {
   "display_name": "Python 3",
   "language": "python",
   "name": "python3"
  },
  "language_info": {
   "codemirror_mode": {
    "name": "ipython",
    "version": 3
   },
   "file_extension": ".py",
   "mimetype": "text/x-python",
   "name": "python",
   "nbconvert_exporter": "python",
   "pygments_lexer": "ipython3",
   "version": "3.7.0"
  }
 },
 "nbformat": 4,
 "nbformat_minor": 2
}
