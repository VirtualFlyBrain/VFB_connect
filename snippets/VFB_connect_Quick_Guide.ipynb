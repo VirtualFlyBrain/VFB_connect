{
 "cells": [
  {
   "cell_type": "code",
   "execution_count": 10,
   "metadata": {},
   "outputs": [],
   "source": [
    "!pip install -r ../requirements.txt --quiet\n",
    "!pip install ../ --quiet\n",
    "\n",
    "from vfb_connect.cross_server_tools import VfbConnect\n",
    "\n",
    "# VfbConnect object => wrapper for connection to public VFB servers + query methods\n",
    "vc = VfbConnect()"
   ]
  },
  {
   "cell_type": "code",
   "execution_count": 11,
   "metadata": {},
   "outputs": [
    {
     "data": {
      "text/html": [
       "<div>\n",
       "<style scoped>\n",
       "    .dataframe tbody tr th:only-of-type {\n",
       "        vertical-align: middle;\n",
       "    }\n",
       "\n",
       "    .dataframe tbody tr th {\n",
       "        vertical-align: top;\n",
       "    }\n",
       "\n",
       "    .dataframe thead th {\n",
       "        text-align: right;\n",
       "    }\n",
       "</style>\n",
       "<table border=\"1\" class=\"dataframe\">\n",
       "  <thead>\n",
       "    <tr style=\"text-align: right;\">\n",
       "      <th></th>\n",
       "      <th>label</th>\n",
       "      <th>symbol</th>\n",
       "      <th>id</th>\n",
       "      <th>tags</th>\n",
       "      <th>parents_label</th>\n",
       "      <th>parents_id</th>\n",
       "      <th>data_source</th>\n",
       "      <th>accession</th>\n",
       "      <th>xrefs</th>\n",
       "      <th>templates</th>\n",
       "      <th>dataset</th>\n",
       "      <th>license</th>\n",
       "    </tr>\n",
       "  </thead>\n",
       "  <tbody>\n",
       "    <tr>\n",
       "      <th>0</th>\n",
       "      <td>fru-F-500075</td>\n",
       "      <td></td>\n",
       "      <td>VFB_00010001</td>\n",
       "      <td>Entity|Adult|Anatomy|Cell|Expression_pattern_f...</td>\n",
       "      <td>expression pattern fragment|adult SMPpv1 linea...</td>\n",
       "      <td>VFBext_0000004|FBbt_00050031</td>\n",
       "      <td>FlyCircuit</td>\n",
       "      <td>fru-F-500075</td>\n",
       "      <td>FlyCircuit:fru-F-500075</td>\n",
       "      <td>JRC2018Unisex|adult brain template JFRC2</td>\n",
       "      <td>Chiang2010</td>\n",
       "      <td></td>\n",
       "    </tr>\n",
       "  </tbody>\n",
       "</table>\n",
       "</div>"
      ],
      "text/plain": [
       "          label symbol            id  \\\n",
       "0  fru-F-500075         VFB_00010001   \n",
       "\n",
       "                                                tags  \\\n",
       "0  Entity|Adult|Anatomy|Cell|Expression_pattern_f...   \n",
       "\n",
       "                                       parents_label  \\\n",
       "0  expression pattern fragment|adult SMPpv1 linea...   \n",
       "\n",
       "                     parents_id data_source     accession  \\\n",
       "0  VFBext_0000004|FBbt_00050031  FlyCircuit  fru-F-500075   \n",
       "\n",
       "                     xrefs                                 templates  \\\n",
       "0  FlyCircuit:fru-F-500075  JRC2018Unisex|adult brain template JFRC2   \n",
       "\n",
       "      dataset license  \n",
       "0  Chiang2010          "
      ]
     },
     "execution_count": 11,
     "metadata": {},
     "output_type": "execute_result"
    }
   ],
   "source": [
    "#  Query with for term by ID. Supported IDs include anatomical individuals \n",
    "# (typically used for individual anatomical entities depicted in images), \n",
    "# dataset IDs and anatomy ontology IDs (FBbt)\n",
    "\n",
    "# All return values follow VFB_json_schema ()\n",
    "\n",
    "vc.neo_query_wrapper.get_TermInfo(['VFB_00010001']) # This can take multiple IDs, but is not efficient for querying with many IDs"
   ]
  },
  {
   "cell_type": "code",
   "execution_count": 12,
   "metadata": {},
   "outputs": [
    {
     "data": {
      "text/plain": [
       "dict_keys(['label', 'symbol', 'id', 'tags', 'parents_label', 'parents_id', 'data_source', 'accession', 'xrefs', 'templates', 'dataset', 'license'])"
      ]
     },
     "execution_count": 12,
     "metadata": {},
     "output_type": "execute_result"
    }
   ],
   "source": [
    "vc.neo_query_wrapper.get_TermInfo(['VFB_00010001'], return_dataframe=False)[0].keys()"
   ]
  },
  {
   "cell_type": "code",
   "execution_count": 13,
   "metadata": {},
   "outputs": [
    {
     "data": {
      "text/plain": [
       "'FlyCircuit:fru-F-500075'"
      ]
     },
     "execution_count": 13,
     "metadata": {},
     "output_type": "execute_result"
    }
   ],
   "source": [
    "vc.neo_query_wrapper.get_TermInfo(['VFB_00010001'], return_dataframe=False)[0]['xrefs']"
   ]
  },
  {
   "cell_type": "code",
   "execution_count": 14,
   "metadata": {},
   "outputs": [
    {
     "data": {
      "text/html": [
       "<div>\n",
       "<style scoped>\n",
       "    .dataframe tbody tr th:only-of-type {\n",
       "        vertical-align: middle;\n",
       "    }\n",
       "\n",
       "    .dataframe tbody tr th {\n",
       "        vertical-align: top;\n",
       "    }\n",
       "\n",
       "    .dataframe thead th {\n",
       "        text-align: right;\n",
       "    }\n",
       "</style>\n",
       "<table border=\"1\" class=\"dataframe\">\n",
       "  <thead>\n",
       "    <tr style=\"text-align: right;\">\n",
       "      <th></th>\n",
       "      <th>label</th>\n",
       "      <th>symbol</th>\n",
       "      <th>id</th>\n",
       "      <th>tags</th>\n",
       "      <th>description</th>\n",
       "      <th>miniref</th>\n",
       "      <th>FlyBase</th>\n",
       "      <th>PMID</th>\n",
       "      <th>DOI</th>\n",
       "    </tr>\n",
       "  </thead>\n",
       "  <tbody>\n",
       "    <tr>\n",
       "      <th>0</th>\n",
       "      <td>Ito lab adult brain lineage clone image set</td>\n",
       "      <td></td>\n",
       "      <td>Ito2013</td>\n",
       "      <td>Entity|DataSet|Individual|has_image</td>\n",
       "      <td>[An exhaustive set of lineage clones covering ...</td>\n",
       "      <td>Ito et al., 2013, Curr. Biol. 23(8): 644--655</td>\n",
       "      <td>FBrf0221438</td>\n",
       "      <td>23541729</td>\n",
       "      <td>10.1016/j.cub.2013.03.015</td>\n",
       "    </tr>\n",
       "  </tbody>\n",
       "</table>\n",
       "</div>"
      ],
      "text/plain": [
       "                                         label symbol       id  \\\n",
       "0  Ito lab adult brain lineage clone image set         Ito2013   \n",
       "\n",
       "                                  tags  \\\n",
       "0  Entity|DataSet|Individual|has_image   \n",
       "\n",
       "                                         description  \\\n",
       "0  [An exhaustive set of lineage clones covering ...   \n",
       "\n",
       "                                         miniref      FlyBase      PMID  \\\n",
       "0  Ito et al., 2013, Curr. Biol. 23(8): 644--655  FBrf0221438  23541729   \n",
       "\n",
       "                         DOI  \n",
       "0  10.1016/j.cub.2013.03.015  "
      ]
     },
     "execution_count": 14,
     "metadata": {},
     "output_type": "execute_result"
    }
   ],
   "source": [
    "#  Term type specific lookups are more efficient:\n",
    "\n",
    "vc.neo_query_wrapper.get_DataSet_TermInfo(['Ito2013'])"
   ]
  },
  {
   "cell_type": "code",
   "execution_count": 15,
   "metadata": {},
   "outputs": [
    {
     "data": {
      "text/plain": [
       "['vnc1_catmaid_api',\n",
       " 'vnc_harvard_catmaid_api',\n",
       " 'flywire_supervoxel',\n",
       " 'l1em_catmaid_api',\n",
       " 'fafb_catmaid_api',\n",
       " 'jrc_slide_code_api',\n",
       " 'InsectBrainDB',\n",
       " 'FlyBrain_NDB',\n",
       " 'catmaid_fafb',\n",
       " 'catmaid_fanc',\n",
       " 'scExpressionAtlas',\n",
       " 'Konstantinides_et_al_2018_OpticLobe',\n",
       " 'FlyCircuit',\n",
       " 'QuickGO',\n",
       " 'catmaid_l1em',\n",
       " 'FlyLightSplit',\n",
       " 'FlyLightRaw',\n",
       " 'AmiGO',\n",
       " 'flywire783',\n",
       " 'flywire630',\n",
       " 'VDRC',\n",
       " 'FlyBase',\n",
       " 'catmaid_leg40',\n",
       " 'larvalbrain_neuropil',\n",
       " 'BrainTrap',\n",
       " 'catmaid_fanc_JRC2018VF',\n",
       " 'neuprint_JRC_Manc',\n",
       " 'FlyBase_vocabularies',\n",
       " 'FlyLightSplitSlideCode',\n",
       " 'FlyLightGen1MCFO',\n",
       " 'FlyCircuit1v2',\n",
       " 'FlyLightRawSlideCode',\n",
       " 'neuronbridge',\n",
       " 'FlyPNS',\n",
       " 'ExpressionAtlas',\n",
       " 'larvalbrain_axon_tract',\n",
       " 'FlyLightGen1MCFOSlideCode',\n",
       " 'FlyLight',\n",
       " 'DoOR',\n",
       " 'neuprint_JRC_Hemibrain_1point0point1',\n",
       " 'GEO',\n",
       " 'lmb_cluster_pages_v3',\n",
       " 'lmb_cluster_pages_v2',\n",
       " 'neuprint_JRC_Hemibrain_1point1']"
      ]
     },
     "execution_count": 15,
     "metadata": {},
     "output_type": "execute_result"
    }
   ],
   "source": [
    "# Query with an external ID.\n",
    "# To find what sources (DBs) are supported: \n",
    "\n",
    "vc.neo_query_wrapper.get_dbs()"
   ]
  },
  {
   "cell_type": "code",
   "execution_count": 16,
   "metadata": {},
   "outputs": [
    {
     "data": {
      "text/html": [
       "<div>\n",
       "<style scoped>\n",
       "    .dataframe tbody tr th:only-of-type {\n",
       "        vertical-align: middle;\n",
       "    }\n",
       "\n",
       "    .dataframe tbody tr th {\n",
       "        vertical-align: top;\n",
       "    }\n",
       "\n",
       "    .dataframe thead th {\n",
       "        text-align: right;\n",
       "    }\n",
       "</style>\n",
       "<table border=\"1\" class=\"dataframe\">\n",
       "  <thead>\n",
       "    <tr style=\"text-align: right;\">\n",
       "      <th></th>\n",
       "      <th>0</th>\n",
       "      <th>1</th>\n",
       "      <th>2</th>\n",
       "      <th>3</th>\n",
       "      <th>4</th>\n",
       "      <th>5</th>\n",
       "      <th>6</th>\n",
       "      <th>7</th>\n",
       "      <th>8</th>\n",
       "      <th>9</th>\n",
       "      <th>10</th>\n",
       "      <th>11</th>\n",
       "      <th>12</th>\n",
       "    </tr>\n",
       "  </thead>\n",
       "  <tbody>\n",
       "    <tr>\n",
       "      <th>0</th>\n",
       "      <td>l</td>\n",
       "      <td>a</td>\n",
       "      <td>b</td>\n",
       "      <td>e</td>\n",
       "      <td>l</td>\n",
       "      <td>None</td>\n",
       "      <td>None</td>\n",
       "      <td>None</td>\n",
       "      <td>None</td>\n",
       "      <td>None</td>\n",
       "      <td>None</td>\n",
       "      <td>None</td>\n",
       "      <td>None</td>\n",
       "    </tr>\n",
       "    <tr>\n",
       "      <th>1</th>\n",
       "      <td>s</td>\n",
       "      <td>y</td>\n",
       "      <td>m</td>\n",
       "      <td>b</td>\n",
       "      <td>o</td>\n",
       "      <td>l</td>\n",
       "      <td>None</td>\n",
       "      <td>None</td>\n",
       "      <td>None</td>\n",
       "      <td>None</td>\n",
       "      <td>None</td>\n",
       "      <td>None</td>\n",
       "      <td>None</td>\n",
       "    </tr>\n",
       "    <tr>\n",
       "      <th>2</th>\n",
       "      <td>i</td>\n",
       "      <td>d</td>\n",
       "      <td>None</td>\n",
       "      <td>None</td>\n",
       "      <td>None</td>\n",
       "      <td>None</td>\n",
       "      <td>None</td>\n",
       "      <td>None</td>\n",
       "      <td>None</td>\n",
       "      <td>None</td>\n",
       "      <td>None</td>\n",
       "      <td>None</td>\n",
       "      <td>None</td>\n",
       "    </tr>\n",
       "    <tr>\n",
       "      <th>3</th>\n",
       "      <td>t</td>\n",
       "      <td>a</td>\n",
       "      <td>g</td>\n",
       "      <td>s</td>\n",
       "      <td>None</td>\n",
       "      <td>None</td>\n",
       "      <td>None</td>\n",
       "      <td>None</td>\n",
       "      <td>None</td>\n",
       "      <td>None</td>\n",
       "      <td>None</td>\n",
       "      <td>None</td>\n",
       "      <td>None</td>\n",
       "    </tr>\n",
       "    <tr>\n",
       "      <th>4</th>\n",
       "      <td>p</td>\n",
       "      <td>a</td>\n",
       "      <td>r</td>\n",
       "      <td>e</td>\n",
       "      <td>n</td>\n",
       "      <td>t</td>\n",
       "      <td>s</td>\n",
       "      <td>_</td>\n",
       "      <td>l</td>\n",
       "      <td>a</td>\n",
       "      <td>b</td>\n",
       "      <td>e</td>\n",
       "      <td>l</td>\n",
       "    </tr>\n",
       "    <tr>\n",
       "      <th>5</th>\n",
       "      <td>p</td>\n",
       "      <td>a</td>\n",
       "      <td>r</td>\n",
       "      <td>e</td>\n",
       "      <td>n</td>\n",
       "      <td>t</td>\n",
       "      <td>s</td>\n",
       "      <td>_</td>\n",
       "      <td>i</td>\n",
       "      <td>d</td>\n",
       "      <td>None</td>\n",
       "      <td>None</td>\n",
       "      <td>None</td>\n",
       "    </tr>\n",
       "    <tr>\n",
       "      <th>6</th>\n",
       "      <td>d</td>\n",
       "      <td>a</td>\n",
       "      <td>t</td>\n",
       "      <td>a</td>\n",
       "      <td>_</td>\n",
       "      <td>s</td>\n",
       "      <td>o</td>\n",
       "      <td>u</td>\n",
       "      <td>r</td>\n",
       "      <td>c</td>\n",
       "      <td>e</td>\n",
       "      <td>None</td>\n",
       "      <td>None</td>\n",
       "    </tr>\n",
       "    <tr>\n",
       "      <th>7</th>\n",
       "      <td>a</td>\n",
       "      <td>c</td>\n",
       "      <td>c</td>\n",
       "      <td>e</td>\n",
       "      <td>s</td>\n",
       "      <td>s</td>\n",
       "      <td>i</td>\n",
       "      <td>o</td>\n",
       "      <td>n</td>\n",
       "      <td>None</td>\n",
       "      <td>None</td>\n",
       "      <td>None</td>\n",
       "      <td>None</td>\n",
       "    </tr>\n",
       "    <tr>\n",
       "      <th>8</th>\n",
       "      <td>x</td>\n",
       "      <td>r</td>\n",
       "      <td>e</td>\n",
       "      <td>f</td>\n",
       "      <td>s</td>\n",
       "      <td>None</td>\n",
       "      <td>None</td>\n",
       "      <td>None</td>\n",
       "      <td>None</td>\n",
       "      <td>None</td>\n",
       "      <td>None</td>\n",
       "      <td>None</td>\n",
       "      <td>None</td>\n",
       "    </tr>\n",
       "    <tr>\n",
       "      <th>9</th>\n",
       "      <td>t</td>\n",
       "      <td>e</td>\n",
       "      <td>m</td>\n",
       "      <td>p</td>\n",
       "      <td>l</td>\n",
       "      <td>a</td>\n",
       "      <td>t</td>\n",
       "      <td>e</td>\n",
       "      <td>s</td>\n",
       "      <td>None</td>\n",
       "      <td>None</td>\n",
       "      <td>None</td>\n",
       "      <td>None</td>\n",
       "    </tr>\n",
       "    <tr>\n",
       "      <th>10</th>\n",
       "      <td>d</td>\n",
       "      <td>a</td>\n",
       "      <td>t</td>\n",
       "      <td>a</td>\n",
       "      <td>s</td>\n",
       "      <td>e</td>\n",
       "      <td>t</td>\n",
       "      <td>None</td>\n",
       "      <td>None</td>\n",
       "      <td>None</td>\n",
       "      <td>None</td>\n",
       "      <td>None</td>\n",
       "      <td>None</td>\n",
       "    </tr>\n",
       "    <tr>\n",
       "      <th>11</th>\n",
       "      <td>l</td>\n",
       "      <td>i</td>\n",
       "      <td>c</td>\n",
       "      <td>e</td>\n",
       "      <td>n</td>\n",
       "      <td>s</td>\n",
       "      <td>e</td>\n",
       "      <td>None</td>\n",
       "      <td>None</td>\n",
       "      <td>None</td>\n",
       "      <td>None</td>\n",
       "      <td>None</td>\n",
       "      <td>None</td>\n",
       "    </tr>\n",
       "  </tbody>\n",
       "</table>\n",
       "</div>"
      ],
      "text/plain": [
       "   0  1     2     3     4     5     6     7     8     9     10    11    12\n",
       "0   l  a     b     e     l  None  None  None  None  None  None  None  None\n",
       "1   s  y     m     b     o     l  None  None  None  None  None  None  None\n",
       "2   i  d  None  None  None  None  None  None  None  None  None  None  None\n",
       "3   t  a     g     s  None  None  None  None  None  None  None  None  None\n",
       "4   p  a     r     e     n     t     s     _     l     a     b     e     l\n",
       "5   p  a     r     e     n     t     s     _     i     d  None  None  None\n",
       "6   d  a     t     a     _     s     o     u     r     c     e  None  None\n",
       "7   a  c     c     e     s     s     i     o     n  None  None  None  None\n",
       "8   x  r     e     f     s  None  None  None  None  None  None  None  None\n",
       "9   t  e     m     p     l     a     t     e     s  None  None  None  None\n",
       "10  d  a     t     a     s     e     t  None  None  None  None  None  None\n",
       "11  l  i     c     e     n     s     e  None  None  None  None  None  None"
      ]
     },
     "execution_count": 16,
     "metadata": {},
     "output_type": "execute_result"
    }
   ],
   "source": [
    "# Querying with an ID from catmaid_l1em\n",
    "vc.neo_query_wrapper.get_terms_by_xref(['17545695'], db='catmaid_l1em')"
   ]
  },
  {
   "cell_type": "code",
   "execution_count": 17,
   "metadata": {},
   "outputs": [
    {
     "data": {
      "text/plain": [
       "[('11488881',\n",
       "  [{'db': 'catmaid_fafb', 'vfb_id': 'VFB_00102fvq'},\n",
       "   {'db': 'catmaid_fafb', 'vfb_id': 'VFB_00102gso'}]),\n",
       " ('4524559', [{'db': 'catmaid_fafb', 'vfb_id': 'VFB_001013x3'}]),\n",
       " ('14810632',\n",
       "  [{'db': 'catmaid_fafb', 'vfb_id': 'VFB_00102h06'},\n",
       "   {'db': 'catmaid_fafb', 'vfb_id': 'VFB_00102g38'}]),\n",
       " ('5864214', [{'db': 'catmaid_fafb', 'vfb_id': 'VFB_00102dw0'}]),\n",
       " ('10604481',\n",
       "  [{'db': 'catmaid_fafb', 'vfb_id': 'VFB_00102ftc'},\n",
       "   {'db': 'catmaid_fafb', 'vfb_id': 'VFB_00102gqa'}]),\n",
       " ('5055252', [{'db': 'catmaid_fafb', 'vfb_id': 'VFB_001000mb'}]),\n",
       " ('14923390',\n",
       "  [{'db': 'catmaid_fafb', 'vfb_id': 'VFB_00102h53'},\n",
       "   {'db': 'catmaid_fafb', 'vfb_id': 'VFB_00102g85'}]),\n",
       " ('14932351',\n",
       "  [{'db': 'catmaid_fafb', 'vfb_id': 'VFB_00102g8m'},\n",
       "   {'db': 'catmaid_fafb', 'vfb_id': 'VFB_00102h5k'}]),\n",
       " ('10718661',\n",
       "  [{'db': 'catmaid_fafb', 'vfb_id': 'VFB_00102gql'},\n",
       "   {'db': 'catmaid_fafb', 'vfb_id': 'VFB_00102ftn'}]),\n",
       " ('12917646',\n",
       "  [{'db': 'catmaid_fafb', 'vfb_id': 'VFB_00102gut'},\n",
       "   {'db': 'catmaid_fafb', 'vfb_id': 'VFB_00102fxv'}])]"
      ]
     },
     "execution_count": 17,
     "metadata": {},
     "output_type": "execute_result"
    }
   ],
   "source": [
    "# Get all xrefs by database\n",
    "\n",
    "list(vc.neo_query_wrapper.xref_2_vfb_id(db='catmaid_fafb').items())[0:10]"
   ]
  },
  {
   "cell_type": "code",
   "execution_count": 18,
   "metadata": {},
   "outputs": [
    {
     "name": "stdout",
     "output_type": "stream",
     "text": [
      "Running query: RO:0002131 some FBbt:00003679\n",
      "Query URL: http://owl.virtualflybrain.org/kbs/vfb/subclasses?object=RO%3A0002131+some+FBbt%3A00003679&prefixes=%7B%22FBbt%22%3A+%22http%3A%2F%2Fpurl.obolibrary.org%2Fobo%2FFBbt_%22%2C+%22RO%22%3A+%22http%3A%2F%2Fpurl.obolibrary.org%2Fobo%2FRO_%22%2C+%22BFO%22%3A+%22http%3A%2F%2Fpurl.obolibrary.org%2Fobo%2FBFO_%22%7D&direct=False\n",
      "Query results: 250\n"
     ]
    },
    {
     "data": {
      "text/plain": [
       "250"
      ]
     },
     "execution_count": 18,
     "metadata": {},
     "output_type": "execute_result"
    }
   ],
   "source": [
    "# Methods directly on cross-server tools allow integrative queries and support query by label\n",
    "\n",
    "# vc.get_terms_by_region: gets all terms relevant to a partcular region including neurons and parts\n",
    "    \n",
    "len(vc.get_terms_by_region('fan-shaped body'))\n",
    "\n",
    "  "
   ]
  },
  {
   "cell_type": "code",
   "execution_count": 19,
   "metadata": {},
   "outputs": [
    {
     "name": "stdout",
     "output_type": "stream",
     "text": [
      "Running query: RO:0002131 some FBbt:00003679\n",
      "Query URL: http://owl.virtualflybrain.org/kbs/vfb/subclasses?object=RO%3A0002131+some+FBbt%3A00003679&prefixes=%7B%22FBbt%22%3A+%22http%3A%2F%2Fpurl.obolibrary.org%2Fobo%2FFBbt_%22%2C+%22RO%22%3A+%22http%3A%2F%2Fpurl.obolibrary.org%2Fobo%2FRO_%22%2C+%22BFO%22%3A+%22http%3A%2F%2Fpurl.obolibrary.org%2Fobo%2FBFO_%22%7D&direct=False\n",
      "Query results: 250\n"
     ]
    },
    {
     "data": {
      "text/plain": [
       "[('fan-shaped body layer 4', 'FBbt_00007491'),\n",
       " ('fan-shaped body layer 5', 'FBbt_00007492'),\n",
       " ('fan-shaped body layer 3', 'FBbt_00007490'),\n",
       " ('octopaminergic VPM3 neuron', 'FBbt_00110151'),\n",
       " ('fan-shaped body layer 6', 'FBbt_00007493'),\n",
       " ('fan-shaped body layer 9', 'FBbt_00047032'),\n",
       " ('adult NPF P2 neuron', 'FBbt_00048121'),\n",
       " ('pupal protocerebral LPP2 Tachykinin neuron', 'FBbt_00110040'),\n",
       " ('adult ellipsoid body extrinsic ring neuron ExR3', 'FBbt_00047035'),\n",
       " ('adult ExR1 neuron of DM4 lineage', 'FBbt_00053035')]"
      ]
     },
     "execution_count": 19,
     "metadata": {},
     "output_type": "execute_result"
    }
   ],
   "source": [
    "[(x['term']['core']['label'], x['term']['core']['short_form']) \n",
    " for x in vc.get_terms_by_region('fan-shaped body', summary=False)][0:10]  \n"
   ]
  },
  {
   "cell_type": "code",
   "execution_count": 20,
   "metadata": {},
   "outputs": [],
   "source": [
    "cyp_neuron_images = vc.get_instances('larval subesophageal zone cypress neuron', summary=False)"
   ]
  },
  {
   "cell_type": "code",
   "execution_count": 21,
   "metadata": {},
   "outputs": [
    {
     "data": {
      "text/plain": [
       "[('mPN (L1EM:17545695)',\n",
       "  [{'image_folder': 'http://www.virtualflybrain.org/data/VFB/i/0010/0184/VFB_00050000/',\n",
       "    'template': 'L1 larval CNS ssTEM - Cardona/Janelia'}]),\n",
       " ('mPN (L1EM:14154154)',\n",
       "  [{'image_folder': 'http://www.virtualflybrain.org/data/VFB/i/0010/0173/VFB_00050000/',\n",
       "    'template': 'L1 larval CNS ssTEM - Cardona/Janelia'}])]"
      ]
     },
     "execution_count": 21,
     "metadata": {},
     "output_type": "execute_result"
    }
   ],
   "source": [
    "# Returned JSON includes direct links to image folders for each template the image is registered to:\n",
    "\n",
    "[(i['term']['core']['label'],\n",
    "  [{ 'image_folder': x['image']['image_folder'], 'template': x['image']['template_anatomy']['label']}\n",
    "   for x in i['channel_image']]) for i in cyp_neuron_images]\n"
   ]
  },
  {
   "cell_type": "code",
   "execution_count": 22,
   "metadata": {},
   "outputs": [
    {
     "data": {
      "text/plain": [
       "[('fan-shaped body on adult brain template JFRC2',\n",
       "  [{'image_folder': 'http://www.virtualflybrain.org/data/VFB/i/0003/0633/VFB_00017894/',\n",
       "    'template': 'adult brain template JFRC2'}]),\n",
       " ('fan-shaped body on adult brain template Ito2014',\n",
       "  [{'image_folder': 'http://www.virtualflybrain.org/data/VFB/i/0003/0811/VFB_00030786/',\n",
       "    'template': 'adult brain template Ito2014'}]),\n",
       " ('FB on JRC2018Unisex adult brain',\n",
       "  [{'image_folder': 'http://www.virtualflybrain.org/data/VFB/i/0010/2134/VFB_00101567/',\n",
       "    'template': 'JRC2018Unisex'}]),\n",
       " ('FB-column3 on JRC_FlyEM_Hemibrain', []),\n",
       " ('FB on JRC_FlyEM_Hemibrain',\n",
       "  [{'image_folder': 'http://www.virtualflybrain.org/data/VFB/i/0010/1398/VFB_00101384/',\n",
       "    'template': 'JRC_FlyEM_Hemibrain'}])]"
      ]
     },
     "execution_count": 22,
     "metadata": {},
     "output_type": "execute_result"
    }
   ],
   "source": [
    "[(i['term']['core']['label'],\n",
    "  [{ 'image_folder': x['image']['image_folder'], 'template': x['image']['template_anatomy']['label']}\n",
    "   for x in i['channel_image']]) for i in vc.get_instances('fan-shaped body', summary=False)]\n"
   ]
  },
  {
   "cell_type": "code",
   "execution_count": 23,
   "metadata": {},
   "outputs": [
    {
     "data": {
      "text/plain": [
       "[(\"CREa1A_H07(b\\\\'2r5)_0_2018U\",\n",
       "  ['adult CREa1 lineage neuron',\n",
       "   'BAmd1 Notch ON hemilineage neuron',\n",
       "   'dopaminergic PAM neuron'],\n",
       "  [{'image_folder': 'http://www.virtualflybrain.org/data/VFB/i/0010/2719/VFB_00101567/',\n",
       "    'template': 'JRC2018Unisex'}]),\n",
       " ('CREa2A_H05(b2)_0_2018U',\n",
       "  ['DALcm1 Notch ON hemilineage neuron',\n",
       "   'dopaminergic PAM neuron',\n",
       "   'adult CREa2 lineage neuron'],\n",
       "  [{'image_folder': 'http://www.virtualflybrain.org/data/VFB/i/0010/2445/VFB_00101567/',\n",
       "    'template': 'JRC2018Unisex'}]),\n",
       " ('CREa1A_H17(r4_r2)_0_2018U',\n",
       "  ['dopaminergic PAM neuron',\n",
       "   'BAmd1 Notch ON hemilineage neuron',\n",
       "   'adult CREa1 lineage neuron'],\n",
       "  [{'image_folder': 'http://www.virtualflybrain.org/data/VFB/i/0010/2729/VFB_00101567/',\n",
       "    'template': 'JRC2018Unisex'}]),\n",
       " ('CREa2A_H19(r4_5)_0_2018U',\n",
       "  ['adult CREa2 lineage neuron',\n",
       "   'dopaminergic PAM neuron',\n",
       "   'DALcm1 Notch ON hemilineage neuron'],\n",
       "  [{'image_folder': 'http://www.virtualflybrain.org/data/VFB/i/0010/2459/VFB_00101567/',\n",
       "    'template': 'JRC2018Unisex'}]),\n",
       " ('CREa2A_H22(b2)_0_2018U',\n",
       "  ['dopaminergic PAM neuron',\n",
       "   'DALcm1 Notch ON hemilineage neuron',\n",
       "   'adult CREa2 lineage neuron'],\n",
       "  [{'image_folder': 'http://www.virtualflybrain.org/data/VFB/i/0010/2462/VFB_00101567/',\n",
       "    'template': 'JRC2018Unisex'}])]"
      ]
     },
     "execution_count": 23,
     "metadata": {},
     "output_type": "execute_result"
    }
   ],
   "source": [
    "# Image queries range across multiple types\n",
    "[(i['term']['core']['label'],\n",
    "  [ x['label'] for x in i['parents']],\n",
    "  [{ 'image_folder': x['image']['image_folder'], 'template': x['image']['template_anatomy']['label']}\n",
    "   for x in i['channel_image']]) for i in vc.get_instances('dopaminergic PAM neuron', summary=False)][0:5]"
   ]
  },
  {
   "cell_type": "code",
   "execution_count": 24,
   "metadata": {},
   "outputs": [
    {
     "name": "stdout",
     "output_type": "stream",
     "text": [
      "                                  cell_type   cell_type_id       sample_sex  \\\n",
      "0  adult antennal olfactory receptor neuron  FBbt_00007352  female organism   \n",
      "1  adult antennal olfactory receptor neuron  FBbt_00007352    male organism   \n",
      "2  adult antennal olfactory receptor neuron  FBbt_00007352             None   \n",
      "3  adult antennal olfactory receptor neuron  FBbt_00007352  female organism   \n",
      "4  adult antennal olfactory receptor neuron  FBbt_00007352    male organism   \n",
      "\n",
      "                                       sample_tissue  \\\n",
      "0  [antenna, adult corpus cardiacum, antenna, adu...   \n",
      "1  [wing, haltere, adult, adult pars intercerebra...   \n",
      "2  [antenna, proboscis, male reproductive system,...   \n",
      "3  [antenna, adult corpus cardiacum, antenna, adu...   \n",
      "4  [wing, haltere, adult, adult pars intercerebra...   \n",
      "\n",
      "                                            ref     gene      gene_id  \\\n",
      "0  Li et al., 2022, Science 375(6584): eabk2432  14-3-3ε  FBgn0020238   \n",
      "1  Li et al., 2022, Science 375(6584): eabk2432  14-3-3ε  FBgn0020238   \n",
      "2  Li et al., 2022, Science 375(6584): eabk2432  14-3-3ε  FBgn0020238   \n",
      "3  Li et al., 2022, Science 375(6584): eabk2432  14-3-3ζ  FBgn0004907   \n",
      "4  Li et al., 2022, Science 375(6584): eabk2432  14-3-3ζ  FBgn0004907   \n",
      "\n",
      "  function    extent      level  \n",
      "0       []  0.609756  1395.2687  \n",
      "1       []  0.625000  1317.0752  \n",
      "2       []  0.618605  1340.0747  \n",
      "3       []  0.725610  1721.6161  \n",
      "4       []  0.640625  1561.3594  \n"
     ]
    }
   ],
   "source": [
    "# Finding single cell transcriptomics data for a given cell type\n",
    "profile = vc.get_transcriptomic_profile(cell_type = 'adult olfactory receptor neuron')\n",
    "print(profile.head())"
   ]
  },
  {
   "cell_type": "code",
   "execution_count": 25,
   "metadata": {},
   "outputs": [
    {
     "name": "stdout",
     "output_type": "stream",
     "text": [
      "['Acetylcholine_receptor', 'Calcium_binding', 'Carbohydrate_binding', 'Chaperone', 'Cytoskeleton_binding', 'DNA_binding', 'Dopamine_receptor', 'Enzyme', 'GABA_receptor', 'GPCR', 'Glutamate_receptor', 'Gustatory_receptor', 'Histamine_receptor', 'Hormone', 'Ion_channel', 'Ligand', 'Lipid_binding', 'Mechanosensory_ion_channel', 'Metal_ion_binding', 'Neuropeptide', 'Neurotransmitter_receptor', 'Octopamine_receptor', 'Odorant_binding', 'Olfactory_receptor', 'Peptide_or_protein_hormone_receptor', 'Photoreceptor', 'RNA_binding', 'Receptor', 'Regulator', 'Serotonin_receptor', 'Small_molecule_binding', 'Structural_molecule', 'Thermosensory_ion_channel', 'Transcription_factor', 'Transporter', 'Tyramine_receptor']\n"
     ]
    }
   ],
   "source": [
    "# These results can be filtered by gene function - first find available gene functions\n",
    "functions = vc.get_gene_function_filters()\n",
    "print(functions)"
   ]
  },
  {
   "cell_type": "code",
   "execution_count": 26,
   "metadata": {},
   "outputs": [
    {
     "name": "stdout",
     "output_type": "stream",
     "text": [
      "                                  cell_type   cell_type_id       sample_sex  \\\n",
      "0  adult antennal olfactory receptor neuron  FBbt_00007352  female organism   \n",
      "1  adult antennal olfactory receptor neuron  FBbt_00007352    male organism   \n",
      "2  adult antennal olfactory receptor neuron  FBbt_00007352             None   \n",
      "3           adult olfactory receptor neuron  FBbt_00007386  female organism   \n",
      "4           adult olfactory receptor neuron  FBbt_00007386    male organism   \n",
      "\n",
      "                                       sample_tissue  \\\n",
      "0  [antenna, adult corpus cardiacum, antenna, adu...   \n",
      "1  [wing, haltere, adult, adult pars intercerebra...   \n",
      "2  [antenna, proboscis, male reproductive system,...   \n",
      "3                                       [adult head]   \n",
      "4                                       [adult head]   \n",
      "\n",
      "                                            ref     gene      gene_id  \\\n",
      "0  Li et al., 2022, Science 375(6584): eabk2432     Orco  FBgn0037324   \n",
      "1  Li et al., 2022, Science 375(6584): eabk2432     Orco  FBgn0037324   \n",
      "2  Li et al., 2022, Science 375(6584): eabk2432     Orco  FBgn0037324   \n",
      "3  Li et al., 2022, Science 375(6584): eabk2432  CG42260  FBgn0259145   \n",
      "4  Li et al., 2022, Science 375(6584): eabk2432  CG42260  FBgn0259145   \n",
      "\n",
      "                                            function    extent      level  \n",
      "0  [Olfactory_receptor, Receptor, Ion_channel, Od...  0.469512  1800.4366  \n",
      "1  [Olfactory_receptor, Receptor, Ion_channel, Od...  0.432292  1710.8816  \n",
      "2  [Olfactory_receptor, Receptor, Ion_channel, Od...  0.479070  1633.1283  \n",
      "3  [Small_molecule_binding, Olfactory_receptor, R...  0.201531  1282.2848  \n",
      "4  [Small_molecule_binding, Olfactory_receptor, R...  0.201299  1171.4191  \n"
     ]
    }
   ],
   "source": [
    "# Then run transcriptomics query speicfying a gene function to filter on\n",
    "filtered_profile = vc.get_transcriptomic_profile(cell_type = 'adult olfactory receptor neuron', gene_type='Olfactory_receptor')\n",
    "print(filtered_profile.head())"
   ]
  }
 ],
 "metadata": {
  "kernelspec": {
   "display_name": "Python 3",
   "language": "python",
   "name": "python3"
  },
  "language_info": {
   "codemirror_mode": {
    "name": "ipython",
    "version": 3
   },
   "file_extension": ".py",
   "mimetype": "text/x-python",
   "name": "python",
   "nbconvert_exporter": "python",
   "pygments_lexer": "ipython3",
   "version": "3.10.9"
  }
 },
 "nbformat": 4,
 "nbformat_minor": 2
}
