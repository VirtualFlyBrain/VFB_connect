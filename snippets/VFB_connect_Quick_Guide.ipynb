{
 "cells": [
  {
   "cell_type": "code",
   "execution_count": 4,
   "metadata": {},
   "outputs": [],
   "source": [
    "!pip install -r ../requirements.txt --quiet\n",
    "!pip install ../ --quiet\n",
    "\n",
    "from vfb_connect.cross_server_tools import VfbConnect\n",
    "\n",
    "# VfbConnect object => wrapper for connection to public VFB servers + query methods\n",
    "vc = VfbConnect()"
   ]
  },
  {
   "cell_type": "code",
   "execution_count": 5,
   "metadata": {},
   "outputs": [
    {
     "data": {
      "text/plain": [
       "[{'label': 'fru-F-500075',\n",
       "  'symbol': '',\n",
       "  'id': 'VFB_00010001',\n",
       "  'tags': 'Entity|Adult|Anatomy|Cell|Expression_pattern_fragment|Individual|Nervous_system|Neuron|VFB|has_image|FlyCircuit|NBLAST',\n",
       "  'parents_label': 'expression pattern fragment|adult SMPpv1 lineage neuron',\n",
       "  'parents_id': 'VFBext_0000004|FBbt_00050031',\n",
       "  'data_source': 'FlyCircuit',\n",
       "  'accession': 'fru-F-500075',\n",
       "  'xrefs': ':fru-F-500075',\n",
       "  'templates': 'JRC2018Unisex|adult brain template JFRC2',\n",
       "  'dataset': 'Chiang2010',\n",
       "  'license': ''}]"
      ]
     },
     "execution_count": 5,
     "metadata": {},
     "output_type": "execute_result"
    }
   ],
   "source": [
    "#  Query with for term by ID. Supported IDs include anatomical individuals \n",
    "# (typically used for individual anatomical entities depicted in images), \n",
    "# dataset IDs and anatomy ontology IDs (FBbt)\n",
    "\n",
    "# All return values follow VFB_json_schema ()\n",
    "\n",
    "vc.neo_query_wrapper.get_TermInfo(['VFB_00010001']) # This can take multiple IDs, but is not efficient for querying with many IDs"
   ]
  },
  {
   "cell_type": "code",
   "execution_count": 6,
   "metadata": {},
   "outputs": [
    {
     "data": {
      "text/plain": [
       "dict_keys(['label', 'symbol', 'id', 'tags', 'parents_label', 'parents_id', 'data_source', 'accession', 'xrefs', 'templates', 'dataset', 'license'])"
      ]
     },
     "execution_count": 6,
     "metadata": {},
     "output_type": "execute_result"
    }
   ],
   "source": [
    "vc.neo_query_wrapper.get_TermInfo(['VFB_00010001'])[0].keys()"
   ]
  },
  {
   "cell_type": "code",
   "execution_count": 7,
   "metadata": {},
   "outputs": [
    {
     "data": {
      "text/plain": [
       "':fru-F-500075'"
      ]
     },
     "execution_count": 7,
     "metadata": {},
     "output_type": "execute_result"
    }
   ],
   "source": [
    "vc.neo_query_wrapper.get_TermInfo(['VFB_00010001'])[0]['xrefs']"
   ]
  },
  {
   "cell_type": "code",
   "execution_count": 8,
   "metadata": {},
   "outputs": [
    {
     "data": {
      "text/plain": [
       "[{'label': 'Ito lab adult brain lineage clone image set',\n",
       "  'symbol': '',\n",
       "  'id': 'Ito2013',\n",
       "  'tags': 'Entity|DataSet|Individual|has_image',\n",
       "  'description': [\"An exhaustive set of lineage clones covering the adult brain from Kei Ito's  lab.\"],\n",
       "  'miniref': 'Ito et al., 2013, Curr. Biol. 23(8): 644--655',\n",
       "  'FlyBase': 'FBrf0221438',\n",
       "  'PMID': '23541729',\n",
       "  'DOI': '10.1016/j.cub.2013.03.015'}]"
      ]
     },
     "execution_count": 8,
     "metadata": {},
     "output_type": "execute_result"
    }
   ],
   "source": [
    "#  Term type specific lookups are more efficient:\n",
    "\n",
    "vc.neo_query_wrapper.get_DataSet_TermInfo(['Ito2013'])"
   ]
  },
  {
   "cell_type": "code",
   "execution_count": 9,
   "metadata": {},
   "outputs": [
    {
     "data": {
      "text/plain": [
       "['vnc1_catmaid_api',\n",
       " 'vnc_harvard_catmaid_api',\n",
       " 'flywire_supervoxel',\n",
       " 'l1em_catmaid_api',\n",
       " 'fafb_catmaid_api',\n",
       " 'jrc_slide_code_api',\n",
       " 'InsectBrainDB',\n",
       " 'FlyBrain_NDB',\n",
       " 'catmaid_fafb',\n",
       " 'catmaid_fanc',\n",
       " 'scExpressionAtlas',\n",
       " 'Konstantinides_et_al_2018_OpticLobe',\n",
       " 'FlyCircuit',\n",
       " 'QuickGO',\n",
       " 'catmaid_l1em',\n",
       " 'FlyLightSplit',\n",
       " 'FlyLightRaw',\n",
       " 'AmiGO',\n",
       " 'flywire783',\n",
       " 'flywire630',\n",
       " 'VDRC',\n",
       " 'FlyBase',\n",
       " 'catmaid_leg40',\n",
       " 'larvalbrain_neuropil',\n",
       " 'BrainTrap',\n",
       " 'catmaid_fanc_JRC2018VF',\n",
       " 'neuprint_JRC_Manc',\n",
       " 'FlyBase_vocabularies',\n",
       " 'FlyLightSplitSlideCode',\n",
       " 'FlyLightGen1MCFO',\n",
       " 'FlyCircuit1v2',\n",
       " 'FlyLightRawSlideCode',\n",
       " 'neuronbridge',\n",
       " 'FlyPNS',\n",
       " 'ExpressionAtlas',\n",
       " 'larvalbrain_axon_tract',\n",
       " 'FlyLightGen1MCFOSlideCode',\n",
       " 'FlyLight',\n",
       " 'DoOR',\n",
       " 'neuprint_JRC_Hemibrain_1point0point1',\n",
       " 'GEO',\n",
       " 'lmb_cluster_pages_v3',\n",
       " 'lmb_cluster_pages_v2',\n",
       " 'neuprint_JRC_Hemibrain_1point1']"
      ]
     },
     "execution_count": 9,
     "metadata": {},
     "output_type": "execute_result"
    }
   ],
   "source": [
    "# Query with an external ID.\n",
    "# To find what sources (DBs) are supported: \n",
    "\n",
    "vc.neo_query_wrapper.get_dbs()"
   ]
  },
  {
   "cell_type": "code",
   "execution_count": 10,
   "metadata": {},
   "outputs": [
    {
     "data": {
      "text/plain": [
       "[{'label': 'mPN (L1EM:17545695)',\n",
       "  'symbol': '',\n",
       "  'id': 'VFB_00100184',\n",
       "  'tags': 'Entity|Anatomy|Cell|Individual|Larva|Nervous_system|Neuron|has_image|has_neuron_connectivity|L1EM',\n",
       "  'parents_label': 'larval subesophageal zone cypress neuron',\n",
       "  'parents_id': 'FBbt_00111724',\n",
       "  'data_source': 'catmaid_l1em',\n",
       "  'accession': '17545695',\n",
       "  'xrefs': ':17545695',\n",
       "  'templates': 'L1 larval CNS ssTEM - Cardona/Janelia',\n",
       "  'dataset': 'Berck2016',\n",
       "  'license': 'https://creativecommons.org/licenses/by-sa/4.0/legalcode'}]"
      ]
     },
     "execution_count": 10,
     "metadata": {},
     "output_type": "execute_result"
    }
   ],
   "source": [
    "# Querying with an ID from catmaid_l1em\n",
    "vc.neo_query_wrapper.get_terms_by_xref(['17545695'], db='catmaid_l1em')"
   ]
  },
  {
   "cell_type": "code",
   "execution_count": 11,
   "metadata": {},
   "outputs": [
    {
     "data": {
      "text/plain": [
       "[('11488881',\n",
       "  [{'db': 'catmaid_fafb', 'vfb_id': 'VFB_00102fvq'},\n",
       "   {'db': 'catmaid_fafb', 'vfb_id': 'VFB_00102gso'}]),\n",
       " ('4524559', [{'db': 'catmaid_fafb', 'vfb_id': 'VFB_001013x3'}]),\n",
       " ('14810632',\n",
       "  [{'db': 'catmaid_fafb', 'vfb_id': 'VFB_00102h06'},\n",
       "   {'db': 'catmaid_fafb', 'vfb_id': 'VFB_00102g38'}]),\n",
       " ('5864214', [{'db': 'catmaid_fafb', 'vfb_id': 'VFB_00102dw0'}]),\n",
       " ('10604481',\n",
       "  [{'db': 'catmaid_fafb', 'vfb_id': 'VFB_00102ftc'},\n",
       "   {'db': 'catmaid_fafb', 'vfb_id': 'VFB_00102gqa'}]),\n",
       " ('5055252', [{'db': 'catmaid_fafb', 'vfb_id': 'VFB_001000mb'}]),\n",
       " ('14923390',\n",
       "  [{'db': 'catmaid_fafb', 'vfb_id': 'VFB_00102h53'},\n",
       "   {'db': 'catmaid_fafb', 'vfb_id': 'VFB_00102g85'}]),\n",
       " ('14932351',\n",
       "  [{'db': 'catmaid_fafb', 'vfb_id': 'VFB_00102g8m'},\n",
       "   {'db': 'catmaid_fafb', 'vfb_id': 'VFB_00102h5k'}]),\n",
       " ('10718661',\n",
       "  [{'db': 'catmaid_fafb', 'vfb_id': 'VFB_00102gql'},\n",
       "   {'db': 'catmaid_fafb', 'vfb_id': 'VFB_00102ftn'}]),\n",
       " ('12917646',\n",
       "  [{'db': 'catmaid_fafb', 'vfb_id': 'VFB_00102gut'},\n",
       "   {'db': 'catmaid_fafb', 'vfb_id': 'VFB_00102fxv'}])]"
      ]
     },
     "execution_count": 11,
     "metadata": {},
     "output_type": "execute_result"
    }
   ],
   "source": [
    "# Get all xrefs by database\n",
    "\n",
    "list(vc.neo_query_wrapper.xref_2_vfb_id(db='catmaid_fafb').items())[0:10]"
   ]
  },
  {
   "cell_type": "code",
   "execution_count": 12,
   "metadata": {},
   "outputs": [
    {
     "name": "stdout",
     "output_type": "stream",
     "text": [
      "Running query: RO:0002131 some FBbt:00003679\n",
      "Query URL: http://owl.virtualflybrain.org/kbs/vfb/subclasses?object=RO%3A0002131+some+FBbt%3A00003679&prefixes=%7B%22FBbt%22%3A+%22http%3A%2F%2Fpurl.obolibrary.org%2Fobo%2FFBbt_%22%2C+%22RO%22%3A+%22http%3A%2F%2Fpurl.obolibrary.org%2Fobo%2FRO_%22%2C+%22BFO%22%3A+%22http%3A%2F%2Fpurl.obolibrary.org%2Fobo%2FBFO_%22%7D&direct=False\n",
      "Query results: 250\n"
     ]
    },
    {
     "data": {
      "text/plain": [
       "250"
      ]
     },
     "execution_count": 12,
     "metadata": {},
     "output_type": "execute_result"
    }
   ],
   "source": [
    "# Methods directly on cross-server tools allow integrative queries and support query by label\n",
    "\n",
    "# vc.get_terms_by_region: gets all terms relevant to a partcular region including neurons and parts\n",
    "    \n",
    "len(vc.get_terms_by_region('fan-shaped body'))\n",
    "\n",
    "  "
   ]
  },
  {
   "cell_type": "code",
   "execution_count": 16,
   "metadata": {},
   "outputs": [
    {
     "name": "stdout",
     "output_type": "stream",
     "text": [
      "Running query: RO:0002131 some FBbt:00003679\n",
      "Query URL: http://owl.virtualflybrain.org/kbs/vfb/subclasses?object=RO%3A0002131+some+FBbt%3A00003679&prefixes=%7B%22FBbt%22%3A+%22http%3A%2F%2Fpurl.obolibrary.org%2Fobo%2FFBbt_%22%2C+%22RO%22%3A+%22http%3A%2F%2Fpurl.obolibrary.org%2Fobo%2FRO_%22%2C+%22BFO%22%3A+%22http%3A%2F%2Fpurl.obolibrary.org%2Fobo%2FBFO_%22%7D&direct=False\n",
      "Query results: 250\n"
     ]
    },
    {
     "data": {
      "text/plain": [
       "[('fan-shaped body layer 4', 'FBbt_00007491'),\n",
       " ('fan-shaped body layer 5', 'FBbt_00007492'),\n",
       " ('fan-shaped body layer 3', 'FBbt_00007490'),\n",
       " ('octopaminergic VPM3 neuron', 'FBbt_00110151'),\n",
       " ('fan-shaped body layer 6', 'FBbt_00007493'),\n",
       " ('fan-shaped body layer 9', 'FBbt_00047032'),\n",
       " ('adult NPF P2 neuron', 'FBbt_00048121'),\n",
       " ('pupal protocerebral LPP2 Tachykinin neuron', 'FBbt_00110040'),\n",
       " ('adult ellipsoid body extrinsic ring neuron ExR3', 'FBbt_00047035'),\n",
       " ('adult ExR1 neuron of DM4 lineage', 'FBbt_00053035')]"
      ]
     },
     "execution_count": 16,
     "metadata": {},
     "output_type": "execute_result"
    }
   ],
   "source": [
    "[(x['term']['core']['label'], x['term']['core']['short_form']) \n",
    " for x in vc.get_terms_by_region('fan-shaped body', summary=False)][0:10]  \n"
   ]
  },
  {
   "cell_type": "code",
   "execution_count": null,
   "metadata": {},
   "outputs": [],
   "source": [
    "cyp_neuron_images = vc.get_instances('larval subesophageal zone cypress neuron')"
   ]
  },
  {
   "cell_type": "code",
   "execution_count": null,
   "metadata": {},
   "outputs": [
    {
     "data": {
      "text/plain": [
       "[('mPN (L1EM:17545695)',\n",
       "  [{'image_folder': 'http://www.virtualflybrain.org/data/VFB/i/0010/0184/VFB_00050000/',\n",
       "    'template': 'L1 larval CNS ssTEM - Cardona/Janelia'}]),\n",
       " ('mPN (L1EM:14154154)',\n",
       "  [{'image_folder': 'http://www.virtualflybrain.org/data/VFB/i/0010/0173/VFB_00050000/',\n",
       "    'template': 'L1 larval CNS ssTEM - Cardona/Janelia'}])]"
      ]
     },
     "execution_count": 23,
     "metadata": {},
     "output_type": "execute_result"
    }
   ],
   "source": [
    "# Returned JSON includes direct links to image folders for each template the image is registered to:\n",
    "\n",
    "[(i['term']['core']['label'],\n",
    "  [{ 'image_folder': x['image']['image_folder'], 'template': x['image']['template_anatomy']['label']}\n",
    "   for x in i['channel_image']]) for i in cyp_neuron_images]\n"
   ]
  },
  {
   "cell_type": "code",
   "execution_count": null,
   "metadata": {},
   "outputs": [
    {
     "data": {
      "text/plain": [
       "[('fan-shaped body on adult brain template JFRC2',\n",
       "  [{'image_folder': 'http://www.virtualflybrain.org/data/VFB/i/0003/0633/VFB_00017894/',\n",
       "    'template': 'adult brain template JFRC2'}]),\n",
       " ('FB on JRC_FlyEM_Hemibrain',\n",
       "  [{'image_folder': 'http://www.virtualflybrain.org/data/VFB/i/0010/1398/VFB_00101384/',\n",
       "    'template': 'JRC_FlyEM_Hemibrain'}]),\n",
       " ('FB on JRC2018Unisex adult brain',\n",
       "  [{'image_folder': 'http://www.virtualflybrain.org/data/VFB/i/0010/2134/VFB_00101567/',\n",
       "    'template': 'JRC2018Unisex'}]),\n",
       " ('fan-shaped body on adult brain template Ito2014',\n",
       "  [{'image_folder': 'http://www.virtualflybrain.org/data/VFB/i/0003/0811/VFB_00030786/',\n",
       "    'template': 'adult brain template Ito2014'}]),\n",
       " ('FB-column3 on JRC_FlyEM_Hemibrain', [])]"
      ]
     },
     "execution_count": 24,
     "metadata": {},
     "output_type": "execute_result"
    }
   ],
   "source": [
    "[(i['term']['core']['label'],\n",
    "  [{ 'image_folder': x['image']['image_folder'], 'template': x['image']['template_anatomy']['label']}\n",
    "   for x in i['channel_image']]) for i in vc.get_instances('fan-shaped body')]\n"
   ]
  },
  {
   "cell_type": "code",
   "execution_count": null,
   "metadata": {},
   "outputs": [
    {
     "data": {
      "text/plain": [
       "[('CREa1A_H22(b2)_0_2018U',\n",
       "  ['adult CREa1 lineage neuron', 'dopaminergic PAM neuron'],\n",
       "  [{'image_folder': 'http://www.virtualflybrain.org/data/VFB/i/0010/2734/VFB_00101567/',\n",
       "    'template': 'JRC2018Unisex'}]),\n",
       " ('CREa1A_H17(r4_r2)_0_2018U',\n",
       "  ['adult CREa1 lineage neuron', 'dopaminergic PAM neuron'],\n",
       "  [{'image_folder': 'http://www.virtualflybrain.org/data/VFB/i/0010/2729/VFB_00101567/',\n",
       "    'template': 'JRC2018Unisex'}]),\n",
       " ('CREa2A_H17(r4_r2)_0_2018U',\n",
       "  ['adult DALcm1 lineage neuron', 'dopaminergic PAM neuron'],\n",
       "  [{'image_folder': 'http://www.virtualflybrain.org/data/VFB/i/0010/2457/VFB_00101567/',\n",
       "    'template': 'JRC2018Unisex'}]),\n",
       " (\"CREa2A_H07(b\\\\'2r5)_0_2018U\",\n",
       "  ['adult DALcm1 lineage neuron', 'dopaminergic PAM neuron'],\n",
       "  [{'image_folder': 'http://www.virtualflybrain.org/data/VFB/i/0010/2447/VFB_00101567/',\n",
       "    'template': 'JRC2018Unisex'}]),\n",
       " ('CREa2A_H19(r4_5)_0_2018U',\n",
       "  ['dopaminergic PAM neuron', 'adult DALcm1 lineage neuron'],\n",
       "  [{'image_folder': 'http://www.virtualflybrain.org/data/VFB/i/0010/2459/VFB_00101567/',\n",
       "    'template': 'JRC2018Unisex'}])]"
      ]
     },
     "execution_count": 25,
     "metadata": {},
     "output_type": "execute_result"
    }
   ],
   "source": [
    "# Image queries range across multiple types\n",
    "[(i['term']['core']['label'],\n",
    "  [ x['label'] for x in i['parents']],\n",
    "  [{ 'image_folder': x['image']['image_folder'], 'template': x['image']['template_anatomy']['label']}\n",
    "   for x in i['channel_image']]) for i in vc.get_instances('dopaminergic PAM neuron')][0:5]"
   ]
  },
  {
   "cell_type": "code",
   "execution_count": null,
   "metadata": {},
   "outputs": [
    {
     "name": "stdout",
     "output_type": "stream",
     "text": [
      "                                  cell_type   cell_type_id       sample_sex  \\\n",
      "0  adult antennal olfactory receptor neuron  FBbt_00007352  female organism   \n",
      "1  adult antennal olfactory receptor neuron  FBbt_00007352    male organism   \n",
      "2  adult antennal olfactory receptor neuron  FBbt_00007352             None   \n",
      "3  adult antennal olfactory receptor neuron  FBbt_00007352             None   \n",
      "4  adult antennal olfactory receptor neuron  FBbt_00007352    male organism   \n",
      "\n",
      "                                       sample_tissue  \\\n",
      "0  [antenna, adult tracheal system, wing, haltere...   \n",
      "1  [adult head, adult, wing, proboscis, testis, m...   \n",
      "2  [leg, adult, adult fat body, adult abdomen, ad...   \n",
      "3  [leg, adult, adult fat body, adult abdomen, ad...   \n",
      "4  [adult head, adult, wing, proboscis, testis, m...   \n",
      "\n",
      "                                            ref     gene      gene_id  \\\n",
      "0  Li et al., 2022, Science 375(6584): eabk2432  14-3-3ε  FBgn0020238   \n",
      "1  Li et al., 2022, Science 375(6584): eabk2432  14-3-3ε  FBgn0020238   \n",
      "2  Li et al., 2022, Science 375(6584): eabk2432  14-3-3ε  FBgn0020238   \n",
      "3  Li et al., 2022, Science 375(6584): eabk2432  14-3-3ζ  FBgn0004907   \n",
      "4  Li et al., 2022, Science 375(6584): eabk2432  14-3-3ζ  FBgn0004907   \n",
      "\n",
      "  function    extent      level  \n",
      "0       []  0.609756  1395.2687  \n",
      "1       []  0.625000  1317.0752  \n",
      "2       []  0.618605  1340.0747  \n",
      "3       []  0.709302  1613.5887  \n",
      "4       []  0.640625  1561.3594  \n"
     ]
    }
   ],
   "source": [
    "# Finding single cell transcriptomics data for a given cell type\n",
    "profile = vc.get_transcriptomic_profile(cell_type = 'adult olfactory receptor neuron')\n",
    "print(profile.head())"
   ]
  },
  {
   "cell_type": "code",
   "execution_count": null,
   "metadata": {},
   "outputs": [
    {
     "name": "stdout",
     "output_type": "stream",
     "text": [
      "['Acetylcholine_receptor', 'Calcium_binding', 'Dopamine_receptor', 'Enzyme', 'GABA_receptor', 'GPCR', 'Glutamate_receptor', 'Gustatory_receptor', 'Histamine_receptor', 'Hormone', 'Ion_channel', 'Mechanosensory_ion_channel', 'Neuropeptide', 'Octopamine_receptor', 'Odorant_binding', 'Olfactory_receptor', 'Peptide_or_protein_hormone_receptor', 'Photoreceptor', 'Serotonin_receptor', 'Thermosensory_ion_channel', 'Transcription_factor', 'Tyramine_receptor']\n"
     ]
    }
   ],
   "source": [
    "# These results can be filtered by gene function - first find available gene functions\n",
    "functions = vc.get_gene_function_filters()\n",
    "print(functions)"
   ]
  },
  {
   "cell_type": "code",
   "execution_count": null,
   "metadata": {},
   "outputs": [
    {
     "name": "stdout",
     "output_type": "stream",
     "text": [
      "                         cell_type   cell_type_id       sample_sex  \\\n",
      "0  adult olfactory receptor neuron  FBbt_00007386  female organism   \n",
      "1  adult olfactory receptor neuron  FBbt_00007386    male organism   \n",
      "2  adult olfactory receptor neuron  FBbt_00007386             None   \n",
      "3  adult olfactory receptor neuron  FBbt_00007386  female organism   \n",
      "4  adult olfactory receptor neuron  FBbt_00007386             None   \n",
      "\n",
      "                                       sample_tissue  \\\n",
      "0                                          [antenna]   \n",
      "1  [adult head, adult, wing, proboscis, testis, m...   \n",
      "2                                          [antenna]   \n",
      "3                                       [adult head]   \n",
      "4                                       [adult head]   \n",
      "\n",
      "                                            ref  gene      gene_id  \\\n",
      "0  Li et al., 2022, Science 375(6584): eabk2432  Orco  FBgn0037324   \n",
      "1  Li et al., 2022, Science 375(6584): eabk2432  Orco  FBgn0037324   \n",
      "2  Li et al., 2022, Science 375(6584): eabk2432  Orco  FBgn0037324   \n",
      "3  Li et al., 2022, Science 375(6584): eabk2432  Orco  FBgn0037324   \n",
      "4  Li et al., 2022, Science 375(6584): eabk2432  Orco  FBgn0037324   \n",
      "\n",
      "                                            function    extent      level  \n",
      "0  [Olfactory_receptor, Ion_channel, Odorant_bind...  0.726703  1699.4030  \n",
      "1  [Olfactory_receptor, Ion_channel, Odorant_bind...  0.734430  2036.3027  \n",
      "2  [Olfactory_receptor, Ion_channel, Odorant_bind...  0.759753  1789.3881  \n",
      "3  [Olfactory_receptor, Ion_channel, Odorant_bind...  0.719388  2769.3171  \n",
      "4  [Olfactory_receptor, Ion_channel, Odorant_bind...  0.702703  2649.6653  \n"
     ]
    }
   ],
   "source": [
    "# Then run transcriptomics query speicfying a gene function to filter on\n",
    "filtered_profile = vc.get_transcriptomic_profile(cell_type = 'adult olfactory receptor neuron', gene_type='Olfactory_receptor')\n",
    "print(filtered_profile.head())"
   ]
  },
  {
   "cell_type": "code",
   "execution_count": null,
   "metadata": {},
   "outputs": [],
   "source": []
  }
 ],
 "metadata": {
  "kernelspec": {
   "display_name": "Python 3",
   "language": "python",
   "name": "python3"
  },
  "language_info": {
   "codemirror_mode": {
    "name": "ipython",
    "version": 3
   },
   "file_extension": ".py",
   "mimetype": "text/x-python",
   "name": "python",
   "nbconvert_exporter": "python",
   "pygments_lexer": "ipython3",
   "version": "3.10.9"
  }
 },
 "nbformat": 4,
 "nbformat_minor": 2
}
