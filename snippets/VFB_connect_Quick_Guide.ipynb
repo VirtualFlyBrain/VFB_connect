{
 "cells": [
  {
   "cell_type": "code",
   "execution_count": 1,
   "metadata": {},
   "outputs": [
    {
     "name": "stdout",
     "output_type": "stream",
     "text": [
      "Welcome to the \u001b[36mVirtual Fly Brain\u001b[0m API\n",
      "See the documentation at: https://virtualflybrain.org/docs/tutorials/apis/\n",
      "\n",
      "\u001b[32mEstablishing connections to https://VirtualFlyBrain.org services...\u001b[0m\n",
      "\u001b[32mSession Established!\u001b[0m\n",
      "\n",
      "\u001b[33mType \u001b[35mvfb. \u001b[33mand press \u001b[35mtab\u001b[33m to see available queries. You can run help against any query e.g. \u001b[35mhelp(vfb.get_TermInfo)\u001b[0m\n"
     ]
    }
   ],
   "source": [
    "!pip install -r ../requirements.txt --quiet\n",
    "!pip install ../ --quiet\n",
    "\n",
    "\n",
    "# vfb object => wrapper for connection to public VFB servers + query methods\n",
    "from vfb_connect import vfb\n"
   ]
  },
  {
   "cell_type": "code",
   "execution_count": 2,
   "metadata": {},
   "outputs": [
    {
     "data": {
      "text/html": [
       "<div>\n",
       "<style scoped>\n",
       "    .dataframe tbody tr th:only-of-type {\n",
       "        vertical-align: middle;\n",
       "    }\n",
       "\n",
       "    .dataframe tbody tr th {\n",
       "        vertical-align: top;\n",
       "    }\n",
       "\n",
       "    .dataframe thead th {\n",
       "        text-align: right;\n",
       "    }\n",
       "</style>\n",
       "<table border=\"1\" class=\"dataframe\">\n",
       "  <thead>\n",
       "    <tr style=\"text-align: right;\">\n",
       "      <th></th>\n",
       "      <th>ID</th>\n",
       "      <th>Name</th>\n",
       "      <th>Description</th>\n",
       "      <th>URL</th>\n",
       "      <th>Related Terms</th>\n",
       "      <th>Parents</th>\n",
       "      <th>License</th>\n",
       "      <th>Cross References</th>\n",
       "    </tr>\n",
       "  </thead>\n",
       "  <tbody>\n",
       "    <tr>\n",
       "      <th>0</th>\n",
       "      <td>VFB_00010001</td>\n",
       "      <td>fru-F-500075</td>\n",
       "      <td>OutAge: Adult 5~15 days</td>\n",
       "      <td>https://n2t.net/vfb:VFB_00010001</td>\n",
       "      <td>[Rel(relation=MinimalEdgeInfo(label=expresses,...</td>\n",
       "      <td>[expression pattern fragment, adult SMPpv1 lin...</td>\n",
       "      <td>FlyCircuit License</td>\n",
       "      <td>[http://flycircuit.tw/modules.php?name=clearpa...</td>\n",
       "    </tr>\n",
       "  </tbody>\n",
       "</table>\n",
       "</div>"
      ],
      "text/plain": [
       "             ID          Name              Description  \\\n",
       "0  VFB_00010001  fru-F-500075  OutAge: Adult 5~15 days   \n",
       "\n",
       "                                URL  \\\n",
       "0  https://n2t.net/vfb:VFB_00010001   \n",
       "\n",
       "                                       Related Terms  \\\n",
       "0  [Rel(relation=MinimalEdgeInfo(label=expresses,...   \n",
       "\n",
       "                                             Parents             License  \\\n",
       "0  [expression pattern fragment, adult SMPpv1 lin...  FlyCircuit License   \n",
       "\n",
       "                                    Cross References  \n",
       "0  [http://flycircuit.tw/modules.php?name=clearpa...  "
      ]
     },
     "execution_count": 2,
     "metadata": {},
     "output_type": "execute_result"
    }
   ],
   "source": [
    "#  Query with for term by ID. Supported IDs include anatomical individuals \n",
    "# (typically used for individual anatomical entities depicted in images), \n",
    "# dataset IDs and anatomy ontology IDs (FBbt)\n",
    "\n",
    "# All summary return values are in a pandas DataFrame format by default\n",
    "\n",
    "vfb.term('VFB_00010001').summary # This can take single ID as a string. To call multiple IDs, use a list of strings with vfb.terms()"
   ]
  },
  {
   "cell_type": "code",
   "execution_count": 3,
   "metadata": {},
   "outputs": [
    {
     "data": {
      "text/html": [
       "<div>\n",
       "<style scoped>\n",
       "    .dataframe tbody tr th:only-of-type {\n",
       "        vertical-align: middle;\n",
       "    }\n",
       "\n",
       "    .dataframe tbody tr th {\n",
       "        vertical-align: top;\n",
       "    }\n",
       "\n",
       "    .dataframe thead th {\n",
       "        text-align: right;\n",
       "    }\n",
       "</style>\n",
       "<table border=\"1\" class=\"dataframe\">\n",
       "  <thead>\n",
       "    <tr style=\"text-align: right;\">\n",
       "      <th></th>\n",
       "      <th>ID</th>\n",
       "      <th>Name</th>\n",
       "      <th>Description</th>\n",
       "      <th>URL</th>\n",
       "      <th>Related Terms</th>\n",
       "      <th>Parents</th>\n",
       "      <th>License</th>\n",
       "      <th>Cross References</th>\n",
       "    </tr>\n",
       "  </thead>\n",
       "  <tbody>\n",
       "    <tr>\n",
       "      <th>0</th>\n",
       "      <td>VFB_00010001</td>\n",
       "      <td>fru-F-500075</td>\n",
       "      <td>OutAge: Adult 5~15 days</td>\n",
       "      <td>https://n2t.net/vfb:VFB_00010001</td>\n",
       "      <td>[Rel(relation=MinimalEdgeInfo(label=expresses,...</td>\n",
       "      <td>[expression pattern fragment, adult SMPpv1 lin...</td>\n",
       "      <td>FlyCircuit License</td>\n",
       "      <td>[http://flycircuit.tw/modules.php?name=clearpa...</td>\n",
       "    </tr>\n",
       "    <tr>\n",
       "      <th>1</th>\n",
       "      <td>VFB_00000001</td>\n",
       "      <td>fru-M-200266</td>\n",
       "      <td>OutAge: Adult 5~15 days</td>\n",
       "      <td>https://n2t.net/vfb:VFB_00000001</td>\n",
       "      <td>[Rel(relation=MinimalEdgeInfo(label=expresses,...</td>\n",
       "      <td>[adult DM6 lineage neuron, expression pattern ...</td>\n",
       "      <td>FlyCircuit License</td>\n",
       "      <td>[http://flycircuit.tw/modules.php?name=clearpa...</td>\n",
       "    </tr>\n",
       "  </tbody>\n",
       "</table>\n",
       "</div>"
      ],
      "text/plain": [
       "             ID          Name              Description  \\\n",
       "0  VFB_00010001  fru-F-500075  OutAge: Adult 5~15 days   \n",
       "1  VFB_00000001  fru-M-200266  OutAge: Adult 5~15 days   \n",
       "\n",
       "                                URL  \\\n",
       "0  https://n2t.net/vfb:VFB_00010001   \n",
       "1  https://n2t.net/vfb:VFB_00000001   \n",
       "\n",
       "                                       Related Terms  \\\n",
       "0  [Rel(relation=MinimalEdgeInfo(label=expresses,...   \n",
       "1  [Rel(relation=MinimalEdgeInfo(label=expresses,...   \n",
       "\n",
       "                                             Parents             License  \\\n",
       "0  [expression pattern fragment, adult SMPpv1 lin...  FlyCircuit License   \n",
       "1  [adult DM6 lineage neuron, expression pattern ...  FlyCircuit License   \n",
       "\n",
       "                                    Cross References  \n",
       "0  [http://flycircuit.tw/modules.php?name=clearpa...  \n",
       "1  [http://flycircuit.tw/modules.php?name=clearpa...  "
      ]
     },
     "execution_count": 3,
     "metadata": {},
     "output_type": "execute_result"
    }
   ],
   "source": [
    "vfb.terms(['VFB_00010001','VFB_00000001']).get_summaries() # this will produce a summary of the VFBterms in a DataFrame"
   ]
  },
  {
   "cell_type": "code",
   "execution_count": 4,
   "metadata": {},
   "outputs": [
    {
     "name": "stdout",
     "output_type": "stream",
     "text": [
      "['channel_images', 'children', 'datasets', 'description', 'downstream_partners', 'has_image', 'has_neuron_connectivity', 'has_region_connectivity', 'has_scRNAseq', 'has_tag', 'id', 'instances', 'is_dataset', 'is_instance', 'is_neuron', 'is_template', 'is_type', 'license', 'load_mesh', 'load_skeleton', 'load_volume', 'name', 'open', 'parents', 'plot3d', 'plot_partners', 'plot_similar', 'potential_drivers_nblast', 'potential_drivers_neuronbridge', 'related_terms', 'show', 'similar_neurons_nblast', 'subparts', 'subtypes', 'summary', 'synonyms', 'term', 'thumbnail', 'upstream_partners', 'url', 'vfb', 'xrefs']\n"
     ]
    }
   ],
   "source": [
    "print(dir(vfb.terms(['VFB_00010001'])[0])) # This will return the properties available for this term you can use to query if. This is specific to the term type\n",
    "\n",
    "# dir is a standard python function that returns the properties and methods of an object.\n",
    "# print is simply so it returns the output on a single line here."
   ]
  },
  {
   "cell_type": "code",
   "execution_count": 5,
   "metadata": {},
   "outputs": [
    {
     "name": "stdout",
     "output_type": "stream",
     "text": [
      "['get', 'get_ids', 'get_names', 'get_summaries', 'load_meshes', 'load_skeletons', 'load_volumes', 'open', 'plot3d', 'plot3d_by_type', 'terms', 'tqdm_with_threshold', 'vfb']\n"
     ]
    }
   ],
   "source": [
    "print(dir(vfb.terms(['VFB_00010001']))) # Note this isn't just a List of VFBterm objects its a VFBTerms object that has usefull methods for querying the terms"
   ]
  },
  {
   "cell_type": "code",
   "execution_count": 6,
   "metadata": {},
   "outputs": [
    {
     "data": {
      "text/plain": [
       "[Xref(link_text=fru-F-500075 on FlyCircuit 1.0, link=http://flycircuit.tw/modules.php?name=clearpage&op=detail_table&neuron=fru-F-500075, accession=fru-F-500075)]"
      ]
     },
     "execution_count": 6,
     "metadata": {},
     "output_type": "execute_result"
    }
   ],
   "source": [
    "vfb.term(['VFB_00010001']).xrefs # This will return the xrefs for the term"
   ]
  },
  {
   "cell_type": "code",
   "execution_count": 7,
   "metadata": {},
   "outputs": [
    {
     "data": {
      "text/html": [
       "<div>\n",
       "<style scoped>\n",
       "    .dataframe tbody tr th:only-of-type {\n",
       "        vertical-align: middle;\n",
       "    }\n",
       "\n",
       "    .dataframe tbody tr th {\n",
       "        vertical-align: top;\n",
       "    }\n",
       "\n",
       "    .dataframe thead th {\n",
       "        text-align: right;\n",
       "    }\n",
       "</style>\n",
       "<table border=\"1\" class=\"dataframe\">\n",
       "  <thead>\n",
       "    <tr style=\"text-align: right;\">\n",
       "      <th></th>\n",
       "      <th>ID</th>\n",
       "      <th>Name</th>\n",
       "      <th>Description</th>\n",
       "      <th>URL</th>\n",
       "      <th>Counts</th>\n",
       "      <th>Publications</th>\n",
       "      <th>License</th>\n",
       "    </tr>\n",
       "  </thead>\n",
       "  <tbody>\n",
       "    <tr>\n",
       "      <th>0</th>\n",
       "      <td>Ito2013</td>\n",
       "      <td>Ito lab adult brain lineage clone image set</td>\n",
       "      <td>An exhaustive set of lineage clones covering t...</td>\n",
       "      <td>http://flybase.org/reports/FBrf0221438.html</td>\n",
       "      <td>{'images': 96, 'types': 91}</td>\n",
       "      <td>[Ito et al., 2013, Curr. Biol. 23(8): 644--655]</td>\n",
       "      <td>CC-BY-NC-SA_4.0</td>\n",
       "    </tr>\n",
       "  </tbody>\n",
       "</table>\n",
       "</div>"
      ],
      "text/plain": [
       "        ID                                         Name  \\\n",
       "0  Ito2013  Ito lab adult brain lineage clone image set   \n",
       "\n",
       "                                         Description  \\\n",
       "0  An exhaustive set of lineage clones covering t...   \n",
       "\n",
       "                                           URL                       Counts  \\\n",
       "0  http://flybase.org/reports/FBrf0221438.html  {'images': 96, 'types': 91}   \n",
       "\n",
       "                                      Publications          License  \n",
       "0  [Ito et al., 2013, Curr. Biol. 23(8): 644--655]  CC-BY-NC-SA_4.0  "
      ]
     },
     "execution_count": 7,
     "metadata": {},
     "output_type": "execute_result"
    }
   ],
   "source": [
    "#  TermInfo query can cope with different types of IDs. returning cached data if available:\n",
    "\n",
    "vfb.terms(['Ito2013']).get_summaries()"
   ]
  },
  {
   "cell_type": "code",
   "execution_count": 8,
   "metadata": {},
   "outputs": [
    {
     "name": "stdout",
     "output_type": "stream",
     "text": [
      "['cache_file', 'generate_lab_colors', 'get_TermInfo', 'get_cache_file_path', 'get_connected_neurons_by_type', 'get_datasets', 'get_dbs', 'get_gene_function_filters', 'get_images', 'get_images_by_filename', 'get_images_by_type', 'get_instances', 'get_instances_by_dataset', 'get_neurons_downstream_of', 'get_neurons_upstream_of', 'get_potential_drivers', 'get_similar_neurons', 'get_subclasses', 'get_superclasses', 'get_templates', 'get_terms_by_region', 'get_terms_by_xref', 'get_transcriptomic_profile', 'get_vfb_link', 'lookup', 'lookup_id', 'nc', 'neo_query_wrapper', 'oc', 'reload_lookup_cache', 'term', 'terms', 'vfb_base', 'vfb_id_2_xrefs', 'xref_2_vfb_id']\n"
     ]
    }
   ],
   "source": [
    "# vfb. has many useful methods for querying the VFB database. You can see the available methods by using the dir function\n",
    "\n",
    "print(dir(vfb)) # This will return the methods available for the vfb object\n",
    "\n",
    "# You can also use the help function to get more information on the methods\n",
    "# print is simply so it returns the output on a single line here."
   ]
  },
  {
   "cell_type": "code",
   "execution_count": 9,
   "metadata": {},
   "outputs": [
    {
     "name": "stdout",
     "output_type": "stream",
     "text": [
      "['vnc1_catmaid_api', 'vnc_harvard_catmaid_api', 'flywire_supervoxel', 'l1em_catmaid_api', 'fafb_catmaid_api', 'jrc_slide_code_api', 'InsectBrainDB', 'FlyBrain_NDB', 'catmaid_fafb', 'catmaid_fanc', 'scExpressionAtlas', 'Konstantinides_et_al_2018_OpticLobe', 'FlyCircuit', 'QuickGO', 'catmaid_l1em', 'FlyLightSplit', 'FlyLightRaw', 'AmiGO', 'flywire783', 'flywire630', 'VDRC', 'FlyBase', 'catmaid_leg40', 'larvalbrain_neuropil', 'BrainTrap', 'catmaid_fanc_JRC2018VF', 'neuprint_JRC_Manc', 'FlyBase_vocabularies', 'FlyLightSplitSlideCode', 'FlyLightGen1MCFO', 'FlyCircuit1v2', 'FlyLightRawSlideCode', 'neuronbridge', 'FlyPNS', 'ExpressionAtlas', 'larvalbrain_axon_tract', 'FlyLightGen1MCFOSlideCode', 'FlyLight', 'DoOR', 'neuprint_JRC_Hemibrain_1point0point1', 'GEO', 'lmb_cluster_pages_v3', 'lmb_cluster_pages_v2', 'neuprint_JRC_Hemibrain_1point1']\n"
     ]
    }
   ],
   "source": [
    "# Query with an external ID.\n",
    "# To find what sources (DBs) are supported: \n",
    "\n",
    "print(vfb.get_dbs())\n",
    "\n",
    "# print is simply so it returns the output on a single line here."
   ]
  },
  {
   "cell_type": "code",
   "execution_count": 10,
   "metadata": {},
   "outputs": [
    {
     "data": {
      "text/html": [
       "<div>\n",
       "<style scoped>\n",
       "    .dataframe tbody tr th:only-of-type {\n",
       "        vertical-align: middle;\n",
       "    }\n",
       "\n",
       "    .dataframe tbody tr th {\n",
       "        vertical-align: top;\n",
       "    }\n",
       "\n",
       "    .dataframe thead th {\n",
       "        text-align: right;\n",
       "    }\n",
       "</style>\n",
       "<table border=\"1\" class=\"dataframe\">\n",
       "  <thead>\n",
       "    <tr style=\"text-align: right;\">\n",
       "      <th></th>\n",
       "      <th>label</th>\n",
       "      <th>symbol</th>\n",
       "      <th>id</th>\n",
       "      <th>tags</th>\n",
       "      <th>parents_label</th>\n",
       "      <th>parents_id</th>\n",
       "      <th>data_source</th>\n",
       "      <th>accession</th>\n",
       "      <th>xrefs</th>\n",
       "      <th>templates</th>\n",
       "      <th>dataset</th>\n",
       "      <th>license</th>\n",
       "    </tr>\n",
       "  </thead>\n",
       "  <tbody>\n",
       "    <tr>\n",
       "      <th>0</th>\n",
       "      <td>mPN (L1EM:17545695)</td>\n",
       "      <td></td>\n",
       "      <td>VFB_00100184</td>\n",
       "      <td>[Entity, Anatomy, Cell, Individual, Larva, Ner...</td>\n",
       "      <td>[larval subesophageal zone cypress neuron]</td>\n",
       "      <td>[FBbt_00111724]</td>\n",
       "      <td>[catmaid_l1em]</td>\n",
       "      <td>[17545695]</td>\n",
       "      <td>[catmaid_l1em:17545695]</td>\n",
       "      <td>[L1 larval CNS ssTEM - Cardona/Janelia]</td>\n",
       "      <td>[Berck2016]</td>\n",
       "      <td>[https://creativecommons.org/licenses/by-sa/4....</td>\n",
       "    </tr>\n",
       "  </tbody>\n",
       "</table>\n",
       "</div>"
      ],
      "text/plain": [
       "                 label symbol            id  \\\n",
       "0  mPN (L1EM:17545695)         VFB_00100184   \n",
       "\n",
       "                                                tags  \\\n",
       "0  [Entity, Anatomy, Cell, Individual, Larva, Ner...   \n",
       "\n",
       "                                parents_label       parents_id  \\\n",
       "0  [larval subesophageal zone cypress neuron]  [FBbt_00111724]   \n",
       "\n",
       "      data_source   accession                    xrefs  \\\n",
       "0  [catmaid_l1em]  [17545695]  [catmaid_l1em:17545695]   \n",
       "\n",
       "                                 templates      dataset  \\\n",
       "0  [L1 larval CNS ssTEM - Cardona/Janelia]  [Berck2016]   \n",
       "\n",
       "                                             license  \n",
       "0  [https://creativecommons.org/licenses/by-sa/4....  "
      ]
     },
     "execution_count": 10,
     "metadata": {},
     "output_type": "execute_result"
    }
   ],
   "source": [
    "# Querying with an ID from catmaid_l1em\n",
    "vfb.get_terms_by_xref(['17545695'], db='catmaid_l1em')"
   ]
  },
  {
   "cell_type": "code",
   "execution_count": 11,
   "metadata": {},
   "outputs": [
    {
     "data": {
      "text/plain": [
       "[('11488881',\n",
       "  [{'db': 'catmaid_fafb', 'vfb_id': 'VFB_00102fvq'},\n",
       "   {'db': 'catmaid_fafb', 'vfb_id': 'VFB_00102gso'}]),\n",
       " ('4524559', [{'db': 'catmaid_fafb', 'vfb_id': 'VFB_001013x3'}]),\n",
       " ('14810632',\n",
       "  [{'db': 'catmaid_fafb', 'vfb_id': 'VFB_00102h06'},\n",
       "   {'db': 'catmaid_fafb', 'vfb_id': 'VFB_00102g38'}]),\n",
       " ('5864214', [{'db': 'catmaid_fafb', 'vfb_id': 'VFB_00102dw0'}]),\n",
       " ('10604481',\n",
       "  [{'db': 'catmaid_fafb', 'vfb_id': 'VFB_00102ftc'},\n",
       "   {'db': 'catmaid_fafb', 'vfb_id': 'VFB_00102gqa'}]),\n",
       " ('5055252', [{'db': 'catmaid_fafb', 'vfb_id': 'VFB_001000mb'}]),\n",
       " ('14923390',\n",
       "  [{'db': 'catmaid_fafb', 'vfb_id': 'VFB_00102h53'},\n",
       "   {'db': 'catmaid_fafb', 'vfb_id': 'VFB_00102g85'}]),\n",
       " ('14932351',\n",
       "  [{'db': 'catmaid_fafb', 'vfb_id': 'VFB_00102g8m'},\n",
       "   {'db': 'catmaid_fafb', 'vfb_id': 'VFB_00102h5k'}]),\n",
       " ('10718661',\n",
       "  [{'db': 'catmaid_fafb', 'vfb_id': 'VFB_00102gql'},\n",
       "   {'db': 'catmaid_fafb', 'vfb_id': 'VFB_00102ftn'}]),\n",
       " ('12917646',\n",
       "  [{'db': 'catmaid_fafb', 'vfb_id': 'VFB_00102gut'},\n",
       "   {'db': 'catmaid_fafb', 'vfb_id': 'VFB_00102fxv'}])]"
      ]
     },
     "execution_count": 11,
     "metadata": {},
     "output_type": "execute_result"
    }
   ],
   "source": [
    "# Get all xrefs by database\n",
    "\n",
    "list(vfb.neo_query_wrapper.xref_2_vfb_id(db='catmaid_fafb').items())[0:10]"
   ]
  },
  {
   "cell_type": "code",
   "execution_count": 12,
   "metadata": {},
   "outputs": [
    {
     "data": {
      "text/plain": [
       "250"
      ]
     },
     "execution_count": 12,
     "metadata": {},
     "output_type": "execute_result"
    }
   ],
   "source": [
    "# Methods directly on cross-server tools allow integrative queries and support query by label\n",
    "\n",
    "# vfb.get_terms_by_region: gets all terms relevant to a partcular region including neurons and parts\n",
    "    \n",
    "len(vfb.get_terms_by_region('fan-shaped body'))\n",
    "\n",
    "  "
   ]
  },
  {
   "cell_type": "code",
   "execution_count": 13,
   "metadata": {},
   "outputs": [
    {
     "data": {
      "text/plain": [
       "[('fan-shaped body layer 4', 'FBbt_00007491'),\n",
       " ('fan-shaped body layer 5', 'FBbt_00007492'),\n",
       " ('fan-shaped body layer 3', 'FBbt_00007490'),\n",
       " ('octopaminergic VPM3 neuron', 'FBbt_00110151'),\n",
       " ('pupal protocerebral LPP2 Tachykinin neuron', 'FBbt_00110040'),\n",
       " ('adult tritocerebral TC1 Tachykinin neuron', 'FBbt_00110050'),\n",
       " ('adult DM3 lineage clone', 'FBbt_00050101'),\n",
       " ('adult fan-shaped body-bulb neuron', 'FBbt_00003642'),\n",
       " ('protocerebral bridge glomerulus 6-fan-shaped body layer 2-lateral accessory lobe-crepine neuron',\n",
       "  'FBbt_00111439'),\n",
       " ('protocerebral bridge glomerulus 5-fan-shaped body layer 2-lateral accessory lobe-crepine neuron',\n",
       "  'FBbt_00111438')]"
      ]
     },
     "execution_count": 13,
     "metadata": {},
     "output_type": "execute_result"
    }
   ],
   "source": [
    "[(x['term']['core']['label'], x['term']['core']['short_form']) \n",
    " for x in vfb.get_terms_by_region('fan-shaped body', summary=False)][0:10]  \n"
   ]
  },
  {
   "cell_type": "code",
   "execution_count": 14,
   "metadata": {},
   "outputs": [],
   "source": [
    "cyp_neuron_images = vfb.get_instances('larval subesophageal zone cypress neuron', summary=False)"
   ]
  },
  {
   "cell_type": "code",
   "execution_count": 15,
   "metadata": {},
   "outputs": [
    {
     "data": {
      "text/plain": [
       "[('mPN (L1EM:17545695)',\n",
       "  [{'image_folder': 'http://www.virtualflybrain.org/data/VFB/i/0010/0184/VFB_00050000/',\n",
       "    'template': 'L1 larval CNS ssTEM - Cardona/Janelia'}]),\n",
       " ('mPN (L1EM:14154154)',\n",
       "  [{'image_folder': 'http://www.virtualflybrain.org/data/VFB/i/0010/0173/VFB_00050000/',\n",
       "    'template': 'L1 larval CNS ssTEM - Cardona/Janelia'}])]"
      ]
     },
     "execution_count": 15,
     "metadata": {},
     "output_type": "execute_result"
    }
   ],
   "source": [
    "# Returned JSON includes direct links to image folders for each template the image is registered to:\n",
    "\n",
    "[(i['term']['core']['label'],\n",
    "  [{ 'image_folder': x['image']['image_folder'], 'template': x['image']['template_anatomy']['label']}\n",
    "   for x in i['channel_image']]) for i in cyp_neuron_images]\n"
   ]
  },
  {
   "cell_type": "code",
   "execution_count": 16,
   "metadata": {},
   "outputs": [
    {
     "data": {
      "text/plain": [
       "[('fan-shaped body on adult brain template JFRC2',\n",
       "  [{'image_folder': 'http://www.virtualflybrain.org/data/VFB/i/0003/0633/VFB_00017894/',\n",
       "    'template': 'adult brain template JFRC2'}]),\n",
       " ('fan-shaped body on adult brain template Ito2014',\n",
       "  [{'image_folder': 'http://www.virtualflybrain.org/data/VFB/i/0003/0811/VFB_00030786/',\n",
       "    'template': 'adult brain template Ito2014'}]),\n",
       " ('FB on JRC2018Unisex adult brain',\n",
       "  [{'image_folder': 'http://www.virtualflybrain.org/data/VFB/i/0010/2134/VFB_00101567/',\n",
       "    'template': 'JRC2018Unisex'}]),\n",
       " ('FB-column3 on JRC_FlyEM_Hemibrain', []),\n",
       " ('FB on JRC_FlyEM_Hemibrain',\n",
       "  [{'image_folder': 'http://www.virtualflybrain.org/data/VFB/i/0010/1398/VFB_00101384/',\n",
       "    'template': 'JRC_FlyEM_Hemibrain'}])]"
      ]
     },
     "execution_count": 16,
     "metadata": {},
     "output_type": "execute_result"
    }
   ],
   "source": [
    "[(i['term']['core']['label'],\n",
    "  [{ 'image_folder': x['image']['image_folder'], 'template': x['image']['template_anatomy']['label']}\n",
    "   for x in i['channel_image']]) for i in vfb.get_instances('fan-shaped body', summary=False)]\n"
   ]
  },
  {
   "cell_type": "code",
   "execution_count": 17,
   "metadata": {},
   "outputs": [
    {
     "data": {
      "text/plain": [
       "[(\"CREa1A_H07(b\\\\'2r5)_0_2018U\",\n",
       "  ['adult CREa1 lineage neuron',\n",
       "   'BAmd1 Notch ON hemilineage neuron',\n",
       "   'dopaminergic PAM neuron'],\n",
       "  [{'image_folder': 'http://www.virtualflybrain.org/data/VFB/i/0010/2719/VFB_00101567/',\n",
       "    'template': 'JRC2018Unisex'}]),\n",
       " ('CREa2A_H05(b2)_0_2018U',\n",
       "  ['DALcm1 Notch ON hemilineage neuron',\n",
       "   'dopaminergic PAM neuron',\n",
       "   'adult CREa2 lineage neuron'],\n",
       "  [{'image_folder': 'http://www.virtualflybrain.org/data/VFB/i/0010/2445/VFB_00101567/',\n",
       "    'template': 'JRC2018Unisex'}]),\n",
       " ('CREa1A_H17(r4_r2)_0_2018U',\n",
       "  ['dopaminergic PAM neuron',\n",
       "   'BAmd1 Notch ON hemilineage neuron',\n",
       "   'adult CREa1 lineage neuron'],\n",
       "  [{'image_folder': 'http://www.virtualflybrain.org/data/VFB/i/0010/2729/VFB_00101567/',\n",
       "    'template': 'JRC2018Unisex'}]),\n",
       " ('CREa2A_H19(r4_5)_0_2018U',\n",
       "  ['adult CREa2 lineage neuron',\n",
       "   'dopaminergic PAM neuron',\n",
       "   'DALcm1 Notch ON hemilineage neuron'],\n",
       "  [{'image_folder': 'http://www.virtualflybrain.org/data/VFB/i/0010/2459/VFB_00101567/',\n",
       "    'template': 'JRC2018Unisex'}]),\n",
       " ('CREa2A_H22(b2)_0_2018U',\n",
       "  ['dopaminergic PAM neuron',\n",
       "   'DALcm1 Notch ON hemilineage neuron',\n",
       "   'adult CREa2 lineage neuron'],\n",
       "  [{'image_folder': 'http://www.virtualflybrain.org/data/VFB/i/0010/2462/VFB_00101567/',\n",
       "    'template': 'JRC2018Unisex'}])]"
      ]
     },
     "execution_count": 17,
     "metadata": {},
     "output_type": "execute_result"
    }
   ],
   "source": [
    "# Image queries range across multiple types\n",
    "[(i['term']['core']['label'],\n",
    "  [ x['label'] for x in i['parents']],\n",
    "  [{ 'image_folder': x['image']['image_folder'], 'template': x['image']['template_anatomy']['label']}\n",
    "   for x in i['channel_image']]) for i in vfb.get_instances('dopaminergic PAM neuron', summary=False)][0:5]"
   ]
  },
  {
   "cell_type": "code",
   "execution_count": 18,
   "metadata": {},
   "outputs": [
    {
     "name": "stdout",
     "output_type": "stream",
     "text": [
      "                                  cell_type   cell_type_id       sample_sex  \\\n",
      "0  adult antennal olfactory receptor neuron  FBbt_00007352  female organism   \n",
      "1  adult antennal olfactory receptor neuron  FBbt_00007352    male organism   \n",
      "2  adult antennal olfactory receptor neuron  FBbt_00007352             None   \n",
      "3  adult antennal olfactory receptor neuron  FBbt_00007352  female organism   \n",
      "4  adult antennal olfactory receptor neuron  FBbt_00007352    male organism   \n",
      "\n",
      "                                       sample_tissue  \\\n",
      "0  [antenna, adult corpus cardiacum, antenna, adu...   \n",
      "1  [wing, haltere, adult, adult pars intercerebra...   \n",
      "2  [antenna, proboscis, male reproductive system,...   \n",
      "3  [antenna, adult corpus cardiacum, antenna, adu...   \n",
      "4  [wing, haltere, adult, adult pars intercerebra...   \n",
      "\n",
      "                                            ref     gene      gene_id  \\\n",
      "0  Li et al., 2022, Science 375(6584): eabk2432  14-3-3ε  FBgn0020238   \n",
      "1  Li et al., 2022, Science 375(6584): eabk2432  14-3-3ε  FBgn0020238   \n",
      "2  Li et al., 2022, Science 375(6584): eabk2432  14-3-3ε  FBgn0020238   \n",
      "3  Li et al., 2022, Science 375(6584): eabk2432  14-3-3ζ  FBgn0004907   \n",
      "4  Li et al., 2022, Science 375(6584): eabk2432  14-3-3ζ  FBgn0004907   \n",
      "\n",
      "  function    extent      level  \n",
      "0       []  0.609756  1395.2687  \n",
      "1       []  0.625000  1317.0752  \n",
      "2       []  0.618605  1340.0747  \n",
      "3       []  0.725610  1721.6161  \n",
      "4       []  0.640625  1561.3594  \n"
     ]
    }
   ],
   "source": [
    "# Finding single cell transcriptomics data for a given cell type\n",
    "profile = vfb.get_transcriptomic_profile(cell_type = 'adult olfactory receptor neuron')\n",
    "print(profile.head())"
   ]
  },
  {
   "cell_type": "code",
   "execution_count": 19,
   "metadata": {},
   "outputs": [
    {
     "name": "stdout",
     "output_type": "stream",
     "text": [
      "['Acetylcholine_receptor', 'Calcium_binding', 'Carbohydrate_binding', 'Chaperone', 'Cytoskeleton_binding', 'DNA_binding', 'Dopamine_receptor', 'Enzyme', 'GABA_receptor', 'GPCR', 'Glutamate_receptor', 'Gustatory_receptor', 'Histamine_receptor', 'Hormone', 'Ion_channel', 'Ligand', 'Lipid_binding', 'Mechanosensory_ion_channel', 'Metal_ion_binding', 'Neuropeptide', 'Neurotransmitter_receptor', 'Octopamine_receptor', 'Odorant_binding', 'Olfactory_receptor', 'Peptide_or_protein_hormone_receptor', 'Photoreceptor', 'RNA_binding', 'Receptor', 'Regulator', 'Serotonin_receptor', 'Small_molecule_binding', 'Structural_molecule', 'Thermosensory_ion_channel', 'Transcription_factor', 'Transporter', 'Tyramine_receptor']\n"
     ]
    }
   ],
   "source": [
    "# These results can be filtered by gene function - first find available gene functions\n",
    "functions = vfb.get_gene_function_filters()\n",
    "print(functions)"
   ]
  },
  {
   "cell_type": "code",
   "execution_count": 20,
   "metadata": {},
   "outputs": [
    {
     "name": "stdout",
     "output_type": "stream",
     "text": [
      "                                  cell_type   cell_type_id       sample_sex  \\\n",
      "0  adult antennal olfactory receptor neuron  FBbt_00007352  female organism   \n",
      "1  adult antennal olfactory receptor neuron  FBbt_00007352    male organism   \n",
      "2  adult antennal olfactory receptor neuron  FBbt_00007352             None   \n",
      "3           adult olfactory receptor neuron  FBbt_00007386  female organism   \n",
      "4           adult olfactory receptor neuron  FBbt_00007386    male organism   \n",
      "\n",
      "                                       sample_tissue  \\\n",
      "0  [antenna, adult corpus cardiacum, antenna, adu...   \n",
      "1  [wing, haltere, adult, adult pars intercerebra...   \n",
      "2  [antenna, proboscis, male reproductive system,...   \n",
      "3                                       [adult head]   \n",
      "4                                       [adult head]   \n",
      "\n",
      "                                            ref     gene      gene_id  \\\n",
      "0  Li et al., 2022, Science 375(6584): eabk2432     Orco  FBgn0037324   \n",
      "1  Li et al., 2022, Science 375(6584): eabk2432     Orco  FBgn0037324   \n",
      "2  Li et al., 2022, Science 375(6584): eabk2432     Orco  FBgn0037324   \n",
      "3  Li et al., 2022, Science 375(6584): eabk2432  CG42260  FBgn0259145   \n",
      "4  Li et al., 2022, Science 375(6584): eabk2432  CG42260  FBgn0259145   \n",
      "\n",
      "                                            function    extent      level  \n",
      "0  [Olfactory_receptor, Receptor, Ion_channel, Od...  0.469512  1800.4366  \n",
      "1  [Olfactory_receptor, Receptor, Ion_channel, Od...  0.432292  1710.8816  \n",
      "2  [Olfactory_receptor, Receptor, Ion_channel, Od...  0.479070  1633.1283  \n",
      "3  [Small_molecule_binding, Olfactory_receptor, R...  0.201531  1282.2848  \n",
      "4  [Small_molecule_binding, Olfactory_receptor, R...  0.201299  1171.4191  \n"
     ]
    }
   ],
   "source": [
    "# Then run transcriptomics query speicfying a gene function to filter on\n",
    "filtered_profile = vfb.get_transcriptomic_profile(cell_type = 'adult olfactory receptor neuron', gene_type='Olfactory_receptor')\n",
    "print(filtered_profile.head())"
   ]
  }
 ],
 "metadata": {
  "kernelspec": {
   "display_name": "Python 3",
   "language": "python",
   "name": "python3"
  },
  "language_info": {
   "codemirror_mode": {
    "name": "ipython",
    "version": 3
   },
   "file_extension": ".py",
   "mimetype": "text/x-python",
   "name": "python",
   "nbconvert_exporter": "python",
   "pygments_lexer": "ipython3",
   "version": "3.10.9"
  }
 },
 "nbformat": 4,
 "nbformat_minor": 2
}
