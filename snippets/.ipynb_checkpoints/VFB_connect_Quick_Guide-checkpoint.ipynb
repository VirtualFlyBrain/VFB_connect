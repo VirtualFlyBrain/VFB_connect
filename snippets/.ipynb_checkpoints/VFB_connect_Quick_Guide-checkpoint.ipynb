{
 "cells": [
  {
   "cell_type": "code",
   "execution_count": 2,
   "metadata": {},
   "outputs": [
    {
     "name": "stderr",
     "output_type": "stream",
     "text": [
      "/usr/local/anaconda3/lib/python3.10/site-packages/pandas/core/arrays/masked.py:60: UserWarning: Pandas requires version '1.3.6' or newer of 'bottleneck' (version '1.3.5' currently installed).\n",
      "  from pandas.core import (\n"
     ]
    }
   ],
   "source": [
    "from vfb_connect.cross_server_tools import VfbConnect\n",
    "\n",
    "# VfbConnect object => wrapper for connection to public VFB servers + query methods\n",
    "vc = VfbConnect()"
   ]
  },
  {
   "cell_type": "code",
   "execution_count": 3,
   "metadata": {},
   "outputs": [
    {
     "data": {
      "text/plain": [
       "[{'label': 'fru-F-500075',\n",
       "  'symbol': '',\n",
       "  'id': 'VFB_00010001',\n",
       "  'tags': 'Entity|Adult|Anatomy|Cell|Expression_pattern_fragment|Individual|Nervous_system|Neuron|VFB|has_image|FlyCircuit|NBLAST',\n",
       "  'parents_label': 'expression pattern fragment|adult SMPpv1 lineage neuron',\n",
       "  'parents_id': 'VFBext_0000004|FBbt_00050031',\n",
       "  'data_source': 'FlyCircuit',\n",
       "  'accession': 'fru-F-500075',\n",
       "  'templates': 'JRC2018Unisex|adult brain template JFRC2',\n",
       "  'dataset': 'Chiang2010',\n",
       "  'license': ''}]"
      ]
     },
     "execution_count": 3,
     "metadata": {},
     "output_type": "execute_result"
    }
   ],
   "source": [
    "#  Query with for term by ID. Supported IDs include anatomical individuals \n",
    "# (typically used for individual anatomical entities depicted in images), \n",
    "# dataset IDs and anatomy ontology IDs (FBbt)\n",
    "\n",
    "# All return values follow VFB_json_schema ()\n",
    "\n",
    "vc.neo_query_wrapper.get_TermInfo(['VFB_00010001']) # This can take multiple IDs, but is not efficient for querying with many IDs"
   ]
  },
  {
   "cell_type": "code",
   "execution_count": 4,
   "metadata": {},
   "outputs": [
    {
     "data": {
      "text/plain": [
       "[{'label': 'fru-F-500075',\n",
       "  'symbol': '',\n",
       "  'id': 'VFB_00010001',\n",
       "  'tags': 'Entity|Adult|Anatomy|Cell|Expression_pattern_fragment|Individual|Nervous_system|Neuron|VFB|has_image|FlyCircuit|NBLAST',\n",
       "  'parents_label': 'expression pattern fragment|adult SMPpv1 lineage neuron',\n",
       "  'parents_id': 'VFBext_0000004|FBbt_00050031',\n",
       "  'data_source': 'FlyCircuit',\n",
       "  'accession': 'fru-F-500075',\n",
       "  'templates': 'JRC2018Unisex|adult brain template JFRC2',\n",
       "  'dataset': 'Chiang2010',\n",
       "  'license': ''}]"
      ]
     },
     "execution_count": 4,
     "metadata": {},
     "output_type": "execute_result"
    }
   ],
   "source": [
    "vc.neo_query_wrapper.get_TermInfo(['VFB_00010001'])[0].keys()"
   ]
  },
  {
   "cell_type": "code",
   "execution_count": 5,
   "metadata": {},
   "outputs": [
    {
     "ename": "TypeError",
     "evalue": "QueryWrapper.get_TermInfo() got an unexpected keyword argument 'summary'",
     "output_type": "error",
     "traceback": [
      "\u001b[0;31m---------------------------------------------------------------------------\u001b[0m",
      "\u001b[0;31mTypeError\u001b[0m                                 Traceback (most recent call last)",
      "Cell \u001b[0;32mIn[5], line 1\u001b[0m\n\u001b[0;32m----> 1\u001b[0m \u001b[43mvc\u001b[49m\u001b[38;5;241;43m.\u001b[39;49m\u001b[43mneo_query_wrapper\u001b[49m\u001b[38;5;241;43m.\u001b[39;49m\u001b[43mget_TermInfo\u001b[49m\u001b[43m(\u001b[49m\u001b[43m[\u001b[49m\u001b[38;5;124;43m'\u001b[39;49m\u001b[38;5;124;43mVFB_00010001\u001b[39;49m\u001b[38;5;124;43m'\u001b[39;49m\u001b[43m]\u001b[49m\u001b[43m,\u001b[49m\u001b[43m \u001b[49m\u001b[43msummary\u001b[49m\u001b[38;5;241;43m=\u001b[39;49m\u001b[38;5;28;43;01mFalse\u001b[39;49;00m\u001b[43m)\u001b[49m[\u001b[38;5;241m0\u001b[39m][\u001b[38;5;124m'\u001b[39m\u001b[38;5;124mxrefs\u001b[39m\u001b[38;5;124m'\u001b[39m]\n",
      "File \u001b[0;32m/usr/local/anaconda3/lib/python3.10/site-packages/vfb_connect/neo/query_wrapper.py:39\u001b[0m, in \u001b[0;36mbatch_query.<locals>.wrapper_batch\u001b[0;34m(*args, **kwargs)\u001b[0m\n\u001b[1;32m     37\u001b[0m     arglist[\u001b[38;5;241m1\u001b[39m] \u001b[38;5;241m=\u001b[39m c\n\u001b[1;32m     38\u001b[0m     subargs \u001b[38;5;241m=\u001b[39m \u001b[38;5;28mtuple\u001b[39m(arglist)\n\u001b[0;32m---> 39\u001b[0m     out\u001b[38;5;241m.\u001b[39mextend(\u001b[43mfunc\u001b[49m\u001b[43m(\u001b[49m\u001b[38;5;241;43m*\u001b[39;49m\u001b[43msubargs\u001b[49m\u001b[43m,\u001b[49m\u001b[43m \u001b[49m\u001b[38;5;241;43m*\u001b[39;49m\u001b[38;5;241;43m*\u001b[39;49m\u001b[43mkwargs\u001b[49m\u001b[43m)\u001b[49m)\n\u001b[1;32m     40\u001b[0m \u001b[38;5;28;01melif\u001b[39;00m arg1typ \u001b[38;5;241m==\u001b[39m \u001b[38;5;124m'\u001b[39m\u001b[38;5;124mk\u001b[39m\u001b[38;5;124m'\u001b[39m:\n\u001b[1;32m     41\u001b[0m     kwargdict \u001b[38;5;241m=\u001b[39m \u001b[38;5;28mdict\u001b[39m(kwargs)\n",
      "\u001b[0;31mTypeError\u001b[0m: QueryWrapper.get_TermInfo() got an unexpected keyword argument 'summary'"
     ]
    }
   ],
   "source": [
    "vc.neo_query_wrapper.get_TermInfo(['VFB_00010001'])[0]['xrefs']"
   ]
  },
  {
   "cell_type": "code",
   "execution_count": null,
   "metadata": {},
   "outputs": [
    {
     "data": {
      "text/plain": [
       "[{'term': {'link': 'http://flybase.org/reports/FBrf0221438.html',\n",
       "   'core': {'short_form': 'Ito2013',\n",
       "    'label': 'Ito lab adult brain lineage clone image set',\n",
       "    'iri': 'http://virtualflybrain.org/reports/Ito2013',\n",
       "    'types': ['Individual', 'DataSet', 'Entity']},\n",
       "   'description': [\"An exhaustive set of lineage clones covering the adult brain from Kei Ito\\\\'s  lab.\"],\n",
       "   'comment': []},\n",
       "  'query': 'Get JSON for DataSet',\n",
       "  'version': '0f4d3af',\n",
       "  'xrefs': [],\n",
       "  'license': [{'icon': 'http://mirrors.creativecommons.org/presskit/buttons/88x31/png/by-nc-sa.png',\n",
       "    'link': 'https://creativecommons.org/licenses/by-nc-sa/4.0/legalcode',\n",
       "    'core': {'short_form': 'VFBlicense_CC_BY_NC_SA_4_0',\n",
       "     'label': 'CC-BY-NC-SA_4.0',\n",
       "     'iri': 'http://virtualflybrain.org/reports/VFBlicense_CC_BY_NC_SA_4_0',\n",
       "     'types': ['Individual', 'License', 'Entity']}}],\n",
       "  'pubs': [{'core': {'short_form': 'FBrf0221438',\n",
       "     'label': 'Ito et al., 2013, Curr. Biol. 23(8): 644--655',\n",
       "     'iri': 'http://flybase.org/reports/FBrf0221438',\n",
       "     'types': ['Individual', 'pub', 'Entity']},\n",
       "    'PubMed': '23541729',\n",
       "    'FlyBase': 'FBrf0221438',\n",
       "    'DOI': '10.1016/j.cub.2013.03.015'}],\n",
       "  'dataset_counts': {'images': 96, 'types': 96}}]"
      ]
     },
     "execution_count": 5,
     "metadata": {},
     "output_type": "execute_result"
    }
   ],
   "source": [
    "#  Term type specific lookups are more efficient:\n",
    "\n",
    "vc.neo_query_wrapper.get_DataSet_TermInfo(['Ito2013'])"
   ]
  },
  {
   "cell_type": "code",
   "execution_count": null,
   "metadata": {},
   "outputs": [
    {
     "data": {
      "text/plain": [
       "['catmaid_l1em',\n",
       " 'FlyLightSplit',\n",
       " 'FlyPNS',\n",
       " 'FlyBase',\n",
       " 'larvalbrain_axon_tract',\n",
       " 'larvalbrain_neuropil',\n",
       " 'catmaid_fafb',\n",
       " 'Konstantinides_et_al_2018_OpticLobe',\n",
       " 'neuprint_JRC_Hemibrain_1point0point1',\n",
       " 'fafb_catmaid_api',\n",
       " 'FlyCircuit',\n",
       " 'FlyLight',\n",
       " 'BrainTrap',\n",
       " 'FlyBrain_NDB',\n",
       " 'DoOR',\n",
       " 'lmb_cluster_pages_v3',\n",
       " 'lmb_cluster_pages_v2',\n",
       " 'VDRC',\n",
       " 'l1em_catmaid_api',\n",
       " 'neuronbridge',\n",
       " 'neuprint_JRC_Hemibrain_1point1',\n",
       " 'vnc1_catmaid_api']"
      ]
     },
     "execution_count": 6,
     "metadata": {},
     "output_type": "execute_result"
    }
   ],
   "source": [
    "# Query with an external ID.\n",
    "# To find what sources (DBs) are supported: \n",
    "\n",
    "vc.neo_query_wrapper.get_dbs()"
   ]
  },
  {
   "cell_type": "code",
   "execution_count": null,
   "metadata": {},
   "outputs": [
    {
     "data": {
      "text/plain": [
       "[{'term': {'core': {'short_form': 'VFB_00100184',\n",
       "    'label': 'L1 CNS neuron cypress left',\n",
       "    'iri': 'http://virtualflybrain.org/reports/VFB_00100184',\n",
       "    'types': ['Individual',\n",
       "     'VFB',\n",
       "     '_Individual',\n",
       "     'Neuron',\n",
       "     'Anatomy',\n",
       "     'Cell',\n",
       "     'Entity']},\n",
       "   'description': ['A(n) larval subesophageal zone cypress neuron.'],\n",
       "   'comment': []},\n",
       "  'query': 'Get JSON for Individual:Anatomy',\n",
       "  'version': '0f4d3af',\n",
       "  'dataset_license': [{'dataset': {'link': 'https://l1em.catmaid.virtualflybrain.org',\n",
       "     'core': {'short_form': 'Berck2016',\n",
       "      'label': 'Larval olfactory system neurons - EM (Berk2016)',\n",
       "      'iri': 'http://virtualflybrain.org/reports/Berck2016',\n",
       "      'types': ['Individual', 'DataSet', 'Entity']}},\n",
       "    'license': {'icon': 'https://mirrors.creativecommons.org/presskit/buttons/88x31/png/by-sa.png',\n",
       "     'link': 'https://creativecommons.org/licenses/by-sa/4.0/legalcode',\n",
       "     'core': {'short_form': 'VFBlicense_CC_BY_SA_4_0',\n",
       "      'label': 'CC-BY-SA_4.0',\n",
       "      'iri': 'http://virtualflybrain.org/reports/VFBlicense_CC_BY_SA_4_0',\n",
       "      'types': ['Individual', 'License', 'Entity']}}}],\n",
       "  'parents': [{'short_form': 'FBbt_00111724',\n",
       "    'label': 'larval subesophageal zone cypress neuron',\n",
       "    'iri': 'http://purl.obolibrary.org/obo/FBbt_00111724',\n",
       "    'types': ['Class',\n",
       "     'VFB',\n",
       "     '_Class',\n",
       "     'Neuron',\n",
       "     'Anatomy',\n",
       "     'Cell',\n",
       "     'Entity',\n",
       "     'Leaf_node']}],\n",
       "  'relationships': [],\n",
       "  'xrefs': [{'link_base': 'https://l1em.catmaid.virtualflybrain.org/?pid=1&tool=tracingtool&sid0=1&s0=2&active_skeleton_id=',\n",
       "    'icon': '',\n",
       "    'link_postfix': '',\n",
       "    'site': {'short_form': 'catmaid_l1em',\n",
       "     'label': 'VFB CATMAID L1 CNS',\n",
       "     'iri': 'http://virtualflybrain.org/reports/catmaid_l1em',\n",
       "     'types': ['Individual', 'Site', 'Entity']},\n",
       "    'accession': '17545695',\n",
       "    'link_text': 'L1 CNS neuron cypress left on VFB CATMAID L1 CNS',\n",
       "    'homepage': 'https://l1em.catmaid.virtualflybrain.org/?pid=1&zp=56100&yp=32927.1&xp=27265&tool=tracingtool&sid0=1&s0=2'}],\n",
       "  'channel_image': [{'channel': {'short_form': 'VFBc_00100184',\n",
       "     'label': 'L1 CNS neuron cypress left_c',\n",
       "     'iri': 'http://virtualflybrain.org/reports/VFBc_00100184',\n",
       "     'types': ['Individual', 'Entity']},\n",
       "    'imaging_technique': {'short_form': 'FBbi_00000258',\n",
       "     'label': 'transmission electron microscopy (TEM)',\n",
       "     'iri': 'http://purl.obolibrary.org/obo/FBbi_00000258',\n",
       "     'types': ['Class', '_Class', 'FBBI', 'Entity']},\n",
       "    'image': {'template_channel': {'short_form': 'VFBc_00050000',\n",
       "      'label': 'L1 larval CNS ssTEM - Cardona/Janelia_c',\n",
       "      'iri': 'http://virtualflybrain.org/reports/VFBc_00050000',\n",
       "      'types': ['Individual', 'Template', 'Entity']},\n",
       "     'template_anatomy': {'short_form': 'VFB_00050000',\n",
       "      'label': 'L1 larval CNS ssTEM - Cardona/Janelia',\n",
       "      'iri': 'http://virtualflybrain.org/reports/VFB_00050000',\n",
       "      'types': ['Individual',\n",
       "       'VFB',\n",
       "       '_Individual',\n",
       "       'Template',\n",
       "       'Anatomy',\n",
       "       'Entity']},\n",
       "     'image_folder': 'http://www.virtualflybrain.org/data/VFB/i/0010/0184/',\n",
       "     'index': []}}],\n",
       "  'related_individuals': []}]"
      ]
     },
     "execution_count": 7,
     "metadata": {},
     "output_type": "execute_result"
    }
   ],
   "source": [
    "# Querying with an ID from catmaid_l1em\n",
    "vc.neo_query_wrapper.get_terms_by_xref(['17545695'], db='catmaid_l1em')"
   ]
  },
  {
   "cell_type": "code",
   "execution_count": null,
   "metadata": {},
   "outputs": [
    {
     "data": {
      "text/plain": [
       "[('10958111', [{'db': 'catmaid_fafb', 'vfb_id': 'VFB_001001bs'}]),\n",
       " ('9362069', [{'db': 'catmaid_fafb', 'vfb_id': 'VFB_001000sr'}]),\n",
       " ('9896992', [{'db': 'catmaid_fafb', 'vfb_id': 'VFB_001000y4'}]),\n",
       " ('4355299', [{'db': 'catmaid_fafb', 'vfb_id': 'VFB_00101346'}]),\n",
       " ('8336193', [{'db': 'catmaid_fafb', 'vfb_id': 'VFB_001000n4'}]),\n",
       " ('10883867', [{'db': 'catmaid_fafb', 'vfb_id': 'VFB_001001ae'}]),\n",
       " ('3445525', [{'db': 'catmaid_fafb', 'vfb_id': 'VFB_00101273'}]),\n",
       " ('17194', [{'db': 'catmaid_fafb', 'vfb_id': 'VFB_001000cc'}]),\n",
       " ('57414', [{'db': 'catmaid_fafb', 'vfb_id': 'VFB_00101174'}]),\n",
       " ('62434', [{'db': 'catmaid_fafb', 'vfb_id': 'VFB_00101244'}])]"
      ]
     },
     "execution_count": 15,
     "metadata": {},
     "output_type": "execute_result"
    }
   ],
   "source": [
    "# Get all xrefs by database\n",
    "\n",
    "list(vc.neo_query_wrapper.xref_2_vfb_id(db='catmaid_fafb').items())[0:10]"
   ]
  },
  {
   "cell_type": "code",
   "execution_count": null,
   "metadata": {},
   "outputs": [
    {
     "name": "stdout",
     "output_type": "stream",
     "text": [
      "Running query: RO:0002131 some FBbt:00003679\n",
      "Query URL: http://owl.virtualflybrain.org/kbs/vfb/subclasses?object=RO%3A0002131+some+FBbt%3A00003679&prefixes=%7B%22FBbt%22%3A+%22http%3A%2F%2Fpurl.obolibrary.org%2Fobo%2FFBbt_%22%2C+%22RO%22%3A+%22http%3A%2F%2Fpurl.obolibrary.org%2Fobo%2FRO_%22%2C+%22BFO%22%3A+%22http%3A%2F%2Fpurl.obolibrary.org%2Fobo%2FBFO_%22%7D&direct=False\n",
      "Query results: 183\n"
     ]
    },
    {
     "data": {
      "text/plain": [
       "183"
      ]
     },
     "execution_count": 8,
     "metadata": {},
     "output_type": "execute_result"
    }
   ],
   "source": [
    "# Methods directly on cross-server tools allow integrative queries and support query by label\n",
    "\n",
    "# vc.get_terms_by_region: gets all terms relevant to a partcular region including neurons and parts\n",
    "    \n",
    "len(vc.get_terms_by_region('fan-shaped body'))\n",
    "\n",
    "  "
   ]
  },
  {
   "cell_type": "code",
   "execution_count": null,
   "metadata": {},
   "outputs": [
    {
     "name": "stdout",
     "output_type": "stream",
     "text": [
      "Running query: RO:0002131 some FBbt:00003679\n",
      "Query URL: http://owl.virtualflybrain.org/kbs/vfb/subclasses?object=RO%3A0002131+some+FBbt%3A00003679&prefixes=%7B%22FBbt%22%3A+%22http%3A%2F%2Fpurl.obolibrary.org%2Fobo%2FFBbt_%22%2C+%22RO%22%3A+%22http%3A%2F%2Fpurl.obolibrary.org%2Fobo%2FRO_%22%2C+%22BFO%22%3A+%22http%3A%2F%2Fpurl.obolibrary.org%2Fobo%2FBFO_%22%7D&direct=False\n",
      "Query results: 183\n"
     ]
    },
    {
     "data": {
      "text/plain": [
       "[('adult SIPp1 lineage clone', 'FBbt_00050078'),\n",
       " ('PB 1 glomerulus-FB layers 1 to 4-bilateral IDFP HB-medial neuron',\n",
       "  'FBbt_00111451'),\n",
       " ('PB slice 7-FB layers 3 and 6-ventral gall ipsilateral neuron',\n",
       "  'FBbt_00111463'),\n",
       " ('horizontal fiber system neuron pb3', 'FBbt_00007572'),\n",
       " ('pb-fb neuron', 'FBbt_00111050'),\n",
       " ('PB slice 6-FB layers 3-5-IDFP RB neuron', 'FBbt_00111430'),\n",
       " ('fan-shaped body slice 4', 'FBbt_00110645'),\n",
       " ('extrinsic ring neuron ExR1', 'FBbt_00003655'),\n",
       " ('vertical fiber system neuron pb7', 'FBbt_00007560'),\n",
       " ('PB slice 3-FB-NO3 anterior domain neuron', 'FBbt_00111397')]"
      ]
     },
     "execution_count": 9,
     "metadata": {},
     "output_type": "execute_result"
    }
   ],
   "source": [
    "[(x['term']['core']['label'], x['term']['core']['short_form']) \n",
    " for x in vc.get_terms_by_region('fan-shaped body')][0:10]  \n"
   ]
  },
  {
   "cell_type": "code",
   "execution_count": null,
   "metadata": {},
   "outputs": [
    {
     "name": "stdout",
     "output_type": "stream",
     "text": [
      "Running query: FBbt:00111724\n"
     ]
    },
    {
     "ename": "KeyboardInterrupt",
     "evalue": "",
     "output_type": "error",
     "traceback": [
      "\u001b[0;31m---------------------------------------------------------------------------\u001b[0m",
      "\u001b[0;31mKeyboardInterrupt\u001b[0m                         Traceback (most recent call last)",
      "\u001b[0;32m<ipython-input-10-937ff0e76855>\u001b[0m in \u001b[0;36m<module>\u001b[0;34m\u001b[0m\n\u001b[0;32m----> 1\u001b[0;31m \u001b[0mcyp_neuron_images\u001b[0m \u001b[0;34m=\u001b[0m \u001b[0mvc\u001b[0m\u001b[0;34m.\u001b[0m\u001b[0mget_images\u001b[0m\u001b[0;34m(\u001b[0m\u001b[0;34m'larval subesophageal zone cypress neuron'\u001b[0m\u001b[0;34m)\u001b[0m\u001b[0;34m\u001b[0m\u001b[0;34m\u001b[0m\u001b[0m\n\u001b[0m",
      "\u001b[0;32m/usr/local/lib/python3.8/site-packages/vfb_connect/cross_server_tools.py\u001b[0m in \u001b[0;36mget_images\u001b[0;34m(self, class_expression, query_by_label, direct)\u001b[0m\n\u001b[1;32m     62\u001b[0m         \u001b[0;32mif\u001b[0m \u001b[0;32mnot\u001b[0m \u001b[0mre\u001b[0m\u001b[0;34m.\u001b[0m\u001b[0msearch\u001b[0m\u001b[0;34m(\u001b[0m\u001b[0;34m\"'\"\u001b[0m\u001b[0;34m,\u001b[0m \u001b[0mclass_expression\u001b[0m\u001b[0;34m)\u001b[0m\u001b[0;34m:\u001b[0m\u001b[0;34m\u001b[0m\u001b[0;34m\u001b[0m\u001b[0m\n\u001b[1;32m     63\u001b[0m             \u001b[0mclass_expression\u001b[0m \u001b[0;34m=\u001b[0m \u001b[0;34m\"'\"\u001b[0m \u001b[0;34m+\u001b[0m \u001b[0mclass_expression\u001b[0m \u001b[0;34m+\u001b[0m \u001b[0;34m\"'\"\u001b[0m\u001b[0;34m\u001b[0m\u001b[0;34m\u001b[0m\u001b[0m\n\u001b[0;32m---> 64\u001b[0;31m         \u001b[0mterms\u001b[0m \u001b[0;34m=\u001b[0m \u001b[0mself\u001b[0m\u001b[0;34m.\u001b[0m\u001b[0moc\u001b[0m\u001b[0;34m.\u001b[0m\u001b[0mget_instances\u001b[0m\u001b[0;34m(\u001b[0m\u001b[0;34m\"%s\"\u001b[0m \u001b[0;34m%\u001b[0m \u001b[0mclass_expression\u001b[0m\u001b[0;34m,\u001b[0m \u001b[0mquery_by_label\u001b[0m\u001b[0;34m=\u001b[0m\u001b[0mquery_by_label\u001b[0m\u001b[0;34m)\u001b[0m\u001b[0;34m\u001b[0m\u001b[0;34m\u001b[0m\u001b[0m\n\u001b[0m\u001b[1;32m     65\u001b[0m         \u001b[0;32mreturn\u001b[0m \u001b[0mself\u001b[0m\u001b[0;34m.\u001b[0m\u001b[0mneo_query_wrapper\u001b[0m\u001b[0;34m.\u001b[0m\u001b[0mget_anatomical_individual_TermInfo\u001b[0m\u001b[0;34m(\u001b[0m\u001b[0mlist\u001b[0m\u001b[0;34m(\u001b[0m\u001b[0mmap\u001b[0m\u001b[0;34m(\u001b[0m\u001b[0mgen_short_form\u001b[0m\u001b[0;34m,\u001b[0m \u001b[0mterms\u001b[0m\u001b[0;34m)\u001b[0m\u001b[0;34m)\u001b[0m\u001b[0;34m)\u001b[0m\u001b[0;34m\u001b[0m\u001b[0;34m\u001b[0m\u001b[0m\n\u001b[1;32m     66\u001b[0m \u001b[0;34m\u001b[0m\u001b[0m\n",
      "\u001b[0;32m/usr/local/lib/python3.8/site-packages/vfb_connect/owl/owlery_query_tools.py\u001b[0m in \u001b[0;36mget_instances\u001b[0;34m(self, query, query_by_label, direct)\u001b[0m\n\u001b[1;32m     80\u001b[0m         \"\"\"Get instances satisfying query, where query is an OWL DL query\n\u001b[1;32m     81\u001b[0m            \"\"\"\n\u001b[0;32m---> 82\u001b[0;31m         return self.query(query_type='instances', return_type='hasInstance',\n\u001b[0m\u001b[1;32m     83\u001b[0m                           \u001b[0mquery\u001b[0m\u001b[0;34m=\u001b[0m\u001b[0mquery\u001b[0m\u001b[0;34m,\u001b[0m \u001b[0mquery_by_label\u001b[0m\u001b[0;34m=\u001b[0m\u001b[0mquery_by_label\u001b[0m\u001b[0;34m,\u001b[0m\u001b[0;34m\u001b[0m\u001b[0;34m\u001b[0m\u001b[0m\n\u001b[1;32m     84\u001b[0m                           direct=direct)\n",
      "\u001b[0;32m/usr/local/lib/python3.8/site-packages/vfb_connect/owl/owlery_query_tools.py\u001b[0m in \u001b[0;36mquery\u001b[0;34m(self, query_type, return_type, query, query_by_label, direct, verbose)\u001b[0m\n\u001b[1;32m     61\u001b[0m                    'direct': direct}\n\u001b[1;32m     62\u001b[0m         \u001b[0;31m# print(payload)\u001b[0m\u001b[0;34m\u001b[0m\u001b[0;34m\u001b[0m\u001b[0;34m\u001b[0m\u001b[0m\n\u001b[0;32m---> 63\u001b[0;31m         \u001b[0mr\u001b[0m \u001b[0;34m=\u001b[0m \u001b[0mrequests\u001b[0m\u001b[0;34m.\u001b[0m\u001b[0mget\u001b[0m\u001b[0;34m(\u001b[0m\u001b[0murl\u001b[0m\u001b[0;34m=\u001b[0m\u001b[0mowl_endpoint\u001b[0m\u001b[0;34m,\u001b[0m \u001b[0mparams\u001b[0m\u001b[0;34m=\u001b[0m\u001b[0mpayload\u001b[0m\u001b[0;34m)\u001b[0m\u001b[0;34m\u001b[0m\u001b[0;34m\u001b[0m\u001b[0m\n\u001b[0m\u001b[1;32m     64\u001b[0m         \u001b[0mprint\u001b[0m\u001b[0;34m(\u001b[0m\u001b[0;34m\"Query URL: \"\u001b[0m \u001b[0;34m+\u001b[0m \u001b[0mr\u001b[0m\u001b[0;34m.\u001b[0m\u001b[0murl\u001b[0m\u001b[0;34m)\u001b[0m\u001b[0;34m\u001b[0m\u001b[0;34m\u001b[0m\u001b[0m\n\u001b[1;32m     65\u001b[0m         \u001b[0;32mif\u001b[0m \u001b[0mr\u001b[0m\u001b[0;34m.\u001b[0m\u001b[0mstatus_code\u001b[0m \u001b[0;34m==\u001b[0m \u001b[0;36m200\u001b[0m\u001b[0;34m:\u001b[0m\u001b[0;34m\u001b[0m\u001b[0;34m\u001b[0m\u001b[0m\n",
      "\u001b[0;32m/usr/local/lib/python3.8/site-packages/requests/api.py\u001b[0m in \u001b[0;36mget\u001b[0;34m(url, params, **kwargs)\u001b[0m\n\u001b[1;32m     74\u001b[0m \u001b[0;34m\u001b[0m\u001b[0m\n\u001b[1;32m     75\u001b[0m     \u001b[0mkwargs\u001b[0m\u001b[0;34m.\u001b[0m\u001b[0msetdefault\u001b[0m\u001b[0;34m(\u001b[0m\u001b[0;34m'allow_redirects'\u001b[0m\u001b[0;34m,\u001b[0m \u001b[0;32mTrue\u001b[0m\u001b[0;34m)\u001b[0m\u001b[0;34m\u001b[0m\u001b[0;34m\u001b[0m\u001b[0m\n\u001b[0;32m---> 76\u001b[0;31m     \u001b[0;32mreturn\u001b[0m \u001b[0mrequest\u001b[0m\u001b[0;34m(\u001b[0m\u001b[0;34m'get'\u001b[0m\u001b[0;34m,\u001b[0m \u001b[0murl\u001b[0m\u001b[0;34m,\u001b[0m \u001b[0mparams\u001b[0m\u001b[0;34m=\u001b[0m\u001b[0mparams\u001b[0m\u001b[0;34m,\u001b[0m \u001b[0;34m**\u001b[0m\u001b[0mkwargs\u001b[0m\u001b[0;34m)\u001b[0m\u001b[0;34m\u001b[0m\u001b[0;34m\u001b[0m\u001b[0m\n\u001b[0m\u001b[1;32m     77\u001b[0m \u001b[0;34m\u001b[0m\u001b[0m\n\u001b[1;32m     78\u001b[0m \u001b[0;34m\u001b[0m\u001b[0m\n",
      "\u001b[0;32m/usr/local/lib/python3.8/site-packages/requests/api.py\u001b[0m in \u001b[0;36mrequest\u001b[0;34m(method, url, **kwargs)\u001b[0m\n\u001b[1;32m     59\u001b[0m     \u001b[0;31m# cases, and look like a memory leak in others.\u001b[0m\u001b[0;34m\u001b[0m\u001b[0;34m\u001b[0m\u001b[0;34m\u001b[0m\u001b[0m\n\u001b[1;32m     60\u001b[0m     \u001b[0;32mwith\u001b[0m \u001b[0msessions\u001b[0m\u001b[0;34m.\u001b[0m\u001b[0mSession\u001b[0m\u001b[0;34m(\u001b[0m\u001b[0;34m)\u001b[0m \u001b[0;32mas\u001b[0m \u001b[0msession\u001b[0m\u001b[0;34m:\u001b[0m\u001b[0;34m\u001b[0m\u001b[0;34m\u001b[0m\u001b[0m\n\u001b[0;32m---> 61\u001b[0;31m         \u001b[0;32mreturn\u001b[0m \u001b[0msession\u001b[0m\u001b[0;34m.\u001b[0m\u001b[0mrequest\u001b[0m\u001b[0;34m(\u001b[0m\u001b[0mmethod\u001b[0m\u001b[0;34m=\u001b[0m\u001b[0mmethod\u001b[0m\u001b[0;34m,\u001b[0m \u001b[0murl\u001b[0m\u001b[0;34m=\u001b[0m\u001b[0murl\u001b[0m\u001b[0;34m,\u001b[0m \u001b[0;34m**\u001b[0m\u001b[0mkwargs\u001b[0m\u001b[0;34m)\u001b[0m\u001b[0;34m\u001b[0m\u001b[0;34m\u001b[0m\u001b[0m\n\u001b[0m\u001b[1;32m     62\u001b[0m \u001b[0;34m\u001b[0m\u001b[0m\n\u001b[1;32m     63\u001b[0m \u001b[0;34m\u001b[0m\u001b[0m\n",
      "\u001b[0;32m/usr/local/lib/python3.8/site-packages/requests/sessions.py\u001b[0m in \u001b[0;36mrequest\u001b[0;34m(self, method, url, params, data, headers, cookies, files, auth, timeout, allow_redirects, proxies, hooks, stream, verify, cert, json)\u001b[0m\n\u001b[1;32m    528\u001b[0m         }\n\u001b[1;32m    529\u001b[0m         \u001b[0msend_kwargs\u001b[0m\u001b[0;34m.\u001b[0m\u001b[0mupdate\u001b[0m\u001b[0;34m(\u001b[0m\u001b[0msettings\u001b[0m\u001b[0;34m)\u001b[0m\u001b[0;34m\u001b[0m\u001b[0;34m\u001b[0m\u001b[0m\n\u001b[0;32m--> 530\u001b[0;31m         \u001b[0mresp\u001b[0m \u001b[0;34m=\u001b[0m \u001b[0mself\u001b[0m\u001b[0;34m.\u001b[0m\u001b[0msend\u001b[0m\u001b[0;34m(\u001b[0m\u001b[0mprep\u001b[0m\u001b[0;34m,\u001b[0m \u001b[0;34m**\u001b[0m\u001b[0msend_kwargs\u001b[0m\u001b[0;34m)\u001b[0m\u001b[0;34m\u001b[0m\u001b[0;34m\u001b[0m\u001b[0m\n\u001b[0m\u001b[1;32m    531\u001b[0m \u001b[0;34m\u001b[0m\u001b[0m\n\u001b[1;32m    532\u001b[0m         \u001b[0;32mreturn\u001b[0m \u001b[0mresp\u001b[0m\u001b[0;34m\u001b[0m\u001b[0;34m\u001b[0m\u001b[0m\n",
      "\u001b[0;32m/usr/local/lib/python3.8/site-packages/requests/sessions.py\u001b[0m in \u001b[0;36msend\u001b[0;34m(self, request, **kwargs)\u001b[0m\n\u001b[1;32m    641\u001b[0m \u001b[0;34m\u001b[0m\u001b[0m\n\u001b[1;32m    642\u001b[0m         \u001b[0;31m# Send the request\u001b[0m\u001b[0;34m\u001b[0m\u001b[0;34m\u001b[0m\u001b[0;34m\u001b[0m\u001b[0m\n\u001b[0;32m--> 643\u001b[0;31m         \u001b[0mr\u001b[0m \u001b[0;34m=\u001b[0m \u001b[0madapter\u001b[0m\u001b[0;34m.\u001b[0m\u001b[0msend\u001b[0m\u001b[0;34m(\u001b[0m\u001b[0mrequest\u001b[0m\u001b[0;34m,\u001b[0m \u001b[0;34m**\u001b[0m\u001b[0mkwargs\u001b[0m\u001b[0;34m)\u001b[0m\u001b[0;34m\u001b[0m\u001b[0;34m\u001b[0m\u001b[0m\n\u001b[0m\u001b[1;32m    644\u001b[0m \u001b[0;34m\u001b[0m\u001b[0m\n\u001b[1;32m    645\u001b[0m         \u001b[0;31m# Total elapsed time of the request (approximately)\u001b[0m\u001b[0;34m\u001b[0m\u001b[0;34m\u001b[0m\u001b[0;34m\u001b[0m\u001b[0m\n",
      "\u001b[0;32m/usr/local/lib/python3.8/site-packages/requests/adapters.py\u001b[0m in \u001b[0;36msend\u001b[0;34m(self, request, stream, timeout, verify, cert, proxies)\u001b[0m\n\u001b[1;32m    437\u001b[0m         \u001b[0;32mtry\u001b[0m\u001b[0;34m:\u001b[0m\u001b[0;34m\u001b[0m\u001b[0;34m\u001b[0m\u001b[0m\n\u001b[1;32m    438\u001b[0m             \u001b[0;32mif\u001b[0m \u001b[0;32mnot\u001b[0m \u001b[0mchunked\u001b[0m\u001b[0;34m:\u001b[0m\u001b[0;34m\u001b[0m\u001b[0;34m\u001b[0m\u001b[0m\n\u001b[0;32m--> 439\u001b[0;31m                 resp = conn.urlopen(\n\u001b[0m\u001b[1;32m    440\u001b[0m                     \u001b[0mmethod\u001b[0m\u001b[0;34m=\u001b[0m\u001b[0mrequest\u001b[0m\u001b[0;34m.\u001b[0m\u001b[0mmethod\u001b[0m\u001b[0;34m,\u001b[0m\u001b[0;34m\u001b[0m\u001b[0;34m\u001b[0m\u001b[0m\n\u001b[1;32m    441\u001b[0m                     \u001b[0murl\u001b[0m\u001b[0;34m=\u001b[0m\u001b[0murl\u001b[0m\u001b[0;34m,\u001b[0m\u001b[0;34m\u001b[0m\u001b[0;34m\u001b[0m\u001b[0m\n",
      "\u001b[0;32m/usr/local/lib/python3.8/site-packages/urllib3/connectionpool.py\u001b[0m in \u001b[0;36murlopen\u001b[0;34m(self, method, url, body, headers, retries, redirect, assert_same_host, timeout, pool_timeout, release_conn, chunked, body_pos, **response_kw)\u001b[0m\n\u001b[1;32m    668\u001b[0m \u001b[0;34m\u001b[0m\u001b[0m\n\u001b[1;32m    669\u001b[0m             \u001b[0;31m# Make the request on the httplib connection object.\u001b[0m\u001b[0;34m\u001b[0m\u001b[0;34m\u001b[0m\u001b[0;34m\u001b[0m\u001b[0m\n\u001b[0;32m--> 670\u001b[0;31m             httplib_response = self._make_request(\n\u001b[0m\u001b[1;32m    671\u001b[0m                 \u001b[0mconn\u001b[0m\u001b[0;34m,\u001b[0m\u001b[0;34m\u001b[0m\u001b[0;34m\u001b[0m\u001b[0m\n\u001b[1;32m    672\u001b[0m                 \u001b[0mmethod\u001b[0m\u001b[0;34m,\u001b[0m\u001b[0;34m\u001b[0m\u001b[0;34m\u001b[0m\u001b[0m\n",
      "\u001b[0;32m/usr/local/lib/python3.8/site-packages/urllib3/connectionpool.py\u001b[0m in \u001b[0;36m_make_request\u001b[0;34m(self, conn, method, url, timeout, chunked, **httplib_request_kw)\u001b[0m\n\u001b[1;32m    424\u001b[0m                     \u001b[0;31m# Python 3 (including for exceptions like SystemExit).\u001b[0m\u001b[0;34m\u001b[0m\u001b[0;34m\u001b[0m\u001b[0;34m\u001b[0m\u001b[0m\n\u001b[1;32m    425\u001b[0m                     \u001b[0;31m# Otherwise it looks like a bug in the code.\u001b[0m\u001b[0;34m\u001b[0m\u001b[0;34m\u001b[0m\u001b[0;34m\u001b[0m\u001b[0m\n\u001b[0;32m--> 426\u001b[0;31m                     \u001b[0msix\u001b[0m\u001b[0;34m.\u001b[0m\u001b[0mraise_from\u001b[0m\u001b[0;34m(\u001b[0m\u001b[0me\u001b[0m\u001b[0;34m,\u001b[0m \u001b[0;32mNone\u001b[0m\u001b[0;34m)\u001b[0m\u001b[0;34m\u001b[0m\u001b[0;34m\u001b[0m\u001b[0m\n\u001b[0m\u001b[1;32m    427\u001b[0m         \u001b[0;32mexcept\u001b[0m \u001b[0;34m(\u001b[0m\u001b[0mSocketTimeout\u001b[0m\u001b[0;34m,\u001b[0m \u001b[0mBaseSSLError\u001b[0m\u001b[0;34m,\u001b[0m \u001b[0mSocketError\u001b[0m\u001b[0;34m)\u001b[0m \u001b[0;32mas\u001b[0m \u001b[0me\u001b[0m\u001b[0;34m:\u001b[0m\u001b[0;34m\u001b[0m\u001b[0;34m\u001b[0m\u001b[0m\n\u001b[1;32m    428\u001b[0m             \u001b[0mself\u001b[0m\u001b[0;34m.\u001b[0m\u001b[0m_raise_timeout\u001b[0m\u001b[0;34m(\u001b[0m\u001b[0merr\u001b[0m\u001b[0;34m=\u001b[0m\u001b[0me\u001b[0m\u001b[0;34m,\u001b[0m \u001b[0murl\u001b[0m\u001b[0;34m=\u001b[0m\u001b[0murl\u001b[0m\u001b[0;34m,\u001b[0m \u001b[0mtimeout_value\u001b[0m\u001b[0;34m=\u001b[0m\u001b[0mread_timeout\u001b[0m\u001b[0;34m)\u001b[0m\u001b[0;34m\u001b[0m\u001b[0;34m\u001b[0m\u001b[0m\n",
      "\u001b[0;32m/usr/local/lib/python3.8/site-packages/urllib3/packages/six.py\u001b[0m in \u001b[0;36mraise_from\u001b[0;34m(value, from_value)\u001b[0m\n",
      "\u001b[0;32m/usr/local/lib/python3.8/site-packages/urllib3/connectionpool.py\u001b[0m in \u001b[0;36m_make_request\u001b[0;34m(self, conn, method, url, timeout, chunked, **httplib_request_kw)\u001b[0m\n\u001b[1;32m    419\u001b[0m                 \u001b[0;31m# Python 3\u001b[0m\u001b[0;34m\u001b[0m\u001b[0;34m\u001b[0m\u001b[0;34m\u001b[0m\u001b[0m\n\u001b[1;32m    420\u001b[0m                 \u001b[0;32mtry\u001b[0m\u001b[0;34m:\u001b[0m\u001b[0;34m\u001b[0m\u001b[0;34m\u001b[0m\u001b[0m\n\u001b[0;32m--> 421\u001b[0;31m                     \u001b[0mhttplib_response\u001b[0m \u001b[0;34m=\u001b[0m \u001b[0mconn\u001b[0m\u001b[0;34m.\u001b[0m\u001b[0mgetresponse\u001b[0m\u001b[0;34m(\u001b[0m\u001b[0;34m)\u001b[0m\u001b[0;34m\u001b[0m\u001b[0;34m\u001b[0m\u001b[0m\n\u001b[0m\u001b[1;32m    422\u001b[0m                 \u001b[0;32mexcept\u001b[0m \u001b[0mBaseException\u001b[0m \u001b[0;32mas\u001b[0m \u001b[0me\u001b[0m\u001b[0;34m:\u001b[0m\u001b[0;34m\u001b[0m\u001b[0;34m\u001b[0m\u001b[0m\n\u001b[1;32m    423\u001b[0m                     \u001b[0;31m# Remove the TypeError from the exception chain in\u001b[0m\u001b[0;34m\u001b[0m\u001b[0;34m\u001b[0m\u001b[0;34m\u001b[0m\u001b[0m\n",
      "\u001b[0;32m/usr/local/Cellar/python@3.8/3.8.5/Frameworks/Python.framework/Versions/3.8/lib/python3.8/http/client.py\u001b[0m in \u001b[0;36mgetresponse\u001b[0;34m(self)\u001b[0m\n\u001b[1;32m   1345\u001b[0m         \u001b[0;32mtry\u001b[0m\u001b[0;34m:\u001b[0m\u001b[0;34m\u001b[0m\u001b[0;34m\u001b[0m\u001b[0m\n\u001b[1;32m   1346\u001b[0m             \u001b[0;32mtry\u001b[0m\u001b[0;34m:\u001b[0m\u001b[0;34m\u001b[0m\u001b[0;34m\u001b[0m\u001b[0m\n\u001b[0;32m-> 1347\u001b[0;31m                 \u001b[0mresponse\u001b[0m\u001b[0;34m.\u001b[0m\u001b[0mbegin\u001b[0m\u001b[0;34m(\u001b[0m\u001b[0;34m)\u001b[0m\u001b[0;34m\u001b[0m\u001b[0;34m\u001b[0m\u001b[0m\n\u001b[0m\u001b[1;32m   1348\u001b[0m             \u001b[0;32mexcept\u001b[0m \u001b[0mConnectionError\u001b[0m\u001b[0;34m:\u001b[0m\u001b[0;34m\u001b[0m\u001b[0;34m\u001b[0m\u001b[0m\n\u001b[1;32m   1349\u001b[0m                 \u001b[0mself\u001b[0m\u001b[0;34m.\u001b[0m\u001b[0mclose\u001b[0m\u001b[0;34m(\u001b[0m\u001b[0;34m)\u001b[0m\u001b[0;34m\u001b[0m\u001b[0;34m\u001b[0m\u001b[0m\n",
      "\u001b[0;32m/usr/local/Cellar/python@3.8/3.8.5/Frameworks/Python.framework/Versions/3.8/lib/python3.8/http/client.py\u001b[0m in \u001b[0;36mbegin\u001b[0;34m(self)\u001b[0m\n\u001b[1;32m    305\u001b[0m         \u001b[0;31m# read until we get a non-100 response\u001b[0m\u001b[0;34m\u001b[0m\u001b[0;34m\u001b[0m\u001b[0;34m\u001b[0m\u001b[0m\n\u001b[1;32m    306\u001b[0m         \u001b[0;32mwhile\u001b[0m \u001b[0;32mTrue\u001b[0m\u001b[0;34m:\u001b[0m\u001b[0;34m\u001b[0m\u001b[0;34m\u001b[0m\u001b[0m\n\u001b[0;32m--> 307\u001b[0;31m             \u001b[0mversion\u001b[0m\u001b[0;34m,\u001b[0m \u001b[0mstatus\u001b[0m\u001b[0;34m,\u001b[0m \u001b[0mreason\u001b[0m \u001b[0;34m=\u001b[0m \u001b[0mself\u001b[0m\u001b[0;34m.\u001b[0m\u001b[0m_read_status\u001b[0m\u001b[0;34m(\u001b[0m\u001b[0;34m)\u001b[0m\u001b[0;34m\u001b[0m\u001b[0;34m\u001b[0m\u001b[0m\n\u001b[0m\u001b[1;32m    308\u001b[0m             \u001b[0;32mif\u001b[0m \u001b[0mstatus\u001b[0m \u001b[0;34m!=\u001b[0m \u001b[0mCONTINUE\u001b[0m\u001b[0;34m:\u001b[0m\u001b[0;34m\u001b[0m\u001b[0;34m\u001b[0m\u001b[0m\n\u001b[1;32m    309\u001b[0m                 \u001b[0;32mbreak\u001b[0m\u001b[0;34m\u001b[0m\u001b[0;34m\u001b[0m\u001b[0m\n",
      "\u001b[0;32m/usr/local/Cellar/python@3.8/3.8.5/Frameworks/Python.framework/Versions/3.8/lib/python3.8/http/client.py\u001b[0m in \u001b[0;36m_read_status\u001b[0;34m(self)\u001b[0m\n\u001b[1;32m    266\u001b[0m \u001b[0;34m\u001b[0m\u001b[0m\n\u001b[1;32m    267\u001b[0m     \u001b[0;32mdef\u001b[0m \u001b[0m_read_status\u001b[0m\u001b[0;34m(\u001b[0m\u001b[0mself\u001b[0m\u001b[0;34m)\u001b[0m\u001b[0;34m:\u001b[0m\u001b[0;34m\u001b[0m\u001b[0;34m\u001b[0m\u001b[0m\n\u001b[0;32m--> 268\u001b[0;31m         \u001b[0mline\u001b[0m \u001b[0;34m=\u001b[0m \u001b[0mstr\u001b[0m\u001b[0;34m(\u001b[0m\u001b[0mself\u001b[0m\u001b[0;34m.\u001b[0m\u001b[0mfp\u001b[0m\u001b[0;34m.\u001b[0m\u001b[0mreadline\u001b[0m\u001b[0;34m(\u001b[0m\u001b[0m_MAXLINE\u001b[0m \u001b[0;34m+\u001b[0m \u001b[0;36m1\u001b[0m\u001b[0;34m)\u001b[0m\u001b[0;34m,\u001b[0m \u001b[0;34m\"iso-8859-1\"\u001b[0m\u001b[0;34m)\u001b[0m\u001b[0;34m\u001b[0m\u001b[0;34m\u001b[0m\u001b[0m\n\u001b[0m\u001b[1;32m    269\u001b[0m         \u001b[0;32mif\u001b[0m \u001b[0mlen\u001b[0m\u001b[0;34m(\u001b[0m\u001b[0mline\u001b[0m\u001b[0;34m)\u001b[0m \u001b[0;34m>\u001b[0m \u001b[0m_MAXLINE\u001b[0m\u001b[0;34m:\u001b[0m\u001b[0;34m\u001b[0m\u001b[0;34m\u001b[0m\u001b[0m\n\u001b[1;32m    270\u001b[0m             \u001b[0;32mraise\u001b[0m \u001b[0mLineTooLong\u001b[0m\u001b[0;34m(\u001b[0m\u001b[0;34m\"status line\"\u001b[0m\u001b[0;34m)\u001b[0m\u001b[0;34m\u001b[0m\u001b[0;34m\u001b[0m\u001b[0m\n",
      "\u001b[0;32m/usr/local/Cellar/python@3.8/3.8.5/Frameworks/Python.framework/Versions/3.8/lib/python3.8/socket.py\u001b[0m in \u001b[0;36mreadinto\u001b[0;34m(self, b)\u001b[0m\n\u001b[1;32m    667\u001b[0m         \u001b[0;32mwhile\u001b[0m \u001b[0;32mTrue\u001b[0m\u001b[0;34m:\u001b[0m\u001b[0;34m\u001b[0m\u001b[0;34m\u001b[0m\u001b[0m\n\u001b[1;32m    668\u001b[0m             \u001b[0;32mtry\u001b[0m\u001b[0;34m:\u001b[0m\u001b[0;34m\u001b[0m\u001b[0;34m\u001b[0m\u001b[0m\n\u001b[0;32m--> 669\u001b[0;31m                 \u001b[0;32mreturn\u001b[0m \u001b[0mself\u001b[0m\u001b[0;34m.\u001b[0m\u001b[0m_sock\u001b[0m\u001b[0;34m.\u001b[0m\u001b[0mrecv_into\u001b[0m\u001b[0;34m(\u001b[0m\u001b[0mb\u001b[0m\u001b[0;34m)\u001b[0m\u001b[0;34m\u001b[0m\u001b[0;34m\u001b[0m\u001b[0m\n\u001b[0m\u001b[1;32m    670\u001b[0m             \u001b[0;32mexcept\u001b[0m \u001b[0mtimeout\u001b[0m\u001b[0;34m:\u001b[0m\u001b[0;34m\u001b[0m\u001b[0;34m\u001b[0m\u001b[0m\n\u001b[1;32m    671\u001b[0m                 \u001b[0mself\u001b[0m\u001b[0;34m.\u001b[0m\u001b[0m_timeout_occurred\u001b[0m \u001b[0;34m=\u001b[0m \u001b[0;32mTrue\u001b[0m\u001b[0;34m\u001b[0m\u001b[0;34m\u001b[0m\u001b[0m\n",
      "\u001b[0;31mKeyboardInterrupt\u001b[0m: "
     ]
    }
   ],
   "source": [
    "cyp_neuron_images = vc.get_images('larval subesophageal zone cypress neuron')"
   ]
  },
  {
   "cell_type": "code",
   "execution_count": null,
   "metadata": {},
   "outputs": [],
   "source": [
    "# Returned JSON includes direct links to image folders for each template the image is registered to:\n",
    "\n",
    "[(i['term']['core']['label'],\n",
    "  [{ 'image_folder': x['image']['image_folder'], 'template': x['image']['template_anatomy']['label']}\n",
    "   for x in i['channel_image']]) for i in cyp_neuron_images]\n"
   ]
  },
  {
   "cell_type": "code",
   "execution_count": null,
   "metadata": {},
   "outputs": [],
   "source": [
    "[(i['term']['core']['label'],\n",
    "  [{ 'image_folder': x['image']['image_folder'], 'template': x['image']['template_anatomy']['label']}\n",
    "   for x in i['channel_image']]) for i in vc.get_images('fan-shaped body')]\n"
   ]
  },
  {
   "cell_type": "code",
   "execution_count": null,
   "metadata": {},
   "outputs": [],
   "source": [
    "# Image queries range across multiple types\n",
    "[(i['term']['core']['label'],\n",
    "  [ x['label'] for x in i['parents']],\n",
    "  [{ 'image_folder': x['image']['image_folder'], 'template': x['image']['template_anatomy']['label']}\n",
    "   for x in i['channel_image']]) for i in vc.get_images('dopaminergic PAM neuron')][0:5]"
   ]
  }
 ],
 "metadata": {
  "kernelspec": {
   "display_name": "Python 3",
   "language": "python",
   "name": "python3"
  },
  "language_info": {
   "codemirror_mode": {
    "name": "ipython",
    "version": 3
   },
   "file_extension": ".py",
   "mimetype": "text/x-python",
   "name": "python",
   "nbconvert_exporter": "python",
   "pygments_lexer": "ipython3",
   "version": "3.10.9"
  }
 },
 "nbformat": 4,
 "nbformat_minor": 2
}
