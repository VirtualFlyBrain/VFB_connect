{
 "cells": [
  {
   "cell_type": "code",
   "execution_count": 1,
   "metadata": {},
   "outputs": [
    {
     "name": "stdout",
     "output_type": "stream",
     "text": [
      "Requirement already satisfied: requests in /usr/local/anaconda3/lib/python3.10/site-packages (from -r ../../requirements.txt (line 1)) (2.32.3)\n",
      "Requirement already satisfied: psycopg2 in /usr/local/anaconda3/lib/python3.10/site-packages (from -r ../../requirements.txt (line 2)) (2.9.9)\n",
      "Requirement already satisfied: pandas in /usr/local/anaconda3/lib/python3.10/site-packages (from -r ../../requirements.txt (line 3)) (2.2.2)\n",
      "Requirement already satisfied: pandasql in /usr/local/anaconda3/lib/python3.10/site-packages (from -r ../../requirements.txt (line 4)) (0.7.3)\n",
      "Requirement already satisfied: jsonpath_rw in /usr/local/anaconda3/lib/python3.10/site-packages (from -r ../../requirements.txt (line 5)) (1.4.0)\n",
      "Requirement already satisfied: setuptools~=50.3.2 in /usr/local/anaconda3/lib/python3.10/site-packages (from -r ../../requirements.txt (line 6)) (50.3.2)\n",
      "Requirement already satisfied: neuprint-python in /usr/local/anaconda3/lib/python3.10/site-packages (from -r ../../requirements.txt (line 7)) (0.4.26)\n",
      "Requirement already satisfied: pysolr in /usr/local/anaconda3/lib/python3.10/site-packages (from -r ../../requirements.txt (line 8)) (3.9.0)\n",
      "Requirement already satisfied: idna<4,>=2.5 in /usr/local/anaconda3/lib/python3.10/site-packages (from requests->-r ../../requirements.txt (line 1)) (3.7)\n",
      "Requirement already satisfied: charset-normalizer<4,>=2 in /usr/local/anaconda3/lib/python3.10/site-packages (from requests->-r ../../requirements.txt (line 1)) (3.3.2)\n",
      "Requirement already satisfied: certifi>=2017.4.17 in /usr/local/anaconda3/lib/python3.10/site-packages (from requests->-r ../../requirements.txt (line 1)) (2024.7.4)\n",
      "Requirement already satisfied: urllib3<3,>=1.21.1 in /usr/local/anaconda3/lib/python3.10/site-packages (from requests->-r ../../requirements.txt (line 1)) (2.2.2)\n",
      "Requirement already satisfied: numpy>=1.22.4 in /usr/local/anaconda3/lib/python3.10/site-packages (from pandas->-r ../../requirements.txt (line 3)) (1.26.4)\n",
      "Requirement already satisfied: pytz>=2020.1 in /usr/local/anaconda3/lib/python3.10/site-packages (from pandas->-r ../../requirements.txt (line 3)) (2024.1)\n",
      "Requirement already satisfied: python-dateutil>=2.8.2 in /usr/local/anaconda3/lib/python3.10/site-packages (from pandas->-r ../../requirements.txt (line 3)) (2.9.0.post0)\n",
      "Requirement already satisfied: tzdata>=2022.7 in /usr/local/anaconda3/lib/python3.10/site-packages (from pandas->-r ../../requirements.txt (line 3)) (2024.1)\n",
      "Requirement already satisfied: sqlalchemy in /usr/local/anaconda3/lib/python3.10/site-packages (from pandasql->-r ../../requirements.txt (line 4)) (1.4.39)\n",
      "Requirement already satisfied: decorator in /usr/local/anaconda3/lib/python3.10/site-packages (from jsonpath_rw->-r ../../requirements.txt (line 5)) (5.1.1)\n",
      "Requirement already satisfied: ply in /usr/local/anaconda3/lib/python3.10/site-packages (from jsonpath_rw->-r ../../requirements.txt (line 5)) (3.11)\n",
      "Requirement already satisfied: six in /usr/local/anaconda3/lib/python3.10/site-packages (from jsonpath_rw->-r ../../requirements.txt (line 5)) (1.16.0)\n",
      "Requirement already satisfied: ujson in /usr/local/anaconda3/lib/python3.10/site-packages (from neuprint-python->-r ../../requirements.txt (line 7)) (5.4.0)\n",
      "Requirement already satisfied: tqdm in /usr/local/anaconda3/lib/python3.10/site-packages (from neuprint-python->-r ../../requirements.txt (line 7)) (4.64.1)\n",
      "Requirement already satisfied: scipy in /usr/local/anaconda3/lib/python3.10/site-packages (from neuprint-python->-r ../../requirements.txt (line 7)) (1.10.0)\n",
      "Requirement already satisfied: asciitree in /usr/local/anaconda3/lib/python3.10/site-packages (from neuprint-python->-r ../../requirements.txt (line 7)) (0.3.3)\n",
      "Requirement already satisfied: networkx in /usr/local/anaconda3/lib/python3.10/site-packages (from neuprint-python->-r ../../requirements.txt (line 7)) (2.8.4)\n",
      "Requirement already satisfied: greenlet!=0.4.17 in /usr/local/anaconda3/lib/python3.10/site-packages (from sqlalchemy->pandasql->-r ../../requirements.txt (line 4)) (2.0.1)\n",
      "Processing /Users/robbiecourt/GIT/VFB_connect\n",
      "  Preparing metadata (setup.py) ... \u001b[?25ldone\n",
      "\u001b[?25hRequirement already satisfied: requests in /usr/local/anaconda3/lib/python3.10/site-packages (from vfb-connect==1.2.20.dev33+c87cfe1.dirty) (2.32.3)\n",
      "Requirement already satisfied: pandas in /usr/local/anaconda3/lib/python3.10/site-packages (from vfb-connect==1.2.20.dev33+c87cfe1.dirty) (2.2.2)\n",
      "Requirement already satisfied: jsonpath_rw in /usr/local/anaconda3/lib/python3.10/site-packages (from vfb-connect==1.2.20.dev33+c87cfe1.dirty) (1.4.0)\n",
      "Requirement already satisfied: decorator in /usr/local/anaconda3/lib/python3.10/site-packages (from jsonpath_rw->vfb-connect==1.2.20.dev33+c87cfe1.dirty) (5.1.1)\n",
      "Requirement already satisfied: ply in /usr/local/anaconda3/lib/python3.10/site-packages (from jsonpath_rw->vfb-connect==1.2.20.dev33+c87cfe1.dirty) (3.11)\n",
      "Requirement already satisfied: six in /usr/local/anaconda3/lib/python3.10/site-packages (from jsonpath_rw->vfb-connect==1.2.20.dev33+c87cfe1.dirty) (1.16.0)\n",
      "Requirement already satisfied: tzdata>=2022.7 in /usr/local/anaconda3/lib/python3.10/site-packages (from pandas->vfb-connect==1.2.20.dev33+c87cfe1.dirty) (2024.1)\n",
      "Requirement already satisfied: numpy>=1.22.4 in /usr/local/anaconda3/lib/python3.10/site-packages (from pandas->vfb-connect==1.2.20.dev33+c87cfe1.dirty) (1.26.4)\n",
      "Requirement already satisfied: pytz>=2020.1 in /usr/local/anaconda3/lib/python3.10/site-packages (from pandas->vfb-connect==1.2.20.dev33+c87cfe1.dirty) (2024.1)\n",
      "Requirement already satisfied: python-dateutil>=2.8.2 in /usr/local/anaconda3/lib/python3.10/site-packages (from pandas->vfb-connect==1.2.20.dev33+c87cfe1.dirty) (2.9.0.post0)\n",
      "Requirement already satisfied: certifi>=2017.4.17 in /usr/local/anaconda3/lib/python3.10/site-packages (from requests->vfb-connect==1.2.20.dev33+c87cfe1.dirty) (2024.7.4)\n",
      "Requirement already satisfied: idna<4,>=2.5 in /usr/local/anaconda3/lib/python3.10/site-packages (from requests->vfb-connect==1.2.20.dev33+c87cfe1.dirty) (3.7)\n",
      "Requirement already satisfied: urllib3<3,>=1.21.1 in /usr/local/anaconda3/lib/python3.10/site-packages (from requests->vfb-connect==1.2.20.dev33+c87cfe1.dirty) (2.2.2)\n",
      "Requirement already satisfied: charset-normalizer<4,>=2 in /usr/local/anaconda3/lib/python3.10/site-packages (from requests->vfb-connect==1.2.20.dev33+c87cfe1.dirty) (3.3.2)\n",
      "Building wheels for collected packages: vfb-connect\n",
      "  Building wheel for vfb-connect (setup.py) ... \u001b[?25ldone\n",
      "\u001b[?25h  Created wheel for vfb-connect: filename=vfb_connect-1.2.20.dev33+c87cfe1.dirty-py3-none-any.whl size=41895 sha256=78aa99ef0dbeffa3429072f9dee986eea75158696559927386642e8dc6de0439\n",
      "  Stored in directory: /private/var/folders/7j/bv0xtj3s4m9dt5zjj_d4j6080000gn/T/pip-ephem-wheel-cache-b65itbbm/wheels/8a/3f/b7/d8e312c0c9bba1174fc1a5798dba579586f6d21e0116466a00\n",
      "Successfully built vfb-connect\n",
      "Installing collected packages: vfb-connect\n",
      "  Attempting uninstall: vfb-connect\n",
      "    Found existing installation: vfb-connect 1.2.20.dev33+c87cfe1.dirty\n",
      "    Uninstalling vfb-connect-1.2.20.dev33+c87cfe1.dirty:\n",
      "      Successfully uninstalled vfb-connect-1.2.20.dev33+c87cfe1.dirty\n",
      "Successfully installed vfb-connect-1.2.20.dev33+c87cfe1.dirty\n"
     ]
    },
    {
     "name": "stderr",
     "output_type": "stream",
     "text": [
      "/usr/local/anaconda3/lib/python3.10/site-packages/pandas/core/arrays/masked.py:60: UserWarning: Pandas requires version '1.3.6' or newer of 'bottleneck' (version '1.3.5' currently installed).\n",
      "  from pandas.core import (\n"
     ]
    }
   ],
   "source": [
    "!pip install -r ../../requirements.txt --upgrade\n",
    "!pip install ../../\n",
    "\n",
    "from vfb_connect.cross_server_tools import VfbConnect\n",
    "\n",
    "# VfbConnect object => wrapper for connection to public VFB servers + query methods\n",
    "vc = VfbConnect()"
   ]
  },
  {
   "cell_type": "code",
   "execution_count": 2,
   "metadata": {},
   "outputs": [
    {
     "data": {
      "text/plain": [
       "[{'label': 'fru-F-500075',\n",
       "  'symbol': '',\n",
       "  'id': 'VFB_00010001',\n",
       "  'tags': 'Entity|Adult|Anatomy|Cell|Expression_pattern_fragment|Individual|Nervous_system|Neuron|VFB|has_image|FlyCircuit|NBLAST',\n",
       "  'parents_label': 'expression pattern fragment|adult SMPpv1 lineage neuron',\n",
       "  'parents_id': 'VFBext_0000004|FBbt_00050031',\n",
       "  'xrefs': ':fru-F-500075',\n",
       "  'templates': 'JRC2018Unisex|adult brain template JFRC2',\n",
       "  'dataset': 'Chiang2010',\n",
       "  'license': ''}]"
      ]
     },
     "execution_count": 2,
     "metadata": {},
     "output_type": "execute_result"
    }
   ],
   "source": [
    "#  Query with for term by ID. Supported IDs include anatomical individuals \n",
    "# (typically used for individual anatomical entities depicted in images), \n",
    "# dataset IDs and anatomy ontology IDs (FBbt)\n",
    "\n",
    "# All return values follow VFB_json_schema ()\n",
    "\n",
    "vc.neo_query_wrapper.get_TermInfo(['VFB_00010001']) # This can take multiple IDs, but is not efficient for querying with many IDs"
   ]
  },
  {
   "cell_type": "code",
   "execution_count": 3,
   "metadata": {},
   "outputs": [
    {
     "data": {
      "text/plain": [
       "dict_keys(['label', 'symbol', 'id', 'tags', 'parents_label', 'parents_id', 'xrefs', 'templates', 'dataset', 'license'])"
      ]
     },
     "execution_count": 3,
     "metadata": {},
     "output_type": "execute_result"
    }
   ],
   "source": [
    "vc.neo_query_wrapper.get_TermInfo(['VFB_00010001'])[0].keys()"
   ]
  },
  {
   "cell_type": "code",
   "execution_count": 4,
   "metadata": {},
   "outputs": [
    {
     "data": {
      "text/plain": [
       "[{'label': 'Ito lab adult brain lineage clone image set',\n",
       "  'symbol': '',\n",
       "  'id': 'Ito2013',\n",
       "  'tags': 'Entity|DataSet|Individual|has_image',\n",
       "  'description': [\"An exhaustive set of lineage clones covering the adult brain from Kei Ito's  lab.\"],\n",
       "  'miniref': 'Ito et al., 2013, Curr. Biol. 23(8): 644--655',\n",
       "  'FlyBase': 'FBrf0221438',\n",
       "  'PMID': '23541729',\n",
       "  'DOI': '10.1016/j.cub.2013.03.015'}]"
      ]
     },
     "execution_count": 4,
     "metadata": {},
     "output_type": "execute_result"
    }
   ],
   "source": [
    "#  Term type specific lookups are more efficient:\n",
    "\n",
    "vc.neo_query_wrapper.get_DataSet_TermInfo(['Ito2013'])"
   ]
  },
  {
   "cell_type": "code",
   "execution_count": 5,
   "metadata": {},
   "outputs": [
    {
     "data": {
      "text/plain": [
       "['vnc1_catmaid_api',\n",
       " 'vnc_harvard_catmaid_api',\n",
       " 'flywire_supervoxel',\n",
       " 'l1em_catmaid_api',\n",
       " 'fafb_catmaid_api',\n",
       " 'jrc_slide_code_api',\n",
       " 'InsectBrainDB',\n",
       " 'FlyBrain_NDB',\n",
       " 'catmaid_fafb',\n",
       " 'catmaid_fanc',\n",
       " 'scExpressionAtlas',\n",
       " 'Konstantinides_et_al_2018_OpticLobe',\n",
       " 'FlyCircuit',\n",
       " 'QuickGO',\n",
       " 'catmaid_l1em',\n",
       " 'FlyLightSplit',\n",
       " 'FlyLightRaw',\n",
       " 'AmiGO',\n",
       " 'flywire783',\n",
       " 'flywire630',\n",
       " 'VDRC',\n",
       " 'FlyBase',\n",
       " 'catmaid_leg40',\n",
       " 'larvalbrain_neuropil',\n",
       " 'BrainTrap',\n",
       " 'catmaid_fanc_JRC2018VF',\n",
       " 'neuprint_JRC_Manc',\n",
       " 'FlyBase_vocabularies',\n",
       " 'FlyLightSplitSlideCode',\n",
       " 'FlyLightGen1MCFO',\n",
       " 'FlyCircuit1v2',\n",
       " 'FlyLightRawSlideCode',\n",
       " 'neuronbridge',\n",
       " 'FlyPNS',\n",
       " 'ExpressionAtlas',\n",
       " 'larvalbrain_axon_tract',\n",
       " 'FlyLightGen1MCFOSlideCode',\n",
       " 'FlyLight',\n",
       " 'DoOR',\n",
       " 'neuprint_JRC_Hemibrain_1point0point1',\n",
       " 'GEO',\n",
       " 'lmb_cluster_pages_v3',\n",
       " 'lmb_cluster_pages_v2',\n",
       " 'neuprint_JRC_Hemibrain_1point1']"
      ]
     },
     "execution_count": 5,
     "metadata": {},
     "output_type": "execute_result"
    }
   ],
   "source": [
    "# Query with an external ID.\n",
    "# To find what sources (DBs) are supported: \n",
    "\n",
    "vc.neo_query_wrapper.get_dbs()"
   ]
  },
  {
   "cell_type": "code",
   "execution_count": 6,
   "metadata": {},
   "outputs": [
    {
     "name": "stderr",
     "output_type": "stream",
     "text": [
      "/usr/local/anaconda3/lib/python3.10/site-packages/vfb_connect/neo/query_wrapper.py:227: UserWarning: No results returned\n",
      "  warnings.warn('No results returned')\n"
     ]
    },
    {
     "data": {
      "text/plain": [
       "[]"
      ]
     },
     "execution_count": 6,
     "metadata": {},
     "output_type": "execute_result"
    }
   ],
   "source": [
    "# Querying with an ID from catmaid_l1em\n",
    "vc.neo_query_wrapper.get_terms_by_xref(['17545695'], db='catmaid_l1em')"
   ]
  },
  {
   "cell_type": "code",
   "execution_count": 7,
   "metadata": {},
   "outputs": [
    {
     "data": {
      "text/plain": [
       "[('11488881',\n",
       "  [{'db': 'catmaid_fafb', 'vfb_id': 'VFB_00102fvq'},\n",
       "   {'db': 'catmaid_fafb', 'vfb_id': 'VFB_00102gso'}]),\n",
       " ('4524559', [{'db': 'catmaid_fafb', 'vfb_id': 'VFB_001013x3'}]),\n",
       " ('14810632',\n",
       "  [{'db': 'catmaid_fafb', 'vfb_id': 'VFB_00102h06'},\n",
       "   {'db': 'catmaid_fafb', 'vfb_id': 'VFB_00102g38'}]),\n",
       " ('5864214', [{'db': 'catmaid_fafb', 'vfb_id': 'VFB_00102dw0'}]),\n",
       " ('10604481',\n",
       "  [{'db': 'catmaid_fafb', 'vfb_id': 'VFB_00102ftc'},\n",
       "   {'db': 'catmaid_fafb', 'vfb_id': 'VFB_00102gqa'}]),\n",
       " ('5055252', [{'db': 'catmaid_fafb', 'vfb_id': 'VFB_001000mb'}]),\n",
       " ('14923390',\n",
       "  [{'db': 'catmaid_fafb', 'vfb_id': 'VFB_00102h53'},\n",
       "   {'db': 'catmaid_fafb', 'vfb_id': 'VFB_00102g85'}]),\n",
       " ('14932351',\n",
       "  [{'db': 'catmaid_fafb', 'vfb_id': 'VFB_00102g8m'},\n",
       "   {'db': 'catmaid_fafb', 'vfb_id': 'VFB_00102h5k'}]),\n",
       " ('10718661',\n",
       "  [{'db': 'catmaid_fafb', 'vfb_id': 'VFB_00102gql'},\n",
       "   {'db': 'catmaid_fafb', 'vfb_id': 'VFB_00102ftn'}]),\n",
       " ('12917646',\n",
       "  [{'db': 'catmaid_fafb', 'vfb_id': 'VFB_00102gut'},\n",
       "   {'db': 'catmaid_fafb', 'vfb_id': 'VFB_00102fxv'}])]"
      ]
     },
     "execution_count": 7,
     "metadata": {},
     "output_type": "execute_result"
    }
   ],
   "source": [
    "# Get all xrefs by database\n",
    "\n",
    "list(vc.neo_query_wrapper.xref_2_vfb_id(db='catmaid_fafb').items())[0:10]"
   ]
  },
  {
   "cell_type": "code",
   "execution_count": 8,
   "metadata": {},
   "outputs": [
    {
     "name": "stdout",
     "output_type": "stream",
     "text": [
      "Running query: RO:0002131 some FBbt:00003679\n",
      "Query URL: http://owl.virtualflybrain.org/kbs/vfb/subclasses?object=RO%3A0002131+some+FBbt%3A00003679&prefixes=%7B%22FBbt%22%3A+%22http%3A%2F%2Fpurl.obolibrary.org%2Fobo%2FFBbt_%22%2C+%22RO%22%3A+%22http%3A%2F%2Fpurl.obolibrary.org%2Fobo%2FRO_%22%2C+%22BFO%22%3A+%22http%3A%2F%2Fpurl.obolibrary.org%2Fobo%2FBFO_%22%7D&direct=False\n",
      "Query results: 250\n"
     ]
    },
    {
     "data": {
      "text/plain": [
       "250"
      ]
     },
     "execution_count": 8,
     "metadata": {},
     "output_type": "execute_result"
    }
   ],
   "source": [
    "# Methods directly on cross-server tools allow integrative queries and support query by label\n",
    "\n",
    "# vc.get_terms_by_region: gets all terms relevant to a partcular region including neurons and parts\n",
    "    \n",
    "len(vc.get_terms_by_region('fan-shaped body'))\n",
    "\n",
    "  "
   ]
  },
  {
   "cell_type": "code",
   "execution_count": 10,
   "metadata": {},
   "outputs": [
    {
     "name": "stdout",
     "output_type": "stream",
     "text": [
      "Running query: RO:0002131 some FBbt:00003679\n",
      "Query URL: http://owl.virtualflybrain.org/kbs/vfb/subclasses?object=RO%3A0002131+some+FBbt%3A00003679&prefixes=%7B%22FBbt%22%3A+%22http%3A%2F%2Fpurl.obolibrary.org%2Fobo%2FFBbt_%22%2C+%22RO%22%3A+%22http%3A%2F%2Fpurl.obolibrary.org%2Fobo%2FRO_%22%2C+%22BFO%22%3A+%22http%3A%2F%2Fpurl.obolibrary.org%2Fobo%2FBFO_%22%7D&direct=False\n",
      "Query results: 250\n"
     ]
    },
    {
     "data": {
      "text/plain": [
       "[('fan-shaped body layer 4', 'FBbt_00007491'),\n",
       " ('fan-shaped body layer 5', 'FBbt_00007492'),\n",
       " ('fan-shaped body layer 3', 'FBbt_00007490'),\n",
       " ('octopaminergic VPM3 neuron', 'FBbt_00110151'),\n",
       " ('fan-shaped body layer 6', 'FBbt_00007493'),\n",
       " ('fan-shaped body layer 9', 'FBbt_00047032'),\n",
       " ('adult NPF P2 neuron', 'FBbt_00048121'),\n",
       " ('pupal protocerebral LPP2 Tachykinin neuron', 'FBbt_00110040'),\n",
       " ('adult ellipsoid body extrinsic ring neuron ExR3', 'FBbt_00047035'),\n",
       " ('adult ExR1 neuron of DM4 lineage', 'FBbt_00053035')]"
      ]
     },
     "execution_count": 10,
     "metadata": {},
     "output_type": "execute_result"
    }
   ],
   "source": [
    "[(x['term']['core']['label'], x['term']['core']['short_form']) \n",
    " for x in vc.get_terms_by_region('fan-shaped body', summary=False)][0:10]  \n"
   ]
  },
  {
   "cell_type": "code",
   "execution_count": 16,
   "metadata": {},
   "outputs": [
    {
     "name": "stderr",
     "output_type": "stream",
     "text": [
      "/usr/local/anaconda3/lib/python3.10/site-packages/vfb_connect/neo/query_wrapper.py:227: UserWarning: No results returned\n",
      "  warnings.warn('No results returned')\n"
     ]
    }
   ],
   "source": [
    "cyp_neuron_images = vc.neo_query_wrapper.get_images('larval subesophageal zone cypress neuron', template='JRC2018U', image_folder= '/tmp/images')"
   ]
  },
  {
   "cell_type": "code",
   "execution_count": 17,
   "metadata": {},
   "outputs": [
    {
     "data": {
      "text/plain": [
       "[]"
      ]
     },
     "execution_count": 17,
     "metadata": {},
     "output_type": "execute_result"
    }
   ],
   "source": [
    "# Returned JSON includes direct links to image folders for each template the image is registered to:\n",
    "\n",
    "[(i['term']['core']['label'],\n",
    "  [{ 'image_folder': x['image']['image_folder'], 'template': x['image']['template_anatomy']['label']}\n",
    "   for x in i['channel_image']]) for i in cyp_neuron_images]\n"
   ]
  },
  {
   "cell_type": "code",
   "execution_count": 24,
   "metadata": {},
   "outputs": [
    {
     "name": "stderr",
     "output_type": "stream",
     "text": [
      "/usr/local/anaconda3/lib/python3.10/site-packages/vfb_connect/neo/query_wrapper.py:227: UserWarning: No results returned\n",
      "  warnings.warn('No results returned')\n"
     ]
    },
    {
     "data": {
      "text/plain": [
       "[]"
      ]
     },
     "execution_count": 24,
     "metadata": {},
     "output_type": "execute_result"
    }
   ],
   "source": [
    "[(i['term']['core']['label'],\n",
    "  [{ 'image_folder': x['image']['image_folder'], 'template': x['image']['template_anatomy']['label']}\n",
    "   for x in i['channel_image']]) for i in vc.neo_query_wrapper.get_images('fan-shaped body', template='JRC2018Unisex', image_folder= '/tmp/images1')]\n"
   ]
  },
  {
   "cell_type": "code",
   "execution_count": 26,
   "metadata": {},
   "outputs": [
    {
     "name": "stderr",
     "output_type": "stream",
     "text": [
      "/usr/local/anaconda3/lib/python3.10/site-packages/vfb_connect/neo/query_wrapper.py:227: UserWarning: No results returned\n",
      "  warnings.warn('No results returned')\n"
     ]
    },
    {
     "data": {
      "text/plain": [
       "[]"
      ]
     },
     "execution_count": 26,
     "metadata": {},
     "output_type": "execute_result"
    }
   ],
   "source": [
    "# Image queries range across multiple types\n",
    "[(i['term']['core']['label'],\n",
    "  [ x['label'] for x in i['parents']],\n",
    "  [{ 'image_folder': x['image']['image_folder'], 'template': x['image']['template_anatomy']['label']}\n",
    "   for x in i['channel_image']]) for i in vc.neo_query_wrapper.get_images('dopaminergic PAM neuron', template='JRC2018Unisex', image_folder= '/tmp/images2')][0:5]"
   ]
  }
 ],
 "metadata": {
  "kernelspec": {
   "display_name": "Python 3",
   "language": "python",
   "name": "python3"
  },
  "language_info": {
   "codemirror_mode": {
    "name": "ipython",
    "version": 3
   },
   "file_extension": ".py",
   "mimetype": "text/x-python",
   "name": "python",
   "nbconvert_exporter": "python",
   "pygments_lexer": "ipython3",
   "version": "3.10.9"
  }
 },
 "nbformat": 4,
 "nbformat_minor": 2
}
