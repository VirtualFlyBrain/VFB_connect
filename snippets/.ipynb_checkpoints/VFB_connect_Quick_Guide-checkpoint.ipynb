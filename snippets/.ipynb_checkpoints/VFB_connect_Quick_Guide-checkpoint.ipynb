{
 "cells": [
  {
   "cell_type": "code",
   "execution_count": 1,
   "metadata": {},
   "outputs": [],
   "source": [
    "!pip install -r ../../requirements.txt --quiet\n",
    "!pip install ../../ --quiet\n",
    "\n",
    "from vfb_connect.cross_server_tools import VfbConnect\n",
    "\n",
    "# VfbConnect object => wrapper for connection to public VFB servers + query methods\n",
    "vc = VfbConnect()"
   ]
  },
  {
   "cell_type": "code",
   "execution_count": 2,
   "metadata": {},
   "outputs": [
    {
     "data": {
      "text/plain": [
       "[{'label': 'fru-F-500075',\n",
       "  'symbol': '',\n",
       "  'id': 'VFB_00010001',\n",
       "  'tags': 'Entity|Adult|Anatomy|Cell|Expression_pattern_fragment|Individual|Nervous_system|Neuron|VFB|has_image|FlyCircuit|NBLAST',\n",
       "  'parents_label': 'expression pattern fragment|adult SMPpv1 lineage neuron',\n",
       "  'parents_id': 'VFBext_0000004|FBbt_00050031',\n",
       "  'data_source': 'FlyCircuit',\n",
       "  'accession': 'fru-F-500075',\n",
       "  'xrefs': ':fru-F-500075',\n",
       "  'templates': 'JRC2018Unisex|adult brain template JFRC2',\n",
       "  'dataset': 'Chiang2010',\n",
       "  'license': ''}]"
      ]
     },
     "execution_count": 2,
     "metadata": {},
     "output_type": "execute_result"
    }
   ],
   "source": [
    "#  Query with for term by ID. Supported IDs include anatomical individuals \n",
    "# (typically used for individual anatomical entities depicted in images), \n",
    "# dataset IDs and anatomy ontology IDs (FBbt)\n",
    "\n",
    "# All return values follow VFB_json_schema ()\n",
    "\n",
    "vc.neo_query_wrapper.get_TermInfo(['VFB_00010001']) # This can take multiple IDs, but is not efficient for querying with many IDs"
   ]
  },
  {
   "cell_type": "code",
   "execution_count": 3,
   "metadata": {},
   "outputs": [
    {
     "data": {
      "text/plain": [
       "dict_keys(['label', 'symbol', 'id', 'tags', 'parents_label', 'parents_id', 'data_source', 'accession', 'xrefs', 'templates', 'dataset', 'license'])"
      ]
     },
     "execution_count": 3,
     "metadata": {},
     "output_type": "execute_result"
    }
   ],
   "source": [
    "vc.neo_query_wrapper.get_TermInfo(['VFB_00010001'])[0].keys()"
   ]
  },
  {
   "cell_type": "code",
   "execution_count": 4,
   "metadata": {},
   "outputs": [
    {
     "data": {
      "text/plain": [
       "[{'label': 'Ito lab adult brain lineage clone image set',\n",
       "  'symbol': '',\n",
       "  'id': 'Ito2013',\n",
       "  'tags': 'Entity|DataSet|Individual|has_image',\n",
       "  'description': [\"An exhaustive set of lineage clones covering the adult brain from Kei Ito's  lab.\"],\n",
       "  'miniref': 'Ito et al., 2013, Curr. Biol. 23(8): 644--655',\n",
       "  'FlyBase': 'FBrf0221438',\n",
       "  'PMID': '23541729',\n",
       "  'DOI': '10.1016/j.cub.2013.03.015'}]"
      ]
     },
     "execution_count": 4,
     "metadata": {},
     "output_type": "execute_result"
    }
   ],
   "source": [
    "#  Term type specific lookups are more efficient:\n",
    "\n",
    "vc.neo_query_wrapper.get_DataSet_TermInfo(['Ito2013'])"
   ]
  },
  {
   "cell_type": "code",
   "execution_count": 5,
   "metadata": {},
   "outputs": [
    {
     "data": {
      "text/plain": [
       "['vnc1_catmaid_api',\n",
       " 'vnc_harvard_catmaid_api',\n",
       " 'flywire_supervoxel',\n",
       " 'l1em_catmaid_api',\n",
       " 'fafb_catmaid_api',\n",
       " 'jrc_slide_code_api',\n",
       " 'InsectBrainDB',\n",
       " 'FlyBrain_NDB',\n",
       " 'catmaid_fafb',\n",
       " 'catmaid_fanc',\n",
       " 'scExpressionAtlas',\n",
       " 'Konstantinides_et_al_2018_OpticLobe',\n",
       " 'FlyCircuit',\n",
       " 'QuickGO',\n",
       " 'catmaid_l1em',\n",
       " 'FlyLightSplit',\n",
       " 'FlyLightRaw',\n",
       " 'AmiGO',\n",
       " 'flywire783',\n",
       " 'flywire630',\n",
       " 'VDRC',\n",
       " 'FlyBase',\n",
       " 'catmaid_leg40',\n",
       " 'larvalbrain_neuropil',\n",
       " 'BrainTrap',\n",
       " 'catmaid_fanc_JRC2018VF',\n",
       " 'neuprint_JRC_Manc',\n",
       " 'FlyBase_vocabularies',\n",
       " 'FlyLightSplitSlideCode',\n",
       " 'FlyLightGen1MCFO',\n",
       " 'FlyCircuit1v2',\n",
       " 'FlyLightRawSlideCode',\n",
       " 'neuronbridge',\n",
       " 'FlyPNS',\n",
       " 'ExpressionAtlas',\n",
       " 'larvalbrain_axon_tract',\n",
       " 'FlyLightGen1MCFOSlideCode',\n",
       " 'FlyLight',\n",
       " 'DoOR',\n",
       " 'neuprint_JRC_Hemibrain_1point0point1',\n",
       " 'GEO',\n",
       " 'lmb_cluster_pages_v3',\n",
       " 'lmb_cluster_pages_v2',\n",
       " 'neuprint_JRC_Hemibrain_1point2point1']"
      ]
     },
     "execution_count": 5,
     "metadata": {},
     "output_type": "execute_result"
    }
   ],
   "source": [
    "# Query with an external ID.\n",
    "# To find what sources (DBs) are supported: \n",
    "\n",
    "vc.neo_query_wrapper.get_dbs()"
   ]
  },
  {
   "cell_type": "code",
   "execution_count": 6,
   "metadata": {},
   "outputs": [
    {
     "data": {
      "text/plain": [
       "[{'label': 'mPN (L1EM:17545695)',\n",
       "  'symbol': '',\n",
       "  'id': 'VFB_00100184',\n",
       "  'tags': 'Entity|Anatomy|Cell|Individual|Larva|Nervous_system|Neuron|has_image|has_neuron_connectivity|L1EM',\n",
       "  'parents_label': 'larval subesophageal zone cypress neuron',\n",
       "  'parents_id': 'FBbt_00111724',\n",
       "  'data_source': 'catmaid_l1em',\n",
       "  'accession': '17545695',\n",
       "  'xrefs': ':17545695',\n",
       "  'templates': 'L1 larval CNS ssTEM - Cardona/Janelia',\n",
       "  'dataset': 'Berck2016',\n",
       "  'license': 'https://creativecommons.org/licenses/by-sa/4.0/legalcode'}]"
      ]
     },
     "execution_count": 6,
     "metadata": {},
     "output_type": "execute_result"
    }
   ],
   "source": [
    "# Querying with an ID from catmaid_l1em\n",
    "vc.neo_query_wrapper.get_terms_by_xref(['17545695'], db='catmaid_l1em')"
   ]
  },
  {
   "cell_type": "code",
   "execution_count": 7,
   "metadata": {},
   "outputs": [
    {
     "data": {
      "text/plain": [
       "[('11488881',\n",
       "  [{'db': 'catmaid_fafb', 'vfb_id': 'VFB_00102fvq'},\n",
       "   {'db': 'catmaid_fafb', 'vfb_id': 'VFB_00102gso'}]),\n",
       " ('4524559', [{'db': 'catmaid_fafb', 'vfb_id': 'VFB_001013x3'}]),\n",
       " ('14810632',\n",
       "  [{'db': 'catmaid_fafb', 'vfb_id': 'VFB_00102h06'},\n",
       "   {'db': 'catmaid_fafb', 'vfb_id': 'VFB_00102g38'}]),\n",
       " ('5864214', [{'db': 'catmaid_fafb', 'vfb_id': 'VFB_00102dw0'}]),\n",
       " ('10604481',\n",
       "  [{'db': 'catmaid_fafb', 'vfb_id': 'VFB_00102ftc'},\n",
       "   {'db': 'catmaid_fafb', 'vfb_id': 'VFB_00102gqa'}]),\n",
       " ('5055252', [{'db': 'catmaid_fafb', 'vfb_id': 'VFB_001000mb'}]),\n",
       " ('14923390',\n",
       "  [{'db': 'catmaid_fafb', 'vfb_id': 'VFB_00102h53'},\n",
       "   {'db': 'catmaid_fafb', 'vfb_id': 'VFB_00102g85'}]),\n",
       " ('14932351',\n",
       "  [{'db': 'catmaid_fafb', 'vfb_id': 'VFB_00102g8m'},\n",
       "   {'db': 'catmaid_fafb', 'vfb_id': 'VFB_00102h5k'}]),\n",
       " ('10718661',\n",
       "  [{'db': 'catmaid_fafb', 'vfb_id': 'VFB_00102gql'},\n",
       "   {'db': 'catmaid_fafb', 'vfb_id': 'VFB_00102ftn'}]),\n",
       " ('12917646',\n",
       "  [{'db': 'catmaid_fafb', 'vfb_id': 'VFB_00102gut'},\n",
       "   {'db': 'catmaid_fafb', 'vfb_id': 'VFB_00102fxv'}])]"
      ]
     },
     "execution_count": 7,
     "metadata": {},
     "output_type": "execute_result"
    }
   ],
   "source": [
    "# Get all xrefs by database\n",
    "\n",
    "list(vc.neo_query_wrapper.xref_2_vfb_id(db='catmaid_fafb').items())[0:10]"
   ]
  },
  {
   "cell_type": "code",
   "execution_count": 8,
   "metadata": {},
   "outputs": [
    {
     "name": "stdout",
     "output_type": "stream",
     "text": [
      "Running query: RO:0002131 some FBbt:00003679\n",
      "Query URL: http://owl.virtualflybrain.org/kbs/vfb/subclasses?object=RO%3A0002131+some+FBbt%3A00003679&prefixes=%7B%22FBbt%22%3A+%22http%3A%2F%2Fpurl.obolibrary.org%2Fobo%2FFBbt_%22%2C+%22RO%22%3A+%22http%3A%2F%2Fpurl.obolibrary.org%2Fobo%2FRO_%22%2C+%22BFO%22%3A+%22http%3A%2F%2Fpurl.obolibrary.org%2Fobo%2FBFO_%22%7D&direct=False\n",
      "Query results: 250\n"
     ]
    },
    {
     "data": {
      "text/plain": [
       "250"
      ]
     },
     "execution_count": 8,
     "metadata": {},
     "output_type": "execute_result"
    }
   ],
   "source": [
    "# Methods directly on cross-server tools allow integrative queries and support query by label\n",
    "\n",
    "# vc.get_terms_by_region: gets all terms relevant to a partcular region including neurons and parts\n",
    "    \n",
    "len(vc.get_terms_by_region('fan-shaped body'))\n",
    "\n",
    "  "
   ]
  },
  {
   "cell_type": "code",
   "execution_count": 9,
   "metadata": {},
   "outputs": [
    {
     "name": "stdout",
     "output_type": "stream",
     "text": [
      "Running query: RO:0002131 some FBbt:00003679\n",
      "Query URL: http://owl.virtualflybrain.org/kbs/vfb/subclasses?object=RO%3A0002131+some+FBbt%3A00003679&prefixes=%7B%22FBbt%22%3A+%22http%3A%2F%2Fpurl.obolibrary.org%2Fobo%2FFBbt_%22%2C+%22RO%22%3A+%22http%3A%2F%2Fpurl.obolibrary.org%2Fobo%2FRO_%22%2C+%22BFO%22%3A+%22http%3A%2F%2Fpurl.obolibrary.org%2Fobo%2FBFO_%22%7D&direct=False\n",
      "Query results: 250\n"
     ]
    },
    {
     "data": {
      "text/plain": [
       "[('fan-shaped body layer 4', 'FBbt_00007491'),\n",
       " ('fan-shaped body layer 5', 'FBbt_00007492'),\n",
       " ('fan-shaped body layer 3', 'FBbt_00007490'),\n",
       " ('octopaminergic VPM3 neuron', 'FBbt_00110151'),\n",
       " ('fan-shaped body layer 6', 'FBbt_00007493'),\n",
       " ('fan-shaped body layer 9', 'FBbt_00047032'),\n",
       " ('adult NPF P2 neuron', 'FBbt_00048121'),\n",
       " ('pupal protocerebral LPP2 Tachykinin neuron', 'FBbt_00110040'),\n",
       " ('adult ellipsoid body extrinsic ring neuron ExR3', 'FBbt_00047035'),\n",
       " ('adult ExR1 neuron of DM4 lineage', 'FBbt_00053035')]"
      ]
     },
     "execution_count": 9,
     "metadata": {},
     "output_type": "execute_result"
    }
   ],
   "source": [
    "[(x['term']['core']['label'], x['term']['core']['short_form']) \n",
    " for x in vc.get_terms_by_region('fan-shaped body', summary=False)][0:10]  \n"
   ]
  },
  {
   "cell_type": "code",
   "execution_count": 10,
   "metadata": {},
   "outputs": [
    {
     "name": "stderr",
     "output_type": "stream",
     "text": [
      "/usr/local/anaconda3/lib/python3.10/site-packages/vfb_connect/neo/query_wrapper.py:252: UserWarning: No results returned for query: MATCH (primary:Individual) WHERE primary.short_form in ['l', 'a', 'r', 'v', 'a', 'l', ' ', 's', 'u', 'b', 'e', 's', 'o', 'p', 'h', 'a', 'g', 'e', 'a', 'l', ' ', 'z', 'o', 'n', 'e', ' ', 'c', 'y', 'p', 'r', 'e', 's', 's', ' ', 'n', 'e', 'u', 'r', 'o', 'n'] WITH primary OPTIONAL MATCH (primary)-[:has_source]-(ds:DataSet)-[:has_license|license]->(l:License) WITH COLLECT ({ dataset: { link : coalesce(([]+ds.dataset_link)[0], ''), core : { short_form: ds.short_form, label: coalesce(ds.label,''), iri: ds.iri, types: labels(ds), unique_facets: apoc.coll.sort(coalesce(ds.uniqueFacets, [])), symbol: coalesce(([]+ds.symbol)[0], '')} }, license: { icon : coalesce(([]+l.license_logo)[0], ''), link : coalesce(([]+l.license_url)[0], ''), core : { short_form: l.short_form, label: coalesce(l.label,''), iri: l.iri, types: labels(l), unique_facets: apoc.coll.sort(coalesce(l.uniqueFacets, [])), symbol: coalesce(([]+l.symbol)[0], '')} }}) AS dataset_license,primary OPTIONAL MATCH (o:Class)<-[r:SUBCLASSOF|INSTANCEOF]-(primary) WITH CASE WHEN o IS NULL THEN [] ELSE COLLECT ({ short_form: o.short_form, label: coalesce(o.label,''), iri: o.iri, types: labels(o), unique_facets: apoc.coll.sort(coalesce(o.uniqueFacets, [])), symbol: coalesce(([]+o.symbol)[0], '')} ) END AS parents ,primary,dataset_license OPTIONAL MATCH (o:Class)<-[r {}]-(primary) WHERE (r.type='Related') AND ((not exists(r.hide_in_terminfo)) OR (not (r.hide_in_terminfo[0] = true))) WITH CASE WHEN o IS NULL THEN [] ELSE COLLECT ({ relation: { label: r.label, iri: r.iri, type: type(r), database_cross_reference: coalesce(r.database_cross_reference, []), confidence_value: coalesce(toString(r.confidence_value[0]), '') }, object: { short_form: o.short_form, label: coalesce(o.label,''), iri: o.iri, types: labels(o), unique_facets: apoc.coll.sort(coalesce(o.uniqueFacets, [])), symbol: coalesce(([]+o.symbol)[0], '')} }) END AS relationships ,primary,dataset_license,parents OPTIONAL MATCH (o)<-[r:term_replaced_by]-(primary) WITH CASE WHEN o IS NULL THEN [] ELSE COLLECT ({ relation: { label: r.label, iri: r.iri, type: type(r), database_cross_reference: coalesce(r.database_cross_reference, []), confidence_value: coalesce(toString(r.confidence_value[0]), '') }, object: { short_form: o.short_form, label: coalesce(o.label,''), iri: o.iri, types: labels(o), unique_facets: apoc.coll.sort(coalesce(o.uniqueFacets, [])), symbol: coalesce(([]+o.symbol)[0], '')} }) END AS related_individuals ,primary,dataset_license,parents,relationships OPTIONAL MATCH (s:Site { short_form: apoc.convert.toList(primary.self_xref)[0] }) WITH CASE WHEN s IS NULL THEN [] ELSE COLLECT({ link_base: coalesce(([]+s.link_base)[0], ''), accession: coalesce(primary.short_form, ''), link_text: primary.label + ' on ' + s.label, homepage: coalesce(s.homepage[0], ''), is_data_source: coalesce(s.is_data_source[0], false), site: { short_form: s.short_form, label: coalesce(s.label,''), iri: s.iri, types: labels(s), unique_facets: apoc.coll.sort(coalesce(s.uniqueFacets, [])), symbol: coalesce(([]+s.symbol)[0], '')} , icon: coalesce(s.link_icon_url[0], ''), link_postfix: coalesce(s.link_postfix[0], '')}) END AS self_xref, primary, dataset_license, parents, relationships, related_individuals OPTIONAL MATCH (s:Site)<-[dbx:database_cross_reference]-(primary) WITH CASE WHEN s IS NULL THEN self_xref ELSE COLLECT({ link_base: coalesce(([]+s.link_base)[0], ''), accession: coalesce(([]+dbx.accession)[0], ''), link_text: primary.label + ' on ' + s.label, homepage: coalesce(s.homepage[0], ''), is_data_source: coalesce(s.is_data_source[0], false), site: { short_form: s.short_form, label: coalesce(s.label,''), iri: s.iri, types: labels(s), unique_facets: apoc.coll.sort(coalesce(s.uniqueFacets, [])), symbol: coalesce(([]+s.symbol)[0], '')} , icon: coalesce(s.link_icon_url[0], ''), link_postfix: coalesce(s.link_postfix[0], '')}) + self_xref END AS xrefs,primary,dataset_license,parents,relationships,related_individuals OPTIONAL MATCH (primary)<-[:depicts]-(channel:Individual)-[irw:in_register_with]->(template:Individual)-[:depicts]->(template_anat:Individual) WITH template, channel, template_anat, irw, primary, dataset_license, parents, relationships, related_individuals, xrefs OPTIONAL MATCH (channel)-[:is_specified_output_of]->(technique:Class) WITH CASE WHEN channel IS NULL THEN [] ELSE collect ({ channel: { short_form: channel.short_form, label: coalesce(channel.label,''), iri: channel.iri, types: labels(channel), unique_facets: apoc.coll.sort(coalesce(channel.uniqueFacets, [])), symbol: coalesce(([]+channel.symbol)[0], '')} , imaging_technique: { short_form: technique.short_form, label: coalesce(technique.label,''), iri: technique.iri, types: labels(technique), unique_facets: apoc.coll.sort(coalesce(technique.uniqueFacets, [])), symbol: coalesce(([]+technique.symbol)[0], '')} ,image: { template_channel : { short_form: template.short_form, label: coalesce(template.label,''), iri: template.iri, types: labels(template), unique_facets: apoc.coll.sort(coalesce(template.uniqueFacets, [])), symbol: coalesce(([]+template.symbol)[0], '')} , template_anatomy: { short_form: template_anat.short_form, label: coalesce(template_anat.label,''), iri: template_anat.iri, types: labels(template_anat), unique_facets: apoc.coll.sort(coalesce(template_anat.uniqueFacets, [])), symbol: coalesce(([]+template_anat.symbol)[0], '')} ,image_folder: COALESCE(([]+irw.folder)[0], ''), image_nrrd: COALESCE(([]+irw.nrrd)[0], ''), image_thumbnail: COALESCE(([]+irw.thumbnail)[0], ''), image_swc: COALESCE(([]+irw.swc)[0], ''), image_obj: COALESCE(([]+irw.obj)[0], ''), image_wlz: COALESCE(([]+irw.wlz)[0], ''), index: coalesce(apoc.convert.toInteger(([]+irw.index)[0]), []) + [] }}) END AS channel_image,primary,dataset_license,parents,relationships,related_individuals,xrefs OPTIONAL MATCH (primary)-[rp:has_reference]->(p:pub) where rp.typ = 'syn' WITH CASE WHEN p is null THEN [] ELSE collect({ pub: { core: { short_form: p.short_form, label: coalesce(p.label,''), iri: p.iri, types: labels(p), unique_facets: apoc.coll.sort(coalesce(p.uniqueFacets, [])), symbol: coalesce(([]+p.symbol)[0], '')} , PubMed: coalesce(([]+p.PMID)[0], ''), FlyBase: coalesce(([]+p.FlyBase)[0], ''), DOI: coalesce(([]+p.DOI)[0], '') } , synonym: { label: coalesce(([]+rp.value)[0], ''), scope: coalesce(rp.scope, ''), type: coalesce(([]+rp.has_synonym_type)[0],'') } }) END AS pub_syn,primary,dataset_license,parents,relationships,related_individuals,xrefs,channel_image OPTIONAL MATCH (primary)-[rp:has_reference]->(p:pub) WHERE rp.typ = 'def' WITH CASE WHEN p is null THEN [] ELSE collect({ core: { short_form: p.short_form, label: coalesce(p.label,''), iri: p.iri, types: labels(p), unique_facets: apoc.coll.sort(coalesce(p.uniqueFacets, [])), symbol: coalesce(([]+p.symbol)[0], '')} , PubMed: coalesce(([]+p.PMID)[0], ''), FlyBase: coalesce(([]+p.FlyBase)[0], ''), DOI: coalesce(([]+p.DOI)[0], '') } ) END AS def_pubs,primary,dataset_license,parents,relationships,related_individuals,xrefs,channel_image,pub_syn RETURN { core : { short_form: primary.short_form, label: coalesce(primary.label,''), iri: primary.iri, types: labels(primary), unique_facets: apoc.coll.sort(coalesce(primary.uniqueFacets, [])), symbol: coalesce(([]+primary.symbol)[0], '')} , description : coalesce(primary.description, []), comment : coalesce(primary.comment, []) } AS term, 'Get JSON for Individual' AS query, 'c58c844' AS version , dataset_license, parents, relationships, related_individuals, xrefs, channel_image, pub_syn, def_pubs -> [{'columns': ['term', 'query', 'version', 'dataset_license', 'parents', 'relationships', 'related_individuals', 'xrefs', 'channel_image', 'pub_syn', 'def_pubs'], 'data': []}] -> []\n",
      "  warnings.warn('No results returned for query: %s -> %s -> %s' % (q, qr, r))\n"
     ]
    }
   ],
   "source": [
    "cyp_neuron_images = vc.neo_query_wrapper.get_images('larval subesophageal zone cypress neuron', template='JRC2018U', image_folder= '/tmp/images')"
   ]
  },
  {
   "cell_type": "code",
   "execution_count": 11,
   "metadata": {},
   "outputs": [
    {
     "data": {
      "text/plain": [
       "[]"
      ]
     },
     "execution_count": 11,
     "metadata": {},
     "output_type": "execute_result"
    }
   ],
   "source": [
    "# Returned JSON includes direct links to image folders for each template the image is registered to:\n",
    "\n",
    "[(i['term']['core']['label'],\n",
    "  [{ 'image_folder': x['image']['image_folder'], 'template': x['image']['template_anatomy']['label']}\n",
    "   for x in i['channel_image']]) for i in cyp_neuron_images]\n"
   ]
  },
  {
   "cell_type": "code",
   "execution_count": 12,
   "metadata": {},
   "outputs": [
    {
     "name": "stderr",
     "output_type": "stream",
     "text": [
      "/usr/local/anaconda3/lib/python3.10/site-packages/vfb_connect/neo/query_wrapper.py:252: UserWarning: No results returned for query: MATCH (primary:Individual) WHERE primary.short_form in ['f', 'a', 'n', '-', 's', 'h', 'a', 'p', 'e', 'd', ' ', 'b', 'o', 'd', 'y'] WITH primary OPTIONAL MATCH (primary)-[:has_source]-(ds:DataSet)-[:has_license|license]->(l:License) WITH COLLECT ({ dataset: { link : coalesce(([]+ds.dataset_link)[0], ''), core : { short_form: ds.short_form, label: coalesce(ds.label,''), iri: ds.iri, types: labels(ds), unique_facets: apoc.coll.sort(coalesce(ds.uniqueFacets, [])), symbol: coalesce(([]+ds.symbol)[0], '')} }, license: { icon : coalesce(([]+l.license_logo)[0], ''), link : coalesce(([]+l.license_url)[0], ''), core : { short_form: l.short_form, label: coalesce(l.label,''), iri: l.iri, types: labels(l), unique_facets: apoc.coll.sort(coalesce(l.uniqueFacets, [])), symbol: coalesce(([]+l.symbol)[0], '')} }}) AS dataset_license,primary OPTIONAL MATCH (o:Class)<-[r:SUBCLASSOF|INSTANCEOF]-(primary) WITH CASE WHEN o IS NULL THEN [] ELSE COLLECT ({ short_form: o.short_form, label: coalesce(o.label,''), iri: o.iri, types: labels(o), unique_facets: apoc.coll.sort(coalesce(o.uniqueFacets, [])), symbol: coalesce(([]+o.symbol)[0], '')} ) END AS parents ,primary,dataset_license OPTIONAL MATCH (o:Class)<-[r {}]-(primary) WHERE (r.type='Related') AND ((not exists(r.hide_in_terminfo)) OR (not (r.hide_in_terminfo[0] = true))) WITH CASE WHEN o IS NULL THEN [] ELSE COLLECT ({ relation: { label: r.label, iri: r.iri, type: type(r), database_cross_reference: coalesce(r.database_cross_reference, []), confidence_value: coalesce(toString(r.confidence_value[0]), '') }, object: { short_form: o.short_form, label: coalesce(o.label,''), iri: o.iri, types: labels(o), unique_facets: apoc.coll.sort(coalesce(o.uniqueFacets, [])), symbol: coalesce(([]+o.symbol)[0], '')} }) END AS relationships ,primary,dataset_license,parents OPTIONAL MATCH (o)<-[r:term_replaced_by]-(primary) WITH CASE WHEN o IS NULL THEN [] ELSE COLLECT ({ relation: { label: r.label, iri: r.iri, type: type(r), database_cross_reference: coalesce(r.database_cross_reference, []), confidence_value: coalesce(toString(r.confidence_value[0]), '') }, object: { short_form: o.short_form, label: coalesce(o.label,''), iri: o.iri, types: labels(o), unique_facets: apoc.coll.sort(coalesce(o.uniqueFacets, [])), symbol: coalesce(([]+o.symbol)[0], '')} }) END AS related_individuals ,primary,dataset_license,parents,relationships OPTIONAL MATCH (s:Site { short_form: apoc.convert.toList(primary.self_xref)[0] }) WITH CASE WHEN s IS NULL THEN [] ELSE COLLECT({ link_base: coalesce(([]+s.link_base)[0], ''), accession: coalesce(primary.short_form, ''), link_text: primary.label + ' on ' + s.label, homepage: coalesce(s.homepage[0], ''), is_data_source: coalesce(s.is_data_source[0], false), site: { short_form: s.short_form, label: coalesce(s.label,''), iri: s.iri, types: labels(s), unique_facets: apoc.coll.sort(coalesce(s.uniqueFacets, [])), symbol: coalesce(([]+s.symbol)[0], '')} , icon: coalesce(s.link_icon_url[0], ''), link_postfix: coalesce(s.link_postfix[0], '')}) END AS self_xref, primary, dataset_license, parents, relationships, related_individuals OPTIONAL MATCH (s:Site)<-[dbx:database_cross_reference]-(primary) WITH CASE WHEN s IS NULL THEN self_xref ELSE COLLECT({ link_base: coalesce(([]+s.link_base)[0], ''), accession: coalesce(([]+dbx.accession)[0], ''), link_text: primary.label + ' on ' + s.label, homepage: coalesce(s.homepage[0], ''), is_data_source: coalesce(s.is_data_source[0], false), site: { short_form: s.short_form, label: coalesce(s.label,''), iri: s.iri, types: labels(s), unique_facets: apoc.coll.sort(coalesce(s.uniqueFacets, [])), symbol: coalesce(([]+s.symbol)[0], '')} , icon: coalesce(s.link_icon_url[0], ''), link_postfix: coalesce(s.link_postfix[0], '')}) + self_xref END AS xrefs,primary,dataset_license,parents,relationships,related_individuals OPTIONAL MATCH (primary)<-[:depicts]-(channel:Individual)-[irw:in_register_with]->(template:Individual)-[:depicts]->(template_anat:Individual) WITH template, channel, template_anat, irw, primary, dataset_license, parents, relationships, related_individuals, xrefs OPTIONAL MATCH (channel)-[:is_specified_output_of]->(technique:Class) WITH CASE WHEN channel IS NULL THEN [] ELSE collect ({ channel: { short_form: channel.short_form, label: coalesce(channel.label,''), iri: channel.iri, types: labels(channel), unique_facets: apoc.coll.sort(coalesce(channel.uniqueFacets, [])), symbol: coalesce(([]+channel.symbol)[0], '')} , imaging_technique: { short_form: technique.short_form, label: coalesce(technique.label,''), iri: technique.iri, types: labels(technique), unique_facets: apoc.coll.sort(coalesce(technique.uniqueFacets, [])), symbol: coalesce(([]+technique.symbol)[0], '')} ,image: { template_channel : { short_form: template.short_form, label: coalesce(template.label,''), iri: template.iri, types: labels(template), unique_facets: apoc.coll.sort(coalesce(template.uniqueFacets, [])), symbol: coalesce(([]+template.symbol)[0], '')} , template_anatomy: { short_form: template_anat.short_form, label: coalesce(template_anat.label,''), iri: template_anat.iri, types: labels(template_anat), unique_facets: apoc.coll.sort(coalesce(template_anat.uniqueFacets, [])), symbol: coalesce(([]+template_anat.symbol)[0], '')} ,image_folder: COALESCE(([]+irw.folder)[0], ''), image_nrrd: COALESCE(([]+irw.nrrd)[0], ''), image_thumbnail: COALESCE(([]+irw.thumbnail)[0], ''), image_swc: COALESCE(([]+irw.swc)[0], ''), image_obj: COALESCE(([]+irw.obj)[0], ''), image_wlz: COALESCE(([]+irw.wlz)[0], ''), index: coalesce(apoc.convert.toInteger(([]+irw.index)[0]), []) + [] }}) END AS channel_image,primary,dataset_license,parents,relationships,related_individuals,xrefs OPTIONAL MATCH (primary)-[rp:has_reference]->(p:pub) where rp.typ = 'syn' WITH CASE WHEN p is null THEN [] ELSE collect({ pub: { core: { short_form: p.short_form, label: coalesce(p.label,''), iri: p.iri, types: labels(p), unique_facets: apoc.coll.sort(coalesce(p.uniqueFacets, [])), symbol: coalesce(([]+p.symbol)[0], '')} , PubMed: coalesce(([]+p.PMID)[0], ''), FlyBase: coalesce(([]+p.FlyBase)[0], ''), DOI: coalesce(([]+p.DOI)[0], '') } , synonym: { label: coalesce(([]+rp.value)[0], ''), scope: coalesce(rp.scope, ''), type: coalesce(([]+rp.has_synonym_type)[0],'') } }) END AS pub_syn,primary,dataset_license,parents,relationships,related_individuals,xrefs,channel_image OPTIONAL MATCH (primary)-[rp:has_reference]->(p:pub) WHERE rp.typ = 'def' WITH CASE WHEN p is null THEN [] ELSE collect({ core: { short_form: p.short_form, label: coalesce(p.label,''), iri: p.iri, types: labels(p), unique_facets: apoc.coll.sort(coalesce(p.uniqueFacets, [])), symbol: coalesce(([]+p.symbol)[0], '')} , PubMed: coalesce(([]+p.PMID)[0], ''), FlyBase: coalesce(([]+p.FlyBase)[0], ''), DOI: coalesce(([]+p.DOI)[0], '') } ) END AS def_pubs,primary,dataset_license,parents,relationships,related_individuals,xrefs,channel_image,pub_syn RETURN { core : { short_form: primary.short_form, label: coalesce(primary.label,''), iri: primary.iri, types: labels(primary), unique_facets: apoc.coll.sort(coalesce(primary.uniqueFacets, [])), symbol: coalesce(([]+primary.symbol)[0], '')} , description : coalesce(primary.description, []), comment : coalesce(primary.comment, []) } AS term, 'Get JSON for Individual' AS query, 'c58c844' AS version , dataset_license, parents, relationships, related_individuals, xrefs, channel_image, pub_syn, def_pubs -> [{'columns': ['term', 'query', 'version', 'dataset_license', 'parents', 'relationships', 'related_individuals', 'xrefs', 'channel_image', 'pub_syn', 'def_pubs'], 'data': []}] -> []\n",
      "  warnings.warn('No results returned for query: %s -> %s -> %s' % (q, qr, r))\n"
     ]
    },
    {
     "data": {
      "text/plain": [
       "[]"
      ]
     },
     "execution_count": 12,
     "metadata": {},
     "output_type": "execute_result"
    }
   ],
   "source": [
    "[(i['term']['core']['label'],\n",
    "  [{ 'image_folder': x['image']['image_folder'], 'template': x['image']['template_anatomy']['label']}\n",
    "   for x in i['channel_image']]) for i in vc.neo_query_wrapper.get_images('fan-shaped body', template='JRC2018Unisex', image_folder= '/tmp/images1')]\n"
   ]
  },
  {
   "cell_type": "code",
   "execution_count": 13,
   "metadata": {},
   "outputs": [
    {
     "name": "stderr",
     "output_type": "stream",
     "text": [
      "/usr/local/anaconda3/lib/python3.10/site-packages/vfb_connect/neo/query_wrapper.py:252: UserWarning: No results returned for query: MATCH (primary:Individual) WHERE primary.short_form in ['d', 'o', 'p', 'a', 'm', 'i', 'n', 'e', 'r', 'g', 'i', 'c', ' ', 'P', 'A', 'M', ' ', 'n', 'e', 'u', 'r', 'o', 'n'] WITH primary OPTIONAL MATCH (primary)-[:has_source]-(ds:DataSet)-[:has_license|license]->(l:License) WITH COLLECT ({ dataset: { link : coalesce(([]+ds.dataset_link)[0], ''), core : { short_form: ds.short_form, label: coalesce(ds.label,''), iri: ds.iri, types: labels(ds), unique_facets: apoc.coll.sort(coalesce(ds.uniqueFacets, [])), symbol: coalesce(([]+ds.symbol)[0], '')} }, license: { icon : coalesce(([]+l.license_logo)[0], ''), link : coalesce(([]+l.license_url)[0], ''), core : { short_form: l.short_form, label: coalesce(l.label,''), iri: l.iri, types: labels(l), unique_facets: apoc.coll.sort(coalesce(l.uniqueFacets, [])), symbol: coalesce(([]+l.symbol)[0], '')} }}) AS dataset_license,primary OPTIONAL MATCH (o:Class)<-[r:SUBCLASSOF|INSTANCEOF]-(primary) WITH CASE WHEN o IS NULL THEN [] ELSE COLLECT ({ short_form: o.short_form, label: coalesce(o.label,''), iri: o.iri, types: labels(o), unique_facets: apoc.coll.sort(coalesce(o.uniqueFacets, [])), symbol: coalesce(([]+o.symbol)[0], '')} ) END AS parents ,primary,dataset_license OPTIONAL MATCH (o:Class)<-[r {}]-(primary) WHERE (r.type='Related') AND ((not exists(r.hide_in_terminfo)) OR (not (r.hide_in_terminfo[0] = true))) WITH CASE WHEN o IS NULL THEN [] ELSE COLLECT ({ relation: { label: r.label, iri: r.iri, type: type(r), database_cross_reference: coalesce(r.database_cross_reference, []), confidence_value: coalesce(toString(r.confidence_value[0]), '') }, object: { short_form: o.short_form, label: coalesce(o.label,''), iri: o.iri, types: labels(o), unique_facets: apoc.coll.sort(coalesce(o.uniqueFacets, [])), symbol: coalesce(([]+o.symbol)[0], '')} }) END AS relationships ,primary,dataset_license,parents OPTIONAL MATCH (o)<-[r:term_replaced_by]-(primary) WITH CASE WHEN o IS NULL THEN [] ELSE COLLECT ({ relation: { label: r.label, iri: r.iri, type: type(r), database_cross_reference: coalesce(r.database_cross_reference, []), confidence_value: coalesce(toString(r.confidence_value[0]), '') }, object: { short_form: o.short_form, label: coalesce(o.label,''), iri: o.iri, types: labels(o), unique_facets: apoc.coll.sort(coalesce(o.uniqueFacets, [])), symbol: coalesce(([]+o.symbol)[0], '')} }) END AS related_individuals ,primary,dataset_license,parents,relationships OPTIONAL MATCH (s:Site { short_form: apoc.convert.toList(primary.self_xref)[0] }) WITH CASE WHEN s IS NULL THEN [] ELSE COLLECT({ link_base: coalesce(([]+s.link_base)[0], ''), accession: coalesce(primary.short_form, ''), link_text: primary.label + ' on ' + s.label, homepage: coalesce(s.homepage[0], ''), is_data_source: coalesce(s.is_data_source[0], false), site: { short_form: s.short_form, label: coalesce(s.label,''), iri: s.iri, types: labels(s), unique_facets: apoc.coll.sort(coalesce(s.uniqueFacets, [])), symbol: coalesce(([]+s.symbol)[0], '')} , icon: coalesce(s.link_icon_url[0], ''), link_postfix: coalesce(s.link_postfix[0], '')}) END AS self_xref, primary, dataset_license, parents, relationships, related_individuals OPTIONAL MATCH (s:Site)<-[dbx:database_cross_reference]-(primary) WITH CASE WHEN s IS NULL THEN self_xref ELSE COLLECT({ link_base: coalesce(([]+s.link_base)[0], ''), accession: coalesce(([]+dbx.accession)[0], ''), link_text: primary.label + ' on ' + s.label, homepage: coalesce(s.homepage[0], ''), is_data_source: coalesce(s.is_data_source[0], false), site: { short_form: s.short_form, label: coalesce(s.label,''), iri: s.iri, types: labels(s), unique_facets: apoc.coll.sort(coalesce(s.uniqueFacets, [])), symbol: coalesce(([]+s.symbol)[0], '')} , icon: coalesce(s.link_icon_url[0], ''), link_postfix: coalesce(s.link_postfix[0], '')}) + self_xref END AS xrefs,primary,dataset_license,parents,relationships,related_individuals OPTIONAL MATCH (primary)<-[:depicts]-(channel:Individual)-[irw:in_register_with]->(template:Individual)-[:depicts]->(template_anat:Individual) WITH template, channel, template_anat, irw, primary, dataset_license, parents, relationships, related_individuals, xrefs OPTIONAL MATCH (channel)-[:is_specified_output_of]->(technique:Class) WITH CASE WHEN channel IS NULL THEN [] ELSE collect ({ channel: { short_form: channel.short_form, label: coalesce(channel.label,''), iri: channel.iri, types: labels(channel), unique_facets: apoc.coll.sort(coalesce(channel.uniqueFacets, [])), symbol: coalesce(([]+channel.symbol)[0], '')} , imaging_technique: { short_form: technique.short_form, label: coalesce(technique.label,''), iri: technique.iri, types: labels(technique), unique_facets: apoc.coll.sort(coalesce(technique.uniqueFacets, [])), symbol: coalesce(([]+technique.symbol)[0], '')} ,image: { template_channel : { short_form: template.short_form, label: coalesce(template.label,''), iri: template.iri, types: labels(template), unique_facets: apoc.coll.sort(coalesce(template.uniqueFacets, [])), symbol: coalesce(([]+template.symbol)[0], '')} , template_anatomy: { short_form: template_anat.short_form, label: coalesce(template_anat.label,''), iri: template_anat.iri, types: labels(template_anat), unique_facets: apoc.coll.sort(coalesce(template_anat.uniqueFacets, [])), symbol: coalesce(([]+template_anat.symbol)[0], '')} ,image_folder: COALESCE(([]+irw.folder)[0], ''), image_nrrd: COALESCE(([]+irw.nrrd)[0], ''), image_thumbnail: COALESCE(([]+irw.thumbnail)[0], ''), image_swc: COALESCE(([]+irw.swc)[0], ''), image_obj: COALESCE(([]+irw.obj)[0], ''), image_wlz: COALESCE(([]+irw.wlz)[0], ''), index: coalesce(apoc.convert.toInteger(([]+irw.index)[0]), []) + [] }}) END AS channel_image,primary,dataset_license,parents,relationships,related_individuals,xrefs OPTIONAL MATCH (primary)-[rp:has_reference]->(p:pub) where rp.typ = 'syn' WITH CASE WHEN p is null THEN [] ELSE collect({ pub: { core: { short_form: p.short_form, label: coalesce(p.label,''), iri: p.iri, types: labels(p), unique_facets: apoc.coll.sort(coalesce(p.uniqueFacets, [])), symbol: coalesce(([]+p.symbol)[0], '')} , PubMed: coalesce(([]+p.PMID)[0], ''), FlyBase: coalesce(([]+p.FlyBase)[0], ''), DOI: coalesce(([]+p.DOI)[0], '') } , synonym: { label: coalesce(([]+rp.value)[0], ''), scope: coalesce(rp.scope, ''), type: coalesce(([]+rp.has_synonym_type)[0],'') } }) END AS pub_syn,primary,dataset_license,parents,relationships,related_individuals,xrefs,channel_image OPTIONAL MATCH (primary)-[rp:has_reference]->(p:pub) WHERE rp.typ = 'def' WITH CASE WHEN p is null THEN [] ELSE collect({ core: { short_form: p.short_form, label: coalesce(p.label,''), iri: p.iri, types: labels(p), unique_facets: apoc.coll.sort(coalesce(p.uniqueFacets, [])), symbol: coalesce(([]+p.symbol)[0], '')} , PubMed: coalesce(([]+p.PMID)[0], ''), FlyBase: coalesce(([]+p.FlyBase)[0], ''), DOI: coalesce(([]+p.DOI)[0], '') } ) END AS def_pubs,primary,dataset_license,parents,relationships,related_individuals,xrefs,channel_image,pub_syn RETURN { core : { short_form: primary.short_form, label: coalesce(primary.label,''), iri: primary.iri, types: labels(primary), unique_facets: apoc.coll.sort(coalesce(primary.uniqueFacets, [])), symbol: coalesce(([]+primary.symbol)[0], '')} , description : coalesce(primary.description, []), comment : coalesce(primary.comment, []) } AS term, 'Get JSON for Individual' AS query, 'c58c844' AS version , dataset_license, parents, relationships, related_individuals, xrefs, channel_image, pub_syn, def_pubs -> [{'columns': ['term', 'query', 'version', 'dataset_license', 'parents', 'relationships', 'related_individuals', 'xrefs', 'channel_image', 'pub_syn', 'def_pubs'], 'data': []}] -> []\n",
      "  warnings.warn('No results returned for query: %s -> %s -> %s' % (q, qr, r))\n"
     ]
    },
    {
     "data": {
      "text/plain": [
       "[]"
      ]
     },
     "execution_count": 13,
     "metadata": {},
     "output_type": "execute_result"
    }
   ],
   "source": [
    "# Image queries range across multiple types\n",
    "[(i['term']['core']['label'],\n",
    "  [ x['label'] for x in i['parents']],\n",
    "  [{ 'image_folder': x['image']['image_folder'], 'template': x['image']['template_anatomy']['label']}\n",
    "   for x in i['channel_image']]) for i in vc.neo_query_wrapper.get_images('dopaminergic PAM neuron', template='JRC2018Unisex', image_folder= '/tmp/images2')][0:5]"
   ]
  }
 ],
 "metadata": {
  "kernelspec": {
   "display_name": "Python 3",
   "language": "python",
   "name": "python3"
  },
  "language_info": {
   "codemirror_mode": {
    "name": "ipython",
    "version": 3
   },
   "file_extension": ".py",
   "mimetype": "text/x-python",
   "name": "python",
   "nbconvert_exporter": "python",
   "pygments_lexer": "ipython3",
   "version": "3.10.9"
  }
 },
 "nbformat": 4,
 "nbformat_minor": 2
}
