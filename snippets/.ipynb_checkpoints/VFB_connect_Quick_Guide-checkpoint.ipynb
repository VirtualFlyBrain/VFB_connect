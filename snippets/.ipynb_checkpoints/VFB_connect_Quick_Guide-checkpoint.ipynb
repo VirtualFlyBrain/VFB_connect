{
 "cells": [
  {
   "cell_type": "code",
   "execution_count": 1,
   "metadata": {},
   "outputs": [
    {
     "name": "stdout",
     "output_type": "stream",
     "text": [
      "Requirement already satisfied: requests in /usr/local/anaconda3/lib/python3.10/site-packages (from -r ../../requirements.txt (line 1)) (2.32.3)\n",
      "Requirement already satisfied: psycopg2 in /usr/local/anaconda3/lib/python3.10/site-packages (from -r ../../requirements.txt (line 2)) (2.9.9)\n",
      "Requirement already satisfied: pandas in /usr/local/anaconda3/lib/python3.10/site-packages (from -r ../../requirements.txt (line 3)) (2.2.2)\n",
      "Requirement already satisfied: pandasql in /usr/local/anaconda3/lib/python3.10/site-packages (from -r ../../requirements.txt (line 4)) (0.7.3)\n",
      "Requirement already satisfied: jsonpath_rw in /usr/local/anaconda3/lib/python3.10/site-packages (from -r ../../requirements.txt (line 5)) (1.4.0)\n",
      "Requirement already satisfied: setuptools~=50.3.2 in /usr/local/anaconda3/lib/python3.10/site-packages (from -r ../../requirements.txt (line 6)) (50.3.2)\n",
      "Requirement already satisfied: neuprint-python in /usr/local/anaconda3/lib/python3.10/site-packages (from -r ../../requirements.txt (line 7)) (0.4.26)\n",
      "Requirement already satisfied: pysolr in /usr/local/anaconda3/lib/python3.10/site-packages (from -r ../../requirements.txt (line 8)) (3.9.0)\n",
      "Requirement already satisfied: urllib3<3,>=1.21.1 in /usr/local/anaconda3/lib/python3.10/site-packages (from requests->-r ../../requirements.txt (line 1)) (2.2.2)\n",
      "Requirement already satisfied: certifi>=2017.4.17 in /usr/local/anaconda3/lib/python3.10/site-packages (from requests->-r ../../requirements.txt (line 1)) (2024.7.4)\n",
      "Requirement already satisfied: charset-normalizer<4,>=2 in /usr/local/anaconda3/lib/python3.10/site-packages (from requests->-r ../../requirements.txt (line 1)) (3.3.2)\n",
      "Requirement already satisfied: idna<4,>=2.5 in /usr/local/anaconda3/lib/python3.10/site-packages (from requests->-r ../../requirements.txt (line 1)) (3.7)\n",
      "Requirement already satisfied: python-dateutil>=2.8.2 in /usr/local/anaconda3/lib/python3.10/site-packages (from pandas->-r ../../requirements.txt (line 3)) (2.9.0.post0)\n",
      "Requirement already satisfied: numpy>=1.22.4 in /usr/local/anaconda3/lib/python3.10/site-packages (from pandas->-r ../../requirements.txt (line 3)) (1.26.4)\n",
      "Requirement already satisfied: tzdata>=2022.7 in /usr/local/anaconda3/lib/python3.10/site-packages (from pandas->-r ../../requirements.txt (line 3)) (2024.1)\n",
      "Requirement already satisfied: pytz>=2020.1 in /usr/local/anaconda3/lib/python3.10/site-packages (from pandas->-r ../../requirements.txt (line 3)) (2024.1)\n",
      "Requirement already satisfied: sqlalchemy in /usr/local/anaconda3/lib/python3.10/site-packages (from pandasql->-r ../../requirements.txt (line 4)) (1.4.39)\n",
      "Requirement already satisfied: six in /usr/local/anaconda3/lib/python3.10/site-packages (from jsonpath_rw->-r ../../requirements.txt (line 5)) (1.16.0)\n",
      "Requirement already satisfied: ply in /usr/local/anaconda3/lib/python3.10/site-packages (from jsonpath_rw->-r ../../requirements.txt (line 5)) (3.11)\n",
      "Requirement already satisfied: decorator in /usr/local/anaconda3/lib/python3.10/site-packages (from jsonpath_rw->-r ../../requirements.txt (line 5)) (5.1.1)\n",
      "Requirement already satisfied: asciitree in /usr/local/anaconda3/lib/python3.10/site-packages (from neuprint-python->-r ../../requirements.txt (line 7)) (0.3.3)\n",
      "Requirement already satisfied: ujson in /usr/local/anaconda3/lib/python3.10/site-packages (from neuprint-python->-r ../../requirements.txt (line 7)) (5.4.0)\n",
      "Requirement already satisfied: tqdm in /usr/local/anaconda3/lib/python3.10/site-packages (from neuprint-python->-r ../../requirements.txt (line 7)) (4.64.1)\n",
      "Requirement already satisfied: networkx in /usr/local/anaconda3/lib/python3.10/site-packages (from neuprint-python->-r ../../requirements.txt (line 7)) (2.8.4)\n",
      "Requirement already satisfied: scipy in /usr/local/anaconda3/lib/python3.10/site-packages (from neuprint-python->-r ../../requirements.txt (line 7)) (1.10.0)\n",
      "Requirement already satisfied: greenlet!=0.4.17 in /usr/local/anaconda3/lib/python3.10/site-packages (from sqlalchemy->pandasql->-r ../../requirements.txt (line 4)) (2.0.1)\n",
      "Processing /Users/robbiecourt/GIT/VFB_connect\n",
      "  Preparing metadata (setup.py) ... \u001b[?25ldone\n",
      "\u001b[?25hRequirement already satisfied: requests in /usr/local/anaconda3/lib/python3.10/site-packages (from vfb-connect==1.2.20.dev31+21f50cf.dirty) (2.32.3)\n",
      "Requirement already satisfied: pandas in /usr/local/anaconda3/lib/python3.10/site-packages (from vfb-connect==1.2.20.dev31+21f50cf.dirty) (2.2.2)\n",
      "Requirement already satisfied: jsonpath_rw in /usr/local/anaconda3/lib/python3.10/site-packages (from vfb-connect==1.2.20.dev31+21f50cf.dirty) (1.4.0)\n",
      "Requirement already satisfied: ply in /usr/local/anaconda3/lib/python3.10/site-packages (from jsonpath_rw->vfb-connect==1.2.20.dev31+21f50cf.dirty) (3.11)\n",
      "Requirement already satisfied: decorator in /usr/local/anaconda3/lib/python3.10/site-packages (from jsonpath_rw->vfb-connect==1.2.20.dev31+21f50cf.dirty) (5.1.1)\n",
      "Requirement already satisfied: six in /usr/local/anaconda3/lib/python3.10/site-packages (from jsonpath_rw->vfb-connect==1.2.20.dev31+21f50cf.dirty) (1.16.0)\n",
      "Requirement already satisfied: numpy>=1.22.4 in /usr/local/anaconda3/lib/python3.10/site-packages (from pandas->vfb-connect==1.2.20.dev31+21f50cf.dirty) (1.26.4)\n",
      "Requirement already satisfied: python-dateutil>=2.8.2 in /usr/local/anaconda3/lib/python3.10/site-packages (from pandas->vfb-connect==1.2.20.dev31+21f50cf.dirty) (2.9.0.post0)\n",
      "Requirement already satisfied: pytz>=2020.1 in /usr/local/anaconda3/lib/python3.10/site-packages (from pandas->vfb-connect==1.2.20.dev31+21f50cf.dirty) (2024.1)\n",
      "Requirement already satisfied: tzdata>=2022.7 in /usr/local/anaconda3/lib/python3.10/site-packages (from pandas->vfb-connect==1.2.20.dev31+21f50cf.dirty) (2024.1)\n",
      "Requirement already satisfied: idna<4,>=2.5 in /usr/local/anaconda3/lib/python3.10/site-packages (from requests->vfb-connect==1.2.20.dev31+21f50cf.dirty) (3.7)\n",
      "Requirement already satisfied: urllib3<3,>=1.21.1 in /usr/local/anaconda3/lib/python3.10/site-packages (from requests->vfb-connect==1.2.20.dev31+21f50cf.dirty) (2.2.2)\n",
      "Requirement already satisfied: charset-normalizer<4,>=2 in /usr/local/anaconda3/lib/python3.10/site-packages (from requests->vfb-connect==1.2.20.dev31+21f50cf.dirty) (3.3.2)\n",
      "Requirement already satisfied: certifi>=2017.4.17 in /usr/local/anaconda3/lib/python3.10/site-packages (from requests->vfb-connect==1.2.20.dev31+21f50cf.dirty) (2024.7.4)\n",
      "Building wheels for collected packages: vfb-connect\n",
      "  Building wheel for vfb-connect (setup.py) ... \u001b[?25ldone\n",
      "\u001b[?25h  Created wheel for vfb-connect: filename=vfb_connect-1.2.20.dev31+21f50cf.dirty-py3-none-any.whl size=41898 sha256=d05364f3bf3834a314300207a478ee037276eafb6c68b4f33df03453df03d78f\n",
      "  Stored in directory: /private/var/folders/7j/bv0xtj3s4m9dt5zjj_d4j6080000gn/T/pip-ephem-wheel-cache-ru0bp3ub/wheels/8a/3f/b7/d8e312c0c9bba1174fc1a5798dba579586f6d21e0116466a00\n",
      "Successfully built vfb-connect\n",
      "Installing collected packages: vfb-connect\n",
      "  Attempting uninstall: vfb-connect\n",
      "    Found existing installation: vfb-connect 1.2.20.dev30+dedd1f3.dirty\n",
      "    Uninstalling vfb-connect-1.2.20.dev30+dedd1f3.dirty:\n",
      "      Successfully uninstalled vfb-connect-1.2.20.dev30+dedd1f3.dirty\n",
      "Successfully installed vfb-connect-1.2.20.dev31+21f50cf.dirty\n"
     ]
    },
    {
     "name": "stderr",
     "output_type": "stream",
     "text": [
      "/usr/local/anaconda3/lib/python3.10/site-packages/pandas/core/arrays/masked.py:60: UserWarning: Pandas requires version '1.3.6' or newer of 'bottleneck' (version '1.3.5' currently installed).\n",
      "  from pandas.core import (\n"
     ]
    }
   ],
   "source": [
    "!pip install -r ../../requirements.txt --upgrade\n",
    "!pip install ../../\n",
    "\n",
    "from vfb_connect.cross_server_tools import VfbConnect\n",
    "\n",
    "# VfbConnect object => wrapper for connection to public VFB servers + query methods\n",
    "vc = VfbConnect()"
   ]
  },
  {
   "cell_type": "code",
   "execution_count": 2,
   "metadata": {},
   "outputs": [
    {
     "ename": "KeyError",
     "evalue": "'core'",
     "output_type": "error",
     "traceback": [
      "\u001b[0;31m---------------------------------------------------------------------------\u001b[0m",
      "\u001b[0;31mKeyError\u001b[0m                                  Traceback (most recent call last)",
      "Cell \u001b[0;32mIn[2], line 7\u001b[0m\n\u001b[1;32m      1\u001b[0m \u001b[38;5;66;03m#  Query with for term by ID. Supported IDs include anatomical individuals \u001b[39;00m\n\u001b[1;32m      2\u001b[0m \u001b[38;5;66;03m# (typically used for individual anatomical entities depicted in images), \u001b[39;00m\n\u001b[1;32m      3\u001b[0m \u001b[38;5;66;03m# dataset IDs and anatomy ontology IDs (FBbt)\u001b[39;00m\n\u001b[1;32m      4\u001b[0m \n\u001b[1;32m      5\u001b[0m \u001b[38;5;66;03m# All return values follow VFB_json_schema ()\u001b[39;00m\n\u001b[0;32m----> 7\u001b[0m \u001b[43mvc\u001b[49m\u001b[38;5;241;43m.\u001b[39;49m\u001b[43mneo_query_wrapper\u001b[49m\u001b[38;5;241;43m.\u001b[39;49m\u001b[43mget_TermInfo\u001b[49m\u001b[43m(\u001b[49m\u001b[43m[\u001b[49m\u001b[38;5;124;43m'\u001b[39;49m\u001b[38;5;124;43mVFB_00010001\u001b[39;49m\u001b[38;5;124;43m'\u001b[39;49m\u001b[43m]\u001b[49m\u001b[43m)\u001b[49m\n",
      "File \u001b[0;32m/usr/local/anaconda3/lib/python3.10/site-packages/vfb_connect/neo/query_wrapper.py:41\u001b[0m, in \u001b[0;36mbatch_query.<locals>.wrapper_batch\u001b[0;34m(*args, **kwargs)\u001b[0m\n\u001b[1;32m     39\u001b[0m     arglist[\u001b[38;5;241m1\u001b[39m] \u001b[38;5;241m=\u001b[39m c\n\u001b[1;32m     40\u001b[0m     subargs \u001b[38;5;241m=\u001b[39m \u001b[38;5;28mtuple\u001b[39m(arglist)\n\u001b[0;32m---> 41\u001b[0m     out\u001b[38;5;241m.\u001b[39mextend(\u001b[43mfunc\u001b[49m\u001b[43m(\u001b[49m\u001b[38;5;241;43m*\u001b[39;49m\u001b[43msubargs\u001b[49m\u001b[43m,\u001b[49m\u001b[43m \u001b[49m\u001b[38;5;241;43m*\u001b[39;49m\u001b[38;5;241;43m*\u001b[39;49m\u001b[43mkwargs\u001b[49m\u001b[43m)\u001b[49m)\n\u001b[1;32m     42\u001b[0m \u001b[38;5;28;01melif\u001b[39;00m arg1typ \u001b[38;5;241m==\u001b[39m \u001b[38;5;124m'\u001b[39m\u001b[38;5;124mk\u001b[39m\u001b[38;5;124m'\u001b[39m:\n\u001b[1;32m     43\u001b[0m     kwargdict \u001b[38;5;241m=\u001b[39m \u001b[38;5;28mdict\u001b[39m(kwargs)\n",
      "File \u001b[0;32m/usr/local/anaconda3/lib/python3.10/site-packages/vfb_connect/neo/query_wrapper.py:435\u001b[0m, in \u001b[0;36mQueryWrapper.get_TermInfo\u001b[0;34m(self, short_forms, summary, cache)\u001b[0m\n\u001b[1;32m    433\u001b[0m             \u001b[38;5;28;01mreturn\u001b[39;00m result\n\u001b[1;32m    434\u001b[0m     \u001b[38;5;28;01melse\u001b[39;00m:\n\u001b[0;32m--> 435\u001b[0m         \u001b[38;5;28;01mreturn\u001b[39;00m \u001b[38;5;28;43mself\u001b[39;49m\u001b[38;5;241;43m.\u001b[39;49m\u001b[43mget_TermInfo\u001b[49m\u001b[43m(\u001b[49m\u001b[43mshort_forms\u001b[49m\u001b[43m,\u001b[49m\u001b[43m \u001b[49m\u001b[43msummary\u001b[49m\u001b[38;5;241;43m=\u001b[39;49m\u001b[43msummary\u001b[49m\u001b[43m,\u001b[49m\u001b[43m \u001b[49m\u001b[43mcache\u001b[49m\u001b[38;5;241;43m=\u001b[39;49m\u001b[38;5;28;43;01mFalse\u001b[39;49;00m\u001b[43m)\u001b[49m\n\u001b[1;32m    436\u001b[0m pre_query \u001b[38;5;241m=\u001b[39m \u001b[38;5;124m\"\u001b[39m\u001b[38;5;124mMATCH (e:Entity) \u001b[39m\u001b[38;5;124m\"\u001b[39m \\\n\u001b[1;32m    437\u001b[0m             \u001b[38;5;124m\"\u001b[39m\u001b[38;5;124mWHERE e.short_form in \u001b[39m\u001b[38;5;132;01m%s\u001b[39;00m\u001b[38;5;124m \u001b[39m\u001b[38;5;124m\"\u001b[39m \\\n\u001b[1;32m    438\u001b[0m             \u001b[38;5;124m\"\u001b[39m\u001b[38;5;124mRETURN e.short_form as short_form, labels(e) as labs \u001b[39m\u001b[38;5;124m\"\u001b[39m \u001b[38;5;241m%\u001b[39m \u001b[38;5;28mstr\u001b[39m(short_forms)\n\u001b[1;32m    439\u001b[0m r \u001b[38;5;241m=\u001b[39m \u001b[38;5;28mself\u001b[39m\u001b[38;5;241m.\u001b[39m_query(pre_query)\n",
      "File \u001b[0;32m/usr/local/anaconda3/lib/python3.10/site-packages/vfb_connect/neo/query_wrapper.py:41\u001b[0m, in \u001b[0;36mbatch_query.<locals>.wrapper_batch\u001b[0;34m(*args, **kwargs)\u001b[0m\n\u001b[1;32m     39\u001b[0m     arglist[\u001b[38;5;241m1\u001b[39m] \u001b[38;5;241m=\u001b[39m c\n\u001b[1;32m     40\u001b[0m     subargs \u001b[38;5;241m=\u001b[39m \u001b[38;5;28mtuple\u001b[39m(arglist)\n\u001b[0;32m---> 41\u001b[0m     out\u001b[38;5;241m.\u001b[39mextend(\u001b[43mfunc\u001b[49m\u001b[43m(\u001b[49m\u001b[38;5;241;43m*\u001b[39;49m\u001b[43msubargs\u001b[49m\u001b[43m,\u001b[49m\u001b[43m \u001b[49m\u001b[38;5;241;43m*\u001b[39;49m\u001b[38;5;241;43m*\u001b[39;49m\u001b[43mkwargs\u001b[49m\u001b[43m)\u001b[49m)\n\u001b[1;32m     42\u001b[0m \u001b[38;5;28;01melif\u001b[39;00m arg1typ \u001b[38;5;241m==\u001b[39m \u001b[38;5;124m'\u001b[39m\u001b[38;5;124mk\u001b[39m\u001b[38;5;124m'\u001b[39m:\n\u001b[1;32m     43\u001b[0m     kwargdict \u001b[38;5;241m=\u001b[39m \u001b[38;5;28mdict\u001b[39m(kwargs)\n",
      "File \u001b[0;32m/usr/local/anaconda3/lib/python3.10/site-packages/vfb_connect/neo/query_wrapper.py:457\u001b[0m, in \u001b[0;36mQueryWrapper.get_TermInfo\u001b[0;34m(self, short_forms, summary, cache)\u001b[0m\n\u001b[1;32m    455\u001b[0m         out\u001b[38;5;241m.\u001b[39mextend(\u001b[38;5;28mself\u001b[39m\u001b[38;5;241m.\u001b[39mget_pub_TermInfo([e[\u001b[38;5;124m'\u001b[39m\u001b[38;5;124mshort_form\u001b[39m\u001b[38;5;124m'\u001b[39m]], summary\u001b[38;5;241m=\u001b[39msummary))\n\u001b[1;32m    456\u001b[0m     \u001b[38;5;28;01melif\u001b[39;00m \u001b[38;5;124m'\u001b[39m\u001b[38;5;124mIndividual\u001b[39m\u001b[38;5;124m'\u001b[39m \u001b[38;5;129;01min\u001b[39;00m e[\u001b[38;5;124m'\u001b[39m\u001b[38;5;124mlabs\u001b[39m\u001b[38;5;124m'\u001b[39m] \u001b[38;5;129;01mand\u001b[39;00m \u001b[38;5;124m'\u001b[39m\u001b[38;5;124mAnatomy\u001b[39m\u001b[38;5;124m'\u001b[39m \u001b[38;5;129;01min\u001b[39;00m e[\u001b[38;5;124m'\u001b[39m\u001b[38;5;124mlabs\u001b[39m\u001b[38;5;124m'\u001b[39m]:\n\u001b[0;32m--> 457\u001b[0m         out\u001b[38;5;241m.\u001b[39mextend(\u001b[38;5;28;43mself\u001b[39;49m\u001b[38;5;241;43m.\u001b[39;49m\u001b[43mget_anatomical_individual_TermInfo\u001b[49m\u001b[43m(\u001b[49m\u001b[43m[\u001b[49m\u001b[43me\u001b[49m\u001b[43m[\u001b[49m\u001b[38;5;124;43m'\u001b[39;49m\u001b[38;5;124;43mshort_form\u001b[39;49m\u001b[38;5;124;43m'\u001b[39;49m\u001b[43m]\u001b[49m\u001b[43m]\u001b[49m\u001b[43m,\u001b[49m\u001b[43m \u001b[49m\u001b[43msummary\u001b[49m\u001b[38;5;241;43m=\u001b[39;49m\u001b[43msummary\u001b[49m\u001b[43m)\u001b[49m)\n\u001b[1;32m    458\u001b[0m \u001b[38;5;28;01mreturn\u001b[39;00m out\n",
      "File \u001b[0;32m/usr/local/anaconda3/lib/python3.10/site-packages/vfb_connect/neo/query_wrapper.py:533\u001b[0m, in \u001b[0;36mQueryWrapper.get_anatomical_individual_TermInfo\u001b[0;34m(self, short_forms, summary)\u001b[0m\n\u001b[1;32m    525\u001b[0m \u001b[38;5;28;01mdef\u001b[39;00m \u001b[38;5;21mget_anatomical_individual_TermInfo\u001b[39m(\u001b[38;5;28mself\u001b[39m, short_forms, summary\u001b[38;5;241m=\u001b[39m\u001b[38;5;28;01mTrue\u001b[39;00m):\n\u001b[1;32m    526\u001b[0m     \u001b[38;5;124;03m\"\"\"\u001b[39;00m\n\u001b[1;32m    527\u001b[0m \u001b[38;5;124;03m    Generate JSON reports for anatomical individuals from a list of VFB IDs (short_forms)\u001b[39;00m\n\u001b[1;32m    528\u001b[0m \n\u001b[0;32m   (...)\u001b[0m\n\u001b[1;32m    531\u001b[0m \u001b[38;5;124;03m    :rtype: list of VFB_json or summary_report_json\u001b[39;00m\n\u001b[1;32m    532\u001b[0m \u001b[38;5;124;03m    \"\"\"\u001b[39;00m\n\u001b[0;32m--> 533\u001b[0m     \u001b[38;5;28;01mreturn\u001b[39;00m \u001b[38;5;28;43mself\u001b[39;49m\u001b[38;5;241;43m.\u001b[39;49m\u001b[43m_get_TermInfo\u001b[49m\u001b[43m(\u001b[49m\u001b[43mshort_forms\u001b[49m\u001b[43m,\u001b[49m\u001b[43m \u001b[49m\u001b[43mtyp\u001b[49m\u001b[38;5;241;43m=\u001b[39;49m\u001b[38;5;124;43m'\u001b[39;49m\u001b[38;5;124;43mGet JSON for Individual\u001b[39;49m\u001b[38;5;124;43m'\u001b[39;49m\u001b[43m,\u001b[49m\u001b[43m \u001b[49m\u001b[43msummary\u001b[49m\u001b[38;5;241;43m=\u001b[39;49m\u001b[43msummary\u001b[49m\u001b[43m)\u001b[49m\n",
      "File \u001b[0;32m/usr/local/anaconda3/lib/python3.10/site-packages/vfb_connect/neo/query_wrapper.py:41\u001b[0m, in \u001b[0;36mbatch_query.<locals>.wrapper_batch\u001b[0;34m(*args, **kwargs)\u001b[0m\n\u001b[1;32m     39\u001b[0m     arglist[\u001b[38;5;241m1\u001b[39m] \u001b[38;5;241m=\u001b[39m c\n\u001b[1;32m     40\u001b[0m     subargs \u001b[38;5;241m=\u001b[39m \u001b[38;5;28mtuple\u001b[39m(arglist)\n\u001b[0;32m---> 41\u001b[0m     out\u001b[38;5;241m.\u001b[39mextend(\u001b[43mfunc\u001b[49m\u001b[43m(\u001b[49m\u001b[38;5;241;43m*\u001b[39;49m\u001b[43msubargs\u001b[49m\u001b[43m,\u001b[49m\u001b[43m \u001b[49m\u001b[38;5;241;43m*\u001b[39;49m\u001b[38;5;241;43m*\u001b[39;49m\u001b[43mkwargs\u001b[49m\u001b[43m)\u001b[49m)\n\u001b[1;32m     42\u001b[0m \u001b[38;5;28;01melif\u001b[39;00m arg1typ \u001b[38;5;241m==\u001b[39m \u001b[38;5;124m'\u001b[39m\u001b[38;5;124mk\u001b[39m\u001b[38;5;124m'\u001b[39m:\n\u001b[1;32m     43\u001b[0m     kwargdict \u001b[38;5;241m=\u001b[39m \u001b[38;5;28mdict\u001b[39m(kwargs)\n",
      "File \u001b[0;32m/usr/local/anaconda3/lib/python3.10/site-packages/vfb_connect/neo/query_wrapper.py:489\u001b[0m, in \u001b[0;36mQueryWrapper._get_TermInfo\u001b[0;34m(self, short_forms, typ, show_query, summary)\u001b[0m\n\u001b[1;32m    487\u001b[0m     \u001b[38;5;28mprint\u001b[39m(qs)\n\u001b[1;32m    488\u001b[0m \u001b[38;5;28;01mif\u001b[39;00m summary:\n\u001b[0;32m--> 489\u001b[0m     \u001b[38;5;28;01mreturn\u001b[39;00m \u001b[38;5;28;43mself\u001b[39;49m\u001b[38;5;241;43m.\u001b[39;49m\u001b[43m_termInfo_2_summary\u001b[49m\u001b[43m(\u001b[49m\u001b[38;5;28;43mself\u001b[39;49m\u001b[38;5;241;43m.\u001b[39;49m\u001b[43m_query\u001b[49m\u001b[43m(\u001b[49m\u001b[43mqs\u001b[49m\u001b[43m)\u001b[49m\u001b[43m,\u001b[49m\u001b[43m \u001b[49m\u001b[43mtyp\u001b[49m\u001b[38;5;241;43m=\u001b[39;49m\u001b[43mtyp\u001b[49m\u001b[43m)\u001b[49m\n\u001b[1;32m    490\u001b[0m \u001b[38;5;28;01melse\u001b[39;00m:\n\u001b[1;32m    491\u001b[0m     \u001b[38;5;28;01mreturn\u001b[39;00m \u001b[38;5;28mself\u001b[39m\u001b[38;5;241m.\u001b[39m_query(qs)\n",
      "File \u001b[0;32m/usr/local/anaconda3/lib/python3.10/site-packages/vfb_connect/neo/query_wrapper.py:513\u001b[0m, in \u001b[0;36mQueryWrapper._termInfo_2_summary\u001b[0;34m(self, TermInfo, typ)\u001b[0m\n\u001b[1;32m    511\u001b[0m         dc\u001b[38;5;241m.\u001b[39mappend(_populate_dataset_summary_tab(r))\n\u001b[1;32m    512\u001b[0m     \u001b[38;5;28;01melse\u001b[39;00m:\n\u001b[0;32m--> 513\u001b[0m         dc\u001b[38;5;241m.\u001b[39mappend(\u001b[43m_populate_instance_summary_tab\u001b[49m\u001b[43m(\u001b[49m\u001b[43mr\u001b[49m\u001b[43m)\u001b[49m)\n\u001b[1;32m    514\u001b[0m \u001b[38;5;28;01mreturn\u001b[39;00m dc\n",
      "File \u001b[0;32m/usr/local/anaconda3/lib/python3.10/site-packages/vfb_connect/neo/query_wrapper.py:86\u001b[0m, in \u001b[0;36m_populate_instance_summary_tab\u001b[0;34m(TermInfo)\u001b[0m\n\u001b[1;32m     81\u001b[0m \u001b[38;5;66;03m#    site_expr = \"$.xrefs.[*].site.short_form\"\u001b[39;00m\n\u001b[1;32m     82\u001b[0m \u001b[38;5;66;03m#    acc_expr = \"$.xrefs.[*].accession\"\u001b[39;00m\n\u001b[1;32m     83\u001b[0m \u001b[38;5;66;03m#    is_data_source_expr = \"$.xrefs.[*].is_data_source\"\u001b[39;00m\n\u001b[1;32m     84\u001b[0m \u001b[38;5;66;03m#   sites = pop_from_jpath(site_expr, TermInfo, join=False)\u001b[39;00m\n\u001b[1;32m     85\u001b[0m     i \u001b[38;5;241m=\u001b[39m \u001b[38;5;241m0\u001b[39m\n\u001b[0;32m---> 86\u001b[0m     d[\u001b[38;5;124m'\u001b[39m\u001b[38;5;124mxrefs\u001b[39m\u001b[38;5;124m'\u001b[39m] \u001b[38;5;241m=\u001b[39m \u001b[38;5;124m'\u001b[39m\u001b[38;5;124m|\u001b[39m\u001b[38;5;124m'\u001b[39m\u001b[38;5;241m.\u001b[39mjoin([\u001b[38;5;124mf\u001b[39m\u001b[38;5;124m\"\u001b[39m\u001b[38;5;132;01m{\u001b[39;00mp[\u001b[38;5;124m'\u001b[39m\u001b[38;5;124msite\u001b[39m\u001b[38;5;124m'\u001b[39m][\u001b[38;5;124m'\u001b[39m\u001b[38;5;124mcore\u001b[39m\u001b[38;5;124m'\u001b[39m]\u001b[38;5;241m.\u001b[39mget(\u001b[38;5;124m'\u001b[39m\u001b[38;5;124msymbol\u001b[39m\u001b[38;5;124m'\u001b[39m, p[\u001b[38;5;124m'\u001b[39m\u001b[38;5;124msite\u001b[39m\u001b[38;5;124m'\u001b[39m][\u001b[38;5;124m'\u001b[39m\u001b[38;5;124mcore\u001b[39m\u001b[38;5;124m'\u001b[39m][\u001b[38;5;124m'\u001b[39m\u001b[38;5;124mshort_form\u001b[39m\u001b[38;5;124m'\u001b[39m])\u001b[38;5;132;01m}\u001b[39;00m\u001b[38;5;124m:\u001b[39m\u001b[38;5;132;01m{\u001b[39;00mp[\u001b[38;5;124m'\u001b[39m\u001b[38;5;124maccession\u001b[39m\u001b[38;5;124m'\u001b[39m]\u001b[38;5;132;01m}\u001b[39;00m\u001b[38;5;124m\"\u001b[39m \u001b[38;5;28;01mfor\u001b[39;00m p \u001b[38;5;129;01min\u001b[39;00m TermInfo[\u001b[38;5;124m'\u001b[39m\u001b[38;5;124mxrefs\u001b[39m\u001b[38;5;124m'\u001b[39m]])\n\u001b[1;32m     87\u001b[0m     d[\u001b[38;5;124m'\u001b[39m\u001b[38;5;124mtemplates\u001b[39m\u001b[38;5;124m'\u001b[39m] \u001b[38;5;241m=\u001b[39m \u001b[38;5;124m'\u001b[39m\u001b[38;5;124m|\u001b[39m\u001b[38;5;124m'\u001b[39m\u001b[38;5;241m.\u001b[39mjoin([\u001b[38;5;28mstr\u001b[39m(x[\u001b[38;5;124m'\u001b[39m\u001b[38;5;124mimage\u001b[39m\u001b[38;5;124m'\u001b[39m][\u001b[38;5;124m'\u001b[39m\u001b[38;5;124mtemplate_anatomy\u001b[39m\u001b[38;5;124m'\u001b[39m][\u001b[38;5;124m'\u001b[39m\u001b[38;5;124mlabel\u001b[39m\u001b[38;5;124m'\u001b[39m]) \u001b[38;5;28;01mfor\u001b[39;00m x \u001b[38;5;129;01min\u001b[39;00m TermInfo[\u001b[38;5;124m'\u001b[39m\u001b[38;5;124mchannel_image\u001b[39m\u001b[38;5;124m'\u001b[39m]])\n\u001b[1;32m     88\u001b[0m     d[\u001b[38;5;124m'\u001b[39m\u001b[38;5;124mdataset\u001b[39m\u001b[38;5;124m'\u001b[39m] \u001b[38;5;241m=\u001b[39m \u001b[38;5;124m'\u001b[39m\u001b[38;5;124m|\u001b[39m\u001b[38;5;124m'\u001b[39m\u001b[38;5;241m.\u001b[39mjoin([\u001b[38;5;28mstr\u001b[39m(x[\u001b[38;5;124m'\u001b[39m\u001b[38;5;124mdataset\u001b[39m\u001b[38;5;124m'\u001b[39m][\u001b[38;5;124m'\u001b[39m\u001b[38;5;124mcore\u001b[39m\u001b[38;5;124m'\u001b[39m][\u001b[38;5;124m'\u001b[39m\u001b[38;5;124mshort_form\u001b[39m\u001b[38;5;124m'\u001b[39m]) \u001b[38;5;28;01mfor\u001b[39;00m x \u001b[38;5;129;01min\u001b[39;00m TermInfo[\u001b[38;5;124m'\u001b[39m\u001b[38;5;124mdataset_license\u001b[39m\u001b[38;5;124m'\u001b[39m]])\n",
      "File \u001b[0;32m/usr/local/anaconda3/lib/python3.10/site-packages/vfb_connect/neo/query_wrapper.py:86\u001b[0m, in \u001b[0;36m<listcomp>\u001b[0;34m(.0)\u001b[0m\n\u001b[1;32m     81\u001b[0m \u001b[38;5;66;03m#    site_expr = \"$.xrefs.[*].site.short_form\"\u001b[39;00m\n\u001b[1;32m     82\u001b[0m \u001b[38;5;66;03m#    acc_expr = \"$.xrefs.[*].accession\"\u001b[39;00m\n\u001b[1;32m     83\u001b[0m \u001b[38;5;66;03m#    is_data_source_expr = \"$.xrefs.[*].is_data_source\"\u001b[39;00m\n\u001b[1;32m     84\u001b[0m \u001b[38;5;66;03m#   sites = pop_from_jpath(site_expr, TermInfo, join=False)\u001b[39;00m\n\u001b[1;32m     85\u001b[0m     i \u001b[38;5;241m=\u001b[39m \u001b[38;5;241m0\u001b[39m\n\u001b[0;32m---> 86\u001b[0m     d[\u001b[38;5;124m'\u001b[39m\u001b[38;5;124mxrefs\u001b[39m\u001b[38;5;124m'\u001b[39m] \u001b[38;5;241m=\u001b[39m \u001b[38;5;124m'\u001b[39m\u001b[38;5;124m|\u001b[39m\u001b[38;5;124m'\u001b[39m\u001b[38;5;241m.\u001b[39mjoin([\u001b[38;5;124mf\u001b[39m\u001b[38;5;124m\"\u001b[39m\u001b[38;5;132;01m{\u001b[39;00mp[\u001b[38;5;124m'\u001b[39m\u001b[38;5;124msite\u001b[39m\u001b[38;5;124m'\u001b[39m][\u001b[38;5;124m'\u001b[39m\u001b[38;5;124mcore\u001b[39m\u001b[38;5;124m'\u001b[39m]\u001b[38;5;241m.\u001b[39mget(\u001b[38;5;124m'\u001b[39m\u001b[38;5;124msymbol\u001b[39m\u001b[38;5;124m'\u001b[39m, p[\u001b[38;5;124m'\u001b[39m\u001b[38;5;124msite\u001b[39m\u001b[38;5;124m'\u001b[39m][\u001b[38;5;124m'\u001b[39m\u001b[38;5;124mcore\u001b[39m\u001b[38;5;124m'\u001b[39m][\u001b[38;5;124m'\u001b[39m\u001b[38;5;124mshort_form\u001b[39m\u001b[38;5;124m'\u001b[39m])\u001b[38;5;132;01m}\u001b[39;00m\u001b[38;5;124m:\u001b[39m\u001b[38;5;132;01m{\u001b[39;00mp[\u001b[38;5;124m'\u001b[39m\u001b[38;5;124maccession\u001b[39m\u001b[38;5;124m'\u001b[39m]\u001b[38;5;132;01m}\u001b[39;00m\u001b[38;5;124m\"\u001b[39m \u001b[38;5;28;01mfor\u001b[39;00m p \u001b[38;5;129;01min\u001b[39;00m TermInfo[\u001b[38;5;124m'\u001b[39m\u001b[38;5;124mxrefs\u001b[39m\u001b[38;5;124m'\u001b[39m]])\n\u001b[1;32m     87\u001b[0m     d[\u001b[38;5;124m'\u001b[39m\u001b[38;5;124mtemplates\u001b[39m\u001b[38;5;124m'\u001b[39m] \u001b[38;5;241m=\u001b[39m \u001b[38;5;124m'\u001b[39m\u001b[38;5;124m|\u001b[39m\u001b[38;5;124m'\u001b[39m\u001b[38;5;241m.\u001b[39mjoin([\u001b[38;5;28mstr\u001b[39m(x[\u001b[38;5;124m'\u001b[39m\u001b[38;5;124mimage\u001b[39m\u001b[38;5;124m'\u001b[39m][\u001b[38;5;124m'\u001b[39m\u001b[38;5;124mtemplate_anatomy\u001b[39m\u001b[38;5;124m'\u001b[39m][\u001b[38;5;124m'\u001b[39m\u001b[38;5;124mlabel\u001b[39m\u001b[38;5;124m'\u001b[39m]) \u001b[38;5;28;01mfor\u001b[39;00m x \u001b[38;5;129;01min\u001b[39;00m TermInfo[\u001b[38;5;124m'\u001b[39m\u001b[38;5;124mchannel_image\u001b[39m\u001b[38;5;124m'\u001b[39m]])\n\u001b[1;32m     88\u001b[0m     d[\u001b[38;5;124m'\u001b[39m\u001b[38;5;124mdataset\u001b[39m\u001b[38;5;124m'\u001b[39m] \u001b[38;5;241m=\u001b[39m \u001b[38;5;124m'\u001b[39m\u001b[38;5;124m|\u001b[39m\u001b[38;5;124m'\u001b[39m\u001b[38;5;241m.\u001b[39mjoin([\u001b[38;5;28mstr\u001b[39m(x[\u001b[38;5;124m'\u001b[39m\u001b[38;5;124mdataset\u001b[39m\u001b[38;5;124m'\u001b[39m][\u001b[38;5;124m'\u001b[39m\u001b[38;5;124mcore\u001b[39m\u001b[38;5;124m'\u001b[39m][\u001b[38;5;124m'\u001b[39m\u001b[38;5;124mshort_form\u001b[39m\u001b[38;5;124m'\u001b[39m]) \u001b[38;5;28;01mfor\u001b[39;00m x \u001b[38;5;129;01min\u001b[39;00m TermInfo[\u001b[38;5;124m'\u001b[39m\u001b[38;5;124mdataset_license\u001b[39m\u001b[38;5;124m'\u001b[39m]])\n",
      "\u001b[0;31mKeyError\u001b[0m: 'core'"
     ]
    }
   ],
   "source": [
    "#  Query with for term by ID. Supported IDs include anatomical individuals \n",
    "# (typically used for individual anatomical entities depicted in images), \n",
    "# dataset IDs and anatomy ontology IDs (FBbt)\n",
    "\n",
    "# All return values follow VFB_json_schema ()\n",
    "\n",
    "vc.neo_query_wrapper.get_TermInfo(['VFB_00010001']) # This can take multiple IDs, but is not efficient for querying with many IDs"
   ]
  },
  {
   "cell_type": "code",
   "execution_count": null,
   "metadata": {},
   "outputs": [
    {
     "data": {
      "text/plain": [
       "{'term': {'core': {'symbol': '',\n",
       "   'iri': 'http://virtualflybrain.org/reports/VFB_00010001',\n",
       "   'types': ['Entity',\n",
       "    'Adult',\n",
       "    'Anatomy',\n",
       "    'Cell',\n",
       "    'Expression_pattern_fragment',\n",
       "    'Individual',\n",
       "    'Nervous_system',\n",
       "    'Neuron',\n",
       "    'VFB',\n",
       "    'has_image',\n",
       "    'FlyCircuit',\n",
       "    'NBLAST'],\n",
       "   'short_form': 'VFB_00010001',\n",
       "   'unique_facets': ['Adult',\n",
       "    'Expression_pattern_fragment',\n",
       "    'Nervous_system',\n",
       "    'Neuron'],\n",
       "   'label': 'fru-F-500075'},\n",
       "  'description': [],\n",
       "  'comment': ['OutAge: Adult 5~15 days']},\n",
       " 'query': 'Get JSON for Individual',\n",
       " 'version': 'c58c844',\n",
       " 'dataset_license': [{'license': {'core': {'symbol': '',\n",
       "     'iri': 'http://virtualflybrain.org/reports/VFBlicense_FlyCircuit_License',\n",
       "     'types': ['Entity', 'Individual', 'License'],\n",
       "     'short_form': 'VFBlicense_FlyCircuit_License',\n",
       "     'unique_facets': ['License'],\n",
       "     'label': 'FlyCircuit License'},\n",
       "    'icon': '',\n",
       "    'link': ''},\n",
       "   'dataset': {'core': {'symbol': '',\n",
       "     'iri': 'http://virtualflybrain.org/reports/Chiang2010',\n",
       "     'types': ['Entity', 'DataSet', 'Individual', 'has_image', 'FlyCircuit'],\n",
       "     'short_form': 'Chiang2010',\n",
       "     'unique_facets': ['DataSet'],\n",
       "     'label': 'FlyCircuit 1.0 - single neurons (Chiang2010)'},\n",
       "    'link': 'http://flybase.org/reports/FBrf0210580.html'}}],\n",
       " 'parents': [{'symbol': '',\n",
       "   'iri': 'http://purl.obolibrary.org/obo/fbbt/vfb/VFBext_0000004',\n",
       "   'types': ['Entity', 'Anatomy', 'Class', 'Expression_pattern_fragment'],\n",
       "   'short_form': 'VFBext_0000004',\n",
       "   'unique_facets': ['Anatomy'],\n",
       "   'label': 'expression pattern fragment'},\n",
       "  {'symbol': '',\n",
       "   'iri': 'http://purl.obolibrary.org/obo/FBbt_00050031',\n",
       "   'types': ['Entity',\n",
       "    'Adult',\n",
       "    'Anatomy',\n",
       "    'Cell',\n",
       "    'Class',\n",
       "    'Nervous_system',\n",
       "    'Neuron',\n",
       "    'has_subClass'],\n",
       "   'short_form': 'FBbt_00050031',\n",
       "   'unique_facets': ['Adult', 'Nervous_system', 'Neuron'],\n",
       "   'label': 'adult SMPpv1 lineage neuron'}],\n",
       " 'relationships': [{'relation': {'iri': 'http://purl.obolibrary.org/obo/RO_0002292',\n",
       "    'database_cross_reference': [],\n",
       "    'label': 'expresses',\n",
       "    'type': 'expresses',\n",
       "    'confidence_value': ''},\n",
       "   'object': {'symbol': '',\n",
       "    'iri': 'http://flybase.org/reports/FBal0276838',\n",
       "    'types': ['Entity', 'Class', 'Feature'],\n",
       "    'short_form': 'FBal0276838',\n",
       "    'unique_facets': ['Allele'],\n",
       "    'label': 'Scer\\\\GAL4[fru.P1.D]'}},\n",
       "  {'relation': {'iri': 'http://purl.obolibrary.org/obo/RO_0002131',\n",
       "    'database_cross_reference': [],\n",
       "    'label': 'overlaps',\n",
       "    'type': 'overlaps',\n",
       "    'confidence_value': ''},\n",
       "   'object': {'symbol': '',\n",
       "    'iri': 'http://purl.obolibrary.org/obo/FBbt_00045050',\n",
       "    'types': ['Entity',\n",
       "     'Adult',\n",
       "     'Anatomy',\n",
       "     'Class',\n",
       "     'Nervous_system',\n",
       "     'Synaptic_neuropil',\n",
       "     'Synaptic_neuropil_domain'],\n",
       "    'short_form': 'FBbt_00045050',\n",
       "    'unique_facets': ['Adult', 'Nervous_system', 'Synaptic_neuropil_domain'],\n",
       "    'label': 'flange'}},\n",
       "  {'relation': {'iri': 'http://purl.obolibrary.org/obo/RO_0002131',\n",
       "    'database_cross_reference': [],\n",
       "    'label': 'overlaps',\n",
       "    'type': 'overlaps',\n",
       "    'confidence_value': ''},\n",
       "   'object': {'symbol': '',\n",
       "    'iri': 'http://purl.obolibrary.org/obo/FBbt_00007055',\n",
       "    'types': ['Entity',\n",
       "     'Adult',\n",
       "     'Anatomy',\n",
       "     'Class',\n",
       "     'Nervous_system',\n",
       "     'Synaptic_neuropil',\n",
       "     'Synaptic_neuropil_domain'],\n",
       "    'short_form': 'FBbt_00007055',\n",
       "    'unique_facets': ['Adult', 'Nervous_system', 'Synaptic_neuropil_domain'],\n",
       "    'label': 'superior medial protocerebrum'}},\n",
       "  {'relation': {'iri': 'http://purl.obolibrary.org/obo/BFO_0000050',\n",
       "    'database_cross_reference': [],\n",
       "    'label': 'is part of',\n",
       "    'type': 'part_of',\n",
       "    'confidence_value': ''},\n",
       "   'object': {'symbol': '',\n",
       "    'iri': 'http://purl.obolibrary.org/obo/FBbt_00003624',\n",
       "    'types': ['Entity', 'Adult', 'Anatomy', 'Class', 'Nervous_system'],\n",
       "    'short_form': 'FBbt_00003624',\n",
       "    'unique_facets': ['Adult', 'Nervous_system'],\n",
       "    'label': 'adult brain'}},\n",
       "  {'relation': {'iri': 'http://purl.obolibrary.org/obo/BFO_0000050',\n",
       "    'database_cross_reference': [],\n",
       "    'label': 'is part of',\n",
       "    'type': 'part_of',\n",
       "    'confidence_value': ''},\n",
       "   'object': {'symbol': '',\n",
       "    'iri': 'http://virtualflybrain.org/reports/VFBexp_FBal0276838',\n",
       "    'types': ['Entity', 'Anatomy', 'Class', 'Expression_pattern'],\n",
       "    'short_form': 'VFBexp_FBal0276838',\n",
       "    'unique_facets': ['Expression_pattern'],\n",
       "    'label': 'Scer\\\\GAL4[fru.P1.D] expression pattern'}},\n",
       "  {'relation': {'iri': 'http://purl.obolibrary.org/obo/BFO_0000050',\n",
       "    'database_cross_reference': [],\n",
       "    'label': 'is part of',\n",
       "    'type': 'part_of',\n",
       "    'confidence_value': ''},\n",
       "   'object': {'symbol': '',\n",
       "    'iri': 'http://purl.obolibrary.org/obo/FBbt_00007011',\n",
       "    'types': ['Entity', 'Anatomy', 'Class'],\n",
       "    'short_form': 'FBbt_00007011',\n",
       "    'unique_facets': ['Anatomy'],\n",
       "    'label': 'female organism'}}],\n",
       " 'related_individuals': [],\n",
       " 'xrefs': [{'link_base': 'http://flycircuit.tw/modules.php?name=clearpage&op=detail_table&neuron=',\n",
       "   'site': {'symbol': '',\n",
       "    'iri': 'http://virtualflybrain.org/reports/FlyCircuit',\n",
       "    'types': ['Entity', 'Individual', 'Site'],\n",
       "    'short_form': 'FlyCircuit',\n",
       "    'unique_facets': ['Site'],\n",
       "    'label': 'FlyCircuit 1.0'},\n",
       "   'is_data_source': True,\n",
       "   'link_postfix': '',\n",
       "   'icon': '',\n",
       "   'accession': 'fru-F-500075',\n",
       "   'link_text': 'fru-F-500075 on FlyCircuit 1.0',\n",
       "   'homepage': 'http://flycircuit.tw'}],\n",
       " 'channel_image': [{'image': {'image_nrrd': 'http://www.virtualflybrain.org/data/VFB/i/0001/0001/VFB_00101567/volume.nrrd',\n",
       "    'image_swc': 'http://www.virtualflybrain.org/data/VFB/i/0001/0001/VFB_00101567/volume.swc',\n",
       "    'template_channel': {'symbol': '',\n",
       "     'iri': 'http://virtualflybrain.org/reports/VFBc_00101567',\n",
       "     'types': ['Entity', 'Individual', 'Template'],\n",
       "     'short_form': 'VFBc_00101567',\n",
       "     'unique_facets': [],\n",
       "     'label': 'JRC2018Unisex_c'},\n",
       "    'index': [],\n",
       "    'template_anatomy': {'symbol': '',\n",
       "     'iri': 'http://virtualflybrain.org/reports/VFB_00101567',\n",
       "     'types': ['Entity',\n",
       "      'Adult',\n",
       "      'Anatomy',\n",
       "      'Individual',\n",
       "      'Nervous_system',\n",
       "      'Template',\n",
       "      'has_image'],\n",
       "     'short_form': 'VFB_00101567',\n",
       "     'unique_facets': ['Adult', 'Nervous_system'],\n",
       "     'label': 'JRC2018Unisex'},\n",
       "    'image_wlz': 'http://www.virtualflybrain.org/data/VFB/i/0001/0001/VFB_00101567/volume.wlz',\n",
       "    'image_obj': 'http://www.virtualflybrain.org/data/VFB/i/0001/0001/VFB_00101567/volume.obj',\n",
       "    'image_thumbnail': 'http://www.virtualflybrain.org/data/VFB/i/0001/0001/VFB_00101567/thumbnail.png',\n",
       "    'image_folder': 'http://www.virtualflybrain.org/data/VFB/i/0001/0001/VFB_00101567/'},\n",
       "   'channel': {'symbol': '',\n",
       "    'iri': 'http://virtualflybrain.org/reports/VFBc_00010001',\n",
       "    'types': ['Entity', 'Individual', 'VFB'],\n",
       "    'short_form': 'VFBc_00010001',\n",
       "    'unique_facets': [],\n",
       "    'label': 'fru-F-500075-c'},\n",
       "   'imaging_technique': {'symbol': 'Confocal',\n",
       "    'iri': 'http://purl.obolibrary.org/obo/FBbi_00000251',\n",
       "    'types': ['Entity', 'Class', 'has_subClass'],\n",
       "    'short_form': 'FBbi_00000251',\n",
       "    'unique_facets': ['Class'],\n",
       "    'label': 'confocal microscopy'}},\n",
       "  {'image': {'image_nrrd': 'http://www.virtualflybrain.org/data/VFB/i/0001/0001/VFB_00017894/volume.nrrd',\n",
       "    'image_swc': 'http://www.virtualflybrain.org/data/VFB/i/0001/0001/VFB_00017894/volume.swc',\n",
       "    'template_channel': {'symbol': '',\n",
       "     'iri': 'http://virtualflybrain.org/reports/VFBc_00017894',\n",
       "     'types': ['Entity', 'Individual', 'Template', 'VFB'],\n",
       "     'short_form': 'VFBc_00017894',\n",
       "     'unique_facets': [],\n",
       "     'label': 'JFRC2_template_c'},\n",
       "    'index': [],\n",
       "    'template_anatomy': {'symbol': '',\n",
       "     'iri': 'http://virtualflybrain.org/reports/VFB_00017894',\n",
       "     'types': ['Entity',\n",
       "      'Adult',\n",
       "      'Anatomy',\n",
       "      'Individual',\n",
       "      'Nervous_system',\n",
       "      'Template',\n",
       "      'VFB',\n",
       "      'has_image'],\n",
       "     'short_form': 'VFB_00017894',\n",
       "     'unique_facets': ['Adult', 'Nervous_system'],\n",
       "     'label': 'adult brain template JFRC2'},\n",
       "    'image_wlz': 'http://www.virtualflybrain.org/data/VFB/i/0001/0001/VFB_00017894/volume.wlz',\n",
       "    'image_obj': 'http://www.virtualflybrain.org/data/VFB/i/0001/0001/VFB_00017894/volume.obj',\n",
       "    'image_thumbnail': 'http://www.virtualflybrain.org/data/VFB/i/0001/0001/VFB_00017894/thumbnail.png',\n",
       "    'image_folder': 'http://www.virtualflybrain.org/data/VFB/i/0001/0001/VFB_00017894/'},\n",
       "   'channel': {'symbol': '',\n",
       "    'iri': 'http://virtualflybrain.org/reports/VFBc_00010001',\n",
       "    'types': ['Entity', 'Individual', 'VFB'],\n",
       "    'short_form': 'VFBc_00010001',\n",
       "    'unique_facets': [],\n",
       "    'label': 'fru-F-500075-c'},\n",
       "   'imaging_technique': {'symbol': 'Confocal',\n",
       "    'iri': 'http://purl.obolibrary.org/obo/FBbi_00000251',\n",
       "    'types': ['Entity', 'Class', 'has_subClass'],\n",
       "    'short_form': 'FBbi_00000251',\n",
       "    'unique_facets': ['Class'],\n",
       "    'label': 'confocal microscopy'}}],\n",
       " 'pub_syn': [{'synonym': {'scope': 'has_exact_synonym',\n",
       "    'label': 'FruMARCM-F000584_seg002',\n",
       "    'type': ''},\n",
       "   'pub': {'core': {'symbol': '',\n",
       "     'iri': 'http://flybase.org/reports/Unattributed',\n",
       "     'types': ['Entity', 'Individual', 'pub'],\n",
       "     'short_form': 'Unattributed',\n",
       "     'unique_facets': ['pub'],\n",
       "     'label': ''},\n",
       "    'FlyBase': '',\n",
       "    'PubMed': '',\n",
       "    'DOI': ''}},\n",
       "  {'synonym': {'scope': 'has_exact_synonym',\n",
       "    'label': 'fru-F-500075',\n",
       "    'type': ''},\n",
       "   'pub': {'core': {'symbol': '',\n",
       "     'iri': 'http://flybase.org/reports/Unattributed',\n",
       "     'types': ['Entity', 'Individual', 'pub'],\n",
       "     'short_form': 'Unattributed',\n",
       "     'unique_facets': ['pub'],\n",
       "     'label': ''},\n",
       "    'FlyBase': '',\n",
       "    'PubMed': '',\n",
       "    'DOI': ''}}],\n",
       " 'def_pubs': []}"
      ]
     },
     "execution_count": 9,
     "metadata": {},
     "output_type": "execute_result"
    }
   ],
   "source": [
    "vc.neo_query_wrapper.get_TermInfo(['VFB_00010001'])[0].keys()"
   ]
  },
  {
   "cell_type": "code",
   "execution_count": 18,
   "metadata": {},
   "outputs": [
    {
     "name": "stderr",
     "output_type": "stream",
     "text": [
      "/usr/local/anaconda3/lib/python3.10/site-packages/vfb_connect/neo/query_wrapper.py:227: UserWarning: No results returned\n",
      "  warnings.warn('No results returned')\n"
     ]
    },
    {
     "data": {
      "text/plain": [
       "[]"
      ]
     },
     "execution_count": 18,
     "metadata": {},
     "output_type": "execute_result"
    }
   ],
   "source": [
    "vc.neo_query_wrapper.get_terms_by_xref(['Trh-F-500041'], db='FlyCircuit')"
   ]
  },
  {
   "cell_type": "code",
   "execution_count": 17,
   "metadata": {},
   "outputs": [
    {
     "name": "stdout",
     "output_type": "stream",
     "text": [
      "VFB_00014110\n"
     ]
    }
   ],
   "source": [
    "vfb_ids = vc.neo_query_wrapper.xref_2_vfb_id(['Trh-F-500041'], db='FlyCircuit')\n",
    "\n",
    "key='Trh-F-500041'\n",
    "if key not in vfb_ids.keys():\n",
    "    print('No VFB ID found for key: {}'.format(key))\n",
    "else:\n",
    "    print(vfb_ids[key][0]['vfb_id'])"
   ]
  },
  {
   "cell_type": "code",
   "execution_count": null,
   "metadata": {},
   "outputs": [
    {
     "data": {
      "text/plain": [
       "[{'term': {'link': 'http://flybase.org/reports/FBrf0221438.html',\n",
       "   'core': {'short_form': 'Ito2013',\n",
       "    'label': 'Ito lab adult brain lineage clone image set',\n",
       "    'iri': 'http://virtualflybrain.org/reports/Ito2013',\n",
       "    'types': ['Individual', 'DataSet', 'Entity']},\n",
       "   'description': [\"An exhaustive set of lineage clones covering the adult brain from Kei Ito\\\\'s  lab.\"],\n",
       "   'comment': []},\n",
       "  'query': 'Get JSON for DataSet',\n",
       "  'version': '0f4d3af',\n",
       "  'xrefs': [],\n",
       "  'license': [{'icon': 'http://mirrors.creativecommons.org/presskit/buttons/88x31/png/by-nc-sa.png',\n",
       "    'link': 'https://creativecommons.org/licenses/by-nc-sa/4.0/legalcode',\n",
       "    'core': {'short_form': 'VFBlicense_CC_BY_NC_SA_4_0',\n",
       "     'label': 'CC-BY-NC-SA_4.0',\n",
       "     'iri': 'http://virtualflybrain.org/reports/VFBlicense_CC_BY_NC_SA_4_0',\n",
       "     'types': ['Individual', 'License', 'Entity']}}],\n",
       "  'pubs': [{'core': {'short_form': 'FBrf0221438',\n",
       "     'label': 'Ito et al., 2013, Curr. Biol. 23(8): 644--655',\n",
       "     'iri': 'http://flybase.org/reports/FBrf0221438',\n",
       "     'types': ['Individual', 'pub', 'Entity']},\n",
       "    'PubMed': '23541729',\n",
       "    'FlyBase': 'FBrf0221438',\n",
       "    'DOI': '10.1016/j.cub.2013.03.015'}],\n",
       "  'dataset_counts': {'images': 96, 'types': 96}}]"
      ]
     },
     "execution_count": 5,
     "metadata": {},
     "output_type": "execute_result"
    }
   ],
   "source": [
    "#  Term type specific lookups are more efficient:\n",
    "\n",
    "vc.neo_query_wrapper.get_DataSet_TermInfo(['Ito2013'])"
   ]
  },
  {
   "cell_type": "code",
   "execution_count": null,
   "metadata": {},
   "outputs": [
    {
     "data": {
      "text/plain": [
       "['catmaid_l1em',\n",
       " 'FlyLightSplit',\n",
       " 'FlyPNS',\n",
       " 'FlyBase',\n",
       " 'larvalbrain_axon_tract',\n",
       " 'larvalbrain_neuropil',\n",
       " 'catmaid_fafb',\n",
       " 'Konstantinides_et_al_2018_OpticLobe',\n",
       " 'neuprint_JRC_Hemibrain_1point0point1',\n",
       " 'fafb_catmaid_api',\n",
       " 'FlyCircuit',\n",
       " 'FlyLight',\n",
       " 'BrainTrap',\n",
       " 'FlyBrain_NDB',\n",
       " 'DoOR',\n",
       " 'lmb_cluster_pages_v3',\n",
       " 'lmb_cluster_pages_v2',\n",
       " 'VDRC',\n",
       " 'l1em_catmaid_api',\n",
       " 'neuronbridge',\n",
       " 'neuprint_JRC_Hemibrain_1point1',\n",
       " 'vnc1_catmaid_api']"
      ]
     },
     "execution_count": 6,
     "metadata": {},
     "output_type": "execute_result"
    }
   ],
   "source": [
    "# Query with an external ID.\n",
    "# To find what sources (DBs) are supported: \n",
    "\n",
    "vc.neo_query_wrapper.get_dbs()"
   ]
  },
  {
   "cell_type": "code",
   "execution_count": null,
   "metadata": {},
   "outputs": [
    {
     "data": {
      "text/plain": [
       "[{'term': {'core': {'short_form': 'VFB_00100184',\n",
       "    'label': 'L1 CNS neuron cypress left',\n",
       "    'iri': 'http://virtualflybrain.org/reports/VFB_00100184',\n",
       "    'types': ['Individual',\n",
       "     'VFB',\n",
       "     '_Individual',\n",
       "     'Neuron',\n",
       "     'Anatomy',\n",
       "     'Cell',\n",
       "     'Entity']},\n",
       "   'description': ['A(n) larval subesophageal zone cypress neuron.'],\n",
       "   'comment': []},\n",
       "  'query': 'Get JSON for Individual:Anatomy',\n",
       "  'version': '0f4d3af',\n",
       "  'dataset_license': [{'dataset': {'link': 'https://l1em.catmaid.virtualflybrain.org',\n",
       "     'core': {'short_form': 'Berck2016',\n",
       "      'label': 'Larval olfactory system neurons - EM (Berk2016)',\n",
       "      'iri': 'http://virtualflybrain.org/reports/Berck2016',\n",
       "      'types': ['Individual', 'DataSet', 'Entity']}},\n",
       "    'license': {'icon': 'https://mirrors.creativecommons.org/presskit/buttons/88x31/png/by-sa.png',\n",
       "     'link': 'https://creativecommons.org/licenses/by-sa/4.0/legalcode',\n",
       "     'core': {'short_form': 'VFBlicense_CC_BY_SA_4_0',\n",
       "      'label': 'CC-BY-SA_4.0',\n",
       "      'iri': 'http://virtualflybrain.org/reports/VFBlicense_CC_BY_SA_4_0',\n",
       "      'types': ['Individual', 'License', 'Entity']}}}],\n",
       "  'parents': [{'short_form': 'FBbt_00111724',\n",
       "    'label': 'larval subesophageal zone cypress neuron',\n",
       "    'iri': 'http://purl.obolibrary.org/obo/FBbt_00111724',\n",
       "    'types': ['Class',\n",
       "     'VFB',\n",
       "     '_Class',\n",
       "     'Neuron',\n",
       "     'Anatomy',\n",
       "     'Cell',\n",
       "     'Entity',\n",
       "     'Leaf_node']}],\n",
       "  'relationships': [],\n",
       "  'xrefs': [{'link_base': 'https://l1em.catmaid.virtualflybrain.org/?pid=1&tool=tracingtool&sid0=1&s0=2&active_skeleton_id=',\n",
       "    'icon': '',\n",
       "    'link_postfix': '',\n",
       "    'site': {'short_form': 'catmaid_l1em',\n",
       "     'label': 'VFB CATMAID L1 CNS',\n",
       "     'iri': 'http://virtualflybrain.org/reports/catmaid_l1em',\n",
       "     'types': ['Individual', 'Site', 'Entity']},\n",
       "    'accession': '17545695',\n",
       "    'link_text': 'L1 CNS neuron cypress left on VFB CATMAID L1 CNS',\n",
       "    'homepage': 'https://l1em.catmaid.virtualflybrain.org/?pid=1&zp=56100&yp=32927.1&xp=27265&tool=tracingtool&sid0=1&s0=2'}],\n",
       "  'channel_image': [{'channel': {'short_form': 'VFBc_00100184',\n",
       "     'label': 'L1 CNS neuron cypress left_c',\n",
       "     'iri': 'http://virtualflybrain.org/reports/VFBc_00100184',\n",
       "     'types': ['Individual', 'Entity']},\n",
       "    'imaging_technique': {'short_form': 'FBbi_00000258',\n",
       "     'label': 'transmission electron microscopy (TEM)',\n",
       "     'iri': 'http://purl.obolibrary.org/obo/FBbi_00000258',\n",
       "     'types': ['Class', '_Class', 'FBBI', 'Entity']},\n",
       "    'image': {'template_channel': {'short_form': 'VFBc_00050000',\n",
       "      'label': 'L1 larval CNS ssTEM - Cardona/Janelia_c',\n",
       "      'iri': 'http://virtualflybrain.org/reports/VFBc_00050000',\n",
       "      'types': ['Individual', 'Template', 'Entity']},\n",
       "     'template_anatomy': {'short_form': 'VFB_00050000',\n",
       "      'label': 'L1 larval CNS ssTEM - Cardona/Janelia',\n",
       "      'iri': 'http://virtualflybrain.org/reports/VFB_00050000',\n",
       "      'types': ['Individual',\n",
       "       'VFB',\n",
       "       '_Individual',\n",
       "       'Template',\n",
       "       'Anatomy',\n",
       "       'Entity']},\n",
       "     'image_folder': 'http://www.virtualflybrain.org/data/VFB/i/0010/0184/',\n",
       "     'index': []}}],\n",
       "  'related_individuals': []}]"
      ]
     },
     "execution_count": 7,
     "metadata": {},
     "output_type": "execute_result"
    }
   ],
   "source": [
    "# Querying with an ID from catmaid_l1em\n",
    "vc.neo_query_wrapper.get_terms_by_xref(['17545695'], db='catmaid_l1em')"
   ]
  },
  {
   "cell_type": "code",
   "execution_count": null,
   "metadata": {},
   "outputs": [
    {
     "data": {
      "text/plain": [
       "[('10958111', [{'db': 'catmaid_fafb', 'vfb_id': 'VFB_001001bs'}]),\n",
       " ('9362069', [{'db': 'catmaid_fafb', 'vfb_id': 'VFB_001000sr'}]),\n",
       " ('9896992', [{'db': 'catmaid_fafb', 'vfb_id': 'VFB_001000y4'}]),\n",
       " ('4355299', [{'db': 'catmaid_fafb', 'vfb_id': 'VFB_00101346'}]),\n",
       " ('8336193', [{'db': 'catmaid_fafb', 'vfb_id': 'VFB_001000n4'}]),\n",
       " ('10883867', [{'db': 'catmaid_fafb', 'vfb_id': 'VFB_001001ae'}]),\n",
       " ('3445525', [{'db': 'catmaid_fafb', 'vfb_id': 'VFB_00101273'}]),\n",
       " ('17194', [{'db': 'catmaid_fafb', 'vfb_id': 'VFB_001000cc'}]),\n",
       " ('57414', [{'db': 'catmaid_fafb', 'vfb_id': 'VFB_00101174'}]),\n",
       " ('62434', [{'db': 'catmaid_fafb', 'vfb_id': 'VFB_00101244'}])]"
      ]
     },
     "execution_count": 15,
     "metadata": {},
     "output_type": "execute_result"
    }
   ],
   "source": [
    "# Get all xrefs by database\n",
    "\n",
    "list(vc.neo_query_wrapper.xref_2_vfb_id(db='catmaid_fafb').items())[0:10]"
   ]
  },
  {
   "cell_type": "code",
   "execution_count": null,
   "metadata": {},
   "outputs": [
    {
     "name": "stdout",
     "output_type": "stream",
     "text": [
      "Running query: RO:0002131 some FBbt:00003679\n",
      "Query URL: http://owl.virtualflybrain.org/kbs/vfb/subclasses?object=RO%3A0002131+some+FBbt%3A00003679&prefixes=%7B%22FBbt%22%3A+%22http%3A%2F%2Fpurl.obolibrary.org%2Fobo%2FFBbt_%22%2C+%22RO%22%3A+%22http%3A%2F%2Fpurl.obolibrary.org%2Fobo%2FRO_%22%2C+%22BFO%22%3A+%22http%3A%2F%2Fpurl.obolibrary.org%2Fobo%2FBFO_%22%7D&direct=False\n",
      "Query results: 183\n"
     ]
    },
    {
     "data": {
      "text/plain": [
       "183"
      ]
     },
     "execution_count": 8,
     "metadata": {},
     "output_type": "execute_result"
    }
   ],
   "source": [
    "# Methods directly on cross-server tools allow integrative queries and support query by label\n",
    "\n",
    "# vc.get_terms_by_region: gets all terms relevant to a partcular region including neurons and parts\n",
    "    \n",
    "len(vc.get_terms_by_region('fan-shaped body'))\n",
    "\n",
    "  "
   ]
  },
  {
   "cell_type": "code",
   "execution_count": null,
   "metadata": {},
   "outputs": [
    {
     "name": "stdout",
     "output_type": "stream",
     "text": [
      "Running query: RO:0002131 some FBbt:00003679\n",
      "Query URL: http://owl.virtualflybrain.org/kbs/vfb/subclasses?object=RO%3A0002131+some+FBbt%3A00003679&prefixes=%7B%22FBbt%22%3A+%22http%3A%2F%2Fpurl.obolibrary.org%2Fobo%2FFBbt_%22%2C+%22RO%22%3A+%22http%3A%2F%2Fpurl.obolibrary.org%2Fobo%2FRO_%22%2C+%22BFO%22%3A+%22http%3A%2F%2Fpurl.obolibrary.org%2Fobo%2FBFO_%22%7D&direct=False\n",
      "Query results: 183\n"
     ]
    },
    {
     "data": {
      "text/plain": [
       "[('adult SIPp1 lineage clone', 'FBbt_00050078'),\n",
       " ('PB 1 glomerulus-FB layers 1 to 4-bilateral IDFP HB-medial neuron',\n",
       "  'FBbt_00111451'),\n",
       " ('PB slice 7-FB layers 3 and 6-ventral gall ipsilateral neuron',\n",
       "  'FBbt_00111463'),\n",
       " ('horizontal fiber system neuron pb3', 'FBbt_00007572'),\n",
       " ('pb-fb neuron', 'FBbt_00111050'),\n",
       " ('PB slice 6-FB layers 3-5-IDFP RB neuron', 'FBbt_00111430'),\n",
       " ('fan-shaped body slice 4', 'FBbt_00110645'),\n",
       " ('extrinsic ring neuron ExR1', 'FBbt_00003655'),\n",
       " ('vertical fiber system neuron pb7', 'FBbt_00007560'),\n",
       " ('PB slice 3-FB-NO3 anterior domain neuron', 'FBbt_00111397')]"
      ]
     },
     "execution_count": 9,
     "metadata": {},
     "output_type": "execute_result"
    }
   ],
   "source": [
    "[(x['term']['core']['label'], x['term']['core']['short_form']) \n",
    " for x in vc.get_terms_by_region('fan-shaped body')][0:10]  \n"
   ]
  },
  {
   "cell_type": "code",
   "execution_count": null,
   "metadata": {},
   "outputs": [
    {
     "name": "stdout",
     "output_type": "stream",
     "text": [
      "Running query: FBbt:00111724\n"
     ]
    },
    {
     "ename": "KeyboardInterrupt",
     "evalue": "",
     "output_type": "error",
     "traceback": [
      "\u001b[0;31m---------------------------------------------------------------------------\u001b[0m",
      "\u001b[0;31mKeyboardInterrupt\u001b[0m                         Traceback (most recent call last)",
      "\u001b[0;32m<ipython-input-10-937ff0e76855>\u001b[0m in \u001b[0;36m<module>\u001b[0;34m\u001b[0m\n\u001b[0;32m----> 1\u001b[0;31m \u001b[0mcyp_neuron_images\u001b[0m \u001b[0;34m=\u001b[0m \u001b[0mvc\u001b[0m\u001b[0;34m.\u001b[0m\u001b[0mget_images\u001b[0m\u001b[0;34m(\u001b[0m\u001b[0;34m'larval subesophageal zone cypress neuron'\u001b[0m\u001b[0;34m)\u001b[0m\u001b[0;34m\u001b[0m\u001b[0;34m\u001b[0m\u001b[0m\n\u001b[0m",
      "\u001b[0;32m/usr/local/lib/python3.8/site-packages/vfb_connect/cross_server_tools.py\u001b[0m in \u001b[0;36mget_images\u001b[0;34m(self, class_expression, query_by_label, direct)\u001b[0m\n\u001b[1;32m     62\u001b[0m         \u001b[0;32mif\u001b[0m \u001b[0;32mnot\u001b[0m \u001b[0mre\u001b[0m\u001b[0;34m.\u001b[0m\u001b[0msearch\u001b[0m\u001b[0;34m(\u001b[0m\u001b[0;34m\"'\"\u001b[0m\u001b[0;34m,\u001b[0m \u001b[0mclass_expression\u001b[0m\u001b[0;34m)\u001b[0m\u001b[0;34m:\u001b[0m\u001b[0;34m\u001b[0m\u001b[0;34m\u001b[0m\u001b[0m\n\u001b[1;32m     63\u001b[0m             \u001b[0mclass_expression\u001b[0m \u001b[0;34m=\u001b[0m \u001b[0;34m\"'\"\u001b[0m \u001b[0;34m+\u001b[0m \u001b[0mclass_expression\u001b[0m \u001b[0;34m+\u001b[0m \u001b[0;34m\"'\"\u001b[0m\u001b[0;34m\u001b[0m\u001b[0;34m\u001b[0m\u001b[0m\n\u001b[0;32m---> 64\u001b[0;31m         \u001b[0mterms\u001b[0m \u001b[0;34m=\u001b[0m \u001b[0mself\u001b[0m\u001b[0;34m.\u001b[0m\u001b[0moc\u001b[0m\u001b[0;34m.\u001b[0m\u001b[0mget_instances\u001b[0m\u001b[0;34m(\u001b[0m\u001b[0;34m\"%s\"\u001b[0m \u001b[0;34m%\u001b[0m \u001b[0mclass_expression\u001b[0m\u001b[0;34m,\u001b[0m \u001b[0mquery_by_label\u001b[0m\u001b[0;34m=\u001b[0m\u001b[0mquery_by_label\u001b[0m\u001b[0;34m)\u001b[0m\u001b[0;34m\u001b[0m\u001b[0;34m\u001b[0m\u001b[0m\n\u001b[0m\u001b[1;32m     65\u001b[0m         \u001b[0;32mreturn\u001b[0m \u001b[0mself\u001b[0m\u001b[0;34m.\u001b[0m\u001b[0mneo_query_wrapper\u001b[0m\u001b[0;34m.\u001b[0m\u001b[0mget_anatomical_individual_TermInfo\u001b[0m\u001b[0;34m(\u001b[0m\u001b[0mlist\u001b[0m\u001b[0;34m(\u001b[0m\u001b[0mmap\u001b[0m\u001b[0;34m(\u001b[0m\u001b[0mgen_short_form\u001b[0m\u001b[0;34m,\u001b[0m \u001b[0mterms\u001b[0m\u001b[0;34m)\u001b[0m\u001b[0;34m)\u001b[0m\u001b[0;34m)\u001b[0m\u001b[0;34m\u001b[0m\u001b[0;34m\u001b[0m\u001b[0m\n\u001b[1;32m     66\u001b[0m \u001b[0;34m\u001b[0m\u001b[0m\n",
      "\u001b[0;32m/usr/local/lib/python3.8/site-packages/vfb_connect/owl/owlery_query_tools.py\u001b[0m in \u001b[0;36mget_instances\u001b[0;34m(self, query, query_by_label, direct)\u001b[0m\n\u001b[1;32m     80\u001b[0m         \"\"\"Get instances satisfying query, where query is an OWL DL query\n\u001b[1;32m     81\u001b[0m            \"\"\"\n\u001b[0;32m---> 82\u001b[0;31m         return self.query(query_type='instances', return_type='hasInstance',\n\u001b[0m\u001b[1;32m     83\u001b[0m                           \u001b[0mquery\u001b[0m\u001b[0;34m=\u001b[0m\u001b[0mquery\u001b[0m\u001b[0;34m,\u001b[0m \u001b[0mquery_by_label\u001b[0m\u001b[0;34m=\u001b[0m\u001b[0mquery_by_label\u001b[0m\u001b[0;34m,\u001b[0m\u001b[0;34m\u001b[0m\u001b[0;34m\u001b[0m\u001b[0m\n\u001b[1;32m     84\u001b[0m                           direct=direct)\n",
      "\u001b[0;32m/usr/local/lib/python3.8/site-packages/vfb_connect/owl/owlery_query_tools.py\u001b[0m in \u001b[0;36mquery\u001b[0;34m(self, query_type, return_type, query, query_by_label, direct, verbose)\u001b[0m\n\u001b[1;32m     61\u001b[0m                    'direct': direct}\n\u001b[1;32m     62\u001b[0m         \u001b[0;31m# print(payload)\u001b[0m\u001b[0;34m\u001b[0m\u001b[0;34m\u001b[0m\u001b[0;34m\u001b[0m\u001b[0m\n\u001b[0;32m---> 63\u001b[0;31m         \u001b[0mr\u001b[0m \u001b[0;34m=\u001b[0m \u001b[0mrequests\u001b[0m\u001b[0;34m.\u001b[0m\u001b[0mget\u001b[0m\u001b[0;34m(\u001b[0m\u001b[0murl\u001b[0m\u001b[0;34m=\u001b[0m\u001b[0mowl_endpoint\u001b[0m\u001b[0;34m,\u001b[0m \u001b[0mparams\u001b[0m\u001b[0;34m=\u001b[0m\u001b[0mpayload\u001b[0m\u001b[0;34m)\u001b[0m\u001b[0;34m\u001b[0m\u001b[0;34m\u001b[0m\u001b[0m\n\u001b[0m\u001b[1;32m     64\u001b[0m         \u001b[0mprint\u001b[0m\u001b[0;34m(\u001b[0m\u001b[0;34m\"Query URL: \"\u001b[0m \u001b[0;34m+\u001b[0m \u001b[0mr\u001b[0m\u001b[0;34m.\u001b[0m\u001b[0murl\u001b[0m\u001b[0;34m)\u001b[0m\u001b[0;34m\u001b[0m\u001b[0;34m\u001b[0m\u001b[0m\n\u001b[1;32m     65\u001b[0m         \u001b[0;32mif\u001b[0m \u001b[0mr\u001b[0m\u001b[0;34m.\u001b[0m\u001b[0mstatus_code\u001b[0m \u001b[0;34m==\u001b[0m \u001b[0;36m200\u001b[0m\u001b[0;34m:\u001b[0m\u001b[0;34m\u001b[0m\u001b[0;34m\u001b[0m\u001b[0m\n",
      "\u001b[0;32m/usr/local/lib/python3.8/site-packages/requests/api.py\u001b[0m in \u001b[0;36mget\u001b[0;34m(url, params, **kwargs)\u001b[0m\n\u001b[1;32m     74\u001b[0m \u001b[0;34m\u001b[0m\u001b[0m\n\u001b[1;32m     75\u001b[0m     \u001b[0mkwargs\u001b[0m\u001b[0;34m.\u001b[0m\u001b[0msetdefault\u001b[0m\u001b[0;34m(\u001b[0m\u001b[0;34m'allow_redirects'\u001b[0m\u001b[0;34m,\u001b[0m \u001b[0;32mTrue\u001b[0m\u001b[0;34m)\u001b[0m\u001b[0;34m\u001b[0m\u001b[0;34m\u001b[0m\u001b[0m\n\u001b[0;32m---> 76\u001b[0;31m     \u001b[0;32mreturn\u001b[0m \u001b[0mrequest\u001b[0m\u001b[0;34m(\u001b[0m\u001b[0;34m'get'\u001b[0m\u001b[0;34m,\u001b[0m \u001b[0murl\u001b[0m\u001b[0;34m,\u001b[0m \u001b[0mparams\u001b[0m\u001b[0;34m=\u001b[0m\u001b[0mparams\u001b[0m\u001b[0;34m,\u001b[0m \u001b[0;34m**\u001b[0m\u001b[0mkwargs\u001b[0m\u001b[0;34m)\u001b[0m\u001b[0;34m\u001b[0m\u001b[0;34m\u001b[0m\u001b[0m\n\u001b[0m\u001b[1;32m     77\u001b[0m \u001b[0;34m\u001b[0m\u001b[0m\n\u001b[1;32m     78\u001b[0m \u001b[0;34m\u001b[0m\u001b[0m\n",
      "\u001b[0;32m/usr/local/lib/python3.8/site-packages/requests/api.py\u001b[0m in \u001b[0;36mrequest\u001b[0;34m(method, url, **kwargs)\u001b[0m\n\u001b[1;32m     59\u001b[0m     \u001b[0;31m# cases, and look like a memory leak in others.\u001b[0m\u001b[0;34m\u001b[0m\u001b[0;34m\u001b[0m\u001b[0;34m\u001b[0m\u001b[0m\n\u001b[1;32m     60\u001b[0m     \u001b[0;32mwith\u001b[0m \u001b[0msessions\u001b[0m\u001b[0;34m.\u001b[0m\u001b[0mSession\u001b[0m\u001b[0;34m(\u001b[0m\u001b[0;34m)\u001b[0m \u001b[0;32mas\u001b[0m \u001b[0msession\u001b[0m\u001b[0;34m:\u001b[0m\u001b[0;34m\u001b[0m\u001b[0;34m\u001b[0m\u001b[0m\n\u001b[0;32m---> 61\u001b[0;31m         \u001b[0;32mreturn\u001b[0m \u001b[0msession\u001b[0m\u001b[0;34m.\u001b[0m\u001b[0mrequest\u001b[0m\u001b[0;34m(\u001b[0m\u001b[0mmethod\u001b[0m\u001b[0;34m=\u001b[0m\u001b[0mmethod\u001b[0m\u001b[0;34m,\u001b[0m \u001b[0murl\u001b[0m\u001b[0;34m=\u001b[0m\u001b[0murl\u001b[0m\u001b[0;34m,\u001b[0m \u001b[0;34m**\u001b[0m\u001b[0mkwargs\u001b[0m\u001b[0;34m)\u001b[0m\u001b[0;34m\u001b[0m\u001b[0;34m\u001b[0m\u001b[0m\n\u001b[0m\u001b[1;32m     62\u001b[0m \u001b[0;34m\u001b[0m\u001b[0m\n\u001b[1;32m     63\u001b[0m \u001b[0;34m\u001b[0m\u001b[0m\n",
      "\u001b[0;32m/usr/local/lib/python3.8/site-packages/requests/sessions.py\u001b[0m in \u001b[0;36mrequest\u001b[0;34m(self, method, url, params, data, headers, cookies, files, auth, timeout, allow_redirects, proxies, hooks, stream, verify, cert, json)\u001b[0m\n\u001b[1;32m    528\u001b[0m         }\n\u001b[1;32m    529\u001b[0m         \u001b[0msend_kwargs\u001b[0m\u001b[0;34m.\u001b[0m\u001b[0mupdate\u001b[0m\u001b[0;34m(\u001b[0m\u001b[0msettings\u001b[0m\u001b[0;34m)\u001b[0m\u001b[0;34m\u001b[0m\u001b[0;34m\u001b[0m\u001b[0m\n\u001b[0;32m--> 530\u001b[0;31m         \u001b[0mresp\u001b[0m \u001b[0;34m=\u001b[0m \u001b[0mself\u001b[0m\u001b[0;34m.\u001b[0m\u001b[0msend\u001b[0m\u001b[0;34m(\u001b[0m\u001b[0mprep\u001b[0m\u001b[0;34m,\u001b[0m \u001b[0;34m**\u001b[0m\u001b[0msend_kwargs\u001b[0m\u001b[0;34m)\u001b[0m\u001b[0;34m\u001b[0m\u001b[0;34m\u001b[0m\u001b[0m\n\u001b[0m\u001b[1;32m    531\u001b[0m \u001b[0;34m\u001b[0m\u001b[0m\n\u001b[1;32m    532\u001b[0m         \u001b[0;32mreturn\u001b[0m \u001b[0mresp\u001b[0m\u001b[0;34m\u001b[0m\u001b[0;34m\u001b[0m\u001b[0m\n",
      "\u001b[0;32m/usr/local/lib/python3.8/site-packages/requests/sessions.py\u001b[0m in \u001b[0;36msend\u001b[0;34m(self, request, **kwargs)\u001b[0m\n\u001b[1;32m    641\u001b[0m \u001b[0;34m\u001b[0m\u001b[0m\n\u001b[1;32m    642\u001b[0m         \u001b[0;31m# Send the request\u001b[0m\u001b[0;34m\u001b[0m\u001b[0;34m\u001b[0m\u001b[0;34m\u001b[0m\u001b[0m\n\u001b[0;32m--> 643\u001b[0;31m         \u001b[0mr\u001b[0m \u001b[0;34m=\u001b[0m \u001b[0madapter\u001b[0m\u001b[0;34m.\u001b[0m\u001b[0msend\u001b[0m\u001b[0;34m(\u001b[0m\u001b[0mrequest\u001b[0m\u001b[0;34m,\u001b[0m \u001b[0;34m**\u001b[0m\u001b[0mkwargs\u001b[0m\u001b[0;34m)\u001b[0m\u001b[0;34m\u001b[0m\u001b[0;34m\u001b[0m\u001b[0m\n\u001b[0m\u001b[1;32m    644\u001b[0m \u001b[0;34m\u001b[0m\u001b[0m\n\u001b[1;32m    645\u001b[0m         \u001b[0;31m# Total elapsed time of the request (approximately)\u001b[0m\u001b[0;34m\u001b[0m\u001b[0;34m\u001b[0m\u001b[0;34m\u001b[0m\u001b[0m\n",
      "\u001b[0;32m/usr/local/lib/python3.8/site-packages/requests/adapters.py\u001b[0m in \u001b[0;36msend\u001b[0;34m(self, request, stream, timeout, verify, cert, proxies)\u001b[0m\n\u001b[1;32m    437\u001b[0m         \u001b[0;32mtry\u001b[0m\u001b[0;34m:\u001b[0m\u001b[0;34m\u001b[0m\u001b[0;34m\u001b[0m\u001b[0m\n\u001b[1;32m    438\u001b[0m             \u001b[0;32mif\u001b[0m \u001b[0;32mnot\u001b[0m \u001b[0mchunked\u001b[0m\u001b[0;34m:\u001b[0m\u001b[0;34m\u001b[0m\u001b[0;34m\u001b[0m\u001b[0m\n\u001b[0;32m--> 439\u001b[0;31m                 resp = conn.urlopen(\n\u001b[0m\u001b[1;32m    440\u001b[0m                     \u001b[0mmethod\u001b[0m\u001b[0;34m=\u001b[0m\u001b[0mrequest\u001b[0m\u001b[0;34m.\u001b[0m\u001b[0mmethod\u001b[0m\u001b[0;34m,\u001b[0m\u001b[0;34m\u001b[0m\u001b[0;34m\u001b[0m\u001b[0m\n\u001b[1;32m    441\u001b[0m                     \u001b[0murl\u001b[0m\u001b[0;34m=\u001b[0m\u001b[0murl\u001b[0m\u001b[0;34m,\u001b[0m\u001b[0;34m\u001b[0m\u001b[0;34m\u001b[0m\u001b[0m\n",
      "\u001b[0;32m/usr/local/lib/python3.8/site-packages/urllib3/connectionpool.py\u001b[0m in \u001b[0;36murlopen\u001b[0;34m(self, method, url, body, headers, retries, redirect, assert_same_host, timeout, pool_timeout, release_conn, chunked, body_pos, **response_kw)\u001b[0m\n\u001b[1;32m    668\u001b[0m \u001b[0;34m\u001b[0m\u001b[0m\n\u001b[1;32m    669\u001b[0m             \u001b[0;31m# Make the request on the httplib connection object.\u001b[0m\u001b[0;34m\u001b[0m\u001b[0;34m\u001b[0m\u001b[0;34m\u001b[0m\u001b[0m\n\u001b[0;32m--> 670\u001b[0;31m             httplib_response = self._make_request(\n\u001b[0m\u001b[1;32m    671\u001b[0m                 \u001b[0mconn\u001b[0m\u001b[0;34m,\u001b[0m\u001b[0;34m\u001b[0m\u001b[0;34m\u001b[0m\u001b[0m\n\u001b[1;32m    672\u001b[0m                 \u001b[0mmethod\u001b[0m\u001b[0;34m,\u001b[0m\u001b[0;34m\u001b[0m\u001b[0;34m\u001b[0m\u001b[0m\n",
      "\u001b[0;32m/usr/local/lib/python3.8/site-packages/urllib3/connectionpool.py\u001b[0m in \u001b[0;36m_make_request\u001b[0;34m(self, conn, method, url, timeout, chunked, **httplib_request_kw)\u001b[0m\n\u001b[1;32m    424\u001b[0m                     \u001b[0;31m# Python 3 (including for exceptions like SystemExit).\u001b[0m\u001b[0;34m\u001b[0m\u001b[0;34m\u001b[0m\u001b[0;34m\u001b[0m\u001b[0m\n\u001b[1;32m    425\u001b[0m                     \u001b[0;31m# Otherwise it looks like a bug in the code.\u001b[0m\u001b[0;34m\u001b[0m\u001b[0;34m\u001b[0m\u001b[0;34m\u001b[0m\u001b[0m\n\u001b[0;32m--> 426\u001b[0;31m                     \u001b[0msix\u001b[0m\u001b[0;34m.\u001b[0m\u001b[0mraise_from\u001b[0m\u001b[0;34m(\u001b[0m\u001b[0me\u001b[0m\u001b[0;34m,\u001b[0m \u001b[0;32mNone\u001b[0m\u001b[0;34m)\u001b[0m\u001b[0;34m\u001b[0m\u001b[0;34m\u001b[0m\u001b[0m\n\u001b[0m\u001b[1;32m    427\u001b[0m         \u001b[0;32mexcept\u001b[0m \u001b[0;34m(\u001b[0m\u001b[0mSocketTimeout\u001b[0m\u001b[0;34m,\u001b[0m \u001b[0mBaseSSLError\u001b[0m\u001b[0;34m,\u001b[0m \u001b[0mSocketError\u001b[0m\u001b[0;34m)\u001b[0m \u001b[0;32mas\u001b[0m \u001b[0me\u001b[0m\u001b[0;34m:\u001b[0m\u001b[0;34m\u001b[0m\u001b[0;34m\u001b[0m\u001b[0m\n\u001b[1;32m    428\u001b[0m             \u001b[0mself\u001b[0m\u001b[0;34m.\u001b[0m\u001b[0m_raise_timeout\u001b[0m\u001b[0;34m(\u001b[0m\u001b[0merr\u001b[0m\u001b[0;34m=\u001b[0m\u001b[0me\u001b[0m\u001b[0;34m,\u001b[0m \u001b[0murl\u001b[0m\u001b[0;34m=\u001b[0m\u001b[0murl\u001b[0m\u001b[0;34m,\u001b[0m \u001b[0mtimeout_value\u001b[0m\u001b[0;34m=\u001b[0m\u001b[0mread_timeout\u001b[0m\u001b[0;34m)\u001b[0m\u001b[0;34m\u001b[0m\u001b[0;34m\u001b[0m\u001b[0m\n",
      "\u001b[0;32m/usr/local/lib/python3.8/site-packages/urllib3/packages/six.py\u001b[0m in \u001b[0;36mraise_from\u001b[0;34m(value, from_value)\u001b[0m\n",
      "\u001b[0;32m/usr/local/lib/python3.8/site-packages/urllib3/connectionpool.py\u001b[0m in \u001b[0;36m_make_request\u001b[0;34m(self, conn, method, url, timeout, chunked, **httplib_request_kw)\u001b[0m\n\u001b[1;32m    419\u001b[0m                 \u001b[0;31m# Python 3\u001b[0m\u001b[0;34m\u001b[0m\u001b[0;34m\u001b[0m\u001b[0;34m\u001b[0m\u001b[0m\n\u001b[1;32m    420\u001b[0m                 \u001b[0;32mtry\u001b[0m\u001b[0;34m:\u001b[0m\u001b[0;34m\u001b[0m\u001b[0;34m\u001b[0m\u001b[0m\n\u001b[0;32m--> 421\u001b[0;31m                     \u001b[0mhttplib_response\u001b[0m \u001b[0;34m=\u001b[0m \u001b[0mconn\u001b[0m\u001b[0;34m.\u001b[0m\u001b[0mgetresponse\u001b[0m\u001b[0;34m(\u001b[0m\u001b[0;34m)\u001b[0m\u001b[0;34m\u001b[0m\u001b[0;34m\u001b[0m\u001b[0m\n\u001b[0m\u001b[1;32m    422\u001b[0m                 \u001b[0;32mexcept\u001b[0m \u001b[0mBaseException\u001b[0m \u001b[0;32mas\u001b[0m \u001b[0me\u001b[0m\u001b[0;34m:\u001b[0m\u001b[0;34m\u001b[0m\u001b[0;34m\u001b[0m\u001b[0m\n\u001b[1;32m    423\u001b[0m                     \u001b[0;31m# Remove the TypeError from the exception chain in\u001b[0m\u001b[0;34m\u001b[0m\u001b[0;34m\u001b[0m\u001b[0;34m\u001b[0m\u001b[0m\n",
      "\u001b[0;32m/usr/local/Cellar/python@3.8/3.8.5/Frameworks/Python.framework/Versions/3.8/lib/python3.8/http/client.py\u001b[0m in \u001b[0;36mgetresponse\u001b[0;34m(self)\u001b[0m\n\u001b[1;32m   1345\u001b[0m         \u001b[0;32mtry\u001b[0m\u001b[0;34m:\u001b[0m\u001b[0;34m\u001b[0m\u001b[0;34m\u001b[0m\u001b[0m\n\u001b[1;32m   1346\u001b[0m             \u001b[0;32mtry\u001b[0m\u001b[0;34m:\u001b[0m\u001b[0;34m\u001b[0m\u001b[0;34m\u001b[0m\u001b[0m\n\u001b[0;32m-> 1347\u001b[0;31m                 \u001b[0mresponse\u001b[0m\u001b[0;34m.\u001b[0m\u001b[0mbegin\u001b[0m\u001b[0;34m(\u001b[0m\u001b[0;34m)\u001b[0m\u001b[0;34m\u001b[0m\u001b[0;34m\u001b[0m\u001b[0m\n\u001b[0m\u001b[1;32m   1348\u001b[0m             \u001b[0;32mexcept\u001b[0m \u001b[0mConnectionError\u001b[0m\u001b[0;34m:\u001b[0m\u001b[0;34m\u001b[0m\u001b[0;34m\u001b[0m\u001b[0m\n\u001b[1;32m   1349\u001b[0m                 \u001b[0mself\u001b[0m\u001b[0;34m.\u001b[0m\u001b[0mclose\u001b[0m\u001b[0;34m(\u001b[0m\u001b[0;34m)\u001b[0m\u001b[0;34m\u001b[0m\u001b[0;34m\u001b[0m\u001b[0m\n",
      "\u001b[0;32m/usr/local/Cellar/python@3.8/3.8.5/Frameworks/Python.framework/Versions/3.8/lib/python3.8/http/client.py\u001b[0m in \u001b[0;36mbegin\u001b[0;34m(self)\u001b[0m\n\u001b[1;32m    305\u001b[0m         \u001b[0;31m# read until we get a non-100 response\u001b[0m\u001b[0;34m\u001b[0m\u001b[0;34m\u001b[0m\u001b[0;34m\u001b[0m\u001b[0m\n\u001b[1;32m    306\u001b[0m         \u001b[0;32mwhile\u001b[0m \u001b[0;32mTrue\u001b[0m\u001b[0;34m:\u001b[0m\u001b[0;34m\u001b[0m\u001b[0;34m\u001b[0m\u001b[0m\n\u001b[0;32m--> 307\u001b[0;31m             \u001b[0mversion\u001b[0m\u001b[0;34m,\u001b[0m \u001b[0mstatus\u001b[0m\u001b[0;34m,\u001b[0m \u001b[0mreason\u001b[0m \u001b[0;34m=\u001b[0m \u001b[0mself\u001b[0m\u001b[0;34m.\u001b[0m\u001b[0m_read_status\u001b[0m\u001b[0;34m(\u001b[0m\u001b[0;34m)\u001b[0m\u001b[0;34m\u001b[0m\u001b[0;34m\u001b[0m\u001b[0m\n\u001b[0m\u001b[1;32m    308\u001b[0m             \u001b[0;32mif\u001b[0m \u001b[0mstatus\u001b[0m \u001b[0;34m!=\u001b[0m \u001b[0mCONTINUE\u001b[0m\u001b[0;34m:\u001b[0m\u001b[0;34m\u001b[0m\u001b[0;34m\u001b[0m\u001b[0m\n\u001b[1;32m    309\u001b[0m                 \u001b[0;32mbreak\u001b[0m\u001b[0;34m\u001b[0m\u001b[0;34m\u001b[0m\u001b[0m\n",
      "\u001b[0;32m/usr/local/Cellar/python@3.8/3.8.5/Frameworks/Python.framework/Versions/3.8/lib/python3.8/http/client.py\u001b[0m in \u001b[0;36m_read_status\u001b[0;34m(self)\u001b[0m\n\u001b[1;32m    266\u001b[0m \u001b[0;34m\u001b[0m\u001b[0m\n\u001b[1;32m    267\u001b[0m     \u001b[0;32mdef\u001b[0m \u001b[0m_read_status\u001b[0m\u001b[0;34m(\u001b[0m\u001b[0mself\u001b[0m\u001b[0;34m)\u001b[0m\u001b[0;34m:\u001b[0m\u001b[0;34m\u001b[0m\u001b[0;34m\u001b[0m\u001b[0m\n\u001b[0;32m--> 268\u001b[0;31m         \u001b[0mline\u001b[0m \u001b[0;34m=\u001b[0m \u001b[0mstr\u001b[0m\u001b[0;34m(\u001b[0m\u001b[0mself\u001b[0m\u001b[0;34m.\u001b[0m\u001b[0mfp\u001b[0m\u001b[0;34m.\u001b[0m\u001b[0mreadline\u001b[0m\u001b[0;34m(\u001b[0m\u001b[0m_MAXLINE\u001b[0m \u001b[0;34m+\u001b[0m \u001b[0;36m1\u001b[0m\u001b[0;34m)\u001b[0m\u001b[0;34m,\u001b[0m \u001b[0;34m\"iso-8859-1\"\u001b[0m\u001b[0;34m)\u001b[0m\u001b[0;34m\u001b[0m\u001b[0;34m\u001b[0m\u001b[0m\n\u001b[0m\u001b[1;32m    269\u001b[0m         \u001b[0;32mif\u001b[0m \u001b[0mlen\u001b[0m\u001b[0;34m(\u001b[0m\u001b[0mline\u001b[0m\u001b[0;34m)\u001b[0m \u001b[0;34m>\u001b[0m \u001b[0m_MAXLINE\u001b[0m\u001b[0;34m:\u001b[0m\u001b[0;34m\u001b[0m\u001b[0;34m\u001b[0m\u001b[0m\n\u001b[1;32m    270\u001b[0m             \u001b[0;32mraise\u001b[0m \u001b[0mLineTooLong\u001b[0m\u001b[0;34m(\u001b[0m\u001b[0;34m\"status line\"\u001b[0m\u001b[0;34m)\u001b[0m\u001b[0;34m\u001b[0m\u001b[0;34m\u001b[0m\u001b[0m\n",
      "\u001b[0;32m/usr/local/Cellar/python@3.8/3.8.5/Frameworks/Python.framework/Versions/3.8/lib/python3.8/socket.py\u001b[0m in \u001b[0;36mreadinto\u001b[0;34m(self, b)\u001b[0m\n\u001b[1;32m    667\u001b[0m         \u001b[0;32mwhile\u001b[0m \u001b[0;32mTrue\u001b[0m\u001b[0;34m:\u001b[0m\u001b[0;34m\u001b[0m\u001b[0;34m\u001b[0m\u001b[0m\n\u001b[1;32m    668\u001b[0m             \u001b[0;32mtry\u001b[0m\u001b[0;34m:\u001b[0m\u001b[0;34m\u001b[0m\u001b[0;34m\u001b[0m\u001b[0m\n\u001b[0;32m--> 669\u001b[0;31m                 \u001b[0;32mreturn\u001b[0m \u001b[0mself\u001b[0m\u001b[0;34m.\u001b[0m\u001b[0m_sock\u001b[0m\u001b[0;34m.\u001b[0m\u001b[0mrecv_into\u001b[0m\u001b[0;34m(\u001b[0m\u001b[0mb\u001b[0m\u001b[0;34m)\u001b[0m\u001b[0;34m\u001b[0m\u001b[0;34m\u001b[0m\u001b[0m\n\u001b[0m\u001b[1;32m    670\u001b[0m             \u001b[0;32mexcept\u001b[0m \u001b[0mtimeout\u001b[0m\u001b[0;34m:\u001b[0m\u001b[0;34m\u001b[0m\u001b[0;34m\u001b[0m\u001b[0m\n\u001b[1;32m    671\u001b[0m                 \u001b[0mself\u001b[0m\u001b[0;34m.\u001b[0m\u001b[0m_timeout_occurred\u001b[0m \u001b[0;34m=\u001b[0m \u001b[0;32mTrue\u001b[0m\u001b[0;34m\u001b[0m\u001b[0;34m\u001b[0m\u001b[0m\n",
      "\u001b[0;31mKeyboardInterrupt\u001b[0m: "
     ]
    }
   ],
   "source": [
    "cyp_neuron_images = vc.get_images('larval subesophageal zone cypress neuron')"
   ]
  },
  {
   "cell_type": "code",
   "execution_count": null,
   "metadata": {},
   "outputs": [],
   "source": [
    "# Returned JSON includes direct links to image folders for each template the image is registered to:\n",
    "\n",
    "[(i['term']['core']['label'],\n",
    "  [{ 'image_folder': x['image']['image_folder'], 'template': x['image']['template_anatomy']['label']}\n",
    "   for x in i['channel_image']]) for i in cyp_neuron_images]\n"
   ]
  },
  {
   "cell_type": "code",
   "execution_count": null,
   "metadata": {},
   "outputs": [],
   "source": [
    "[(i['term']['core']['label'],\n",
    "  [{ 'image_folder': x['image']['image_folder'], 'template': x['image']['template_anatomy']['label']}\n",
    "   for x in i['channel_image']]) for i in vc.get_images('fan-shaped body')]\n"
   ]
  },
  {
   "cell_type": "code",
   "execution_count": null,
   "metadata": {},
   "outputs": [],
   "source": [
    "# Image queries range across multiple types\n",
    "[(i['term']['core']['label'],\n",
    "  [ x['label'] for x in i['parents']],\n",
    "  [{ 'image_folder': x['image']['image_folder'], 'template': x['image']['template_anatomy']['label']}\n",
    "   for x in i['channel_image']]) for i in vc.get_images('dopaminergic PAM neuron')][0:5]"
   ]
  }
 ],
 "metadata": {
  "kernelspec": {
   "display_name": "Python 3",
   "language": "python",
   "name": "python3"
  },
  "language_info": {
   "codemirror_mode": {
    "name": "ipython",
    "version": 3
   },
   "file_extension": ".py",
   "mimetype": "text/x-python",
   "name": "python",
   "nbconvert_exporter": "python",
   "pygments_lexer": "ipython3",
   "version": "3.10.9"
  }
 },
 "nbformat": 4,
 "nbformat_minor": 2
}
